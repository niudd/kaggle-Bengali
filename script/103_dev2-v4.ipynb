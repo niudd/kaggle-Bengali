{
 "cells": [
  {
   "cell_type": "code",
   "execution_count": 16,
   "metadata": {},
   "outputs": [],
   "source": [
    "#define environment\n",
    "ON_KAGGLE = False\n",
    "TRAIN_PREDICT = 'train'"
   ]
  },
  {
   "cell_type": "code",
   "execution_count": 17,
   "metadata": {},
   "outputs": [
    {
     "name": "stdout",
     "output_type": "stream",
     "text": [
      "torch 1.3.1+cu100\n"
     ]
    }
   ],
   "source": [
    "import sys\n",
    "if ON_KAGGLE:\n",
    "    sys.path.append('../input/bengali-util/script/')\n",
    "    sys.path.append('../input/bengali-util/')\n",
    "    from script.utils import seed_everything, set_n_get_device\n",
    "else:\n",
    "    from utils import seed_everything, set_n_get_device\n",
    "\n",
    "import os\n",
    "import pickle\n",
    "import time\n",
    "\n",
    "import pandas as pd\n",
    "import numpy as np\n",
    "from matplotlib import pyplot as plt\n",
    "\n",
    "import torch\n",
    "import torch.nn as nn\n",
    "from torch.nn import functional as F\n",
    "print('torch', torch.__version__)\n",
    "\n",
    "if TRAIN_PREDICT=='train':\n",
    "    from sklearn.model_selection import train_test_split, KFold\n",
    "\n",
    "\n",
    "%matplotlib inline"
   ]
  },
  {
   "cell_type": "code",
   "execution_count": 18,
   "metadata": {},
   "outputs": [],
   "source": [
    "if ON_KAGGLE:\n",
    "    #load utility scripts\n",
    "    pass\n",
    "\n",
    "else:#offline\n",
    "    pass\n",
    "    "
   ]
  },
  {
   "cell_type": "code",
   "execution_count": 19,
   "metadata": {},
   "outputs": [],
   "source": [
    "#config\n",
    "debug = False\n",
    "SEED = 42\n",
    "IMG_HEIGHT = 137\n",
    "IMG_WIDTH = 236\n",
    "\n",
    "if TRAIN_PREDICT=='train':\n",
    "    BATCH_SIZE = 128\n",
    "else:\n",
    "    BATCH_SIZE = 256\n",
    "\n",
    "if ON_KAGGLE:\n",
    "    NUM_WORKERS = 2\n",
    "else:\n",
    "    NUM_WORKERS = 16\n",
    "\n",
    "device = set_n_get_device(\"2,3\", data_device_id=\"cuda:0\")#IMPORTANT: data_device_id is set to free gpu for storing the model, e.g.\"cuda:1\"\n",
    "multi_gpu = [0,1]\n",
    "\n",
    "if debug:\n",
    "    LOG_PATH = '../logging/v4-debug.log'\n",
    "else:\n",
    "    LOG_PATH = '../logging/v4.log'\n",
    "\n",
    "checkpoint_path = '../checkpoint/v4'\n",
    "warm_start, last_checkpoint_path = False, '../checkpoint/v2/last.pth.tar'\n",
    "\n",
    "NUM_EPOCHS = 120\n",
    "early_stopping_round = 9999\n",
    "#LearningRate = 5e-3\n",
    "\n",
    "seed_everything(SEED)"
   ]
  },
  {
   "cell_type": "code",
   "execution_count": 20,
   "metadata": {},
   "outputs": [],
   "source": [
    "#CONSTANTS\n",
    "n_grapheme=168\n",
    "n_vowel=11\n",
    "n_consonant=7\n",
    "#n_combo = 1295\n",
    "\n",
    "#num_classes = n_grapheme+n_vowel+n_consonant+n_combo\n",
    "num_classes = n_grapheme+n_vowel+n_consonant"
   ]
  },
  {
   "cell_type": "markdown",
   "metadata": {},
   "source": [
    "## Pipeline\n",
    "1. pytorch Dataset, data augmentation, DataLoader, train-test-split/KFold, \n",
    "2. network\n",
    "3. training process"
   ]
  },
  {
   "cell_type": "code",
   "execution_count": 21,
   "metadata": {
    "scrolled": true
   },
   "outputs": [
    {
     "data": {
      "text/plain": [
       "((200840, 137, 236), (200840, 3))"
      ]
     },
     "execution_count": 21,
     "metadata": {},
     "output_type": "execute_result"
    }
   ],
   "source": [
    "if ON_KAGGLE:\n",
    "    pass\n",
    "\n",
    "else:#offline\n",
    "    train_df_list = [pd.read_feather('../data/processed/train_image_data_%d.feather'%i) for i in range(4)]\n",
    "    train_images_arr = np.concatenate([df.iloc[:, 1:].values.reshape(-1, IMG_HEIGHT, IMG_WIDTH) \n",
    "                                       for df in train_df_list], axis=0)\n",
    "    train_label_df = pd.read_csv('../data/raw/train.csv')\n",
    "    train_label_arr = train_label_df[['grapheme_root', 'vowel_diacritic', 'consonant_diacritic']].values\n",
    "\n",
    "train_images_arr.shape, train_label_arr.shape"
   ]
  },
  {
   "cell_type": "code",
   "execution_count": 22,
   "metadata": {},
   "outputs": [],
   "source": [
    "# import importlib\n",
    "# import augmentation\n",
    "# importlib.reload(augmentation)\n",
    "# from augmentation import *"
   ]
  },
  {
   "cell_type": "code",
   "execution_count": 23,
   "metadata": {},
   "outputs": [],
   "source": [
    "# ##experiment a lot of augmentations\n",
    "# imgs = train_images_arr[np.random.choice(200840, 4), :]\n",
    "# imgs = np.clip((255-imgs)/255, 0, 1)\n",
    "\n",
    "# fig,axes = plt.subplots(4,2, figsize=(10,8))\n",
    "# for i in range(4):\n",
    "#     image = imgs[i]\n",
    "#     img_aug = do_random_shift_scale_crop_pad2(image, limit=0.2)\n",
    "#     axes[i, 0].imshow(image, cmap='binary')\n",
    "#     axes[i, 1].imshow(img_aug, cmap='binary')"
   ]
  },
  {
   "cell_type": "code",
   "execution_count": 24,
   "metadata": {
    "scrolled": true
   },
   "outputs": [],
   "source": [
    "## 1. encode grapheme characters to index 2. use it as sampler\n",
    "# unique_char = train_label_df['grapheme'].unique()\n",
    "# char2ind = dict([(char,i) for i,char in enumerate(unique_char)])\n",
    "# grapheme_ind = [char2ind[char] for char in train_label_df['grapheme']]\n",
    "# cls_w_dict = pd.value_counts(grapheme_ind)\n",
    "# cls_w_dict /= 100\n",
    "# cls_w_dict = cls_w_dict.to_dict()\n",
    "# cls_w = [cls_w_dict[i] for i in grapheme_ind]\n",
    "\n",
    "\n",
    "##check onehot correct?\n",
    "#train_label_df.loc[train_label_arr[:,3]==1, ]"
   ]
  },
  {
   "cell_type": "code",
   "execution_count": 25,
   "metadata": {},
   "outputs": [],
   "source": [
    "##data augmentation --cutmix, mixup\n",
    "def rand_bbox(size, lam):\n",
    "    W = size[2]\n",
    "    H = size[3]\n",
    "    #cut_rat = np.sqrt(1. - lam)\n",
    "    cut_rat = lam\n",
    "    cut_w = np.int(W * cut_rat)\n",
    "    cut_h = np.int(H * cut_rat)\n",
    "\n",
    "    # uniform, ignore edge area\n",
    "    cx = np.random.randint(W//4, W*3//4)\n",
    "    cy = np.random.randint(H//4, H*3//4)\n",
    "\n",
    "    bbx1 = np.clip(cx - cut_w // 2, 0, W)\n",
    "    bby1 = np.clip(cy - cut_h // 2, 0, H)\n",
    "    bbx2 = np.clip(cx + cut_w // 2, 0, W)\n",
    "    bby2 = np.clip(cy + cut_h // 2, 0, H)\n",
    "    #print(bbx1, bby1, bbx2, bby2)\n",
    "    return bbx1, bby1, bbx2, bby2\n",
    "\n",
    "def cutmix(data, target, alpha=1.0):\n",
    "    targets1, targets2, targets3 = target[:,0], target[:,1], target[:,2]\n",
    "    indices = torch.randperm(data.size(0))\n",
    "    shuffled_data = data[indices]\n",
    "    shuffled_targets1 = targets1[indices]\n",
    "    shuffled_targets2 = targets2[indices]\n",
    "    shuffled_targets3 = targets3[indices]\n",
    "\n",
    "    #lam = np.random.beta(alpha, alpha)\n",
    "    lam = np.sqrt(np.random.rand()/4)\n",
    "    bbx1, bby1, bbx2, bby2 = rand_bbox(data.size(), lam)\n",
    "    data[:, :, bbx1:bbx2, bby1:bby2] = data[indices, :, bbx1:bbx2, bby1:bby2]\n",
    "    #data[:, :, bbx1:bbx2, bby1:bby2] += data[indices, :, bbx1:bbx2, bby1:bby2]\n",
    "    #data = torch.clamp(data, 0, 1)\n",
    "    # adjust lambda to exactly match pixel ratio\n",
    "    lam = 1 - ((bbx2 - bbx1) * (bby2 - bby1) / (data.size()[-1] * data.size()[-2]))\n",
    "\n",
    "    targets = [targets1, shuffled_targets1, targets2, shuffled_targets2, \n",
    "               targets3, shuffled_targets3, lam]\n",
    "    return data, targets\n",
    "\n",
    "def mixup(data, target, alpha=0.4):\n",
    "    targets1, targets2, targets3 = target[:,0], target[:,1], target[:,2]\n",
    "    indices = torch.randperm(data.size(0))\n",
    "    shuffled_data = data[indices]\n",
    "    shuffled_targets1 = targets1[indices]\n",
    "    shuffled_targets2 = targets2[indices]\n",
    "    shuffled_targets3 = targets3[indices]\n",
    "\n",
    "    lam = np.random.beta(alpha, alpha)\n",
    "    data = data * lam + shuffled_data * (1 - lam)\n",
    "    targets = [targets1, shuffled_targets1, targets2, shuffled_targets2, \n",
    "               targets3, shuffled_targets3, lam]\n",
    "\n",
    "    return data, targets"
   ]
  },
  {
   "cell_type": "code",
   "execution_count": 26,
   "metadata": {},
   "outputs": [],
   "source": [
    "# kf = KFold(n_splits=5, shuffle=True, random_state=SEED).split(X=train_images_arr, y=train_label_arr)\n",
    "\n",
    "# for fold, (train_idx, valid_idx) in enumerate(kf):\n",
    "    \n",
    "#     if fold in [0]:#train 1 fold for testing ideas\n",
    "#         print('========training fold %d========'%fold)\n",
    "#         print(train_idx)\n",
    "#         print(valid_idx)\n",
    "        \n",
    "#         #1.1 data\n",
    "#         train_inputs, valid_inputs = train_images_arr[train_idx], train_images_arr[valid_idx]\n",
    "#         train_outputs, valid_outputs = train_label_arr[train_idx], train_label_arr[valid_idx]\n",
    "#         #1.2 Dataset, DataLoader\n",
    "#         train_dl = prepare_dataset(train_inputs, train_outputs, mode='train', debug=debug)\n",
    "#         val_dl = prepare_dataset(valid_inputs, valid_outputs, mode='valid', debug=debug)\n",
    "\n",
    "# ####\n",
    "# for batch_id, (images, labels) in enumerate(train_dl):\n",
    "#     inputs = images.to(device=device, dtype=torch.float)\n",
    "#     truth = labels.to(device=device, dtype=torch.float)\n",
    "#     if np.random.rand()<-10:\n",
    "#         inputs, truth = cutmix(inputs, truth, alpha=None)\n",
    "#     else:\n",
    "#         inputs, truth = mixup(inputs, truth, alpha=0.4)\n",
    "#     if batch_id==1:\n",
    "#         break\n",
    "\n",
    "# #print(inputs.shape, truth.shape)\n",
    "\n",
    "# show_inputs = inputs.cpu().numpy()[np.random.choice(BATCH_SIZE, 20, replace=False), :, :, :]\n",
    "# fig,axes = plt.subplots(5,4, figsize=(10,8))\n",
    "# for i in range(20):\n",
    "#     axes[i//4, i%4].imshow(show_inputs[i, 0], cmap='binary')"
   ]
  },
  {
   "cell_type": "code",
   "execution_count": 27,
   "metadata": {},
   "outputs": [],
   "source": [
    "# ##crop to 128x128\n",
    "# def bbox(img):\n",
    "#     rows = np.any(img, axis=1)\n",
    "#     cols = np.any(img, axis=0)\n",
    "#     rmin, rmax = np.where(rows)[0][[0, -1]]\n",
    "#     cmin, cmax = np.where(cols)[0][[0, -1]]\n",
    "#     return rmin, rmax, cmin, cmax\n",
    "\n",
    "# def crop_resize(img0, size=128, pad=16):\n",
    "#     #crop a box around pixels large than the threshold \n",
    "#     #some images contain line at the sides\n",
    "#     ymin,ymax,xmin,xmax = bbox(img0[5:-5,5:-5] > 80)\n",
    "#     #cropping may cut too much, so we need to add it back\n",
    "#     xmin = xmin - 13 if (xmin > 13) else 0\n",
    "#     ymin = ymin - 10 if (ymin > 10) else 0\n",
    "#     xmax = xmax + 13 if (xmax < IMG_WIDTH - 13) else IMG_WIDTH\n",
    "#     ymax = ymax + 10 if (ymax < IMG_HEIGHT - 10) else IMG_HEIGHT\n",
    "#     img = img0[ymin:ymax,xmin:xmax]\n",
    "#     #remove lo intensity pixels as noise\n",
    "#     img[img < 28] = 0\n",
    "#     lx, ly = xmax-xmin,ymax-ymin\n",
    "#     l = max(lx,ly) + pad\n",
    "#     #make sure that the aspect ratio is kept in rescaling\n",
    "#     img = np.pad(img, [((l-ly)//2,), ((l-lx)//2,)], mode='constant')\n",
    "#     return cv2.resize(img,(size,size))"
   ]
  },
  {
   "cell_type": "code",
   "execution_count": 28,
   "metadata": {},
   "outputs": [],
   "source": [
    "#img0 = train_images_arr[0]\n",
    "#img0 = 255 - img0\n",
    "#img0 = (img0*(255.0/img0.max())).astype(np.uint8)\n",
    "#plt.imshow(crop_resize(rotate(img0, angle=20, reshape=False)))"
   ]
  },
  {
   "cell_type": "code",
   "execution_count": 29,
   "metadata": {},
   "outputs": [],
   "source": [
    "# #### make up a weighted/balanced data sampler --for mixup/cutmix ####\n",
    "# #weights for 168 classes--graphene_root\n",
    "# import torch.utils.data\n",
    "# _weights = [6.8,6.9,3,3.1,3,5.7,3.2,6.5,6.4,2.3,6.6,6.6,6.8,0.2,1.3,0.9,1.1,1.3,0.6,3.6,3,1.1,0.3,0.2,3,0.9,5.8,3.3,1.3,0.4,2.3,1.3,0.9,7.4,3.6,2.1,1,3.5,0.3,1.6,1.3,3.3,0.5,0.3,0.9,6.9,1.7,2.2,0.7,3.1,1.4,3.1,1.1,0.3,1.7,0.6,0.4,1.6,0.8,0.4,2.3,1.7,1.2,6.7,0.2,0.7,1.3,2.1,1.6,1.3,1,0.3,0.2,7.7,0.7,0.9,0.5,1,3.4,0.3,2.2,0.3,3.4,0.7,2.2,0.7,0.5,6,1.3,0.4,1.6,0.6,0.9,1.6,1,1.4,0.2,2.1,1.6,2.2,2.2,0.9,7.1,0.3,6.2,6.6,1.3,0.2,6.3,1.1,2.9,1.3,1.1,0.2,6.7,0.2,2.3,0.7,0.9,0.7,0.8,2.2,0.4,0.5,0.5,1.2,6.3,1.1,1.1,1,6.9,2.3,1,0.2,1.6,1.6,1,1.8,1.1,0.4,1.1,0.6,0.9,1.6,1.6,3.2,3.3,0.2,0.6,0.4,0.4,0.8,1.6,0.6,1.4,1.1,1.3,3.1,7,0.3,2.1,3.2,2.2,6.1,6.1,0.9,3.3,0.6]\n",
    "# weights_dict = dict(zip(range(len(_weights)), _weights))"
   ]
  },
  {
   "cell_type": "code",
   "execution_count": 30,
   "metadata": {},
   "outputs": [],
   "source": [
    "from torch.utils.data import DataLoader, Dataset\n",
    "from utils import set_logger, save_checkpoint, load_checkpoint\n",
    "import logging\n",
    "#import gc\n",
    "from scipy.ndimage.interpolation import rotate\n",
    "import cv2\n",
    "from augmentation import *\n",
    "\n",
    "\n",
    "def prepare_dataset(img_arr, label_arr, mode='train', debug=False):\n",
    "    \"\"\"\n",
    "    mode: 'train', 'valid', 'test'\n",
    "    \"\"\"\n",
    "    if debug:#for debug, sample 1/10 data\n",
    "        n = img_arr.shape[0]\n",
    "        sid = np.random.choice(n, size=n//5, replace=False)\n",
    "        img_arr = img_arr[sid]\n",
    "        label_arr = label_arr[sid]\n",
    "\n",
    "    if mode=='train':\n",
    "        ds = DatasetV1(img_arr, label_arr, mode='train', augmentation=True)\n",
    "        dl = DataLoader(ds,\n",
    "                        batch_size=BATCH_SIZE,\n",
    "                        shuffle=True,\n",
    "                        #sampler=sampler,\n",
    "                        num_workers=NUM_WORKERS,\n",
    "                        drop_last=True\n",
    "                       )\n",
    "\n",
    "#     if mode=='train':\n",
    "#         ds = DatasetV1(img_arr, label_arr, mode='train', augmentation=True)\n",
    "#         weights = [weights_dict[c] for c in label_arr[:,0]]\n",
    "#         sampler = torch.utils.data.WeightedRandomSampler(weights, num_samples=len(ds), replacement=True)\n",
    "#         dl = DataLoader(ds,\n",
    "#                         batch_size=BATCH_SIZE,\n",
    "#                         shuffle=False,\n",
    "#                         sampler=sampler,\n",
    "#                         num_workers=NUM_WORKERS,\n",
    "#                         drop_last=True\n",
    "#                        )\n",
    "#         return dl\n",
    "\n",
    "    elif mode=='valid':\n",
    "        ds = DatasetV1(img_arr, label_arr, mode='train', augmentation=False)\n",
    "        dl = DataLoader(ds,\n",
    "                        batch_size=BATCH_SIZE,\n",
    "                        shuffle=False,\n",
    "                        #sampler=sampler,\n",
    "                        num_workers=NUM_WORKERS,\n",
    "                        drop_last=True\n",
    "                       )\n",
    "    elif mode=='test':\n",
    "        ds = DatasetV1(img_arr, label_arr, mode='test', augmentation=False)\n",
    "        dl = DataLoader(ds,\n",
    "                        batch_size=BATCH_SIZE,\n",
    "                        shuffle=False,\n",
    "                        #sampler=sampler,\n",
    "                        num_workers=NUM_WORKERS,\n",
    "                        drop_last=False\n",
    "                       ) \n",
    "    return dl\n",
    "\n",
    "class DatasetV1(Dataset):\n",
    "    \"\"\"plain\"\"\"\n",
    "    def __init__(self, inputs, outputs, mode='train', augmentation=False):\n",
    "        \"\"\"\n",
    "        inputs: images, (N, H, W)\n",
    "        outputs: label, (N, 3)\n",
    "        \"\"\"\n",
    "        self.inputs = inputs\n",
    "        self.outputs = outputs\n",
    "        self.mode = mode \n",
    "        self.augmentation = augmentation\n",
    "    \n",
    "    def __getitem__(self, idx):\n",
    "        #TODO: augmentation, preprocessing\n",
    "        inputs, outputs = self.inputs[idx], self.outputs[idx]\n",
    "        inputs = np.clip((255-inputs)/255.0, 0, 1)\n",
    "\n",
    "#         inputs = cv2.resize(inputs, (224,224))\n",
    "#         inputs = np.clip(inputs, 0, 1)\n",
    "\n",
    "        #crop\n",
    "#         inputs = 255-inputs\n",
    "#         inputs = crop_resize(inputs)\n",
    "#         inputs = np.clip(inputs/255.0, 0, 1)\n",
    "\n",
    "        if self.augmentation:\n",
    "            inputs = self.do_augmentation(inputs)\n",
    "        \n",
    "        inputs = np.expand_dims(inputs, 0)#(224,224)-->(1,224,224)\n",
    "        inputs = inputs.astype(np.float32)\n",
    "        return inputs, outputs\n",
    "\n",
    "    def __len__(self):\n",
    "        return self.inputs.shape[0]\n",
    "    \n",
    "    def do_augmentation(self, image):\n",
    "        #rotate\n",
    "        #if np.random.rand() < 0.5:\n",
    "        #angle = np.random.randint(0, 40) - 20\n",
    "        #inputs = rotate(inputs, angle, reshape=False)\n",
    "        for op in np.random.choice([\n",
    "            lambda image : do_identity(image),\n",
    "            lambda image : do_random_projective(image, 0.4),#0.4\n",
    "            lambda image : do_random_perspective(image, 0.4),#0.4\n",
    "            lambda image : do_random_scale(image, 0.4),#0.4\n",
    "            lambda image : do_random_rotate(image, 0.4),#0.4\n",
    "            lambda image : do_random_shear_x(image, 0.5),#0.5\n",
    "            lambda image : do_random_shear_y(image, 0.4),#0.4\n",
    "            lambda image : do_random_stretch_x(image, 0.5),#0.5\n",
    "            lambda image : do_random_stretch_y(image, 0.5),#0.5\n",
    "            lambda image : do_random_grid_distortion(image, 0.4),#0.4\n",
    "            lambda image : do_random_custom_distortion1(image, 0.5),#0.5\n",
    "        ],1):\n",
    "            image = op(image)\n",
    "\n",
    "        for op in np.random.choice([\n",
    "            lambda image : do_identity(image),\n",
    "            lambda image : do_random_erode(image, 0.4),#0.4\n",
    "            lambda image : do_random_dilate(image, 0.4),#0.4\n",
    "            lambda image : do_random_sprinkle(image, 0.5),#0.5\n",
    "            #lambda image : do_random_line(image, 0.2),\n",
    "        ],1):\n",
    "            image = op(image)\n",
    "\n",
    "        for op in np.random.choice([\n",
    "            lambda image : do_identity(image),\n",
    "            lambda image : do_random_contast(image, 0.5),#0.5\n",
    "            lambda image : do_random_block_fade(image, 0.5),#0.5\n",
    "        ],1):\n",
    "            image = op(image)\n",
    "        \n",
    "#         if np.random.rand()<1.1:\n",
    "#             image = do_random_shift_scale_crop_pad2(image, limit=0.1)\n",
    "#         else:\n",
    "#             image = do_shift_scale_rotate2(image, angle=np.random.uniform(0, 10))\n",
    "        return image\n",
    "\n",
    "def train_and_valid(net, train_dl, val_dl):\n",
    "    \"\"\"train one fold\n",
    "    \n",
    "    [settings]...\n",
    "    \n",
    "    [Epoch i]\n",
    "        [Trainset]\n",
    "            [Batch j]\n",
    "        [Validset]\n",
    "            [Batch k]\n",
    "        [Logging/Checkpoint]\n",
    "    \"\"\"\n",
    "    set_logger(LOG_PATH)\n",
    "    logging.info('\\n\\n')\n",
    "    #1. optim\n",
    "    train_params = filter(lambda p: p.requires_grad, net.parameters())\n",
    "#     optimizer = torch.optim.Adam(train_params, lr=LearningRate)\n",
    "#     scheduler = torch.optim.lr_scheduler.ReduceLROnPlateau(optimizer, mode='min', \n",
    "#                                                           factor=0.5, patience=5, \n",
    "#                                                           verbose=False, threshold=0.0001, \n",
    "#                                                           threshold_mode='rel', cooldown=0, \n",
    "#                                                           min_lr=0, eps=1e-08)\n",
    "    optimizer = torch.optim.Adam(train_params)\n",
    "    scheduler = torch.optim.lr_scheduler.OneCycleLR(optimizer, max_lr=5e-3, \n",
    "                                                    steps_per_epoch=len(train_dl),#1255 \n",
    "                                                    epochs=NUM_EPOCHS)\n",
    "\n",
    "    #1.1 warm-start\n",
    "    if warm_start:\n",
    "        logging.info('warm_start: '+last_checkpoint_path)\n",
    "        net, _ = load_checkpoint(last_checkpoint_path, net)\n",
    "    \n",
    "    #2. using multi GPU\n",
    "    if multi_gpu is not None:\n",
    "        net = nn.DataParallel(net, device_ids=multi_gpu)\n",
    "    #3. train\n",
    "    diff = 0\n",
    "    best_val_metric = np.inf\n",
    "    optimizer.zero_grad()\n",
    "    \n",
    "    for i_epoch in range(NUM_EPOCHS):\n",
    "        t0 = time.time()\n",
    "        print('lr: ', scheduler.get_lr())\n",
    "        ## trainset -------------------------------------------------------------\n",
    "        net.train()\n",
    "        loss_logger = LossLogger()\n",
    "        for batch_id, (images, labels) in enumerate(train_dl):\n",
    "            inputs = images.to(device=device, dtype=torch.float)\n",
    "            truth = labels.to(device=device, dtype=torch.float)\n",
    "            \n",
    "            #do cutmix/mixup\n",
    "            if i_epoch<-1:#5\n",
    "                mode = 0\n",
    "                do_nothing = True\n",
    "            else:\n",
    "                mode = 1\n",
    "                if np.random.rand()<0.5:\n",
    "                    inputs, truth = cutmix(inputs, truth, alpha=None)\n",
    "                else:\n",
    "                    inputs, truth = mixup(inputs, truth, alpha=0.4)\n",
    "            \n",
    "            logit = net(inputs)\n",
    "            logits = torch.split(logit, [n_grapheme, n_vowel, n_consonant], dim=1)\n",
    "            train_loss = loss_logger.update(logits, truth, mode=mode)\n",
    "            #grandient accumulation step=2\n",
    "            acc_step = 1\n",
    "            if acc_step>1:\n",
    "                train_loss = train_loss / acc_step\n",
    "            train_loss.backward()\n",
    "            if (batch_id+1)%acc_step==0:\n",
    "                optimizer.step()\n",
    "                optimizer.zero_grad()\n",
    "            ##lr scheduler\n",
    "            scheduler.step()\n",
    "        ##aggregate loss\n",
    "        train_loss_total, _, _, _ = loss_logger.aggregate()\n",
    "        \n",
    "#         ##check for memory leakage\n",
    "#         for obj in gc.get_objects():\n",
    "#             try:\n",
    "#                 if torch.is_tensor(obj) or (hasattr(obj, 'data') and torch.is_tensor(obj.data)):\n",
    "#                     print(type(obj), obj.size())\n",
    "#             except:\n",
    "#                 pass\n",
    "        ## validset -------------------------------------------------------------\n",
    "        net.eval()\n",
    "        loss_logger = LossLogger()\n",
    "        metric_logger = MetricLogger()\n",
    "        with torch.no_grad():\n",
    "            for batch_id, (images, labels) in enumerate(val_dl):\n",
    "                inputs = images.to(device=device, dtype=torch.float)\n",
    "                truth = labels.to(device=device, dtype=torch.float)\n",
    "                logit = net(inputs)\n",
    "                logits = torch.split(logit, [n_grapheme, n_vowel, n_consonant], dim=1)\n",
    "                _ = loss_logger.update(logits, truth, mode=0)\n",
    "                metric_logger.update(logits, truth)\n",
    "        rec, rec_grapheme, rec_vowel, rec_consonant = metric_logger.aggregate()\n",
    "        loss_total, loss_grapheme, loss_vowel, loss_consonant = loss_logger.aggregate()\n",
    "        \n",
    "        ## callbacks -------------------------------------------------------------\n",
    "        val_metric = loss_total#rec\n",
    "        #scheduler.step(val_metric)\n",
    "        \n",
    "        #sometimes too early stop, force to at least train N epochs\n",
    "        if i_epoch>=80:\n",
    "            if val_metric < best_val_metric:\n",
    "                best_val_metric = val_metric\n",
    "                is_best = True\n",
    "                diff = 0\n",
    "            else:\n",
    "                is_best = False\n",
    "                diff += 1\n",
    "                if diff > early_stopping_round:\n",
    "                    logging.info('Early Stopping: val_metric does not increase %d rounds'%early_stopping_round)\n",
    "                    break\n",
    "        else:\n",
    "            is_best = False\n",
    "        \n",
    "        #save checkpoint\n",
    "        checkpoint_dict = \\\n",
    "        {\n",
    "            'epoch': i_epoch,\n",
    "            'state_dict': net.module.state_dict() if multi_gpu is not None else net.state_dict(),\n",
    "            'optim_dict' : optimizer.state_dict(),\n",
    "            'metrics': {'train_loss': train_loss_total, 'val_loss': loss_total, \n",
    "                        'val_metric': val_metric}\n",
    "        }\n",
    "        save_checkpoint(checkpoint_dict, is_best=is_best, checkpoint=checkpoint_path)\n",
    "        \n",
    "        #logging loss/metric\n",
    "        logging.info('[EPOCH %05d]train_loss: %0.4f; val_loss: %0.4f; time elapsed: %0.1f min'%(i_epoch, \n",
    "                    train_loss_total, loss_total, (time.time()-t0)/60))\n",
    "        logging.info('[valid loss]grapheme: %0.4f, vowel: %0.4f, consonant: %0.4f'%(loss_grapheme, \n",
    "                                                                        loss_vowel, loss_consonant))\n",
    "        logging.info('[valid recall]total: %0.4f, grapheme: %0.4f, vowel: %0.4f, consonant: %0.4f'%(rec, \n",
    "                    rec_grapheme, rec_vowel, rec_consonant))\n",
    "        logging.info('='*80)\n",
    "\n",
    "def predict(test_dl):\n",
    "    pass"
   ]
  },
  {
   "cell_type": "code",
   "execution_count": 31,
   "metadata": {
    "scrolled": true
   },
   "outputs": [],
   "source": [
    "# import torch\n",
    "# import torchvision\n",
    "# print(torch.__version__)\n",
    "\n",
    "# NUM_EPOCHS=120\n",
    "\n",
    "# model = torchvision.models.resnet18(pretrained=False)\n",
    "# optimizer = torch.optim.Adam(model.parameters())\n",
    "# scheduler = torch.optim.lr_scheduler.OneCycleLR(optimizer, max_lr=5e-3, \n",
    "#                                                 steps_per_epoch=1255, epochs=NUM_EPOCHS)#steps_per_epoch=len(dl)\n",
    "\n",
    "# l = []\n",
    "# for epoch in range(NUM_EPOCHS):\n",
    "#     for i,batch in enumerate(range(1255)):\n",
    "#         l.append(scheduler.get_lr())\n",
    "#         #train_batch(...)\n",
    "#         scheduler.step()\n",
    "\n",
    "# l[0::1255]"
   ]
  },
  {
   "cell_type": "code",
   "execution_count": 32,
   "metadata": {},
   "outputs": [],
   "source": [
    "from sklearn.metrics import recall_score\n",
    "\n",
    "class LossLogger(object):\n",
    "    \"\"\"loss for an epoch\n",
    "    \n",
    "    [Epoch i]:\n",
    "        loss_logger = LossLogger()\n",
    "        \n",
    "        [Batch j]:\n",
    "            loss = loss_logger.update(logits, truth)\n",
    "            loss.backward()\n",
    "        \n",
    "        loss, loss_grapheme, loss_vowel, loss_consonant = loss_logger.aggregate()\n",
    "    \"\"\"\n",
    "    def __init__(self):\n",
    "        self.loss_grapheme = []\n",
    "        self.loss_vowel = []\n",
    "        self.loss_consonant = []\n",
    "\n",
    "    def update(self, logits, truth, mode=0):\n",
    "        \"\"\"\n",
    "        logits: logit splitted to [logit_grapheme, logit_vowel, logit_consonant]\n",
    "        truth: shape (N, 3)\n",
    "        \"\"\"\n",
    "        if mode==0:\n",
    "            #loss\n",
    "            loss_grapheme = F.cross_entropy(logits[0], truth[:,0].long())\n",
    "            loss_vowel = F.cross_entropy(logits[1], truth[:,1].long())\n",
    "            loss_consonant = F.cross_entropy(logits[2], truth[:,2].long())\n",
    "            loss = 0.5*loss_grapheme + 0.25*loss_vowel + 0.25*loss_consonant\n",
    "            #\n",
    "            self.loss_grapheme.append(loss_grapheme.item())\n",
    "            self.loss_vowel.append(loss_vowel.item())\n",
    "            self.loss_consonant.append(loss_consonant.item())\n",
    "            return loss\n",
    "        elif mode==1:#cutmix/mixup loss\n",
    "            truth1, truth2, truth3, truth4, truth5, truth6, lam = \\\n",
    "                    truth[0], truth[1], truth[2], truth[3], truth[4], truth[5], truth[6]\n",
    "            criterion = nn.CrossEntropyLoss(reduction='mean')\n",
    "            loss_grapheme = lam * criterion(logits[0], truth1.long()) + \\\n",
    "                (1 - lam) * criterion(logits[0], truth2.long())\n",
    "            loss_vowel = lam * criterion(logits[1], truth3.long()) + \\\n",
    "                (1 - lam) * criterion(logits[1], truth4.long())\n",
    "            loss_consonant = lam * criterion(logits[2], truth5.long()) + \\\n",
    "                (1 - lam) * criterion(logits[2], truth6.long())\n",
    "            loss = 0.5*loss_grapheme + 0.25*loss_vowel + 0.25*loss_consonant\n",
    "            #\n",
    "            self.loss_grapheme.append(loss_grapheme.item())\n",
    "            self.loss_vowel.append(loss_vowel.item())\n",
    "            self.loss_consonant.append(loss_consonant.item())\n",
    "            return loss\n",
    "    \n",
    "    def aggregate(self):\n",
    "        \"\"\"\n",
    "        for print logging\n",
    "        \"\"\"\n",
    "        loss_grapheme = np.mean(self.loss_grapheme)\n",
    "        loss_vowel = np.mean(self.loss_vowel)\n",
    "        loss_consonant = np.mean(self.loss_consonant)\n",
    "        loss_total = np.mean(\n",
    "            0.5*np.array(self.loss_grapheme) + \\\n",
    "            0.25*np.array(self.loss_vowel) + \\\n",
    "            0.25*np.array(self.loss_consonant)\n",
    "        )\n",
    "        return loss_total, loss_grapheme, loss_vowel, loss_consonant\n",
    "\n",
    "class MetricLogger(object):\n",
    "    \"\"\"recall, precision for an epoch\n",
    "    \n",
    "    [Epoch i]:\n",
    "        metric_logger = MetricLogger()\n",
    "        \n",
    "        [Batch j]:\n",
    "            metric_logger.update(logits, truth)\n",
    "        \n",
    "        rec, rec_grapheme, rec_vowel, rec_consonant = metric_logger.aggregate()\n",
    "    \"\"\"\n",
    "    def __init__(self):\n",
    "        self.pred_grapheme = torch.tensor([], dtype=torch.long).cuda(device)\n",
    "        self.pred_vowel = torch.tensor([], dtype=torch.long).cuda(device=device)\n",
    "        self.pred_consonant = torch.tensor([], dtype=torch.long).cuda(device=device)\n",
    "        \n",
    "        self.truth_grapheme = torch.tensor([], dtype=torch.long).cuda(device=device)\n",
    "        self.truth_vowel = torch.tensor([], dtype=torch.long).cuda(device=device)\n",
    "        self.truth_consonant = torch.tensor([], dtype=torch.long).cuda(device=device)\n",
    "\n",
    "    def update(self, logits, truth):\n",
    "        pred = torch.argmax(logits[0], dim=1)\n",
    "        self.pred_grapheme = torch.cat([self.pred_grapheme, pred])\n",
    "        self.truth_grapheme = torch.cat([self.truth_grapheme, truth[:, 0].long()])\n",
    "        #\n",
    "        pred = torch.argmax(logits[1], dim=1)\n",
    "        self.pred_vowel = torch.cat([self.pred_vowel, pred])\n",
    "        self.truth_vowel = torch.cat([self.truth_vowel, truth[:, 1].long()])\n",
    "        #\n",
    "        pred = torch.argmax(logits[2], dim=1)\n",
    "        self.pred_consonant = torch.cat([self.pred_consonant, pred])\n",
    "        self.truth_consonant = torch.cat([self.truth_consonant, truth[:, 2].long()])\n",
    "\n",
    "    def aggregate(self):\n",
    "        rec_grapheme = recall_score(self.truth_grapheme.cpu().numpy(), \n",
    "                                    self.pred_grapheme.cpu().numpy(), \n",
    "                                    average='macro')\n",
    "        rec_vowel = recall_score(self.truth_vowel.cpu().numpy(), \n",
    "                                 self.pred_vowel.cpu().numpy(), \n",
    "                                 average='macro')\n",
    "        rec_consonant = recall_score(self.truth_consonant.cpu().numpy(), \n",
    "                                     self.pred_consonant.cpu().numpy(), \n",
    "                                     average='macro')\n",
    "        #rec = (2*rec_grapheme + 1*rec_vowel + 1*rec_consonant) / 4\n",
    "        rec = np.average([rec_grapheme, rec_vowel, rec_consonant], weights=[2,1,1])\n",
    "        return rec, rec_grapheme, rec_vowel, rec_consonant\n",
    "\n",
    "# #debug MetricLogger\n",
    "# #Epoch 0\n",
    "# loss_logger = LossLogger()\n",
    "# metric_logger = MetricLogger()\n",
    "# for batch_id, (images, labels) in enumerate(val_dl):\n",
    "#     inputs = images.to(device=device, dtype=torch.float)\n",
    "#     truth = labels.to(device=device, dtype=torch.float)\n",
    "#     if batch_id==10:\n",
    "#         break\n",
    "#     logit = net(inputs)\n",
    "#     logits = torch.split(logit, [n_grapheme, n_vowel, n_consonant], dim=1)\n",
    "#     loss = loss_logger.update(logits, truth)\n",
    "#     metric_logger.update(logits, truth)\n",
    "# rec, rec_grapheme, rec_vowel, rec_consonant = metric_logger.aggregate()\n",
    "# loss_total, loss_grapheme, loss_vowel, loss_consonant = loss_logger.aggregate()\n",
    "# print(rec, rec_grapheme, rec_vowel, rec_consonant)\n",
    "# print(loss_total, loss_grapheme, loss_vowel, loss_consonant)"
   ]
  },
  {
   "cell_type": "code",
   "execution_count": 33,
   "metadata": {},
   "outputs": [],
   "source": [
    "# from senet import se_resnext50_32x4d\n",
    "from senet_v2 import se_resnext50_32x4d"
   ]
  },
  {
   "cell_type": "code",
   "execution_count": null,
   "metadata": {
    "scrolled": true
   },
   "outputs": [
    {
     "name": "stdout",
     "output_type": "stream",
     "text": [
      "========training fold 0========\n",
      "[     0      1      2 ... 200835 200837 200839]\n",
      "[     4      6     12 ... 200832 200836 200838]\n",
      "checkpoint_path:  ../checkpoint/v4-fold0\n"
     ]
    },
    {
     "name": "stderr",
     "output_type": "stream",
     "text": [
      "\n",
      "\n",
      "\n"
     ]
    },
    {
     "name": "stdout",
     "output_type": "stream",
     "text": [
      "model state_dict loaded.\n",
      "lr:  [0.00019999999999999966]\n"
     ]
    },
    {
     "name": "stderr",
     "output_type": "stream",
     "text": [
      "[EPOCH 00000]train_loss: 2.3069; val_loss: 0.6235; time elapsed: 8.9 min\n",
      "[valid loss]grapheme: 0.6704, vowel: 0.4996, consonant: 0.6537\n",
      "[valid recall]total: 0.8102, grapheme: 0.7805, vowel: 0.9462, consonant: 0.7335\n",
      "================================================================================\n"
     ]
    },
    {
     "name": "stdout",
     "output_type": "stream",
     "text": [
      "lr:  [0.0002091331286183584]\n"
     ]
    },
    {
     "name": "stderr",
     "output_type": "stream",
     "text": [
      "[EPOCH 00001]train_loss: 1.5993; val_loss: 0.3623; time elapsed: 9.6 min\n",
      "[valid loss]grapheme: 0.3723, vowel: 0.2904, consonant: 0.4143\n",
      "[valid recall]total: 0.9056, grapheme: 0.8815, vowel: 0.9628, consonant: 0.8968\n",
      "================================================================================\n"
     ]
    },
    {
     "name": "stdout",
     "output_type": "stream",
     "text": [
      "lr:  [0.00023646300277480308]\n"
     ]
    },
    {
     "name": "stderr",
     "output_type": "stream",
     "text": [
      "[EPOCH 00002]train_loss: 1.4044; val_loss: 0.2815; time elapsed: 9.6 min\n",
      "[valid loss]grapheme: 0.3177, vowel: 0.2169, consonant: 0.2737\n",
      "[valid recall]total: 0.9309, grapheme: 0.9091, vowel: 0.9670, consonant: 0.9384\n",
      "================================================================================\n"
     ]
    },
    {
     "name": "stdout",
     "output_type": "stream",
     "text": [
      "lr:  [0.00028178161642283817]\n"
     ]
    },
    {
     "name": "stderr",
     "output_type": "stream",
     "text": [
      "[EPOCH 00003]train_loss: 1.2915; val_loss: 0.2374; time elapsed: 9.6 min\n",
      "[valid loss]grapheme: 0.2810, vowel: 0.1948, consonant: 0.1926\n",
      "[valid recall]total: 0.9528, grapheme: 0.9322, vowel: 0.9722, consonant: 0.9744\n",
      "================================================================================\n"
     ]
    },
    {
     "name": "stdout",
     "output_type": "stream",
     "text": [
      "lr:  [0.00034474405228975165]\n"
     ]
    },
    {
     "name": "stderr",
     "output_type": "stream",
     "text": [
      "[EPOCH 00004]train_loss: 1.2265; val_loss: 0.1925; time elapsed: 9.6 min\n",
      "[valid loss]grapheme: 0.2400, vowel: 0.1428, consonant: 0.1472\n",
      "[valid recall]total: 0.9535, grapheme: 0.9336, vowel: 0.9745, consonant: 0.9723\n",
      "================================================================================\n"
     ]
    },
    {
     "name": "stdout",
     "output_type": "stream",
     "text": [
      "lr:  [0.00042487110702146315]\n"
     ]
    },
    {
     "name": "stderr",
     "output_type": "stream",
     "text": [
      "[EPOCH 00005]train_loss: 1.1764; val_loss: 0.1977; time elapsed: 9.6 min\n",
      "[valid loss]grapheme: 0.2439, vowel: 0.1750, consonant: 0.1279\n",
      "[valid recall]total: 0.9549, grapheme: 0.9375, vowel: 0.9741, consonant: 0.9703\n",
      "================================================================================\n"
     ]
    },
    {
     "name": "stdout",
     "output_type": "stream",
     "text": [
      "lr:  [0.0005215529383707429]\n"
     ]
    },
    {
     "name": "stderr",
     "output_type": "stream",
     "text": [
      "[EPOCH 00006]train_loss: 1.1389; val_loss: 0.1867; time elapsed: 9.7 min\n",
      "[valid loss]grapheme: 0.2379, vowel: 0.1542, consonant: 0.1169\n",
      "[valid recall]total: 0.9599, grapheme: 0.9444, vowel: 0.9796, consonant: 0.9713\n",
      "================================================================================\n"
     ]
    },
    {
     "name": "stdout",
     "output_type": "stream",
     "text": [
      "lr:  [0.0006340537066702812]\n"
     ]
    },
    {
     "name": "stderr",
     "output_type": "stream",
     "text": [
      "[EPOCH 00007]train_loss: 1.1113; val_loss: 0.1671; time elapsed: 9.5 min\n",
      "[valid loss]grapheme: 0.2040, vowel: 0.1448, consonant: 0.1156\n",
      "[valid recall]total: 0.9622, grapheme: 0.9484, vowel: 0.9758, consonant: 0.9763\n",
      "================================================================================\n"
     ]
    },
    {
     "name": "stdout",
     "output_type": "stream",
     "text": [
      "lr:  [0.0007615171752646255]\n"
     ]
    },
    {
     "name": "stderr",
     "output_type": "stream",
     "text": [
      "[EPOCH 00008]train_loss: 1.0910; val_loss: 0.1625; time elapsed: 9.6 min\n",
      "[valid loss]grapheme: 0.2143, vowel: 0.1222, consonant: 0.0992\n",
      "[valid recall]total: 0.9636, grapheme: 0.9489, vowel: 0.9801, consonant: 0.9765\n",
      "================================================================================\n"
     ]
    },
    {
     "name": "stdout",
     "output_type": "stream",
     "text": [
      "lr:  [0.0009029732272764308]\n"
     ]
    },
    {
     "name": "stderr",
     "output_type": "stream",
     "text": [
      "[EPOCH 00009]train_loss: 1.0767; val_loss: 0.1763; time elapsed: 9.5 min\n",
      "[valid loss]grapheme: 0.2133, vowel: 0.1620, consonant: 0.1165\n",
      "[valid recall]total: 0.9604, grapheme: 0.9480, vowel: 0.9743, consonant: 0.9712\n",
      "================================================================================\n"
     ]
    },
    {
     "name": "stdout",
     "output_type": "stream",
     "text": [
      "lr:  [0.0010573452491083046]\n"
     ]
    },
    {
     "name": "stderr",
     "output_type": "stream",
     "text": [
      "[EPOCH 00010]train_loss: 1.0691; val_loss: 0.1737; time elapsed: 9.5 min\n",
      "[valid loss]grapheme: 0.2334, vowel: 0.1268, consonant: 0.1011\n",
      "[valid recall]total: 0.9546, grapheme: 0.9352, vowel: 0.9754, consonant: 0.9724\n",
      "================================================================================\n"
     ]
    },
    {
     "name": "stdout",
     "output_type": "stream",
     "text": [
      "lr:  [0.0012234583244848593]\n"
     ]
    },
    {
     "name": "stderr",
     "output_type": "stream",
     "text": [
      "[EPOCH 00011]train_loss: 1.0510; val_loss: 0.1832; time elapsed: 9.6 min\n",
      "[valid loss]grapheme: 0.2355, vowel: 0.1495, consonant: 0.1123\n",
      "[valid recall]total: 0.9526, grapheme: 0.9350, vowel: 0.9733, consonant: 0.9672\n",
      "================================================================================\n"
     ]
    },
    {
     "name": "stdout",
     "output_type": "stream",
     "text": [
      "lr:  [0.0014000481766705897]\n"
     ]
    },
    {
     "name": "stderr",
     "output_type": "stream",
     "text": [
      "[EPOCH 00012]train_loss: 1.0263; val_loss: 0.1554; time elapsed: 9.5 min\n",
      "[valid loss]grapheme: 0.1983, vowel: 0.1260, consonant: 0.0991\n",
      "[valid recall]total: 0.9643, grapheme: 0.9489, vowel: 0.9795, consonant: 0.9801\n",
      "================================================================================\n"
     ]
    },
    {
     "name": "stdout",
     "output_type": "stream",
     "text": [
      "lr:  [0.0015857707908049057]\n"
     ]
    },
    {
     "name": "stderr",
     "output_type": "stream",
     "text": [
      "[EPOCH 00013]train_loss: 1.0167; val_loss: 0.1391; time elapsed: 9.5 min\n",
      "[valid loss]grapheme: 0.1829, vowel: 0.1107, consonant: 0.0798\n",
      "[valid recall]total: 0.9630, grapheme: 0.9496, vowel: 0.9756, consonant: 0.9771\n",
      "================================================================================\n"
     ]
    },
    {
     "name": "stdout",
     "output_type": "stream",
     "text": [
      "lr:  [0.001779212643119284]\n"
     ]
    },
    {
     "name": "stderr",
     "output_type": "stream",
     "text": [
      "[EPOCH 00014]train_loss: 1.0149; val_loss: 0.1390; time elapsed: 9.6 min\n",
      "[valid loss]grapheme: 0.1792, vowel: 0.1036, consonant: 0.0938\n",
      "[valid recall]total: 0.9653, grapheme: 0.9543, vowel: 0.9772, consonant: 0.9756\n",
      "================================================================================\n"
     ]
    },
    {
     "name": "stdout",
     "output_type": "stream",
     "text": [
      "lr:  [0.001978901459182592]\n"
     ]
    },
    {
     "name": "stderr",
     "output_type": "stream",
     "text": [
      "[EPOCH 00015]train_loss: 0.9673; val_loss: 0.1500; time elapsed: 9.5 min\n",
      "[valid loss]grapheme: 0.2033, vowel: 0.1025, consonant: 0.0910\n",
      "[valid recall]total: 0.9631, grapheme: 0.9472, vowel: 0.9797, consonant: 0.9783\n",
      "================================================================================\n"
     ]
    },
    {
     "name": "stdout",
     "output_type": "stream",
     "text": [
      "lr:  [0.0021833174192941998]\n"
     ]
    },
    {
     "name": "stderr",
     "output_type": "stream",
     "text": [
      "[EPOCH 00016]train_loss: 1.0131; val_loss: 0.1281; time elapsed: 9.6 min\n",
      "[valid loss]grapheme: 0.1730, vowel: 0.0875, consonant: 0.0788\n",
      "[valid recall]total: 0.9645, grapheme: 0.9532, vowel: 0.9778, consonant: 0.9738\n",
      "================================================================================\n"
     ]
    },
    {
     "name": "stdout",
     "output_type": "stream",
     "text": [
      "lr:  [0.0023909047257413218]\n"
     ]
    },
    {
     "name": "stderr",
     "output_type": "stream",
     "text": [
      "[EPOCH 00017]train_loss: 1.0024; val_loss: 0.1302; time elapsed: 9.6 min\n",
      "[valid loss]grapheme: 0.1751, vowel: 0.0961, consonant: 0.0745\n",
      "[valid recall]total: 0.9662, grapheme: 0.9524, vowel: 0.9784, consonant: 0.9817\n",
      "================================================================================\n"
     ]
    },
    {
     "name": "stdout",
     "output_type": "stream",
     "text": [
      "lr:  [0.0026000834438828562]\n"
     ]
    },
    {
     "name": "stderr",
     "output_type": "stream",
     "text": [
      "[EPOCH 00018]train_loss: 0.9883; val_loss: 0.1601; time elapsed: 9.5 min\n",
      "[valid loss]grapheme: 0.2039, vowel: 0.1362, consonant: 0.0965\n",
      "[valid recall]total: 0.9593, grapheme: 0.9451, vowel: 0.9759, consonant: 0.9709\n",
      "================================================================================\n"
     ]
    },
    {
     "name": "stdout",
     "output_type": "stream",
     "text": [
      "lr:  [0.0028092615269379615]\n"
     ]
    },
    {
     "name": "stderr",
     "output_type": "stream",
     "text": [
      "[EPOCH 00019]train_loss: 0.9850; val_loss: 0.1615; time elapsed: 9.5 min\n",
      "[valid loss]grapheme: 0.2054, vowel: 0.1360, consonant: 0.0993\n",
      "[valid recall]total: 0.9660, grapheme: 0.9556, vowel: 0.9754, consonant: 0.9775\n",
      "================================================================================\n"
     ]
    },
    {
     "name": "stdout",
     "output_type": "stream",
     "text": [
      "lr:  [0.0030168469329594017]\n"
     ]
    },
    {
     "name": "stderr",
     "output_type": "stream",
     "text": [
      "[EPOCH 00020]train_loss: 0.9824; val_loss: 0.1433; time elapsed: 9.5 min\n",
      "[valid loss]grapheme: 0.1802, vowel: 0.1212, consonant: 0.0915\n",
      "[valid recall]total: 0.9656, grapheme: 0.9535, vowel: 0.9795, consonant: 0.9760\n",
      "================================================================================\n"
     ]
    },
    {
     "name": "stdout",
     "output_type": "stream",
     "text": [
      "lr:  [0.0032212597417701017]\n"
     ]
    },
    {
     "name": "stderr",
     "output_type": "stream",
     "text": [
      "[EPOCH 00021]train_loss: 0.9812; val_loss: 0.1403; time elapsed: 9.5 min\n",
      "[valid loss]grapheme: 0.1822, vowel: 0.1080, consonant: 0.0889\n",
      "[valid recall]total: 0.9662, grapheme: 0.9540, vowel: 0.9798, consonant: 0.9769\n",
      "================================================================================\n"
     ]
    },
    {
     "name": "stdout",
     "output_type": "stream",
     "text": [
      "lr:  [0.0034209441796416405]\n"
     ]
    },
    {
     "name": "stderr",
     "output_type": "stream",
     "text": [
      "[EPOCH 00022]train_loss: 0.9677; val_loss: 0.1622; time elapsed: 9.5 min\n",
      "[valid loss]grapheme: 0.2059, vowel: 0.1370, consonant: 0.1000\n",
      "[valid recall]total: 0.9634, grapheme: 0.9489, vowel: 0.9772, consonant: 0.9785\n",
      "================================================================================\n"
     ]
    },
    {
     "name": "stdout",
     "output_type": "stream",
     "text": [
      "lr:  [0.0036143804601955457]\n"
     ]
    },
    {
     "name": "stderr",
     "output_type": "stream",
     "text": [
      "[EPOCH 00023]train_loss: 0.9651; val_loss: 0.1357; time elapsed: 9.5 min\n",
      "[valid loss]grapheme: 0.1826, vowel: 0.0983, consonant: 0.0793\n",
      "[valid recall]total: 0.9604, grapheme: 0.9474, vowel: 0.9750, consonant: 0.9721\n",
      "================================================================================\n"
     ]
    },
    {
     "name": "stdout",
     "output_type": "stream",
     "text": [
      "lr:  [0.0038000963514070204]\n"
     ]
    },
    {
     "name": "stderr",
     "output_type": "stream",
     "text": [
      "[EPOCH 00024]train_loss: 0.9785; val_loss: 0.1459; time elapsed: 9.5 min\n",
      "[valid loss]grapheme: 0.1966, vowel: 0.1036, consonant: 0.0869\n",
      "[valid recall]total: 0.9605, grapheme: 0.9416, vowel: 0.9787, consonant: 0.9801\n",
      "================================================================================\n"
     ]
    },
    {
     "name": "stdout",
     "output_type": "stream",
     "text": [
      "lr:  [0.003976678380675308]\n"
     ]
    },
    {
     "name": "stderr",
     "output_type": "stream",
     "text": [
      "[EPOCH 00025]train_loss: 0.9515; val_loss: 0.1298; time elapsed: 9.5 min\n",
      "[valid loss]grapheme: 0.1675, vowel: 0.1010, consonant: 0.0834\n",
      "[valid recall]total: 0.9679, grapheme: 0.9524, vowel: 0.9829, consonant: 0.9838\n",
      "================================================================================\n"
     ]
    },
    {
     "name": "stdout",
     "output_type": "stream",
     "text": [
      "lr:  [0.004142782592679578]\n"
     ]
    },
    {
     "name": "stderr",
     "output_type": "stream",
     "text": [
      "[EPOCH 00026]train_loss: 0.9600; val_loss: 0.1446; time elapsed: 9.5 min\n",
      "[valid loss]grapheme: 0.1831, vowel: 0.1169, consonant: 0.0954\n",
      "[valid recall]total: 0.9650, grapheme: 0.9519, vowel: 0.9795, consonant: 0.9766\n",
      "================================================================================\n"
     ]
    },
    {
     "name": "stdout",
     "output_type": "stream",
     "text": [
      "lr:  [0.004297144778142924]\n"
     ]
    },
    {
     "name": "stderr",
     "output_type": "stream",
     "text": [
      "[EPOCH 00027]train_loss: 0.9655; val_loss: 0.1251; time elapsed: 9.5 min\n",
      "[valid loss]grapheme: 0.1672, vowel: 0.0906, consonant: 0.0754\n",
      "[valid recall]total: 0.9681, grapheme: 0.9555, vowel: 0.9814, consonant: 0.9799\n",
      "================================================================================\n"
     ]
    },
    {
     "name": "stdout",
     "output_type": "stream",
     "text": [
      "lr:  [0.004438590095653974]\n"
     ]
    },
    {
     "name": "stderr",
     "output_type": "stream",
     "text": [
      "[EPOCH 00028]train_loss: 0.9424; val_loss: 0.1464; time elapsed: 9.6 min\n",
      "[valid loss]grapheme: 0.1870, vowel: 0.1157, consonant: 0.0959\n",
      "[valid recall]total: 0.9646, grapheme: 0.9527, vowel: 0.9761, consonant: 0.9769\n",
      "================================================================================\n"
     ]
    },
    {
     "name": "stdout",
     "output_type": "stream",
     "text": [
      "lr:  [0.004566042013314983]\n"
     ]
    },
    {
     "name": "stderr",
     "output_type": "stream",
     "text": [
      "[EPOCH 00029]train_loss: 0.9601; val_loss: 0.1344; time elapsed: 9.5 min\n",
      "[valid loss]grapheme: 0.1753, vowel: 0.1057, consonant: 0.0811\n",
      "[valid recall]total: 0.9690, grapheme: 0.9559, vowel: 0.9823, consonant: 0.9819\n",
      "================================================================================\n"
     ]
    },
    {
     "name": "stdout",
     "output_type": "stream",
     "text": [
      "lr:  [0.004678530502162072]\n"
     ]
    },
    {
     "name": "stderr",
     "output_type": "stream",
     "text": [
      "[EPOCH 00030]train_loss: 0.9260; val_loss: 0.1101; time elapsed: 9.6 min\n",
      "[valid loss]grapheme: 0.1518, vowel: 0.0720, consonant: 0.0648\n",
      "[valid recall]total: 0.9696, grapheme: 0.9569, vowel: 0.9831, consonant: 0.9813\n",
      "================================================================================\n"
     ]
    },
    {
     "name": "stdout",
     "output_type": "stream",
     "text": [
      "lr:  [0.004775199418997971]\n"
     ]
    },
    {
     "name": "stderr",
     "output_type": "stream",
     "text": [
      "[EPOCH 00031]train_loss: 0.9455; val_loss: 0.1416; time elapsed: 9.5 min\n",
      "[valid loss]grapheme: 0.1814, vowel: 0.1092, consonant: 0.0942\n",
      "[valid recall]total: 0.9672, grapheme: 0.9545, vowel: 0.9820, consonant: 0.9781\n",
      "================================================================================\n"
     ]
    },
    {
     "name": "stdout",
     "output_type": "stream",
     "text": [
      "lr:  [0.004855313022446962]\n"
     ]
    },
    {
     "name": "stderr",
     "output_type": "stream",
     "text": [
      "[EPOCH 00032]train_loss: 0.8934; val_loss: 0.1088; time elapsed: 9.4 min\n",
      "[valid loss]grapheme: 0.1484, vowel: 0.0753, consonant: 0.0631\n",
      "[valid recall]total: 0.9708, grapheme: 0.9569, vowel: 0.9835, consonant: 0.9860\n",
      "================================================================================\n"
     ]
    },
    {
     "name": "stdout",
     "output_type": "stream",
     "text": [
      "lr:  [0.00491826157263873]\n"
     ]
    },
    {
     "name": "stderr",
     "output_type": "stream",
     "text": [
      "[EPOCH 00033]train_loss: 0.9060; val_loss: 0.1664; time elapsed: 9.5 min\n",
      "[valid loss]grapheme: 0.2107, vowel: 0.1514, consonant: 0.0927\n",
      "[valid recall]total: 0.9646, grapheme: 0.9482, vowel: 0.9813, consonant: 0.9807\n",
      "================================================================================\n"
     ]
    },
    {
     "name": "stdout",
     "output_type": "stream",
     "text": [
      "lr:  [0.00496356597190224]\n"
     ]
    },
    {
     "name": "stderr",
     "output_type": "stream",
     "text": [
      "[EPOCH 00034]train_loss: 0.8818; val_loss: 0.1341; time elapsed: 9.5 min\n",
      "[valid loss]grapheme: 0.1733, vowel: 0.1111, consonant: 0.0786\n",
      "[valid recall]total: 0.9699, grapheme: 0.9567, vowel: 0.9832, consonant: 0.9828\n",
      "================================================================================\n"
     ]
    },
    {
     "name": "stdout",
     "output_type": "stream",
     "text": [
      "lr:  [0.004990881411149617]\n"
     ]
    },
    {
     "name": "stderr",
     "output_type": "stream",
     "text": [
      "[EPOCH 00035]train_loss: 0.8902; val_loss: 0.1372; time elapsed: 9.4 min\n",
      "[valid loss]grapheme: 0.1687, vowel: 0.1240, consonant: 0.0876\n",
      "[valid recall]total: 0.9706, grapheme: 0.9577, vowel: 0.9836, consonant: 0.9836\n",
      "================================================================================\n"
     ]
    },
    {
     "name": "stdout",
     "output_type": "stream",
     "text": [
      "lr:  [0.0049999999988899]\n"
     ]
    },
    {
     "name": "stderr",
     "output_type": "stream",
     "text": [
      "[EPOCH 00036]train_loss: 0.8897; val_loss: 0.1232; time elapsed: 9.4 min\n",
      "[valid loss]grapheme: 0.1599, vowel: 0.0928, consonant: 0.0805\n",
      "[valid recall]total: 0.9704, grapheme: 0.9574, vowel: 0.9845, consonant: 0.9824\n",
      "================================================================================\n"
     ]
    },
    {
     "name": "stdout",
     "output_type": "stream",
     "text": [
      "lr:  [0.004998248982153825]\n"
     ]
    },
    {
     "name": "stderr",
     "output_type": "stream",
     "text": [
      "[EPOCH 00037]train_loss: 0.8696; val_loss: 0.1188; time elapsed: 9.5 min\n",
      "[valid loss]grapheme: 0.1585, vowel: 0.0860, consonant: 0.0720\n",
      "[valid recall]total: 0.9703, grapheme: 0.9596, vowel: 0.9819, consonant: 0.9800\n",
      "================================================================================\n"
     ]
    },
    {
     "name": "stdout",
     "output_type": "stream",
     "text": [
      "lr:  [0.004993003952302436]\n"
     ]
    },
    {
     "name": "stderr",
     "output_type": "stream",
     "text": [
      "[EPOCH 00038]train_loss: 0.8710; val_loss: 0.1232; time elapsed: 9.5 min\n",
      "[valid loss]grapheme: 0.1611, vowel: 0.0955, consonant: 0.0752\n",
      "[valid recall]total: 0.9697, grapheme: 0.9593, vowel: 0.9830, consonant: 0.9773\n",
      "================================================================================\n"
     ]
    },
    {
     "name": "stdout",
     "output_type": "stream",
     "text": [
      "lr:  [0.004984272244984255]\n"
     ]
    },
    {
     "name": "stderr",
     "output_type": "stream",
     "text": [
      "[EPOCH 00039]train_loss: 0.8571; val_loss: 0.1032; time elapsed: 9.5 min\n",
      "[valid loss]grapheme: 0.1395, vowel: 0.0730, consonant: 0.0609\n",
      "[valid recall]total: 0.9730, grapheme: 0.9612, vowel: 0.9857, consonant: 0.9839\n",
      "================================================================================\n"
     ]
    },
    {
     "name": "stdout",
     "output_type": "stream",
     "text": [
      "lr:  [0.004972066072281515]\n"
     ]
    },
    {
     "name": "stderr",
     "output_type": "stream",
     "text": [
      "[EPOCH 00040]train_loss: 0.8623; val_loss: 0.1369; time elapsed: 9.5 min\n",
      "[valid loss]grapheme: 0.1771, vowel: 0.1077, consonant: 0.0857\n",
      "[valid recall]total: 0.9679, grapheme: 0.9553, vowel: 0.9795, consonant: 0.9817\n",
      "================================================================================\n"
     ]
    },
    {
     "name": "stdout",
     "output_type": "stream",
     "text": [
      "lr:  [0.004956402505630461]\n"
     ]
    },
    {
     "name": "stderr",
     "output_type": "stream",
     "text": [
      "[EPOCH 00041]train_loss: 0.8258; val_loss: 0.1001; time elapsed: 9.4 min\n",
      "[valid loss]grapheme: 0.1340, vowel: 0.0720, consonant: 0.0604\n",
      "[valid recall]total: 0.9735, grapheme: 0.9623, vowel: 0.9838, consonant: 0.9854\n",
      "================================================================================\n"
     ]
    },
    {
     "name": "stdout",
     "output_type": "stream",
     "text": [
      "lr:  [0.004937303451945404]\n"
     ]
    },
    {
     "name": "stderr",
     "output_type": "stream",
     "text": [
      "[EPOCH 00042]train_loss: 0.8263; val_loss: 0.1128; time elapsed: 9.5 min\n",
      "[valid loss]grapheme: 0.1463, vowel: 0.0860, consonant: 0.0725\n",
      "[valid recall]total: 0.9743, grapheme: 0.9637, vowel: 0.9866, consonant: 0.9832\n",
      "================================================================================\n"
     ]
    },
    {
     "name": "stdout",
     "output_type": "stream",
     "text": [
      "lr:  [0.004914795622979922]\n"
     ]
    },
    {
     "name": "stderr",
     "output_type": "stream",
     "text": [
      "[EPOCH 00043]train_loss: 0.8284; val_loss: 0.1042; time elapsed: 9.5 min\n",
      "[valid loss]grapheme: 0.1328, vowel: 0.0821, consonant: 0.0692\n",
      "[valid recall]total: 0.9754, grapheme: 0.9651, vowel: 0.9866, consonant: 0.9849\n",
      "================================================================================\n"
     ]
    },
    {
     "name": "stdout",
     "output_type": "stream",
     "text": [
      "lr:  [0.004888910497968052]\n"
     ]
    },
    {
     "name": "stderr",
     "output_type": "stream",
     "text": [
      "[EPOCH 00044]train_loss: 0.8110; val_loss: 0.1186; time elapsed: 9.4 min\n",
      "[valid loss]grapheme: 0.1515, vowel: 0.0995, consonant: 0.0719\n",
      "[valid recall]total: 0.9721, grapheme: 0.9611, vowel: 0.9845, consonant: 0.9820\n",
      "================================================================================\n"
     ]
    },
    {
     "name": "stdout",
     "output_type": "stream",
     "text": [
      "lr:  [0.0048596842795977395]\n"
     ]
    },
    {
     "name": "stderr",
     "output_type": "stream",
     "text": [
      "[EPOCH 00045]train_loss: 0.8248; val_loss: 0.0976; time elapsed: 9.5 min\n",
      "[valid loss]grapheme: 0.1302, vowel: 0.0695, consonant: 0.0604\n",
      "[valid recall]total: 0.9734, grapheme: 0.9618, vowel: 0.9869, consonant: 0.9830\n",
      "================================================================================\n"
     ]
    },
    {
     "name": "stdout",
     "output_type": "stream",
     "text": [
      "lr:  [0.004827157843378102]\n"
     ]
    },
    {
     "name": "stderr",
     "output_type": "stream",
     "text": [
      "[EPOCH 00047]train_loss: 0.8283; val_loss: 0.1174; time elapsed: 9.5 min\n",
      "[valid loss]grapheme: 0.1533, vowel: 0.0935, consonant: 0.0694\n",
      "[valid recall]total: 0.9746, grapheme: 0.9634, vowel: 0.9865, consonant: 0.9850\n",
      "================================================================================\n"
     ]
    },
    {
     "name": "stdout",
     "output_type": "stream",
     "text": [
      "lr:  [0.004752390834069225]\n"
     ]
    },
    {
     "name": "stderr",
     "output_type": "stream",
     "text": [
      "[EPOCH 00048]train_loss: 0.8364; val_loss: 0.0999; time elapsed: 9.5 min\n",
      "[valid loss]grapheme: 0.1279, vowel: 0.0761, consonant: 0.0680\n",
      "[valid recall]total: 0.9745, grapheme: 0.9640, vowel: 0.9859, consonant: 0.9839\n",
      "================================================================================\n"
     ]
    },
    {
     "name": "stdout",
     "output_type": "stream",
     "text": [
      "lr:  [0.004710254829403174]\n"
     ]
    },
    {
     "name": "stderr",
     "output_type": "stream",
     "text": [
      "[EPOCH 00049]train_loss: 0.7946; val_loss: 0.1341; time elapsed: 9.5 min\n",
      "[valid loss]grapheme: 0.1668, vowel: 0.1194, consonant: 0.0833\n",
      "[valid recall]total: 0.9715, grapheme: 0.9602, vowel: 0.9837, consonant: 0.9820\n",
      "================================================================================\n"
     ]
    },
    {
     "name": "stdout",
     "output_type": "stream",
     "text": [
      "lr:  [0.004665027597485786]\n"
     ]
    },
    {
     "name": "stderr",
     "output_type": "stream",
     "text": [
      "[EPOCH 00050]train_loss: 0.7870; val_loss: 0.1053; time elapsed: 9.4 min\n",
      "[valid loss]grapheme: 0.1369, vowel: 0.0768, consonant: 0.0707\n",
      "[valid recall]total: 0.9736, grapheme: 0.9610, vowel: 0.9873, consonant: 0.9850\n",
      "================================================================================\n"
     ]
    },
    {
     "name": "stdout",
     "output_type": "stream",
     "text": [
      "lr:  [0.004616772392690489]\n"
     ]
    },
    {
     "name": "stderr",
     "output_type": "stream",
     "text": [
      "[EPOCH 00051]train_loss: 0.7973; val_loss: 0.1113; time elapsed: 9.4 min\n",
      "[valid loss]grapheme: 0.1382, vowel: 0.0967, consonant: 0.0720\n",
      "[valid recall]total: 0.9755, grapheme: 0.9660, vowel: 0.9859, consonant: 0.9841\n",
      "================================================================================\n"
     ]
    },
    {
     "name": "stdout",
     "output_type": "stream",
     "text": [
      "lr:  [0.00456555670428458]\n"
     ]
    },
    {
     "name": "stderr",
     "output_type": "stream",
     "text": [
      "[EPOCH 00052]train_loss: 0.7707; val_loss: 0.1101; time elapsed: 9.4 min\n",
      "[valid loss]grapheme: 0.1439, vowel: 0.0829, consonant: 0.0697\n",
      "[valid recall]total: 0.9731, grapheme: 0.9617, vowel: 0.9865, consonant: 0.9824\n",
      "================================================================================\n"
     ]
    },
    {
     "name": "stdout",
     "output_type": "stream",
     "text": [
      "lr:  [0.004511452162039379]\n"
     ]
    },
    {
     "name": "stderr",
     "output_type": "stream",
     "text": [
      "[EPOCH 00053]train_loss: 0.7942; val_loss: 0.0881; time elapsed: 9.4 min\n",
      "[valid loss]grapheme: 0.1187, vowel: 0.0628, consonant: 0.0521\n",
      "[valid recall]total: 0.9771, grapheme: 0.9671, vowel: 0.9866, consonant: 0.9878\n",
      "================================================================================\n"
     ]
    },
    {
     "name": "stdout",
     "output_type": "stream",
     "text": [
      "lr:  [0.004454534436049523]\n"
     ]
    },
    {
     "name": "stderr",
     "output_type": "stream",
     "text": [
      "[EPOCH 00054]train_loss: 0.7511; val_loss: 0.1027; time elapsed: 9.5 min\n",
      "[valid loss]grapheme: 0.1356, vowel: 0.0757, consonant: 0.0641\n",
      "[valid recall]total: 0.9753, grapheme: 0.9640, vowel: 0.9871, consonant: 0.9860\n",
      "================================================================================\n"
     ]
    },
    {
     "name": "stdout",
     "output_type": "stream",
     "text": [
      "lr:  [0.004394883130901493]\n"
     ]
    },
    {
     "name": "stderr",
     "output_type": "stream",
     "text": [
      "[EPOCH 00055]train_loss: 0.7796; val_loss: 0.0760; time elapsed: 9.4 min\n",
      "[valid loss]grapheme: 0.1061, vowel: 0.0484, consonant: 0.0436\n",
      "[valid recall]total: 0.9784, grapheme: 0.9699, vowel: 0.9880, consonant: 0.9858\n",
      "================================================================================\n"
     ]
    },
    {
     "name": "stdout",
     "output_type": "stream",
     "text": [
      "lr:  [0.0043325816743394]\n"
     ]
    },
    {
     "name": "stderr",
     "output_type": "stream",
     "text": [
      "[EPOCH 00056]train_loss: 0.7360; val_loss: 0.0921; time elapsed: 9.4 min\n",
      "[valid loss]grapheme: 0.1154, vowel: 0.0760, consonant: 0.0618\n",
      "[valid recall]total: 0.9782, grapheme: 0.9688, vowel: 0.9883, consonant: 0.9868\n",
      "================================================================================\n"
     ]
    },
    {
     "name": "stdout",
     "output_type": "stream",
     "text": [
      "lr:  [0.004267717200583741]\n"
     ]
    },
    {
     "name": "stderr",
     "output_type": "stream",
     "text": [
      "[EPOCH 00057]train_loss: 0.7721; val_loss: 0.0972; time elapsed: 9.4 min\n",
      "[valid loss]grapheme: 0.1214, vowel: 0.0811, consonant: 0.0647\n",
      "[valid recall]total: 0.9776, grapheme: 0.9687, vowel: 0.9875, consonant: 0.9856\n",
      "================================================================================\n"
     ]
    },
    {
     "name": "stdout",
     "output_type": "stream",
     "text": [
      "lr:  [0.004200380428466321]\n"
     ]
    },
    {
     "name": "stderr",
     "output_type": "stream",
     "text": [
      "[EPOCH 00058]train_loss: 0.7727; val_loss: 0.0795; time elapsed: 9.4 min\n",
      "[valid loss]grapheme: 0.1100, vowel: 0.0512, consonant: 0.0467\n",
      "[valid recall]total: 0.9789, grapheme: 0.9692, vowel: 0.9887, consonant: 0.9886\n",
      "================================================================================\n"
     ]
    },
    {
     "name": "stdout",
     "output_type": "stream",
     "text": [
      "lr:  [0.00413066553455175]\n"
     ]
    },
    {
     "name": "stderr",
     "output_type": "stream",
     "text": [
      "[EPOCH 00059]train_loss: 0.7733; val_loss: 0.0752; time elapsed: 9.5 min\n",
      "[valid loss]grapheme: 0.1019, vowel: 0.0486, consonant: 0.0482\n",
      "[valid recall]total: 0.9792, grapheme: 0.9716, vowel: 0.9887, consonant: 0.9847\n",
      "================================================================================\n"
     ]
    },
    {
     "name": "stdout",
     "output_type": "stream",
     "text": [
      "lr:  [0.004058670021423012]\n"
     ]
    },
    {
     "name": "stderr",
     "output_type": "stream",
     "text": [
      "[EPOCH 00060]train_loss: 0.7542; val_loss: 0.1117; time elapsed: 9.4 min\n",
      "[valid loss]grapheme: 0.1345, vowel: 0.0955, consonant: 0.0824\n",
      "[valid recall]total: 0.9797, grapheme: 0.9729, vowel: 0.9891, consonant: 0.9840\n",
      "================================================================================\n"
     ]
    },
    {
     "name": "stdout",
     "output_type": "stream",
     "text": [
      "lr:  [0.003984494581315281]\n"
     ]
    },
    {
     "name": "stderr",
     "output_type": "stream",
     "text": [
      "[EPOCH 00061]train_loss: 0.7439; val_loss: 0.1139; time elapsed: 9.4 min\n",
      "[valid loss]grapheme: 0.1388, vowel: 0.1011, consonant: 0.0769\n",
      "[valid recall]total: 0.9765, grapheme: 0.9665, vowel: 0.9881, consonant: 0.9851\n",
      "================================================================================\n"
     ]
    },
    {
     "name": "stdout",
     "output_type": "stream",
     "text": [
      "lr:  [0.003908242955288733]\n"
     ]
    },
    {
     "name": "stderr",
     "output_type": "stream",
     "text": [
      "[EPOCH 00062]train_loss: 0.7514; val_loss: 0.0747; time elapsed: 9.4 min\n",
      "[valid loss]grapheme: 0.1037, vowel: 0.0469, consonant: 0.0448\n",
      "[valid recall]total: 0.9783, grapheme: 0.9700, vowel: 0.9885, consonant: 0.9847\n",
      "================================================================================\n"
     ]
    },
    {
     "name": "stdout",
     "output_type": "stream",
     "text": [
      "lr:  [0.003830021788137277]\n"
     ]
    },
    {
     "name": "stderr",
     "output_type": "stream",
     "text": [
      "[EPOCH 00063]train_loss: 0.7238; val_loss: 0.0728; time elapsed: 9.5 min\n",
      "[valid loss]grapheme: 0.1047, vowel: 0.0404, consonant: 0.0414\n",
      "[valid recall]total: 0.9777, grapheme: 0.9691, vowel: 0.9873, consonant: 0.9853\n",
      "================================================================================\n"
     ]
    },
    {
     "name": "stdout",
     "output_type": "stream",
     "text": [
      "lr:  [0.0037499404792361865]\n"
     ]
    },
    {
     "name": "stderr",
     "output_type": "stream",
     "text": [
      "[EPOCH 00064]train_loss: 0.7417; val_loss: 0.0786; time elapsed: 9.4 min\n",
      "[valid loss]grapheme: 0.1071, vowel: 0.0526, consonant: 0.0475\n",
      "[valid recall]total: 0.9785, grapheme: 0.9696, vowel: 0.9879, consonant: 0.9867\n",
      "================================================================================\n"
     ]
    },
    {
     "name": "stdout",
     "output_type": "stream",
     "text": [
      "lr:  [0.0036681110295371665]\n"
     ]
    },
    {
     "name": "stderr",
     "output_type": "stream",
     "text": [
      "[EPOCH 00065]train_loss: 0.7228; val_loss: 0.0865; time elapsed: 9.4 min\n",
      "[valid loss]grapheme: 0.1157, vowel: 0.0613, consonant: 0.0532\n",
      "[valid recall]total: 0.9782, grapheme: 0.9696, vowel: 0.9872, consonant: 0.9864\n",
      "================================================================================\n"
     ]
    },
    {
     "name": "stdout",
     "output_type": "stream",
     "text": [
      "lr:  [0.0035846478849249023]\n"
     ]
    },
    {
     "name": "stderr",
     "output_type": "stream",
     "text": [
      "[EPOCH 00066]train_loss: 0.7169; val_loss: 0.0779; time elapsed: 9.4 min\n",
      "[valid loss]grapheme: 0.1033, vowel: 0.0570, consonant: 0.0481\n",
      "[valid recall]total: 0.9798, grapheme: 0.9719, vowel: 0.9881, consonant: 0.9875\n",
      "================================================================================\n"
     ]
    },
    {
     "name": "stdout",
     "output_type": "stream",
     "text": [
      "lr:  [0.0034996677761541394]\n"
     ]
    },
    {
     "name": "stderr",
     "output_type": "stream",
     "text": [
      "[EPOCH 00067]train_loss: 0.7201; val_loss: 0.0759; time elapsed: 9.4 min\n",
      "[valid loss]grapheme: 0.1025, vowel: 0.0533, consonant: 0.0455\n",
      "[valid recall]total: 0.9798, grapheme: 0.9716, vowel: 0.9882, consonant: 0.9880\n",
      "================================================================================\n"
     ]
    },
    {
     "name": "stdout",
     "output_type": "stream",
     "text": [
      "lr:  [0.0034132895555911667]\n"
     ]
    },
    {
     "name": "stderr",
     "output_type": "stream",
     "text": [
      "[EPOCH 00068]train_loss: 0.7182; val_loss: 0.0679; time elapsed: 9.5 min\n",
      "[valid loss]grapheme: 0.0948, vowel: 0.0413, consonant: 0.0407\n",
      "[valid recall]total: 0.9805, grapheme: 0.9729, vowel: 0.9887, consonant: 0.9874\n",
      "================================================================================\n"
     ]
    },
    {
     "name": "stdout",
     "output_type": "stream",
     "text": [
      "lr:  [0.0033256340309880373]\n"
     ]
    },
    {
     "name": "stderr",
     "output_type": "stream",
     "text": [
      "[EPOCH 00069]train_loss: 0.7239; val_loss: 0.0802; time elapsed: 9.4 min\n",
      "[valid loss]grapheme: 0.1011, vowel: 0.0631, consonant: 0.0554\n",
      "[valid recall]total: 0.9801, grapheme: 0.9727, vowel: 0.9887, consonant: 0.9860\n",
      "================================================================================\n"
     ]
    },
    {
     "name": "stdout",
     "output_type": "stream",
     "text": [
      "lr:  [0.0032368237965220022]\n"
     ]
    },
    {
     "name": "stderr",
     "output_type": "stream",
     "text": [
      "[EPOCH 00070]train_loss: 0.7157; val_loss: 0.0839; time elapsed: 9.4 min\n",
      "[valid loss]grapheme: 0.1045, vowel: 0.0657, consonant: 0.0611\n",
      "[valid recall]total: 0.9799, grapheme: 0.9729, vowel: 0.9880, consonant: 0.9858\n",
      "================================================================================\n"
     ]
    },
    {
     "name": "stdout",
     "output_type": "stream",
     "text": [
      "lr:  [0.0031469830613364675]\n"
     ]
    },
    {
     "name": "stderr",
     "output_type": "stream",
     "text": [
      "[EPOCH 00071]train_loss: 0.7071; val_loss: 0.0707; time elapsed: 9.5 min\n",
      "[valid loss]grapheme: 0.0947, vowel: 0.0487, consonant: 0.0450\n",
      "[valid recall]total: 0.9798, grapheme: 0.9731, vowel: 0.9894, consonant: 0.9837\n",
      "================================================================================\n"
     ]
    },
    {
     "name": "stdout",
     "output_type": "stream",
     "text": [
      "lr:  [0.003056237475823277]\n"
     ]
    },
    {
     "name": "stderr",
     "output_type": "stream",
     "text": [
      "[EPOCH 00072]train_loss: 0.7118; val_loss: 0.0942; time elapsed: 9.4 min\n",
      "[valid loss]grapheme: 0.1189, vowel: 0.0750, consonant: 0.0642\n",
      "[valid recall]total: 0.9802, grapheme: 0.9724, vowel: 0.9882, consonant: 0.9876\n",
      "================================================================================\n"
     ]
    },
    {
     "name": "stdout",
     "output_type": "stream",
     "text": [
      "lr:  [0.0029647139558892782]\n"
     ]
    },
    {
     "name": "stderr",
     "output_type": "stream",
     "text": [
      "[EPOCH 00073]train_loss: 0.6974; val_loss: 0.0819; time elapsed: 9.4 min\n",
      "[valid loss]grapheme: 0.1054, vowel: 0.0634, consonant: 0.0537\n",
      "[valid recall]total: 0.9804, grapheme: 0.9725, vowel: 0.9894, consonant: 0.9873\n",
      "================================================================================\n"
     ]
    },
    {
     "name": "stdout",
     "output_type": "stream",
     "text": [
      "lr:  [0.0028725405054529475]\n"
     ]
    },
    {
     "name": "stderr",
     "output_type": "stream",
     "text": [
      "[EPOCH 00074]train_loss: 0.7159; val_loss: 0.0960; time elapsed: 9.4 min\n",
      "[valid loss]grapheme: 0.1227, vowel: 0.0813, consonant: 0.0571\n",
      "[valid recall]total: 0.9778, grapheme: 0.9676, vowel: 0.9887, consonant: 0.9875\n",
      "================================================================================\n"
     ]
    },
    {
     "name": "stdout",
     "output_type": "stream",
     "text": [
      "lr:  [0.0027798460374193405]\n"
     ]
    },
    {
     "name": "stderr",
     "output_type": "stream",
     "text": [
      "[EPOCH 00075]train_loss: 0.6988; val_loss: 0.0752; time elapsed: 9.4 min\n",
      "[valid loss]grapheme: 0.1007, vowel: 0.0535, consonant: 0.0460\n",
      "[valid recall]total: 0.9810, grapheme: 0.9738, vowel: 0.9896, consonant: 0.9866\n",
      "================================================================================\n"
     ]
    },
    {
     "name": "stdout",
     "output_type": "stream",
     "text": [
      "lr:  [0.0026867601933837307]\n"
     ]
    },
    {
     "name": "stderr",
     "output_type": "stream",
     "text": [
      "[EPOCH 00076]train_loss: 0.6837; val_loss: 0.0667; time elapsed: 9.4 min\n",
      "[valid loss]grapheme: 0.0909, vowel: 0.0471, consonant: 0.0380\n",
      "[valid recall]total: 0.9820, grapheme: 0.9751, vowel: 0.9894, consonant: 0.9885\n",
      "================================================================================\n"
     ]
    },
    {
     "name": "stdout",
     "output_type": "stream",
     "text": [
      "lr:  [0.002593413162316124]\n"
     ]
    },
    {
     "name": "stderr",
     "output_type": "stream",
     "text": [
      "[EPOCH 00077]train_loss: 0.6779; val_loss: 0.0693; time elapsed: 9.4 min\n",
      "[valid loss]grapheme: 0.0933, vowel: 0.0490, consonant: 0.0414\n",
      "[valid recall]total: 0.9809, grapheme: 0.9737, vowel: 0.9891, consonant: 0.9871\n",
      "================================================================================\n"
     ]
    },
    {
     "name": "stdout",
     "output_type": "stream",
     "text": [
      "lr:  [0.0024999354984802046]\n"
     ]
    },
    {
     "name": "stderr",
     "output_type": "stream",
     "text": [
      "[EPOCH 00078]train_loss: 0.6902; val_loss: 0.0670; time elapsed: 9.4 min\n",
      "[valid loss]grapheme: 0.0909, vowel: 0.0473, consonant: 0.0389\n",
      "[valid recall]total: 0.9806, grapheme: 0.9729, vowel: 0.9901, consonant: 0.9865\n",
      "================================================================================\n"
     ]
    },
    {
     "name": "stdout",
     "output_type": "stream",
     "text": [
      "lr:  [0.002406457938841397]\n"
     ]
    },
    {
     "name": "stderr",
     "output_type": "stream",
     "text": [
      "[EPOCH 00079]train_loss: 0.6788; val_loss: 0.0675; time elapsed: 9.4 min\n",
      "[valid loss]grapheme: 0.0972, vowel: 0.0398, consonant: 0.0358\n",
      "[valid recall]total: 0.9797, grapheme: 0.9717, vowel: 0.9890, consonant: 0.9864\n",
      "================================================================================\n"
     ]
    },
    {
     "name": "stdout",
     "output_type": "stream",
     "text": [
      "lr:  [0.002313111220219397]\n"
     ]
    },
    {
     "name": "stderr",
     "output_type": "stream",
     "text": [
      "[EPOCH 00080]train_loss: 0.6968; val_loss: 0.0627; time elapsed: 9.4 min\n",
      "[valid loss]grapheme: 0.0894, vowel: 0.0359, consonant: 0.0358\n",
      "[valid recall]total: 0.9817, grapheme: 0.9748, vowel: 0.9899, consonant: 0.9873\n",
      "================================================================================\n"
     ]
    },
    {
     "name": "stdout",
     "output_type": "stream",
     "text": [
      "lr:  [0.002220025896440907]\n"
     ]
    },
    {
     "name": "stderr",
     "output_type": "stream",
     "text": [
      "[EPOCH 00081]train_loss: 0.6664; val_loss: 0.0673; time elapsed: 9.4 min\n",
      "[valid loss]grapheme: 0.0927, vowel: 0.0443, consonant: 0.0396\n",
      "[valid recall]total: 0.9813, grapheme: 0.9747, vowel: 0.9888, consonant: 0.9869\n",
      "================================================================================\n"
     ]
    },
    {
     "name": "stdout",
     "output_type": "stream",
     "text": [
      "lr:  [0.0021273321557483027]\n"
     ]
    },
    {
     "name": "stderr",
     "output_type": "stream",
     "text": [
      "[EPOCH 00082]train_loss: 0.6706; val_loss: 0.0658; time elapsed: 9.5 min\n",
      "[valid loss]grapheme: 0.0903, vowel: 0.0430, consonant: 0.0394\n",
      "[valid recall]total: 0.9817, grapheme: 0.9754, vowel: 0.9903, consonant: 0.9856\n",
      "================================================================================\n"
     ]
    },
    {
     "name": "stdout",
     "output_type": "stream",
     "text": [
      "lr:  [0.0020351596387196092]\n"
     ]
    },
    {
     "name": "stderr",
     "output_type": "stream",
     "text": [
      "[EPOCH 00083]train_loss: 0.6625; val_loss: 0.0759; time elapsed: 9.4 min\n",
      "[valid loss]grapheme: 0.1019, vowel: 0.0512, consonant: 0.0487\n",
      "[valid recall]total: 0.9795, grapheme: 0.9731, vowel: 0.9893, consonant: 0.9826\n",
      "================================================================================\n"
     ]
    },
    {
     "name": "stdout",
     "output_type": "stream",
     "text": [
      "lr:  [0.0019436372569544252]\n"
     ]
    },
    {
     "name": "stderr",
     "output_type": "stream",
     "text": [
      "[EPOCH 00084]train_loss: 0.6778; val_loss: 0.0771; time elapsed: 9.3 min\n",
      "[valid loss]grapheme: 0.1025, vowel: 0.0563, consonant: 0.0468\n",
      "[valid recall]total: 0.9816, grapheme: 0.9748, vowel: 0.9894, consonant: 0.9874\n",
      "================================================================================\n"
     ]
    },
    {
     "name": "stdout",
     "output_type": "stream",
     "text": [
      "lr:  [0.0018528930127793956]\n"
     ]
    },
    {
     "name": "stderr",
     "output_type": "stream",
     "text": [
      "[EPOCH 00085]train_loss: 0.6689; val_loss: 0.0635; time elapsed: 9.4 min\n",
      "[valid loss]grapheme: 0.0880, vowel: 0.0413, consonant: 0.0367\n",
      "[valid recall]total: 0.9817, grapheme: 0.9755, vowel: 0.9894, consonant: 0.9863\n",
      "================================================================================\n"
     ]
    },
    {
     "name": "stdout",
     "output_type": "stream",
     "text": [
      "lr:  [0.001763053820225385]\n"
     ]
    },
    {
     "name": "stderr",
     "output_type": "stream",
     "text": [
      "[EPOCH 00086]train_loss: 0.6550; val_loss: 0.0592; time elapsed: 9.4 min\n",
      "[valid loss]grapheme: 0.0840, vowel: 0.0367, consonant: 0.0321\n",
      "[valid recall]total: 0.9834, grapheme: 0.9771, vowel: 0.9900, consonant: 0.9895\n",
      "================================================================================\n"
     ]
    },
    {
     "name": "stdout",
     "output_type": "stream",
     "text": [
      "lr:  [0.0016742453275267266]\n"
     ]
    },
    {
     "name": "stderr",
     "output_type": "stream",
     "text": [
      "[EPOCH 00087]train_loss: 0.6307; val_loss: 0.0614; time elapsed: 9.3 min\n",
      "[valid loss]grapheme: 0.0852, vowel: 0.0404, consonant: 0.0348\n",
      "[valid recall]total: 0.9830, grapheme: 0.9767, vowel: 0.9901, consonant: 0.9886\n",
      "================================================================================\n"
     ]
    },
    {
     "name": "stdout",
     "output_type": "stream",
     "text": [
      "lr:  [0.0015865917413908092]\n"
     ]
    },
    {
     "name": "stderr",
     "output_type": "stream",
     "text": [
      "[EPOCH 00088]train_loss: 0.6426; val_loss: 0.0608; time elapsed: 9.5 min\n",
      "[valid loss]grapheme: 0.0839, vowel: 0.0389, consonant: 0.0367\n",
      "[valid recall]total: 0.9832, grapheme: 0.9769, vowel: 0.9905, consonant: 0.9884\n",
      "================================================================================\n"
     ]
    },
    {
     "name": "stdout",
     "output_type": "stream",
     "text": [
      "lr:  [0.001500215653283761]\n"
     ]
    },
    {
     "name": "stderr",
     "output_type": "stream",
     "text": [
      "[EPOCH 00089]train_loss: 0.6536; val_loss: 0.0605; time elapsed: 9.4 min\n",
      "[valid loss]grapheme: 0.0835, vowel: 0.0392, consonant: 0.0356\n",
      "[valid recall]total: 0.9825, grapheme: 0.9748, vowel: 0.9897, consonant: 0.9905\n",
      "================================================================================\n"
     ]
    },
    {
     "name": "stdout",
     "output_type": "stream",
     "text": [
      "lr:  [0.0014152378679752032]\n"
     ]
    },
    {
     "name": "stderr",
     "output_type": "stream",
     "text": [
      "[EPOCH 00090]train_loss: 0.6698; val_loss: 0.0770; time elapsed: 9.4 min\n",
      "[valid loss]grapheme: 0.1033, vowel: 0.0524, consonant: 0.0490\n",
      "[valid recall]total: 0.9821, grapheme: 0.9746, vowel: 0.9902, consonant: 0.9889\n",
      "================================================================================\n"
     ]
    },
    {
     "name": "stdout",
     "output_type": "stream",
     "text": [
      "lr:  [0.001331777234581852]\n"
     ]
    },
    {
     "name": "stderr",
     "output_type": "stream",
     "text": [
      "[EPOCH 00091]train_loss: 0.6408; val_loss: 0.0646; time elapsed: 9.4 min\n",
      "[valid loss]grapheme: 0.0894, vowel: 0.0398, consonant: 0.0398\n",
      "[valid recall]total: 0.9816, grapheme: 0.9750, vowel: 0.9902, consonant: 0.9862\n",
      "================================================================================\n"
     ]
    },
    {
     "name": "stdout",
     "output_type": "stream",
     "text": [
      "lr:  [0.001249950480346286]\n"
     ]
    },
    {
     "name": "stderr",
     "output_type": "stream",
     "text": [
      "[EPOCH 00092]train_loss: 0.6407; val_loss: 0.0738; time elapsed: 9.4 min\n",
      "[valid loss]grapheme: 0.0911, vowel: 0.0589, consonant: 0.0543\n",
      "[valid recall]total: 0.9848, grapheme: 0.9790, vowel: 0.9907, consonant: 0.9904\n",
      "================================================================================\n"
     ]
    },
    {
     "name": "stdout",
     "output_type": "stream",
     "text": [
      "lr:  [0.0011698720473833427]\n"
     ]
    },
    {
     "name": "stderr",
     "output_type": "stream",
     "text": [
      "[EPOCH 00093]train_loss: 0.6581; val_loss: 0.0559; time elapsed: 9.4 min\n",
      "[valid loss]grapheme: 0.0819, vowel: 0.0301, consonant: 0.0296\n",
      "[valid recall]total: 0.9838, grapheme: 0.9775, vowel: 0.9903, consonant: 0.9901\n",
      "================================================================================\n"
     ]
    },
    {
     "name": "stdout",
     "output_type": "stream",
     "text": [
      "lr:  [0.0010916539326224664]\n"
     ]
    },
    {
     "name": "stderr",
     "output_type": "stream",
     "text": [
      "[EPOCH 00094]train_loss: 0.6434; val_loss: 0.0718; time elapsed: 9.4 min\n",
      "[valid loss]grapheme: 0.0875, vowel: 0.0652, consonant: 0.0469\n",
      "[valid recall]total: 0.9837, grapheme: 0.9777, vowel: 0.9901, consonant: 0.9893\n",
      "================================================================================\n"
     ]
    },
    {
     "name": "stdout",
     "output_type": "stream",
     "text": [
      "lr:  [0.0010154055311698842]\n"
     ]
    },
    {
     "name": "stderr",
     "output_type": "stream",
     "text": [
      "[EPOCH 00095]train_loss: 0.6340; val_loss: 0.0665; time elapsed: 9.4 min\n",
      "[valid loss]grapheme: 0.0852, vowel: 0.0547, consonant: 0.0406\n",
      "[valid recall]total: 0.9843, grapheme: 0.9785, vowel: 0.9904, consonant: 0.9900\n",
      "================================================================================\n"
     ]
    },
    {
     "name": "stdout",
     "output_type": "stream",
     "text": [
      "lr:  [0.000941233483309653]\n"
     ]
    },
    {
     "name": "stderr",
     "output_type": "stream",
     "text": [
      "[EPOCH 00096]train_loss: 0.6237; val_loss: 0.0689; time elapsed: 9.3 min\n",
      "[valid loss]grapheme: 0.0855, vowel: 0.0586, consonant: 0.0459\n",
      "[valid recall]total: 0.9839, grapheme: 0.9777, vowel: 0.9910, consonant: 0.9893\n",
      "================================================================================\n"
     ]
    },
    {
     "name": "stdout",
     "output_type": "stream",
     "text": [
      "lr:  [0.0008692415253575775]\n"
     ]
    },
    {
     "name": "stderr",
     "output_type": "stream",
     "text": [
      "[EPOCH 00097]train_loss: 0.6404; val_loss: 0.0670; time elapsed: 9.5 min\n",
      "[valid loss]grapheme: 0.0852, vowel: 0.0524, consonant: 0.0452\n",
      "[valid recall]total: 0.9839, grapheme: 0.9779, vowel: 0.9903, consonant: 0.9894\n",
      "================================================================================\n"
     ]
    },
    {
     "name": "stdout",
     "output_type": "stream",
     "text": [
      "lr:  [0.0007995303445765982]\n"
     ]
    },
    {
     "name": "stderr",
     "output_type": "stream",
     "text": [
      "[EPOCH 00098]train_loss: 0.6387; val_loss: 0.0609; time elapsed: 9.4 min\n",
      "[valid loss]grapheme: 0.0795, vowel: 0.0464, consonant: 0.0385\n",
      "[valid recall]total: 0.9845, grapheme: 0.9785, vowel: 0.9909, consonant: 0.9902\n",
      "================================================================================\n"
     ]
    },
    {
     "name": "stdout",
     "output_type": "stream",
     "text": [
      "lr:  [0.0007321974383565461]\n"
     ]
    },
    {
     "name": "stderr",
     "output_type": "stream",
     "text": [
      "[EPOCH 00099]train_loss: 0.6109; val_loss: 0.0645; time elapsed: 9.5 min\n",
      "[valid loss]grapheme: 0.0820, vowel: 0.0517, consonant: 0.0423\n",
      "[valid recall]total: 0.9847, grapheme: 0.9795, vowel: 0.9907, consonant: 0.9890\n",
      "================================================================================\n"
     ]
    },
    {
     "name": "stdout",
     "output_type": "stream",
     "text": [
      "lr:  [0.0006673369778552256]\n"
     ]
    },
    {
     "name": "stderr",
     "output_type": "stream",
     "text": [
      "[EPOCH 00100]train_loss: 0.6178; val_loss: 0.0650; time elapsed: 9.5 min\n",
      "[valid loss]grapheme: 0.0824, vowel: 0.0495, consonant: 0.0457\n",
      "[valid recall]total: 0.9841, grapheme: 0.9783, vowel: 0.9907, consonant: 0.9889\n",
      "================================================================================\n"
     ]
    },
    {
     "name": "stdout",
     "output_type": "stream",
     "text": [
      "lr:  [0.0006050396762915392]\n"
     ]
    },
    {
     "name": "stderr",
     "output_type": "stream",
     "text": [
      "[EPOCH 00101]train_loss: 0.6349; val_loss: 0.0634; time elapsed: 9.4 min\n",
      "[valid loss]grapheme: 0.0847, vowel: 0.0442, consonant: 0.0399\n",
      "[valid recall]total: 0.9831, grapheme: 0.9773, vowel: 0.9903, consonant: 0.9874\n",
      "================================================================================\n"
     ]
    },
    {
     "name": "stdout",
     "output_type": "stream",
     "text": [
      "lr:  [0.0005453926620748458]\n"
     ]
    },
    {
     "name": "stderr",
     "output_type": "stream",
     "text": [
      "[EPOCH 00102]train_loss: 0.6345; val_loss: 0.0567; time elapsed: 9.6 min\n",
      "[valid loss]grapheme: 0.0767, vowel: 0.0351, consonant: 0.0383\n",
      "[valid recall]total: 0.9845, grapheme: 0.9792, vowel: 0.9910, consonant: 0.9885\n",
      "================================================================================\n"
     ]
    },
    {
     "name": "stdout",
     "output_type": "stream",
     "text": [
      "lr:  [0.0004884793569479999]\n"
     ]
    },
    {
     "name": "stderr",
     "output_type": "stream",
     "text": [
      "[EPOCH 00103]train_loss: 0.6373; val_loss: 0.0584; time elapsed: 9.8 min\n",
      "[valid loss]grapheme: 0.0802, vowel: 0.0372, consonant: 0.0361\n",
      "[valid recall]total: 0.9841, grapheme: 0.9785, vowel: 0.9907, consonant: 0.9887\n",
      "================================================================================\n"
     ]
    },
    {
     "name": "stdout",
     "output_type": "stream",
     "text": [
      "lr:  [0.0004343793593145067]\n"
     ]
    },
    {
     "name": "stderr",
     "output_type": "stream",
     "text": [
      "[EPOCH 00104]train_loss: 0.6200; val_loss: 0.0545; time elapsed: 9.8 min\n",
      "[valid loss]grapheme: 0.0785, vowel: 0.0307, consonant: 0.0306\n",
      "[valid recall]total: 0.9842, grapheme: 0.9786, vowel: 0.9913, consonant: 0.9885\n",
      "================================================================================\n"
     ]
    },
    {
     "name": "stdout",
     "output_type": "stream",
     "text": [
      "lr:  [0.0003831683329129493]\n"
     ]
    },
    {
     "name": "stderr",
     "output_type": "stream",
     "text": [
      "[EPOCH 00105]train_loss: 0.6235; val_loss: 0.0588; time elapsed: 9.9 min\n",
      "[valid loss]grapheme: 0.0776, vowel: 0.0417, consonant: 0.0382\n",
      "[valid recall]total: 0.9847, grapheme: 0.9798, vowel: 0.9909, consonant: 0.9886\n",
      "================================================================================\n"
     ]
    },
    {
     "name": "stdout",
     "output_type": "stream",
     "text": [
      "lr:  [0.00033491790099441797]\n"
     ]
    },
    {
     "name": "stderr",
     "output_type": "stream",
     "text": [
      "[EPOCH 00106]train_loss: 0.6206; val_loss: 0.0642; time elapsed: 9.6 min\n",
      "[valid loss]grapheme: 0.0842, vowel: 0.0462, consonant: 0.0422\n",
      "[valid recall]total: 0.9840, grapheme: 0.9787, vowel: 0.9909, consonant: 0.9878\n",
      "================================================================================\n"
     ]
    },
    {
     "name": "stdout",
     "output_type": "stream",
     "text": [
      "lr:  [0.00028969554615090783]\n"
     ]
    },
    {
     "name": "stderr",
     "output_type": "stream",
     "text": [
      "[EPOCH 00107]train_loss: 0.6260; val_loss: 0.0548; time elapsed: 9.7 min\n",
      "[valid loss]grapheme: 0.0779, vowel: 0.0324, consonant: 0.0311\n",
      "[valid recall]total: 0.9841, grapheme: 0.9786, vowel: 0.9906, consonant: 0.9888\n",
      "================================================================================\n"
     ]
    },
    {
     "name": "stdout",
     "output_type": "stream",
     "text": [
      "lr:  [0.0002475645159348177]\n"
     ]
    },
    {
     "name": "stderr",
     "output_type": "stream",
     "text": [
      "[EPOCH 00108]train_loss: 0.6094; val_loss: 0.0601; time elapsed: 9.8 min\n",
      "[valid loss]grapheme: 0.0801, vowel: 0.0416, consonant: 0.0387\n",
      "[valid recall]total: 0.9842, grapheme: 0.9785, vowel: 0.9908, consonant: 0.9890\n",
      "================================================================================\n"
     ]
    },
    {
     "name": "stdout",
     "output_type": "stream",
     "text": [
      "lr:  [0.00020858373440152763]\n"
     ]
    },
    {
     "name": "stderr",
     "output_type": "stream",
     "text": [
      "[EPOCH 00109]train_loss: 0.6263; val_loss: 0.0580; time elapsed: 9.7 min\n",
      "[valid loss]grapheme: 0.0795, vowel: 0.0397, consonant: 0.0336\n",
      "[valid recall]total: 0.9845, grapheme: 0.9786, vowel: 0.9910, consonant: 0.9896\n",
      "================================================================================\n"
     ]
    },
    {
     "name": "stdout",
     "output_type": "stream",
     "text": [
      "lr:  [0.00017280771969877933]\n"
     ]
    },
    {
     "name": "stderr",
     "output_type": "stream",
     "text": [
      "[EPOCH 00110]train_loss: 0.6112; val_loss: 0.0543; time elapsed: 9.7 min\n",
      "[valid loss]grapheme: 0.0762, vowel: 0.0327, consonant: 0.0319\n",
      "[valid recall]total: 0.9850, grapheme: 0.9796, vowel: 0.9911, consonant: 0.9896\n",
      "================================================================================\n"
     ]
    },
    {
     "name": "stdout",
     "output_type": "stream",
     "text": [
      "lr:  [0.00014028650781811662]\n"
     ]
    },
    {
     "name": "stderr",
     "output_type": "stream",
     "text": [
      "[EPOCH 00111]train_loss: 0.6150; val_loss: 0.0598; time elapsed: 9.8 min\n",
      "[valid loss]grapheme: 0.0777, vowel: 0.0457, consonant: 0.0380\n",
      "[valid recall]total: 0.9853, grapheme: 0.9801, vowel: 0.9915, consonant: 0.9895\n",
      "================================================================================\n"
     ]
    },
    {
     "name": "stdout",
     "output_type": "stream",
     "text": [
      "lr:  [0.00011106558261502592]\n"
     ]
    },
    {
     "name": "stderr",
     "output_type": "stream",
     "text": [
      "[EPOCH 00112]train_loss: 0.6146; val_loss: 0.0582; time elapsed: 9.8 min\n",
      "[valid loss]grapheme: 0.0789, vowel: 0.0407, consonant: 0.0344\n",
      "[valid recall]total: 0.9845, grapheme: 0.9790, vowel: 0.9911, consonant: 0.9890\n",
      "================================================================================\n"
     ]
    },
    {
     "name": "stdout",
     "output_type": "stream",
     "text": [
      "lr:  [8.518581219565397e-05]\n"
     ]
    },
    {
     "name": "stderr",
     "output_type": "stream",
     "text": [
      "[EPOCH 00113]train_loss: 0.6295; val_loss: 0.0594; time elapsed: 9.7 min\n",
      "[valid loss]grapheme: 0.0817, vowel: 0.0369, consonant: 0.0371\n",
      "[valid recall]total: 0.9836, grapheme: 0.9779, vowel: 0.9908, consonant: 0.9878\n",
      "================================================================================\n"
     ]
    },
    {
     "name": "stdout",
     "output_type": "stream",
     "text": [
      "lr:  [6.268339175906405e-05]\n"
     ]
    },
    {
     "name": "stderr",
     "output_type": "stream",
     "text": [
      "[EPOCH 00114]train_loss: 0.6004; val_loss: 0.0570; time elapsed: 9.9 min\n",
      "[valid loss]grapheme: 0.0765, vowel: 0.0389, consonant: 0.0362\n",
      "[valid recall]total: 0.9850, grapheme: 0.9796, vowel: 0.9912, consonant: 0.9894\n",
      "================================================================================\n"
     ]
    },
    {
     "name": "stdout",
     "output_type": "stream",
     "text": [
      "lr:  [4.358979297497717e-05]\n"
     ]
    },
    {
     "name": "stderr",
     "output_type": "stream",
     "text": [
      "[EPOCH 00115]train_loss: 0.6061; val_loss: 0.0557; time elapsed: 10.0 min\n",
      "[valid loss]grapheme: 0.0786, vowel: 0.0337, consonant: 0.0318\n",
      "[valid recall]total: 0.9842, grapheme: 0.9786, vowel: 0.9908, consonant: 0.9888\n",
      "================================================================================\n"
     ]
    },
    {
     "name": "stdout",
     "output_type": "stream",
     "text": [
      "lr:  [2.7931719967797712e-05]\n"
     ]
    },
    {
     "name": "stderr",
     "output_type": "stream",
     "text": [
      "[EPOCH 00116]train_loss: 0.6254; val_loss: 0.0565; time elapsed: 9.7 min\n",
      "[valid loss]grapheme: 0.0770, vowel: 0.0369, consonant: 0.0349\n",
      "[valid recall]total: 0.9847, grapheme: 0.9793, vowel: 0.9911, consonant: 0.9891\n",
      "================================================================================\n"
     ]
    },
    {
     "name": "stdout",
     "output_type": "stream",
     "text": [
      "lr:  [1.573107196847947e-05]\n"
     ]
    },
    {
     "name": "stderr",
     "output_type": "stream",
     "text": [
      "[EPOCH 00117]train_loss: 0.6182; val_loss: 0.0552; time elapsed: 9.8 min\n",
      "[valid loss]grapheme: 0.0775, vowel: 0.0336, consonant: 0.0323\n",
      "[valid recall]total: 0.9845, grapheme: 0.9789, vowel: 0.9911, consonant: 0.9892\n",
      "================================================================================\n"
     ]
    },
    {
     "name": "stdout",
     "output_type": "stream",
     "text": [
      "lr:  [7.004912686470389e-06]\n"
     ]
    },
    {
     "name": "stderr",
     "output_type": "stream",
     "text": [
      "[EPOCH 00118]train_loss: 0.6134; val_loss: 0.0559; time elapsed: 9.9 min\n",
      "[valid loss]grapheme: 0.0814, vowel: 0.0304, consonant: 0.0306\n",
      "[valid recall]total: 0.9835, grapheme: 0.9774, vowel: 0.9910, consonant: 0.9882\n",
      "================================================================================\n"
     ]
    },
    {
     "name": "stdout",
     "output_type": "stream",
     "text": [
      "lr:  [1.7654464445743385e-06]\n"
     ]
    },
    {
     "name": "stderr",
     "output_type": "stream",
     "text": [
      "[EPOCH 00119]train_loss: 0.6249; val_loss: 0.0624; time elapsed: 10.0 min\n",
      "[valid loss]grapheme: 0.0812, vowel: 0.0454, consonant: 0.0416\n",
      "[valid recall]total: 0.9842, grapheme: 0.9789, vowel: 0.9907, consonant: 0.9882\n",
      "================================================================================\n"
     ]
    },
    {
     "name": "stdout",
     "output_type": "stream",
     "text": [
      "========training fold 1========\n",
      "[     1      2      3 ... 200836 200838 200839]\n",
      "[     0     11     20 ... 200829 200834 200837]\n",
      "checkpoint_path:  ../checkpoint/v4-fold1\n"
     ]
    },
    {
     "name": "stderr",
     "output_type": "stream",
     "text": [
      "\n",
      "\n",
      "\n"
     ]
    },
    {
     "name": "stdout",
     "output_type": "stream",
     "text": [
      "model state_dict loaded.\n",
      "lr:  [0.00019999999999999966]\n"
     ]
    },
    {
     "name": "stderr",
     "output_type": "stream",
     "text": [
      "[EPOCH 00000]train_loss: 2.2740; val_loss: 0.5537; time elapsed: 9.6 min\n",
      "[valid loss]grapheme: 0.5517, vowel: 0.4826, consonant: 0.6289\n",
      "[valid recall]total: 0.8464, grapheme: 0.8128, vowel: 0.9483, consonant: 0.8117\n",
      "================================================================================\n"
     ]
    },
    {
     "name": "stdout",
     "output_type": "stream",
     "text": [
      "lr:  [0.0002091331286183584]\n"
     ]
    },
    {
     "name": "stderr",
     "output_type": "stream",
     "text": [
      "[EPOCH 00001]train_loss: 1.5902; val_loss: 0.3542; time elapsed: 9.8 min\n",
      "[valid loss]grapheme: 0.3613, vowel: 0.2822, consonant: 0.4121\n",
      "[valid recall]total: 0.9176, grapheme: 0.9037, vowel: 0.9536, consonant: 0.9095\n",
      "================================================================================\n"
     ]
    },
    {
     "name": "stdout",
     "output_type": "stream",
     "text": [
      "lr:  [0.00023646300277480308]\n"
     ]
    },
    {
     "name": "stderr",
     "output_type": "stream",
     "text": [
      "[EPOCH 00002]train_loss: 1.4168; val_loss: 0.2724; time elapsed: 9.9 min\n",
      "[valid loss]grapheme: 0.3037, vowel: 0.2126, consonant: 0.2697\n",
      "[valid recall]total: 0.9368, grapheme: 0.9175, vowel: 0.9688, consonant: 0.9432\n",
      "================================================================================\n"
     ]
    },
    {
     "name": "stdout",
     "output_type": "stream",
     "text": [
      "lr:  [0.00028178161642283817]\n"
     ]
    },
    {
     "name": "stderr",
     "output_type": "stream",
     "text": [
      "[EPOCH 00003]train_loss: 1.2780; val_loss: 0.2165; time elapsed: 9.8 min\n",
      "[valid loss]grapheme: 0.2435, vowel: 0.1859, consonant: 0.1932\n",
      "[valid recall]total: 0.9513, grapheme: 0.9331, vowel: 0.9761, consonant: 0.9630\n",
      "================================================================================\n"
     ]
    },
    {
     "name": "stdout",
     "output_type": "stream",
     "text": [
      "lr:  [0.00034474405228975165]\n"
     ]
    },
    {
     "name": "stderr",
     "output_type": "stream",
     "text": [
      "[EPOCH 00004]train_loss: 1.2042; val_loss: 0.2155; time elapsed: 9.8 min\n",
      "[valid loss]grapheme: 0.2631, vowel: 0.1674, consonant: 0.1683\n",
      "[valid recall]total: 0.9483, grapheme: 0.9385, vowel: 0.9652, consonant: 0.9510\n",
      "================================================================================\n"
     ]
    },
    {
     "name": "stdout",
     "output_type": "stream",
     "text": [
      "lr:  [0.00042487110702146315]\n"
     ]
    },
    {
     "name": "stderr",
     "output_type": "stream",
     "text": [
      "[EPOCH 00005]train_loss: 1.2047; val_loss: 0.1942; time elapsed: 9.9 min\n",
      "[valid loss]grapheme: 0.2474, vowel: 0.1531, consonant: 0.1287\n",
      "[valid recall]total: 0.9557, grapheme: 0.9400, vowel: 0.9742, consonant: 0.9685\n",
      "================================================================================\n"
     ]
    },
    {
     "name": "stdout",
     "output_type": "stream",
     "text": [
      "lr:  [0.0005215529383707429]\n"
     ]
    },
    {
     "name": "stderr",
     "output_type": "stream",
     "text": [
      "[EPOCH 00006]train_loss: 1.1412; val_loss: 0.1936; time elapsed: 10.0 min\n",
      "[valid loss]grapheme: 0.2401, vowel: 0.1633, consonant: 0.1306\n",
      "[valid recall]total: 0.9550, grapheme: 0.9436, vowel: 0.9755, consonant: 0.9572\n",
      "================================================================================\n"
     ]
    },
    {
     "name": "stdout",
     "output_type": "stream",
     "text": [
      "lr:  [0.0006340537066702812]\n"
     ]
    },
    {
     "name": "stderr",
     "output_type": "stream",
     "text": [
      "[EPOCH 00007]train_loss: 1.1141; val_loss: 0.1906; time elapsed: 9.7 min\n",
      "[valid loss]grapheme: 0.2402, vowel: 0.1608, consonant: 0.1212\n",
      "[valid recall]total: 0.9559, grapheme: 0.9427, vowel: 0.9782, consonant: 0.9599\n",
      "================================================================================\n"
     ]
    },
    {
     "name": "stdout",
     "output_type": "stream",
     "text": [
      "lr:  [0.0007615171752646255]\n"
     ]
    },
    {
     "name": "stderr",
     "output_type": "stream",
     "text": [
      "[EPOCH 00008]train_loss: 1.1103; val_loss: 0.1825; time elapsed: 9.9 min\n",
      "[valid loss]grapheme: 0.2373, vowel: 0.1434, consonant: 0.1120\n",
      "[valid recall]total: 0.9573, grapheme: 0.9426, vowel: 0.9754, consonant: 0.9688\n",
      "================================================================================\n"
     ]
    },
    {
     "name": "stdout",
     "output_type": "stream",
     "text": [
      "lr:  [0.0009029732272764308]\n"
     ]
    },
    {
     "name": "stderr",
     "output_type": "stream",
     "text": [
      "[EPOCH 00009]train_loss: 1.0777; val_loss: 0.1730; time elapsed: 9.9 min\n",
      "[valid loss]grapheme: 0.2214, vowel: 0.1410, consonant: 0.1081\n",
      "[valid recall]total: 0.9576, grapheme: 0.9483, vowel: 0.9768, consonant: 0.9569\n",
      "================================================================================\n"
     ]
    },
    {
     "name": "stdout",
     "output_type": "stream",
     "text": [
      "lr:  [0.0010573452491083046]\n"
     ]
    },
    {
     "name": "stderr",
     "output_type": "stream",
     "text": [
      "[EPOCH 00010]train_loss: 1.0614; val_loss: 0.1746; time elapsed: 9.8 min\n",
      "[valid loss]grapheme: 0.2304, vowel: 0.1298, consonant: 0.1078\n",
      "[valid recall]total: 0.9566, grapheme: 0.9449, vowel: 0.9785, consonant: 0.9579\n",
      "================================================================================\n"
     ]
    },
    {
     "name": "stdout",
     "output_type": "stream",
     "text": [
      "lr:  [0.0012234583244848593]\n"
     ]
    },
    {
     "name": "stderr",
     "output_type": "stream",
     "text": [
      "[EPOCH 00011]train_loss: 1.0541; val_loss: 0.1678; time elapsed: 9.8 min\n",
      "[valid loss]grapheme: 0.2047, vowel: 0.1452, consonant: 0.1165\n",
      "[valid recall]total: 0.9622, grapheme: 0.9480, vowel: 0.9793, consonant: 0.9738\n",
      "================================================================================\n"
     ]
    },
    {
     "name": "stdout",
     "output_type": "stream",
     "text": [
      "lr:  [0.0014000481766705897]\n"
     ]
    },
    {
     "name": "stderr",
     "output_type": "stream",
     "text": [
      "[EPOCH 00012]train_loss: 1.0334; val_loss: 0.1689; time elapsed: 9.9 min\n",
      "[valid loss]grapheme: 0.2145, vowel: 0.1357, consonant: 0.1108\n",
      "[valid recall]total: 0.9609, grapheme: 0.9473, vowel: 0.9798, consonant: 0.9693\n",
      "================================================================================\n"
     ]
    },
    {
     "name": "stdout",
     "output_type": "stream",
     "text": [
      "lr:  [0.0015857707908049057]\n"
     ]
    },
    {
     "name": "stderr",
     "output_type": "stream",
     "text": [
      "[EPOCH 00013]train_loss: 1.0239; val_loss: 0.1663; time elapsed: 10.0 min\n",
      "[valid loss]grapheme: 0.2047, vowel: 0.1449, consonant: 0.1109\n",
      "[valid recall]total: 0.9633, grapheme: 0.9524, vowel: 0.9749, consonant: 0.9737\n",
      "================================================================================\n"
     ]
    },
    {
     "name": "stdout",
     "output_type": "stream",
     "text": [
      "lr:  [0.001779212643119284]\n"
     ]
    },
    {
     "name": "stderr",
     "output_type": "stream",
     "text": [
      "[EPOCH 00014]train_loss: 1.0298; val_loss: 0.1701; time elapsed: 9.7 min\n",
      "[valid loss]grapheme: 0.2164, vowel: 0.1419, consonant: 0.1057\n",
      "[valid recall]total: 0.9595, grapheme: 0.9479, vowel: 0.9800, consonant: 0.9623\n",
      "================================================================================\n"
     ]
    },
    {
     "name": "stdout",
     "output_type": "stream",
     "text": [
      "lr:  [0.001978901459182592]\n"
     ]
    },
    {
     "name": "stderr",
     "output_type": "stream",
     "text": [
      "[EPOCH 00015]train_loss: 0.9807; val_loss: 0.1759; time elapsed: 9.9 min\n",
      "[valid loss]grapheme: 0.2150, vowel: 0.1588, consonant: 0.1149\n",
      "[valid recall]total: 0.9581, grapheme: 0.9516, vowel: 0.9764, consonant: 0.9527\n",
      "================================================================================\n"
     ]
    },
    {
     "name": "stdout",
     "output_type": "stream",
     "text": [
      "lr:  [0.0021833174192941998]\n"
     ]
    },
    {
     "name": "stderr",
     "output_type": "stream",
     "text": [
      "[EPOCH 00016]train_loss: 0.9905; val_loss: 0.1461; time elapsed: 10.0 min\n",
      "[valid loss]grapheme: 0.1903, vowel: 0.1085, consonant: 0.0953\n",
      "[valid recall]total: 0.9603, grapheme: 0.9528, vowel: 0.9801, consonant: 0.9556\n",
      "================================================================================\n"
     ]
    },
    {
     "name": "stdout",
     "output_type": "stream",
     "text": [
      "lr:  [0.0023909047257413218]\n"
     ]
    },
    {
     "name": "stderr",
     "output_type": "stream",
     "text": [
      "[EPOCH 00017]train_loss: 0.9907; val_loss: 0.1693; time elapsed: 9.8 min\n",
      "[valid loss]grapheme: 0.2180, vowel: 0.1405, consonant: 0.1006\n",
      "[valid recall]total: 0.9606, grapheme: 0.9446, vowel: 0.9758, consonant: 0.9775\n",
      "================================================================================\n"
     ]
    },
    {
     "name": "stdout",
     "output_type": "stream",
     "text": [
      "lr:  [0.0026000834438828562]\n"
     ]
    },
    {
     "name": "stderr",
     "output_type": "stream",
     "text": [
      "[EPOCH 00018]train_loss: 1.0273; val_loss: 0.1609; time elapsed: 9.8 min\n",
      "[valid loss]grapheme: 0.2042, vowel: 0.1337, consonant: 0.1016\n",
      "[valid recall]total: 0.9614, grapheme: 0.9476, vowel: 0.9777, consonant: 0.9728\n",
      "================================================================================\n"
     ]
    },
    {
     "name": "stdout",
     "output_type": "stream",
     "text": [
      "lr:  [0.0028092615269379615]\n"
     ]
    },
    {
     "name": "stderr",
     "output_type": "stream",
     "text": [
      "[EPOCH 00019]train_loss: 1.0033; val_loss: 0.1628; time elapsed: 9.9 min\n",
      "[valid loss]grapheme: 0.2118, vowel: 0.1239, consonant: 0.1037\n",
      "[valid recall]total: 0.9607, grapheme: 0.9484, vowel: 0.9781, consonant: 0.9677\n",
      "================================================================================\n"
     ]
    },
    {
     "name": "stdout",
     "output_type": "stream",
     "text": [
      "lr:  [0.0030168469329594017]\n"
     ]
    },
    {
     "name": "stderr",
     "output_type": "stream",
     "text": [
      "[EPOCH 00020]train_loss: 0.9777; val_loss: 0.1659; time elapsed: 9.9 min\n",
      "[valid loss]grapheme: 0.2242, vowel: 0.1165, consonant: 0.0988\n",
      "[valid recall]total: 0.9570, grapheme: 0.9403, vowel: 0.9764, consonant: 0.9711\n",
      "================================================================================\n"
     ]
    },
    {
     "name": "stdout",
     "output_type": "stream",
     "text": [
      "lr:  [0.0032212597417701017]\n"
     ]
    },
    {
     "name": "stderr",
     "output_type": "stream",
     "text": [
      "[EPOCH 00021]train_loss: 0.9691; val_loss: 0.1498; time elapsed: 9.6 min\n",
      "[valid loss]grapheme: 0.1986, vowel: 0.1106, consonant: 0.0916\n",
      "[valid recall]total: 0.9620, grapheme: 0.9511, vowel: 0.9798, consonant: 0.9659\n",
      "================================================================================\n"
     ]
    },
    {
     "name": "stdout",
     "output_type": "stream",
     "text": [
      "lr:  [0.0034209441796416405]\n"
     ]
    },
    {
     "name": "stderr",
     "output_type": "stream",
     "text": [
      "[EPOCH 00022]train_loss: 0.9661; val_loss: 0.1578; time elapsed: 9.8 min\n",
      "[valid loss]grapheme: 0.1979, vowel: 0.1324, consonant: 0.1030\n",
      "[valid recall]total: 0.9632, grapheme: 0.9527, vowel: 0.9788, consonant: 0.9689\n",
      "================================================================================\n"
     ]
    },
    {
     "name": "stdout",
     "output_type": "stream",
     "text": [
      "lr:  [0.0036143804601955457]\n"
     ]
    },
    {
     "name": "stderr",
     "output_type": "stream",
     "text": [
      "[EPOCH 00023]train_loss: 0.9706; val_loss: 0.1478; time elapsed: 9.9 min\n",
      "[valid loss]grapheme: 0.1963, vowel: 0.1125, consonant: 0.0863\n",
      "[valid recall]total: 0.9583, grapheme: 0.9439, vowel: 0.9772, consonant: 0.9682\n",
      "================================================================================\n"
     ]
    },
    {
     "name": "stdout",
     "output_type": "stream",
     "text": [
      "lr:  [0.0038000963514070204]\n"
     ]
    },
    {
     "name": "stderr",
     "output_type": "stream",
     "text": [
      "[EPOCH 00024]train_loss: 0.9544; val_loss: 0.1426; time elapsed: 9.8 min\n",
      "[valid loss]grapheme: 0.1835, vowel: 0.1124, consonant: 0.0911\n",
      "[valid recall]total: 0.9625, grapheme: 0.9524, vowel: 0.9763, consonant: 0.9690\n",
      "================================================================================\n"
     ]
    },
    {
     "name": "stdout",
     "output_type": "stream",
     "text": [
      "lr:  [0.003976678380675308]\n"
     ]
    },
    {
     "name": "stderr",
     "output_type": "stream",
     "text": [
      "[EPOCH 00025]train_loss: 0.9899; val_loss: 0.1479; time elapsed: 9.7 min\n",
      "[valid loss]grapheme: 0.1886, vowel: 0.1188, consonant: 0.0955\n",
      "[valid recall]total: 0.9596, grapheme: 0.9471, vowel: 0.9781, consonant: 0.9660\n",
      "================================================================================\n"
     ]
    },
    {
     "name": "stdout",
     "output_type": "stream",
     "text": [
      "lr:  [0.004142782592679578]\n"
     ]
    },
    {
     "name": "stderr",
     "output_type": "stream",
     "text": [
      "[EPOCH 00026]train_loss: 0.9554; val_loss: 0.1435; time elapsed: 9.8 min\n",
      "[valid loss]grapheme: 0.1816, vowel: 0.1207, consonant: 0.0903\n",
      "[valid recall]total: 0.9672, grapheme: 0.9552, vowel: 0.9803, consonant: 0.9783\n",
      "================================================================================\n"
     ]
    },
    {
     "name": "stdout",
     "output_type": "stream",
     "text": [
      "lr:  [0.004297144778142924]\n"
     ]
    },
    {
     "name": "stderr",
     "output_type": "stream",
     "text": [
      "[EPOCH 00027]train_loss: 0.9278; val_loss: 0.1635; time elapsed: 9.9 min\n",
      "[valid loss]grapheme: 0.2101, vowel: 0.1414, consonant: 0.0924\n",
      "[valid recall]total: 0.9619, grapheme: 0.9502, vowel: 0.9769, consonant: 0.9704\n",
      "================================================================================\n"
     ]
    },
    {
     "name": "stdout",
     "output_type": "stream",
     "text": [
      "lr:  [0.004438590095653974]\n"
     ]
    },
    {
     "name": "stderr",
     "output_type": "stream",
     "text": [
      "[EPOCH 00028]train_loss: 0.9570; val_loss: 0.1686; time elapsed: 9.7 min\n",
      "[valid loss]grapheme: 0.2118, vowel: 0.1461, consonant: 0.1045\n",
      "[valid recall]total: 0.9629, grapheme: 0.9506, vowel: 0.9749, consonant: 0.9753\n",
      "================================================================================\n"
     ]
    },
    {
     "name": "stdout",
     "output_type": "stream",
     "text": [
      "lr:  [0.004566042013314983]\n"
     ]
    },
    {
     "name": "stderr",
     "output_type": "stream",
     "text": [
      "[EPOCH 00029]train_loss: 0.9334; val_loss: 0.1620; time elapsed: 9.8 min\n",
      "[valid loss]grapheme: 0.2178, vowel: 0.1226, consonant: 0.0898\n",
      "[valid recall]total: 0.9573, grapheme: 0.9476, vowel: 0.9669, consonant: 0.9673\n",
      "================================================================================\n"
     ]
    },
    {
     "name": "stdout",
     "output_type": "stream",
     "text": [
      "lr:  [0.004678530502162072]\n"
     ]
    },
    {
     "name": "stderr",
     "output_type": "stream",
     "text": [
      "[EPOCH 00030]train_loss: 0.9545; val_loss: 0.1632; time elapsed: 9.9 min\n",
      "[valid loss]grapheme: 0.2014, vowel: 0.1486, consonant: 0.1012\n",
      "[valid recall]total: 0.9660, grapheme: 0.9551, vowel: 0.9806, consonant: 0.9729\n",
      "================================================================================\n"
     ]
    },
    {
     "name": "stdout",
     "output_type": "stream",
     "text": [
      "lr:  [0.004775199418997971]\n"
     ]
    },
    {
     "name": "stderr",
     "output_type": "stream",
     "text": [
      "[EPOCH 00031]train_loss: 0.9241; val_loss: 0.1646; time elapsed: 9.7 min\n",
      "[valid loss]grapheme: 0.2051, vowel: 0.1460, consonant: 0.1023\n",
      "[valid recall]total: 0.9652, grapheme: 0.9502, vowel: 0.9830, consonant: 0.9777\n",
      "================================================================================\n"
     ]
    },
    {
     "name": "stdout",
     "output_type": "stream",
     "text": [
      "lr:  [0.004855313022446962]\n"
     ]
    },
    {
     "name": "stderr",
     "output_type": "stream",
     "text": [
      "[EPOCH 00032]train_loss: 0.9003; val_loss: 0.1554; time elapsed: 9.7 min\n",
      "[valid loss]grapheme: 0.2016, vowel: 0.1233, consonant: 0.0952\n",
      "[valid recall]total: 0.9667, grapheme: 0.9549, vowel: 0.9804, consonant: 0.9767\n",
      "================================================================================\n"
     ]
    },
    {
     "name": "stdout",
     "output_type": "stream",
     "text": [
      "lr:  [0.00491826157263873]\n"
     ]
    },
    {
     "name": "stderr",
     "output_type": "stream",
     "text": [
      "[EPOCH 00033]train_loss: 0.8846; val_loss: 0.1255; time elapsed: 10.0 min\n",
      "[valid loss]grapheme: 0.1590, vowel: 0.1025, consonant: 0.0816\n",
      "[valid recall]total: 0.9684, grapheme: 0.9581, vowel: 0.9836, consonant: 0.9739\n",
      "================================================================================\n"
     ]
    },
    {
     "name": "stdout",
     "output_type": "stream",
     "text": [
      "lr:  [0.00496356597190224]\n"
     ]
    },
    {
     "name": "stderr",
     "output_type": "stream",
     "text": [
      "[EPOCH 00034]train_loss: 0.9277; val_loss: 0.1380; time elapsed: 9.7 min\n",
      "[valid loss]grapheme: 0.1773, vowel: 0.1079, consonant: 0.0896\n",
      "[valid recall]total: 0.9700, grapheme: 0.9565, vowel: 0.9848, consonant: 0.9822\n",
      "================================================================================\n"
     ]
    },
    {
     "name": "stdout",
     "output_type": "stream",
     "text": [
      "lr:  [0.004990881411149617]\n"
     ]
    },
    {
     "name": "stderr",
     "output_type": "stream",
     "text": [
      "[EPOCH 00035]train_loss: 0.8962; val_loss: 0.1318; time elapsed: 9.7 min\n",
      "[valid loss]grapheme: 0.1643, vowel: 0.1074, consonant: 0.0910\n",
      "[valid recall]total: 0.9722, grapheme: 0.9638, vowel: 0.9843, consonant: 0.9767\n",
      "================================================================================\n"
     ]
    },
    {
     "name": "stdout",
     "output_type": "stream",
     "text": [
      "lr:  [0.0049999999988899]\n"
     ]
    },
    {
     "name": "stderr",
     "output_type": "stream",
     "text": [
      "[EPOCH 00036]train_loss: 0.8809; val_loss: 0.1219; time elapsed: 9.9 min\n",
      "[valid loss]grapheme: 0.1524, vowel: 0.1017, consonant: 0.0813\n",
      "[valid recall]total: 0.9722, grapheme: 0.9619, vowel: 0.9853, consonant: 0.9797\n",
      "================================================================================\n"
     ]
    },
    {
     "name": "stdout",
     "output_type": "stream",
     "text": [
      "lr:  [0.004998248982153825]\n"
     ]
    },
    {
     "name": "stderr",
     "output_type": "stream",
     "text": [
      "[EPOCH 00037]train_loss: 0.8658; val_loss: 0.1509; time elapsed: 9.9 min\n",
      "[valid loss]grapheme: 0.1850, vowel: 0.1350, consonant: 0.0989\n",
      "[valid recall]total: 0.9705, grapheme: 0.9599, vowel: 0.9832, consonant: 0.9789\n",
      "================================================================================\n"
     ]
    },
    {
     "name": "stdout",
     "output_type": "stream",
     "text": [
      "lr:  [0.004993003952302436]\n"
     ]
    },
    {
     "name": "stderr",
     "output_type": "stream",
     "text": [
      "[EPOCH 00038]train_loss: 0.8724; val_loss: 0.1201; time elapsed: 9.7 min\n",
      "[valid loss]grapheme: 0.1527, vowel: 0.0961, consonant: 0.0791\n",
      "[valid recall]total: 0.9722, grapheme: 0.9615, vowel: 0.9838, consonant: 0.9821\n",
      "================================================================================\n"
     ]
    },
    {
     "name": "stdout",
     "output_type": "stream",
     "text": [
      "lr:  [0.004984272244984255]\n"
     ]
    },
    {
     "name": "stderr",
     "output_type": "stream",
     "text": [
      "[EPOCH 00039]train_loss: 0.8442; val_loss: 0.1220; time elapsed: 9.8 min\n",
      "[valid loss]grapheme: 0.1490, vowel: 0.1040, consonant: 0.0858\n",
      "[valid recall]total: 0.9736, grapheme: 0.9654, vowel: 0.9845, consonant: 0.9791\n",
      "================================================================================\n"
     ]
    },
    {
     "name": "stdout",
     "output_type": "stream",
     "text": [
      "lr:  [0.004972066072281515]\n"
     ]
    },
    {
     "name": "stderr",
     "output_type": "stream",
     "text": [
      "[EPOCH 00040]train_loss: 0.8604; val_loss: 0.1481; time elapsed: 9.9 min\n",
      "[valid loss]grapheme: 0.1784, vowel: 0.1372, consonant: 0.0986\n",
      "[valid recall]total: 0.9722, grapheme: 0.9625, vowel: 0.9839, consonant: 0.9798\n",
      "================================================================================\n"
     ]
    },
    {
     "name": "stdout",
     "output_type": "stream",
     "text": [
      "lr:  [0.004956402505630461]\n"
     ]
    },
    {
     "name": "stderr",
     "output_type": "stream",
     "text": [
      "[EPOCH 00041]train_loss: 0.8390; val_loss: 0.1337; time elapsed: 9.8 min\n",
      "[valid loss]grapheme: 0.1680, vowel: 0.1122, consonant: 0.0866\n",
      "[valid recall]total: 0.9729, grapheme: 0.9627, vowel: 0.9851, consonant: 0.9810\n",
      "================================================================================\n"
     ]
    },
    {
     "name": "stdout",
     "output_type": "stream",
     "text": [
      "lr:  [0.004937303451945404]\n"
     ]
    },
    {
     "name": "stderr",
     "output_type": "stream",
     "text": [
      "[EPOCH 00042]train_loss: 0.8612; val_loss: 0.1325; time elapsed: 9.8 min\n",
      "[valid loss]grapheme: 0.1615, vowel: 0.1132, consonant: 0.0939\n",
      "[valid recall]total: 0.9727, grapheme: 0.9653, vowel: 0.9835, consonant: 0.9768\n",
      "================================================================================\n"
     ]
    },
    {
     "name": "stdout",
     "output_type": "stream",
     "text": [
      "lr:  [0.004914795622979922]\n"
     ]
    },
    {
     "name": "stderr",
     "output_type": "stream",
     "text": [
      "[EPOCH 00043]train_loss: 0.8262; val_loss: 0.1280; time elapsed: 9.9 min\n",
      "[valid loss]grapheme: 0.1631, vowel: 0.1052, consonant: 0.0805\n",
      "[valid recall]total: 0.9750, grapheme: 0.9647, vowel: 0.9859, consonant: 0.9846\n",
      "================================================================================\n"
     ]
    },
    {
     "name": "stdout",
     "output_type": "stream",
     "text": [
      "lr:  [0.004888910497968052]\n"
     ]
    },
    {
     "name": "stderr",
     "output_type": "stream",
     "text": [
      "[EPOCH 00044]train_loss: 0.8432; val_loss: 0.1189; time elapsed: 9.8 min\n",
      "[valid loss]grapheme: 0.1499, vowel: 0.0974, consonant: 0.0785\n",
      "[valid recall]total: 0.9765, grapheme: 0.9692, vowel: 0.9856, consonant: 0.9819\n",
      "================================================================================\n"
     ]
    },
    {
     "name": "stdout",
     "output_type": "stream",
     "text": [
      "lr:  [0.0048596842795977395]\n"
     ]
    },
    {
     "name": "stderr",
     "output_type": "stream",
     "text": [
      "[EPOCH 00045]train_loss: 0.8036; val_loss: 0.1283; time elapsed: 9.6 min\n",
      "[valid loss]grapheme: 0.1546, vowel: 0.1215, consonant: 0.0824\n",
      "[valid recall]total: 0.9741, grapheme: 0.9654, vowel: 0.9855, consonant: 0.9799\n",
      "================================================================================\n"
     ]
    },
    {
     "name": "stdout",
     "output_type": "stream",
     "text": [
      "lr:  [0.004827157843378102]\n"
     ]
    },
    {
     "name": "stderr",
     "output_type": "stream",
     "text": [
      "[EPOCH 00046]train_loss: 0.7989; val_loss: 0.1580; time elapsed: 9.9 min\n",
      "[valid loss]grapheme: 0.1856, vowel: 0.1507, consonant: 0.1103\n",
      "[valid recall]total: 0.9727, grapheme: 0.9640, vowel: 0.9845, consonant: 0.9782\n",
      "================================================================================\n"
     ]
    },
    {
     "name": "stdout",
     "output_type": "stream",
     "text": [
      "lr:  [0.004791376680471341]\n"
     ]
    },
    {
     "name": "stderr",
     "output_type": "stream",
     "text": [
      "[EPOCH 00047]train_loss: 0.8183; val_loss: 0.1407; time elapsed: 10.0 min\n",
      "[valid loss]grapheme: 0.1559, vowel: 0.1483, consonant: 0.1028\n",
      "[valid recall]total: 0.9745, grapheme: 0.9660, vowel: 0.9859, consonant: 0.9801\n",
      "================================================================================\n"
     ]
    },
    {
     "name": "stdout",
     "output_type": "stream",
     "text": [
      "lr:  [0.004752390834069225]\n"
     ]
    },
    {
     "name": "stderr",
     "output_type": "stream",
     "text": [
      "[EPOCH 00048]train_loss: 0.7783; val_loss: 0.1194; time elapsed: 9.7 min\n",
      "[valid loss]grapheme: 0.1439, vowel: 0.1127, consonant: 0.0771\n",
      "[valid recall]total: 0.9756, grapheme: 0.9682, vowel: 0.9837, consonant: 0.9822\n",
      "================================================================================\n"
     ]
    },
    {
     "name": "stdout",
     "output_type": "stream",
     "text": [
      "lr:  [0.004710254829403174]\n"
     ]
    },
    {
     "name": "stderr",
     "output_type": "stream",
     "text": [
      "[EPOCH 00049]train_loss: 0.7895; val_loss: 0.1165; time elapsed: 9.9 min\n",
      "[valid loss]grapheme: 0.1499, vowel: 0.0920, consonant: 0.0743\n",
      "[valid recall]total: 0.9711, grapheme: 0.9600, vowel: 0.9837, consonant: 0.9806\n",
      "================================================================================\n"
     ]
    },
    {
     "name": "stdout",
     "output_type": "stream",
     "text": [
      "lr:  [0.004665027597485786]\n"
     ]
    },
    {
     "name": "stderr",
     "output_type": "stream",
     "text": [
      "[EPOCH 00050]train_loss: 0.7714; val_loss: 0.1146; time elapsed: 10.0 min\n",
      "[valid loss]grapheme: 0.1368, vowel: 0.1083, consonant: 0.0764\n",
      "[valid recall]total: 0.9765, grapheme: 0.9690, vowel: 0.9865, consonant: 0.9815\n",
      "================================================================================\n"
     ]
    },
    {
     "name": "stdout",
     "output_type": "stream",
     "text": [
      "lr:  [0.004616772392690489]\n"
     ]
    },
    {
     "name": "stderr",
     "output_type": "stream",
     "text": [
      "[EPOCH 00051]train_loss: 0.7986; val_loss: 0.1208; time elapsed: 9.8 min\n",
      "[valid loss]grapheme: 0.1503, vowel: 0.1041, consonant: 0.0785\n",
      "[valid recall]total: 0.9747, grapheme: 0.9688, vowel: 0.9868, consonant: 0.9746\n",
      "================================================================================\n"
     ]
    },
    {
     "name": "stdout",
     "output_type": "stream",
     "text": [
      "lr:  [0.00456555670428458]\n"
     ]
    },
    {
     "name": "stderr",
     "output_type": "stream",
     "text": [
      "[EPOCH 00052]train_loss: 0.7963; val_loss: 0.1167; time elapsed: 9.9 min\n",
      "[valid loss]grapheme: 0.1396, vowel: 0.1130, consonant: 0.0746\n",
      "[valid recall]total: 0.9771, grapheme: 0.9691, vowel: 0.9857, consonant: 0.9845\n",
      "================================================================================\n"
     ]
    },
    {
     "name": "stdout",
     "output_type": "stream",
     "text": [
      "lr:  [0.004511452162039379]\n"
     ]
    },
    {
     "name": "stderr",
     "output_type": "stream",
     "text": [
      "[EPOCH 00053]train_loss: 0.7810; val_loss: 0.0956; time elapsed: 10.0 min\n",
      "[valid loss]grapheme: 0.1174, vowel: 0.0831, consonant: 0.0643\n",
      "[valid recall]total: 0.9786, grapheme: 0.9713, vowel: 0.9874, consonant: 0.9846\n",
      "================================================================================\n"
     ]
    },
    {
     "name": "stdout",
     "output_type": "stream",
     "text": [
      "lr:  [0.004454534436049523]\n"
     ]
    },
    {
     "name": "stderr",
     "output_type": "stream",
     "text": [
      "[EPOCH 00054]train_loss: 0.7691; val_loss: 0.0938; time elapsed: 9.8 min\n",
      "[valid loss]grapheme: 0.1173, vowel: 0.0814, consonant: 0.0593\n",
      "[valid recall]total: 0.9784, grapheme: 0.9705, vowel: 0.9877, consonant: 0.9849\n",
      "================================================================================\n"
     ]
    },
    {
     "name": "stdout",
     "output_type": "stream",
     "text": [
      "lr:  [0.004394883130901493]\n"
     ]
    },
    {
     "name": "stderr",
     "output_type": "stream",
     "text": [
      "[EPOCH 00055]train_loss: 0.7599; val_loss: 0.0990; time elapsed: 9.8 min\n",
      "[valid loss]grapheme: 0.1253, vowel: 0.0798, consonant: 0.0656\n",
      "[valid recall]total: 0.9770, grapheme: 0.9699, vowel: 0.9864, consonant: 0.9818\n",
      "================================================================================\n"
     ]
    },
    {
     "name": "stdout",
     "output_type": "stream",
     "text": [
      "lr:  [0.0043325816743394]\n"
     ]
    },
    {
     "name": "stderr",
     "output_type": "stream",
     "text": [
      "[EPOCH 00056]train_loss: 0.7683; val_loss: 0.0983; time elapsed: 10.0 min\n",
      "[valid loss]grapheme: 0.1197, vowel: 0.0840, consonant: 0.0696\n",
      "[valid recall]total: 0.9791, grapheme: 0.9725, vowel: 0.9871, consonant: 0.9844\n",
      "================================================================================\n"
     ]
    },
    {
     "name": "stdout",
     "output_type": "stream",
     "text": [
      "lr:  [0.004267717200583741]\n"
     ]
    },
    {
     "name": "stderr",
     "output_type": "stream",
     "text": [
      "[EPOCH 00057]train_loss: 0.7476; val_loss: 0.0960; time elapsed: 9.9 min\n",
      "[valid loss]grapheme: 0.1166, vowel: 0.0870, consonant: 0.0638\n",
      "[valid recall]total: 0.9778, grapheme: 0.9729, vowel: 0.9833, consonant: 0.9822\n",
      "================================================================================\n"
     ]
    },
    {
     "name": "stdout",
     "output_type": "stream",
     "text": [
      "lr:  [0.004200380428466321]\n"
     ]
    },
    {
     "name": "stderr",
     "output_type": "stream",
     "text": [
      "[EPOCH 00058]train_loss: 0.7518; val_loss: 0.1006; time elapsed: 9.7 min\n",
      "[valid loss]grapheme: 0.1181, vowel: 0.0928, consonant: 0.0735\n",
      "[valid recall]total: 0.9790, grapheme: 0.9728, vowel: 0.9863, consonant: 0.9840\n",
      "================================================================================\n"
     ]
    },
    {
     "name": "stdout",
     "output_type": "stream",
     "text": [
      "lr:  [0.00413066553455175]\n"
     ]
    },
    {
     "name": "stderr",
     "output_type": "stream",
     "text": [
      "[EPOCH 00059]train_loss: 0.7170; val_loss: 0.0799; time elapsed: 9.9 min\n",
      "[valid loss]grapheme: 0.0993, vowel: 0.0678, consonant: 0.0533\n",
      "[valid recall]total: 0.9813, grapheme: 0.9757, vowel: 0.9890, consonant: 0.9849\n",
      "================================================================================\n"
     ]
    },
    {
     "name": "stdout",
     "output_type": "stream",
     "text": [
      "lr:  [0.004058670021423012]\n"
     ]
    },
    {
     "name": "stderr",
     "output_type": "stream",
     "text": [
      "[EPOCH 00060]train_loss: 0.7342; val_loss: 0.1035; time elapsed: 10.0 min\n",
      "[valid loss]grapheme: 0.1225, vowel: 0.0997, consonant: 0.0696\n",
      "[valid recall]total: 0.9798, grapheme: 0.9735, vowel: 0.9877, consonant: 0.9845\n",
      "================================================================================\n"
     ]
    },
    {
     "name": "stdout",
     "output_type": "stream",
     "text": [
      "lr:  [0.003984494581315281]\n"
     ]
    },
    {
     "name": "stderr",
     "output_type": "stream",
     "text": [
      "[EPOCH 00061]train_loss: 0.7223; val_loss: 0.0894; time elapsed: 9.7 min\n",
      "[valid loss]grapheme: 0.1133, vowel: 0.0742, consonant: 0.0567\n",
      "[valid recall]total: 0.9780, grapheme: 0.9698, vowel: 0.9868, consonant: 0.9856\n",
      "================================================================================\n"
     ]
    },
    {
     "name": "stdout",
     "output_type": "stream",
     "text": [
      "lr:  [0.003908242955288733]\n"
     ]
    },
    {
     "name": "stderr",
     "output_type": "stream",
     "text": [
      "[EPOCH 00062]train_loss: 0.7140; val_loss: 0.0987; time elapsed: 9.8 min\n",
      "[valid loss]grapheme: 0.1259, vowel: 0.0834, consonant: 0.0598\n",
      "[valid recall]total: 0.9772, grapheme: 0.9692, vowel: 0.9852, consonant: 0.9853\n",
      "================================================================================\n"
     ]
    },
    {
     "name": "stdout",
     "output_type": "stream",
     "text": [
      "lr:  [0.003830021788137277]\n"
     ]
    },
    {
     "name": "stderr",
     "output_type": "stream",
     "text": [
      "[EPOCH 00063]train_loss: 0.7180; val_loss: 0.1048; time elapsed: 10.0 min\n",
      "[valid loss]grapheme: 0.1211, vowel: 0.1042, consonant: 0.0729\n",
      "[valid recall]total: 0.9804, grapheme: 0.9744, vowel: 0.9885, consonant: 0.9845\n",
      "================================================================================\n"
     ]
    },
    {
     "name": "stdout",
     "output_type": "stream",
     "text": [
      "lr:  [0.0037499404792361865]\n"
     ]
    },
    {
     "name": "stderr",
     "output_type": "stream",
     "text": [
      "[EPOCH 00064]train_loss: 0.7248; val_loss: 0.0964; time elapsed: 9.7 min\n",
      "[valid loss]grapheme: 0.1143, vowel: 0.0936, consonant: 0.0636\n",
      "[valid recall]total: 0.9798, grapheme: 0.9738, vowel: 0.9880, consonant: 0.9835\n",
      "================================================================================\n"
     ]
    },
    {
     "name": "stdout",
     "output_type": "stream",
     "text": [
      "lr:  [0.0036681110295371665]\n"
     ]
    },
    {
     "name": "stderr",
     "output_type": "stream",
     "text": [
      "[EPOCH 00065]train_loss: 0.7238; val_loss: 0.1028; time elapsed: 9.9 min\n",
      "[valid loss]grapheme: 0.1229, vowel: 0.0935, consonant: 0.0717\n",
      "[valid recall]total: 0.9791, grapheme: 0.9722, vowel: 0.9874, consonant: 0.9846\n",
      "================================================================================\n"
     ]
    },
    {
     "name": "stdout",
     "output_type": "stream",
     "text": [
      "lr:  [0.0035846478849249023]\n"
     ]
    },
    {
     "name": "stderr",
     "output_type": "stream",
     "text": [
      "[EPOCH 00066]train_loss: 0.7215; val_loss: 0.1026; time elapsed: 10.0 min\n",
      "[valid loss]grapheme: 0.1278, vowel: 0.0909, consonant: 0.0640\n",
      "[valid recall]total: 0.9787, grapheme: 0.9715, vowel: 0.9888, consonant: 0.9829\n",
      "================================================================================\n"
     ]
    },
    {
     "name": "stdout",
     "output_type": "stream",
     "text": [
      "lr:  [0.0034996677761541394]\n"
     ]
    },
    {
     "name": "stderr",
     "output_type": "stream",
     "text": [
      "[EPOCH 00067]train_loss: 0.6953; val_loss: 0.1073; time elapsed: 9.7 min\n",
      "[valid loss]grapheme: 0.1323, vowel: 0.0946, consonant: 0.0702\n",
      "[valid recall]total: 0.9772, grapheme: 0.9680, vowel: 0.9876, consonant: 0.9852\n",
      "================================================================================\n"
     ]
    },
    {
     "name": "stdout",
     "output_type": "stream",
     "text": [
      "lr:  [0.0034132895555911667]\n"
     ]
    },
    {
     "name": "stderr",
     "output_type": "stream",
     "text": [
      "[EPOCH 00068]train_loss: 0.6873; val_loss: 0.0998; time elapsed: 9.9 min\n",
      "[valid loss]grapheme: 0.1163, vowel: 0.0986, consonant: 0.0677\n",
      "[valid recall]total: 0.9805, grapheme: 0.9753, vowel: 0.9883, consonant: 0.9831\n",
      "================================================================================\n"
     ]
    },
    {
     "name": "stdout",
     "output_type": "stream",
     "text": [
      "lr:  [0.0033256340309880373]\n"
     ]
    },
    {
     "name": "stderr",
     "output_type": "stream",
     "text": [
      "[EPOCH 00069]train_loss: 0.7106; val_loss: 0.0874; time elapsed: 10.0 min\n",
      "[valid loss]grapheme: 0.1032, vowel: 0.0799, consonant: 0.0630\n",
      "[valid recall]total: 0.9816, grapheme: 0.9765, vowel: 0.9890, consonant: 0.9845\n",
      "================================================================================\n"
     ]
    },
    {
     "name": "stdout",
     "output_type": "stream",
     "text": [
      "lr:  [0.0032368237965220022]\n"
     ]
    },
    {
     "name": "stderr",
     "output_type": "stream",
     "text": [
      "[EPOCH 00070]train_loss: 0.7137; val_loss: 0.1111; time elapsed: 9.8 min\n",
      "[valid loss]grapheme: 0.1326, vowel: 0.1023, consonant: 0.0771\n",
      "[valid recall]total: 0.9793, grapheme: 0.9712, vowel: 0.9887, consonant: 0.9862\n",
      "================================================================================\n"
     ]
    },
    {
     "name": "stdout",
     "output_type": "stream",
     "text": [
      "lr:  [0.0031469830613364675]\n"
     ]
    },
    {
     "name": "stderr",
     "output_type": "stream",
     "text": [
      "[EPOCH 00071]train_loss: 0.6858; val_loss: 0.0747; time elapsed: 9.9 min\n",
      "[valid loss]grapheme: 0.0918, vowel: 0.0648, consonant: 0.0505\n",
      "[valid recall]total: 0.9822, grapheme: 0.9770, vowel: 0.9893, consonant: 0.9855\n",
      "================================================================================\n"
     ]
    },
    {
     "name": "stdout",
     "output_type": "stream",
     "text": [
      "lr:  [0.003056237475823277]\n"
     ]
    },
    {
     "name": "stderr",
     "output_type": "stream",
     "text": [
      "[EPOCH 00072]train_loss: 0.6865; val_loss: 0.0867; time elapsed: 9.9 min\n",
      "[valid loss]grapheme: 0.1017, vowel: 0.0837, consonant: 0.0597\n",
      "[valid recall]total: 0.9817, grapheme: 0.9767, vowel: 0.9895, consonant: 0.9838\n",
      "================================================================================\n"
     ]
    },
    {
     "name": "stdout",
     "output_type": "stream",
     "text": [
      "lr:  [0.0029647139558892782]\n"
     ]
    },
    {
     "name": "stderr",
     "output_type": "stream",
     "text": [
      "[EPOCH 00073]train_loss: 0.6960; val_loss: 0.0817; time elapsed: 9.7 min\n",
      "[valid loss]grapheme: 0.0993, vowel: 0.0729, consonant: 0.0551\n",
      "[valid recall]total: 0.9821, grapheme: 0.9782, vowel: 0.9884, consonant: 0.9838\n",
      "================================================================================\n"
     ]
    },
    {
     "name": "stdout",
     "output_type": "stream",
     "text": [
      "lr:  [0.0028725405054529475]\n"
     ]
    },
    {
     "name": "stderr",
     "output_type": "stream",
     "text": [
      "[EPOCH 00074]train_loss: 0.6788; val_loss: 0.1171; time elapsed: 9.7 min\n",
      "[valid loss]grapheme: 0.1228, vowel: 0.1326, consonant: 0.0903\n",
      "[valid recall]total: 0.9806, grapheme: 0.9756, vowel: 0.9889, consonant: 0.9820\n",
      "================================================================================\n"
     ]
    },
    {
     "name": "stdout",
     "output_type": "stream",
     "text": [
      "lr:  [0.0027798460374193405]\n"
     ]
    },
    {
     "name": "stderr",
     "output_type": "stream",
     "text": [
      "[EPOCH 00075]train_loss: 0.6891; val_loss: 0.0894; time elapsed: 9.8 min\n",
      "[valid loss]grapheme: 0.1088, vowel: 0.0815, consonant: 0.0583\n",
      "[valid recall]total: 0.9810, grapheme: 0.9772, vowel: 0.9890, consonant: 0.9806\n",
      "================================================================================\n"
     ]
    },
    {
     "name": "stdout",
     "output_type": "stream",
     "text": [
      "lr:  [0.0026867601933837307]\n"
     ]
    },
    {
     "name": "stderr",
     "output_type": "stream",
     "text": [
      "[EPOCH 00076]train_loss: 0.6599; val_loss: 0.0692; time elapsed: 9.9 min\n",
      "[valid loss]grapheme: 0.0873, vowel: 0.0556, consonant: 0.0466\n",
      "[valid recall]total: 0.9837, grapheme: 0.9791, vowel: 0.9903, consonant: 0.9863\n",
      "================================================================================\n"
     ]
    },
    {
     "name": "stdout",
     "output_type": "stream",
     "text": [
      "lr:  [0.002593413162316124]\n"
     ]
    },
    {
     "name": "stderr",
     "output_type": "stream",
     "text": [
      "[EPOCH 00077]train_loss: 0.6771; val_loss: 0.0932; time elapsed: 9.9 min\n",
      "[valid loss]grapheme: 0.1099, vowel: 0.0898, consonant: 0.0631\n",
      "[valid recall]total: 0.9828, grapheme: 0.9774, vowel: 0.9894, consonant: 0.9872\n",
      "================================================================================\n"
     ]
    },
    {
     "name": "stdout",
     "output_type": "stream",
     "text": [
      "lr:  [0.0024999354984802046]\n"
     ]
    },
    {
     "name": "stderr",
     "output_type": "stream",
     "text": [
      "[EPOCH 00078]train_loss: 0.6590; val_loss: 0.0946; time elapsed: 9.9 min\n",
      "[valid loss]grapheme: 0.1058, vowel: 0.1029, consonant: 0.0641\n",
      "[valid recall]total: 0.9817, grapheme: 0.9766, vowel: 0.9887, consonant: 0.9848\n",
      "================================================================================\n"
     ]
    },
    {
     "name": "stdout",
     "output_type": "stream",
     "text": [
      "lr:  [0.002406457938841397]\n"
     ]
    },
    {
     "name": "stderr",
     "output_type": "stream",
     "text": [
      "[EPOCH 00079]train_loss: 0.6721; val_loss: 0.1005; time elapsed: 10.0 min\n",
      "[valid loss]grapheme: 0.1179, vowel: 0.0980, consonant: 0.0681\n",
      "[valid recall]total: 0.9821, grapheme: 0.9772, vowel: 0.9896, consonant: 0.9846\n",
      "================================================================================\n"
     ]
    },
    {
     "name": "stdout",
     "output_type": "stream",
     "text": [
      "lr:  [0.002313111220219397]\n"
     ]
    },
    {
     "name": "stderr",
     "output_type": "stream",
     "text": [
      "[EPOCH 00080]train_loss: 0.6681; val_loss: 0.0805; time elapsed: 9.8 min\n",
      "[valid loss]grapheme: 0.0962, vowel: 0.0742, consonant: 0.0555\n",
      "[valid recall]total: 0.9827, grapheme: 0.9783, vowel: 0.9904, consonant: 0.9838\n",
      "================================================================================\n"
     ]
    },
    {
     "name": "stdout",
     "output_type": "stream",
     "text": [
      "lr:  [0.002220025896440907]\n"
     ]
    },
    {
     "name": "stderr",
     "output_type": "stream",
     "text": [
      "[EPOCH 00081]train_loss: 0.6719; val_loss: 0.0739; time elapsed: 10.0 min\n",
      "[valid loss]grapheme: 0.0905, vowel: 0.0669, consonant: 0.0477\n",
      "[valid recall]total: 0.9831, grapheme: 0.9783, vowel: 0.9908, consonant: 0.9850\n",
      "================================================================================\n"
     ]
    },
    {
     "name": "stdout",
     "output_type": "stream",
     "text": [
      "lr:  [0.0021273321557483027]\n"
     ]
    },
    {
     "name": "stderr",
     "output_type": "stream",
     "text": [
      "[EPOCH 00082]train_loss: 0.6457; val_loss: 0.1045; time elapsed: 10.0 min\n",
      "[valid loss]grapheme: 0.1172, vowel: 0.1108, consonant: 0.0728\n",
      "[valid recall]total: 0.9824, grapheme: 0.9781, vowel: 0.9897, consonant: 0.9839\n",
      "================================================================================\n"
     ]
    },
    {
     "name": "stdout",
     "output_type": "stream",
     "text": [
      "lr:  [0.0020351596387196092]\n"
     ]
    },
    {
     "name": "stderr",
     "output_type": "stream",
     "text": [
      "[EPOCH 00083]train_loss: 0.6583; val_loss: 0.0748; time elapsed: 9.8 min\n",
      "[valid loss]grapheme: 0.0911, vowel: 0.0660, consonant: 0.0509\n",
      "[valid recall]total: 0.9827, grapheme: 0.9786, vowel: 0.9894, consonant: 0.9843\n",
      "================================================================================\n"
     ]
    },
    {
     "name": "stdout",
     "output_type": "stream",
     "text": [
      "lr:  [0.0019436372569544252]\n"
     ]
    },
    {
     "name": "stderr",
     "output_type": "stream",
     "text": [
      "[EPOCH 00084]train_loss: 0.6416; val_loss: 0.0898; time elapsed: 9.9 min\n",
      "[valid loss]grapheme: 0.1042, vowel: 0.0817, consonant: 0.0691\n",
      "[valid recall]total: 0.9821, grapheme: 0.9769, vowel: 0.9897, consonant: 0.9847\n",
      "================================================================================\n"
     ]
    },
    {
     "name": "stdout",
     "output_type": "stream",
     "text": [
      "lr:  [0.0018528930127793956]\n"
     ]
    },
    {
     "name": "stderr",
     "output_type": "stream",
     "text": [
      "[EPOCH 00085]train_loss: 0.6613; val_loss: 0.0816; time elapsed: 10.0 min\n",
      "[valid loss]grapheme: 0.1000, vowel: 0.0720, consonant: 0.0544\n",
      "[valid recall]total: 0.9826, grapheme: 0.9773, vowel: 0.9909, consonant: 0.9847\n",
      "================================================================================\n"
     ]
    },
    {
     "name": "stdout",
     "output_type": "stream",
     "text": [
      "lr:  [0.001763053820225385]\n"
     ]
    },
    {
     "name": "stderr",
     "output_type": "stream",
     "text": [
      "[EPOCH 00086]train_loss: 0.6482; val_loss: 0.0813; time elapsed: 9.8 min\n",
      "[valid loss]grapheme: 0.0968, vowel: 0.0768, consonant: 0.0548\n",
      "[valid recall]total: 0.9824, grapheme: 0.9781, vowel: 0.9900, consonant: 0.9836\n",
      "================================================================================\n"
     ]
    },
    {
     "name": "stdout",
     "output_type": "stream",
     "text": [
      "lr:  [0.0016742453275267266]\n"
     ]
    },
    {
     "name": "stderr",
     "output_type": "stream",
     "text": [
      "[EPOCH 00087]train_loss: 0.6366; val_loss: 0.0871; time elapsed: 10.0 min\n",
      "[valid loss]grapheme: 0.1049, vowel: 0.0789, consonant: 0.0598\n",
      "[valid recall]total: 0.9826, grapheme: 0.9763, vowel: 0.9904, consonant: 0.9875\n",
      "================================================================================\n"
     ]
    },
    {
     "name": "stdout",
     "output_type": "stream",
     "text": [
      "lr:  [0.0015865917413908092]\n"
     ]
    },
    {
     "name": "stderr",
     "output_type": "stream",
     "text": [
      "[EPOCH 00088]train_loss: 0.6346; val_loss: 0.0837; time elapsed: 10.1 min\n",
      "[valid loss]grapheme: 0.0973, vowel: 0.0796, consonant: 0.0607\n",
      "[valid recall]total: 0.9837, grapheme: 0.9784, vowel: 0.9908, consonant: 0.9873\n",
      "================================================================================\n"
     ]
    },
    {
     "name": "stdout",
     "output_type": "stream",
     "text": [
      "lr:  [0.001500215653283761]\n"
     ]
    },
    {
     "name": "stderr",
     "output_type": "stream",
     "text": [
      "[EPOCH 00089]train_loss: 0.6255; val_loss: 0.0748; time elapsed: 9.8 min\n",
      "[valid loss]grapheme: 0.0901, vowel: 0.0688, consonant: 0.0502\n",
      "[valid recall]total: 0.9833, grapheme: 0.9783, vowel: 0.9898, consonant: 0.9869\n",
      "================================================================================\n"
     ]
    },
    {
     "name": "stdout",
     "output_type": "stream",
     "text": [
      "lr:  [0.0014152378679752032]\n"
     ]
    },
    {
     "name": "stderr",
     "output_type": "stream",
     "text": [
      "[EPOCH 00090]train_loss: 0.6180; val_loss: 0.0715; time elapsed: 9.9 min\n",
      "[valid loss]grapheme: 0.0882, vowel: 0.0642, consonant: 0.0456\n",
      "[valid recall]total: 0.9827, grapheme: 0.9775, vowel: 0.9897, consonant: 0.9859\n",
      "================================================================================\n"
     ]
    },
    {
     "name": "stdout",
     "output_type": "stream",
     "text": [
      "lr:  [0.001331777234581852]\n"
     ]
    },
    {
     "name": "stderr",
     "output_type": "stream",
     "text": [
      "[EPOCH 00091]train_loss: 0.6313; val_loss: 0.0879; time elapsed: 10.1 min\n",
      "[valid loss]grapheme: 0.1017, vowel: 0.0886, consonant: 0.0594\n",
      "[valid recall]total: 0.9829, grapheme: 0.9776, vowel: 0.9907, consonant: 0.9856\n",
      "================================================================================\n"
     ]
    },
    {
     "name": "stdout",
     "output_type": "stream",
     "text": [
      "lr:  [0.001249950480346286]\n"
     ]
    },
    {
     "name": "stderr",
     "output_type": "stream",
     "text": [
      "[EPOCH 00092]train_loss: 0.6417; val_loss: 0.0756; time elapsed: 9.7 min\n",
      "[valid loss]grapheme: 0.0893, vowel: 0.0716, consonant: 0.0521\n",
      "[valid recall]total: 0.9831, grapheme: 0.9784, vowel: 0.9905, consonant: 0.9853\n",
      "================================================================================\n"
     ]
    },
    {
     "name": "stdout",
     "output_type": "stream",
     "text": [
      "lr:  [0.0011698720473833427]\n"
     ]
    },
    {
     "name": "stderr",
     "output_type": "stream",
     "text": [
      "[EPOCH 00093]train_loss: 0.6059; val_loss: 0.0771; time elapsed: 9.9 min\n",
      "[valid loss]grapheme: 0.0906, vowel: 0.0734, consonant: 0.0538\n",
      "[valid recall]total: 0.9838, grapheme: 0.9794, vowel: 0.9907, consonant: 0.9858\n",
      "================================================================================\n"
     ]
    },
    {
     "name": "stdout",
     "output_type": "stream",
     "text": [
      "lr:  [0.0010916539326224664]\n"
     ]
    },
    {
     "name": "stderr",
     "output_type": "stream",
     "text": [
      "[EPOCH 00094]train_loss: 0.6204; val_loss: 0.0810; time elapsed: 10.0 min\n",
      "[valid loss]grapheme: 0.0969, vowel: 0.0699, consonant: 0.0603\n",
      "[valid recall]total: 0.9832, grapheme: 0.9786, vowel: 0.9904, consonant: 0.9853\n",
      "================================================================================\n"
     ]
    },
    {
     "name": "stdout",
     "output_type": "stream",
     "text": [
      "lr:  [0.0010154055311698842]\n"
     ]
    },
    {
     "name": "stderr",
     "output_type": "stream",
     "text": [
      "[EPOCH 00095]train_loss: 0.6308; val_loss: 0.0669; time elapsed: 9.9 min\n",
      "[valid loss]grapheme: 0.0815, vowel: 0.0593, consonant: 0.0455\n",
      "[valid recall]total: 0.9841, grapheme: 0.9793, vowel: 0.9902, consonant: 0.9875\n",
      "================================================================================\n"
     ]
    },
    {
     "name": "stdout",
     "output_type": "stream",
     "text": [
      "lr:  [0.000941233483309653]\n"
     ]
    },
    {
     "name": "stderr",
     "output_type": "stream",
     "text": [
      "[EPOCH 00096]train_loss: 0.6416; val_loss: 0.0705; time elapsed: 10.0 min\n",
      "[valid loss]grapheme: 0.0864, vowel: 0.0623, consonant: 0.0469\n",
      "[valid recall]total: 0.9840, grapheme: 0.9799, vowel: 0.9903, consonant: 0.9861\n",
      "================================================================================\n"
     ]
    },
    {
     "name": "stdout",
     "output_type": "stream",
     "text": [
      "lr:  [0.0008692415253575775]\n"
     ]
    },
    {
     "name": "stderr",
     "output_type": "stream",
     "text": [
      "[EPOCH 00097]train_loss: 0.6242; val_loss: 0.0744; time elapsed: 10.1 min\n",
      "[valid loss]grapheme: 0.0891, vowel: 0.0670, consonant: 0.0523\n",
      "[valid recall]total: 0.9832, grapheme: 0.9786, vowel: 0.9900, consonant: 0.9856\n",
      "================================================================================\n"
     ]
    },
    {
     "name": "stdout",
     "output_type": "stream",
     "text": [
      "lr:  [0.0007995303445765982]\n"
     ]
    },
    {
     "name": "stderr",
     "output_type": "stream",
     "text": [
      "[EPOCH 00098]train_loss: 0.6036; val_loss: 0.0771; time elapsed: 9.9 min\n",
      "[valid loss]grapheme: 0.0909, vowel: 0.0749, consonant: 0.0516\n",
      "[valid recall]total: 0.9836, grapheme: 0.9794, vowel: 0.9903, consonant: 0.9852\n",
      "================================================================================\n"
     ]
    },
    {
     "name": "stdout",
     "output_type": "stream",
     "text": [
      "lr:  [0.0007321974383565461]\n"
     ]
    },
    {
     "name": "stderr",
     "output_type": "stream",
     "text": [
      "[EPOCH 00099]train_loss: 0.6308; val_loss: 0.0897; time elapsed: 9.9 min\n",
      "[valid loss]grapheme: 0.0992, vowel: 0.0910, consonant: 0.0694\n",
      "[valid recall]total: 0.9831, grapheme: 0.9782, vowel: 0.9905, consonant: 0.9855\n",
      "================================================================================\n"
     ]
    },
    {
     "name": "stdout",
     "output_type": "stream",
     "text": [
      "lr:  [0.0006673369778552256]\n"
     ]
    },
    {
     "name": "stderr",
     "output_type": "stream",
     "text": [
      "[EPOCH 00100]train_loss: 0.6221; val_loss: 0.0660; time elapsed: 10.1 min\n",
      "[valid loss]grapheme: 0.0802, vowel: 0.0611, consonant: 0.0424\n",
      "[valid recall]total: 0.9842, grapheme: 0.9799, vowel: 0.9910, consonant: 0.9859\n",
      "================================================================================\n"
     ]
    },
    {
     "name": "stdout",
     "output_type": "stream",
     "text": [
      "lr:  [0.0006050396762915392]\n"
     ]
    },
    {
     "name": "stderr",
     "output_type": "stream",
     "text": [
      "[EPOCH 00101]train_loss: 0.6250; val_loss: 0.0724; time elapsed: 10.0 min\n",
      "[valid loss]grapheme: 0.0878, vowel: 0.0650, consonant: 0.0491\n",
      "[valid recall]total: 0.9836, grapheme: 0.9788, vowel: 0.9903, consonant: 0.9863\n",
      "================================================================================\n"
     ]
    },
    {
     "name": "stdout",
     "output_type": "stream",
     "text": [
      "lr:  [0.0005453926620748458]\n"
     ]
    },
    {
     "name": "stderr",
     "output_type": "stream",
     "text": [
      "[EPOCH 00102]train_loss: 0.5954; val_loss: 0.0701; time elapsed: 9.9 min\n",
      "[valid loss]grapheme: 0.0840, vowel: 0.0666, consonant: 0.0458\n",
      "[valid recall]total: 0.9834, grapheme: 0.9788, vowel: 0.9906, consonant: 0.9853\n",
      "================================================================================\n"
     ]
    },
    {
     "name": "stdout",
     "output_type": "stream",
     "text": [
      "lr:  [0.0004884793569479999]\n"
     ]
    },
    {
     "name": "stderr",
     "output_type": "stream",
     "text": [
      "[EPOCH 00103]train_loss: 0.6034; val_loss: 0.0686; time elapsed: 9.9 min\n",
      "[valid loss]grapheme: 0.0816, vowel: 0.0644, consonant: 0.0469\n",
      "[valid recall]total: 0.9837, grapheme: 0.9792, vowel: 0.9907, consonant: 0.9856\n",
      "================================================================================\n"
     ]
    },
    {
     "name": "stdout",
     "output_type": "stream",
     "text": [
      "lr:  [0.0004343793593145067]\n"
     ]
    },
    {
     "name": "stderr",
     "output_type": "stream",
     "text": [
      "[EPOCH 00104]train_loss: 0.6313; val_loss: 0.0609; time elapsed: 9.9 min\n",
      "[valid loss]grapheme: 0.0771, vowel: 0.0505, consonant: 0.0390\n",
      "[valid recall]total: 0.9840, grapheme: 0.9795, vowel: 0.9910, consonant: 0.9860\n",
      "================================================================================\n"
     ]
    },
    {
     "name": "stdout",
     "output_type": "stream",
     "text": [
      "lr:  [0.0003831683329129493]\n"
     ]
    },
    {
     "name": "stderr",
     "output_type": "stream",
     "text": [
      "[EPOCH 00105]train_loss: 0.6165; val_loss: 0.0609; time elapsed: 9.8 min\n",
      "[valid loss]grapheme: 0.0778, vowel: 0.0483, consonant: 0.0398\n",
      "[valid recall]total: 0.9840, grapheme: 0.9790, vowel: 0.9910, consonant: 0.9871\n",
      "================================================================================\n"
     ]
    },
    {
     "name": "stdout",
     "output_type": "stream",
     "text": [
      "lr:  [0.00033491790099441797]\n"
     ]
    },
    {
     "name": "stderr",
     "output_type": "stream",
     "text": [
      "[EPOCH 00106]train_loss: 0.6217; val_loss: 0.0753; time elapsed: 10.1 min\n",
      "[valid loss]grapheme: 0.0890, vowel: 0.0699, consonant: 0.0534\n",
      "[valid recall]total: 0.9833, grapheme: 0.9785, vowel: 0.9904, consonant: 0.9856\n",
      "================================================================================\n"
     ]
    },
    {
     "name": "stdout",
     "output_type": "stream",
     "text": [
      "lr:  [0.00028969554615090783]\n"
     ]
    },
    {
     "name": "stderr",
     "output_type": "stream",
     "text": [
      "[EPOCH 00107]train_loss: 0.6063; val_loss: 0.0918; time elapsed: 10.0 min\n",
      "[valid loss]grapheme: 0.1014, vowel: 0.0976, consonant: 0.0667\n",
      "[valid recall]total: 0.9839, grapheme: 0.9792, vowel: 0.9904, consonant: 0.9868\n",
      "================================================================================\n"
     ]
    },
    {
     "name": "stdout",
     "output_type": "stream",
     "text": [
      "lr:  [0.0002475645159348177]\n"
     ]
    },
    {
     "name": "stderr",
     "output_type": "stream",
     "text": [
      "[EPOCH 00108]train_loss: 0.5974; val_loss: 0.0689; time elapsed: 9.8 min\n",
      "[valid loss]grapheme: 0.0822, vowel: 0.0627, consonant: 0.0484\n",
      "[valid recall]total: 0.9838, grapheme: 0.9796, vowel: 0.9907, consonant: 0.9854\n",
      "================================================================================\n"
     ]
    },
    {
     "name": "stdout",
     "output_type": "stream",
     "text": [
      "lr:  [0.00020858373440152763]\n"
     ]
    },
    {
     "name": "stderr",
     "output_type": "stream",
     "text": [
      "[EPOCH 00109]train_loss: 0.6450; val_loss: 0.0941; time elapsed: 10.1 min\n",
      "[valid loss]grapheme: 0.1000, vowel: 0.1068, consonant: 0.0694\n",
      "[valid recall]total: 0.9829, grapheme: 0.9783, vowel: 0.9905, consonant: 0.9843\n",
      "================================================================================\n"
     ]
    },
    {
     "name": "stdout",
     "output_type": "stream",
     "text": [
      "lr:  [0.00017280771969877933]\n"
     ]
    },
    {
     "name": "stderr",
     "output_type": "stream",
     "text": [
      "[EPOCH 00110]train_loss: 0.6072; val_loss: 0.0755; time elapsed: 9.9 min\n",
      "[valid loss]grapheme: 0.0862, vowel: 0.0731, consonant: 0.0566\n",
      "[valid recall]total: 0.9830, grapheme: 0.9787, vowel: 0.9902, consonant: 0.9845\n",
      "================================================================================\n"
     ]
    },
    {
     "name": "stdout",
     "output_type": "stream",
     "text": [
      "lr:  [0.00014028650781811662]\n"
     ]
    },
    {
     "name": "stderr",
     "output_type": "stream",
     "text": [
      "[EPOCH 00111]train_loss: 0.5946; val_loss: 0.0732; time elapsed: 9.8 min\n",
      "[valid loss]grapheme: 0.0868, vowel: 0.0709, consonant: 0.0482\n",
      "[valid recall]total: 0.9846, grapheme: 0.9801, vowel: 0.9914, consonant: 0.9867\n",
      "================================================================================\n"
     ]
    },
    {
     "name": "stdout",
     "output_type": "stream",
     "text": [
      "lr:  [0.00011106558261502592]\n"
     ]
    },
    {
     "name": "stderr",
     "output_type": "stream",
     "text": [
      "[EPOCH 00112]train_loss: 0.5986; val_loss: 0.0801; time elapsed: 10.0 min\n",
      "[valid loss]grapheme: 0.0902, vowel: 0.0843, consonant: 0.0555\n",
      "[valid recall]total: 0.9844, grapheme: 0.9802, vowel: 0.9904, consonant: 0.9867\n",
      "================================================================================\n"
     ]
    },
    {
     "name": "stdout",
     "output_type": "stream",
     "text": [
      "lr:  [8.518581219565397e-05]\n"
     ]
    },
    {
     "name": "stderr",
     "output_type": "stream",
     "text": [
      "[EPOCH 00113]train_loss: 0.5991; val_loss: 0.0786; time elapsed: 10.1 min\n",
      "[valid loss]grapheme: 0.0877, vowel: 0.0823, consonant: 0.0568\n",
      "[valid recall]total: 0.9840, grapheme: 0.9795, vowel: 0.9906, consonant: 0.9865\n",
      "================================================================================\n"
     ]
    },
    {
     "name": "stdout",
     "output_type": "stream",
     "text": [
      "lr:  [6.268339175906405e-05]\n"
     ]
    },
    {
     "name": "stderr",
     "output_type": "stream",
     "text": [
      "[EPOCH 00114]train_loss: 0.6133; val_loss: 0.0761; time elapsed: 9.8 min\n",
      "[valid loss]grapheme: 0.0914, vowel: 0.0704, consonant: 0.0512\n",
      "[valid recall]total: 0.9840, grapheme: 0.9793, vowel: 0.9907, consonant: 0.9866\n",
      "================================================================================\n"
     ]
    },
    {
     "name": "stdout",
     "output_type": "stream",
     "text": [
      "lr:  [4.358979297497717e-05]\n"
     ]
    },
    {
     "name": "stderr",
     "output_type": "stream",
     "text": [
      "[EPOCH 00115]train_loss: 0.6312; val_loss: 0.0701; time elapsed: 10.0 min\n",
      "[valid loss]grapheme: 0.0842, vowel: 0.0641, consonant: 0.0480\n",
      "[valid recall]total: 0.9843, grapheme: 0.9797, vowel: 0.9909, consonant: 0.9867\n",
      "================================================================================\n"
     ]
    },
    {
     "name": "stdout",
     "output_type": "stream",
     "text": [
      "lr:  [2.7931719967797712e-05]\n"
     ]
    },
    {
     "name": "stderr",
     "output_type": "stream",
     "text": [
      "[EPOCH 00116]train_loss: 0.6055; val_loss: 0.0712; time elapsed: 10.0 min\n",
      "[valid loss]grapheme: 0.0842, vowel: 0.0646, consonant: 0.0520\n",
      "[valid recall]total: 0.9843, grapheme: 0.9799, vowel: 0.9908, consonant: 0.9867\n",
      "================================================================================\n"
     ]
    },
    {
     "name": "stdout",
     "output_type": "stream",
     "text": [
      "lr:  [1.573107196847947e-05]\n"
     ]
    },
    {
     "name": "stderr",
     "output_type": "stream",
     "text": [
      "[EPOCH 00117]train_loss: 0.5814; val_loss: 0.0792; time elapsed: 9.8 min\n",
      "[valid loss]grapheme: 0.0915, vowel: 0.0787, consonant: 0.0550\n",
      "[valid recall]total: 0.9841, grapheme: 0.9795, vowel: 0.9906, consonant: 0.9868\n",
      "================================================================================\n"
     ]
    },
    {
     "name": "stdout",
     "output_type": "stream",
     "text": [
      "lr:  [7.004912686470389e-06]\n"
     ]
    },
    {
     "name": "stderr",
     "output_type": "stream",
     "text": [
      "[EPOCH 00118]train_loss: 0.6126; val_loss: 0.0734; time elapsed: 9.9 min\n",
      "[valid loss]grapheme: 0.0844, vowel: 0.0715, consonant: 0.0531\n",
      "[valid recall]total: 0.9841, grapheme: 0.9795, vowel: 0.9908, consonant: 0.9867\n",
      "================================================================================\n"
     ]
    },
    {
     "name": "stdout",
     "output_type": "stream",
     "text": [
      "lr:  [1.7654464445743385e-06]\n"
     ]
    },
    {
     "name": "stderr",
     "output_type": "stream",
     "text": [
      "[EPOCH 00119]train_loss: 0.6103; val_loss: 0.0639; time elapsed: 10.1 min\n",
      "[valid loss]grapheme: 0.0777, vowel: 0.0575, consonant: 0.0424\n",
      "[valid recall]total: 0.9847, grapheme: 0.9802, vowel: 0.9912, consonant: 0.9871\n",
      "================================================================================\n"
     ]
    },
    {
     "name": "stdout",
     "output_type": "stream",
     "text": [
      "========training fold 2========\n",
      "[     0      2      4 ... 200836 200837 200838]\n",
      "[     1      3      8 ... 200821 200833 200839]\n",
      "checkpoint_path:  ../checkpoint/v4-fold2\n"
     ]
    },
    {
     "name": "stderr",
     "output_type": "stream",
     "text": [
      "\n",
      "\n",
      "\n"
     ]
    },
    {
     "name": "stdout",
     "output_type": "stream",
     "text": [
      "model state_dict loaded.\n",
      "lr:  [0.00019999999999999966]\n"
     ]
    },
    {
     "name": "stderr",
     "output_type": "stream",
     "text": [
      "[EPOCH 00000]train_loss: 2.2865; val_loss: 0.5967; time elapsed: 9.7 min\n",
      "[valid loss]grapheme: 0.6768, vowel: 0.4377, consonant: 0.5957\n",
      "[valid recall]total: 0.8242, grapheme: 0.8020, vowel: 0.9402, consonant: 0.7525\n",
      "================================================================================\n"
     ]
    },
    {
     "name": "stdout",
     "output_type": "stream",
     "text": [
      "lr:  [0.0002091331286183584]\n"
     ]
    },
    {
     "name": "stderr",
     "output_type": "stream",
     "text": [
      "[EPOCH 00001]train_loss: 1.6013; val_loss: 0.3899; time elapsed: 10.0 min\n",
      "[valid loss]grapheme: 0.4388, vowel: 0.2822, consonant: 0.4000\n",
      "[valid recall]total: 0.8767, grapheme: 0.8883, vowel: 0.9529, consonant: 0.7774\n",
      "================================================================================\n"
     ]
    },
    {
     "name": "stdout",
     "output_type": "stream",
     "text": [
      "lr:  [0.00023646300277480308]\n"
     ]
    },
    {
     "name": "stderr",
     "output_type": "stream",
     "text": [
      "[EPOCH 00002]train_loss: 1.4145; val_loss: 0.2770; time elapsed: 10.0 min\n",
      "[valid loss]grapheme: 0.3157, vowel: 0.2094, consonant: 0.2672\n",
      "[valid recall]total: 0.9334, grapheme: 0.9086, vowel: 0.9718, consonant: 0.9448\n",
      "================================================================================\n"
     ]
    },
    {
     "name": "stdout",
     "output_type": "stream",
     "text": [
      "lr:  [0.00028178161642283817]\n"
     ]
    },
    {
     "name": "stderr",
     "output_type": "stream",
     "text": [
      "[EPOCH 00003]train_loss: 1.2969; val_loss: 0.2284; time elapsed: 9.8 min\n",
      "[valid loss]grapheme: 0.2614, vowel: 0.1806, consonant: 0.2102\n",
      "[valid recall]total: 0.9523, grapheme: 0.9326, vowel: 0.9730, consonant: 0.9710\n",
      "================================================================================\n"
     ]
    },
    {
     "name": "stdout",
     "output_type": "stream",
     "text": [
      "lr:  [0.00034474405228975165]\n"
     ]
    },
    {
     "name": "stderr",
     "output_type": "stream",
     "text": [
      "[EPOCH 00004]train_loss: 1.2209; val_loss: 0.2161; time elapsed: 9.9 min\n",
      "[valid loss]grapheme: 0.2660, vowel: 0.1704, consonant: 0.1620\n",
      "[valid recall]total: 0.9521, grapheme: 0.9343, vowel: 0.9706, consonant: 0.9693\n",
      "================================================================================\n"
     ]
    },
    {
     "name": "stdout",
     "output_type": "stream",
     "text": [
      "lr:  [0.00042487110702146315]\n"
     ]
    },
    {
     "name": "stderr",
     "output_type": "stream",
     "text": [
      "[EPOCH 00005]train_loss: 1.1810; val_loss: 0.2090; time elapsed: 10.0 min\n",
      "[valid loss]grapheme: 0.2625, vowel: 0.1706, consonant: 0.1405\n",
      "[valid recall]total: 0.9563, grapheme: 0.9404, vowel: 0.9760, consonant: 0.9683\n",
      "================================================================================\n"
     ]
    },
    {
     "name": "stdout",
     "output_type": "stream",
     "text": [
      "lr:  [0.0005215529383707429]\n"
     ]
    },
    {
     "name": "stderr",
     "output_type": "stream",
     "text": [
      "[EPOCH 00006]train_loss: 1.1521; val_loss: 0.1803; time elapsed: 9.8 min\n",
      "[valid loss]grapheme: 0.2291, vowel: 0.1384, consonant: 0.1245\n",
      "[valid recall]total: 0.9497, grapheme: 0.9401, vowel: 0.9783, consonant: 0.9402\n",
      "================================================================================\n"
     ]
    },
    {
     "name": "stdout",
     "output_type": "stream",
     "text": [
      "lr:  [0.0006340537066702812]\n"
     ]
    },
    {
     "name": "stderr",
     "output_type": "stream",
     "text": [
      "[EPOCH 00007]train_loss: 1.1025; val_loss: 0.1687; time elapsed: 9.8 min\n",
      "[valid loss]grapheme: 0.2129, vowel: 0.1384, consonant: 0.1104\n",
      "[valid recall]total: 0.9598, grapheme: 0.9452, vowel: 0.9752, consonant: 0.9735\n",
      "================================================================================\n"
     ]
    },
    {
     "name": "stdout",
     "output_type": "stream",
     "text": [
      "lr:  [0.0007615171752646255]\n"
     ]
    },
    {
     "name": "stderr",
     "output_type": "stream",
     "text": [
      "[EPOCH 00008]train_loss: 1.0837; val_loss: 0.1824; time elapsed: 10.0 min\n",
      "[valid loss]grapheme: 0.2185, vowel: 0.1699, consonant: 0.1226\n",
      "[valid recall]total: 0.9600, grapheme: 0.9478, vowel: 0.9798, consonant: 0.9647\n",
      "================================================================================\n"
     ]
    },
    {
     "name": "stdout",
     "output_type": "stream",
     "text": [
      "lr:  [0.0009029732272764308]\n"
     ]
    },
    {
     "name": "stderr",
     "output_type": "stream",
     "text": [
      "[EPOCH 00009]train_loss: 1.1058; val_loss: 0.1602; time elapsed: 9.8 min\n",
      "[valid loss]grapheme: 0.1956, vowel: 0.1414, consonant: 0.1084\n",
      "[valid recall]total: 0.9639, grapheme: 0.9542, vowel: 0.9751, consonant: 0.9723\n",
      "================================================================================\n"
     ]
    },
    {
     "name": "stdout",
     "output_type": "stream",
     "text": [
      "lr:  [0.0010573452491083046]\n"
     ]
    },
    {
     "name": "stderr",
     "output_type": "stream",
     "text": [
      "[EPOCH 00010]train_loss: 1.0555; val_loss: 0.1796; time elapsed: 9.8 min\n",
      "[valid loss]grapheme: 0.2367, vowel: 0.1367, consonant: 0.1083\n",
      "[valid recall]total: 0.9580, grapheme: 0.9439, vowel: 0.9720, consonant: 0.9723\n",
      "================================================================================\n"
     ]
    },
    {
     "name": "stdout",
     "output_type": "stream",
     "text": [
      "lr:  [0.0012234583244848593]\n"
     ]
    },
    {
     "name": "stderr",
     "output_type": "stream",
     "text": [
      "[EPOCH 00011]train_loss: 1.0512; val_loss: 0.1484; time elapsed: 9.9 min\n",
      "[valid loss]grapheme: 0.1978, vowel: 0.1117, consonant: 0.0863\n",
      "[valid recall]total: 0.9610, grapheme: 0.9465, vowel: 0.9788, consonant: 0.9720\n",
      "================================================================================\n"
     ]
    },
    {
     "name": "stdout",
     "output_type": "stream",
     "text": [
      "lr:  [0.0014000481766705897]\n"
     ]
    },
    {
     "name": "stderr",
     "output_type": "stream",
     "text": [
      "[EPOCH 00012]train_loss: 1.0437; val_loss: 0.1517; time elapsed: 9.8 min\n",
      "[valid loss]grapheme: 0.1924, vowel: 0.1246, consonant: 0.0972\n",
      "[valid recall]total: 0.9644, grapheme: 0.9526, vowel: 0.9807, consonant: 0.9715\n",
      "================================================================================\n"
     ]
    },
    {
     "name": "stdout",
     "output_type": "stream",
     "text": [
      "lr:  [0.0015857707908049057]\n"
     ]
    },
    {
     "name": "stderr",
     "output_type": "stream",
     "text": [
      "[EPOCH 00013]train_loss: 1.0278; val_loss: 0.1583; time elapsed: 9.7 min\n",
      "[valid loss]grapheme: 0.2057, vowel: 0.1240, consonant: 0.0979\n",
      "[valid recall]total: 0.9619, grapheme: 0.9470, vowel: 0.9749, consonant: 0.9787\n",
      "================================================================================\n"
     ]
    },
    {
     "name": "stdout",
     "output_type": "stream",
     "text": [
      "lr:  [0.001779212643119284]\n"
     ]
    },
    {
     "name": "stderr",
     "output_type": "stream",
     "text": [
      "[EPOCH 00014]train_loss: 1.0225; val_loss: 0.1477; time elapsed: 9.9 min\n",
      "[valid loss]grapheme: 0.1946, vowel: 0.1127, consonant: 0.0891\n",
      "[valid recall]total: 0.9633, grapheme: 0.9501, vowel: 0.9784, consonant: 0.9745\n",
      "================================================================================\n"
     ]
    },
    {
     "name": "stdout",
     "output_type": "stream",
     "text": [
      "lr:  [0.001978901459182592]\n"
     ]
    },
    {
     "name": "stderr",
     "output_type": "stream",
     "text": [
      "[EPOCH 00015]train_loss: 1.0319; val_loss: 0.1700; time elapsed: 10.0 min\n",
      "[valid loss]grapheme: 0.2103, vowel: 0.1510, consonant: 0.1082\n",
      "[valid recall]total: 0.9622, grapheme: 0.9503, vowel: 0.9743, consonant: 0.9739\n",
      "================================================================================\n"
     ]
    },
    {
     "name": "stdout",
     "output_type": "stream",
     "text": [
      "lr:  [0.0021833174192941998]\n"
     ]
    },
    {
     "name": "stderr",
     "output_type": "stream",
     "text": [
      "[EPOCH 00016]train_loss: 1.0048; val_loss: 0.1452; time elapsed: 9.7 min\n",
      "[valid loss]grapheme: 0.1870, vowel: 0.1167, consonant: 0.0901\n",
      "[valid recall]total: 0.9661, grapheme: 0.9532, vowel: 0.9782, consonant: 0.9801\n",
      "================================================================================\n"
     ]
    },
    {
     "name": "stdout",
     "output_type": "stream",
     "text": [
      "lr:  [0.0023909047257413218]\n"
     ]
    },
    {
     "name": "stderr",
     "output_type": "stream",
     "text": [
      "[EPOCH 00017]train_loss: 1.0142; val_loss: 0.1505; time elapsed: 9.9 min\n",
      "[valid loss]grapheme: 0.1989, vowel: 0.1123, consonant: 0.0919\n",
      "[valid recall]total: 0.9639, grapheme: 0.9496, vowel: 0.9782, consonant: 0.9783\n",
      "================================================================================\n"
     ]
    },
    {
     "name": "stdout",
     "output_type": "stream",
     "text": [
      "lr:  [0.0026000834438828562]\n"
     ]
    },
    {
     "name": "stderr",
     "output_type": "stream",
     "text": [
      "[EPOCH 00018]train_loss: 0.9970; val_loss: 0.1402; time elapsed: 9.9 min\n",
      "[valid loss]grapheme: 0.1894, vowel: 0.0991, consonant: 0.0829\n",
      "[valid recall]total: 0.9608, grapheme: 0.9467, vowel: 0.9769, consonant: 0.9728\n",
      "================================================================================\n"
     ]
    },
    {
     "name": "stdout",
     "output_type": "stream",
     "text": [
      "lr:  [0.0028092615269379615]\n"
     ]
    },
    {
     "name": "stderr",
     "output_type": "stream",
     "text": [
      "[EPOCH 00019]train_loss: 0.9987; val_loss: 0.1766; time elapsed: 9.8 min\n",
      "[valid loss]grapheme: 0.2224, vowel: 0.1547, consonant: 0.1069\n",
      "[valid recall]total: 0.9632, grapheme: 0.9466, vowel: 0.9795, consonant: 0.9800\n",
      "================================================================================\n"
     ]
    },
    {
     "name": "stdout",
     "output_type": "stream",
     "text": [
      "lr:  [0.0030168469329594017]\n"
     ]
    },
    {
     "name": "stderr",
     "output_type": "stream",
     "text": [
      "[EPOCH 00020]train_loss: 0.9921; val_loss: 0.1583; time elapsed: 9.8 min\n",
      "[valid loss]grapheme: 0.2057, vowel: 0.1313, consonant: 0.0905\n",
      "[valid recall]total: 0.9649, grapheme: 0.9509, vowel: 0.9813, consonant: 0.9767\n",
      "================================================================================\n"
     ]
    },
    {
     "name": "stdout",
     "output_type": "stream",
     "text": [
      "lr:  [0.0032212597417701017]\n"
     ]
    },
    {
     "name": "stderr",
     "output_type": "stream",
     "text": [
      "[EPOCH 00021]train_loss: 0.9834; val_loss: 0.1527; time elapsed: 9.9 min\n",
      "[valid loss]grapheme: 0.1917, vowel: 0.1319, consonant: 0.0953\n",
      "[valid recall]total: 0.9563, grapheme: 0.9504, vowel: 0.9745, consonant: 0.9500\n",
      "================================================================================\n"
     ]
    },
    {
     "name": "stdout",
     "output_type": "stream",
     "text": [
      "lr:  [0.0034209441796416405]\n"
     ]
    },
    {
     "name": "stderr",
     "output_type": "stream",
     "text": [
      "[EPOCH 00022]train_loss: 0.9853; val_loss: 0.1714; time elapsed: 9.8 min\n",
      "[valid loss]grapheme: 0.2207, vowel: 0.1446, consonant: 0.0996\n",
      "[valid recall]total: 0.9607, grapheme: 0.9431, vowel: 0.9778, consonant: 0.9786\n",
      "================================================================================\n"
     ]
    },
    {
     "name": "stdout",
     "output_type": "stream",
     "text": [
      "lr:  [0.0036143804601955457]\n"
     ]
    },
    {
     "name": "stderr",
     "output_type": "stream",
     "text": [
      "[EPOCH 00023]train_loss: 0.9699; val_loss: 0.1440; time elapsed: 9.8 min\n",
      "[valid loss]grapheme: 0.1840, vowel: 0.1193, consonant: 0.0887\n",
      "[valid recall]total: 0.9656, grapheme: 0.9561, vowel: 0.9788, consonant: 0.9713\n",
      "================================================================================\n"
     ]
    },
    {
     "name": "stdout",
     "output_type": "stream",
     "text": [
      "lr:  [0.0038000963514070204]\n"
     ]
    },
    {
     "name": "stderr",
     "output_type": "stream",
     "text": [
      "[EPOCH 00024]train_loss: 0.9546; val_loss: 0.1575; time elapsed: 10.0 min\n",
      "[valid loss]grapheme: 0.2000, vowel: 0.1380, consonant: 0.0921\n",
      "[valid recall]total: 0.9679, grapheme: 0.9556, vowel: 0.9809, consonant: 0.9795\n",
      "================================================================================\n"
     ]
    },
    {
     "name": "stdout",
     "output_type": "stream",
     "text": [
      "lr:  [0.003976678380675308]\n"
     ]
    },
    {
     "name": "stderr",
     "output_type": "stream",
     "text": [
      "[EPOCH 00025]train_loss: 0.9704; val_loss: 0.1508; time elapsed: 9.9 min\n",
      "[valid loss]grapheme: 0.1961, vowel: 0.1253, consonant: 0.0855\n",
      "[valid recall]total: 0.9616, grapheme: 0.9436, vowel: 0.9759, consonant: 0.9832\n",
      "================================================================================\n"
     ]
    },
    {
     "name": "stdout",
     "output_type": "stream",
     "text": [
      "lr:  [0.004142782592679578]\n"
     ]
    },
    {
     "name": "stderr",
     "output_type": "stream",
     "text": [
      "[EPOCH 00026]train_loss: 0.9941; val_loss: 0.1616; time elapsed: 9.8 min\n",
      "[valid loss]grapheme: 0.2113, vowel: 0.1361, consonant: 0.0878\n",
      "[valid recall]total: 0.9667, grapheme: 0.9514, vowel: 0.9811, consonant: 0.9829\n",
      "================================================================================\n"
     ]
    },
    {
     "name": "stdout",
     "output_type": "stream",
     "text": [
      "lr:  [0.004297144778142924]\n"
     ]
    },
    {
     "name": "stderr",
     "output_type": "stream",
     "text": [
      "[EPOCH 00027]train_loss: 0.9470; val_loss: 0.1363; time elapsed: 9.9 min\n",
      "[valid loss]grapheme: 0.1976, vowel: 0.0791, consonant: 0.0708\n",
      "[valid recall]total: 0.9600, grapheme: 0.9427, vowel: 0.9784, consonant: 0.9762\n",
      "================================================================================\n"
     ]
    },
    {
     "name": "stdout",
     "output_type": "stream",
     "text": [
      "lr:  [0.004438590095653974]\n"
     ]
    },
    {
     "name": "stderr",
     "output_type": "stream",
     "text": [
      "[EPOCH 00028]train_loss: 0.9456; val_loss: 0.1435; time elapsed: 10.0 min\n",
      "[valid loss]grapheme: 0.1856, vowel: 0.1102, consonant: 0.0926\n",
      "[valid recall]total: 0.9676, grapheme: 0.9562, vowel: 0.9808, consonant: 0.9773\n",
      "================================================================================\n"
     ]
    },
    {
     "name": "stdout",
     "output_type": "stream",
     "text": [
      "lr:  [0.004566042013314983]\n"
     ]
    },
    {
     "name": "stderr",
     "output_type": "stream",
     "text": [
      "[EPOCH 00029]train_loss: 0.9218; val_loss: 0.1250; time elapsed: 9.7 min\n",
      "[valid loss]grapheme: 0.1696, vowel: 0.0861, consonant: 0.0748\n",
      "[valid recall]total: 0.9672, grapheme: 0.9546, vowel: 0.9803, consonant: 0.9794\n",
      "================================================================================\n"
     ]
    },
    {
     "name": "stdout",
     "output_type": "stream",
     "text": [
      "lr:  [0.004678530502162072]\n"
     ]
    },
    {
     "name": "stderr",
     "output_type": "stream",
     "text": [
      "[EPOCH 00030]train_loss: 0.9213; val_loss: 0.1479; time elapsed: 9.9 min\n",
      "[valid loss]grapheme: 0.1896, vowel: 0.1176, consonant: 0.0948\n",
      "[valid recall]total: 0.9694, grapheme: 0.9558, vowel: 0.9827, consonant: 0.9831\n",
      "================================================================================\n"
     ]
    },
    {
     "name": "stdout",
     "output_type": "stream",
     "text": [
      "lr:  [0.004775199418997971]\n"
     ]
    },
    {
     "name": "stderr",
     "output_type": "stream",
     "text": [
      "[EPOCH 00031]train_loss: 0.9375; val_loss: 0.1683; time elapsed: 9.9 min\n",
      "[valid loss]grapheme: 0.2195, vowel: 0.1318, consonant: 0.1022\n",
      "[valid recall]total: 0.9641, grapheme: 0.9460, vowel: 0.9822, consonant: 0.9823\n",
      "================================================================================\n"
     ]
    },
    {
     "name": "stdout",
     "output_type": "stream",
     "text": [
      "lr:  [0.004855313022446962]\n"
     ]
    },
    {
     "name": "stderr",
     "output_type": "stream",
     "text": [
      "[EPOCH 00032]train_loss: 0.9094; val_loss: 0.1436; time elapsed: 9.7 min\n",
      "[valid loss]grapheme: 0.1812, vowel: 0.1191, consonant: 0.0929\n",
      "[valid recall]total: 0.9713, grapheme: 0.9610, vowel: 0.9826, consonant: 0.9807\n",
      "================================================================================\n"
     ]
    },
    {
     "name": "stdout",
     "output_type": "stream",
     "text": [
      "lr:  [0.00491826157263873]\n"
     ]
    },
    {
     "name": "stderr",
     "output_type": "stream",
     "text": [
      "[EPOCH 00033]train_loss: 0.9301; val_loss: 0.1581; time elapsed: 9.9 min\n",
      "[valid loss]grapheme: 0.1935, vowel: 0.1399, consonant: 0.1054\n",
      "[valid recall]total: 0.9702, grapheme: 0.9582, vowel: 0.9843, consonant: 0.9802\n",
      "================================================================================\n"
     ]
    },
    {
     "name": "stdout",
     "output_type": "stream",
     "text": [
      "lr:  [0.00496356597190224]\n"
     ]
    },
    {
     "name": "stderr",
     "output_type": "stream",
     "text": [
      "[EPOCH 00034]train_loss: 0.8959; val_loss: 0.1254; time elapsed: 9.9 min\n",
      "[valid loss]grapheme: 0.1588, vowel: 0.1037, consonant: 0.0804\n",
      "[valid recall]total: 0.9718, grapheme: 0.9593, vowel: 0.9844, consonant: 0.9844\n",
      "================================================================================\n"
     ]
    },
    {
     "name": "stdout",
     "output_type": "stream",
     "text": [
      "lr:  [0.004990881411149617]\n"
     ]
    },
    {
     "name": "stderr",
     "output_type": "stream",
     "text": [
      "[EPOCH 00035]train_loss: 0.8753; val_loss: 0.1675; time elapsed: 9.8 min\n",
      "[valid loss]grapheme: 0.2089, vowel: 0.1495, consonant: 0.1026\n",
      "[valid recall]total: 0.9676, grapheme: 0.9532, vowel: 0.9808, consonant: 0.9832\n",
      "================================================================================\n"
     ]
    },
    {
     "name": "stdout",
     "output_type": "stream",
     "text": [
      "lr:  [0.0049999999988899]\n"
     ]
    },
    {
     "name": "stderr",
     "output_type": "stream",
     "text": [
      "[EPOCH 00036]train_loss: 0.8774; val_loss: 0.1342; time elapsed: 9.7 min\n",
      "[valid loss]grapheme: 0.1802, vowel: 0.0953, consonant: 0.0811\n",
      "[valid recall]total: 0.9650, grapheme: 0.9503, vowel: 0.9817, consonant: 0.9777\n",
      "================================================================================\n"
     ]
    },
    {
     "name": "stdout",
     "output_type": "stream",
     "text": [
      "lr:  [0.004998248982153825]\n"
     ]
    },
    {
     "name": "stderr",
     "output_type": "stream",
     "text": [
      "[EPOCH 00037]train_loss: 0.8892; val_loss: 0.1266; time elapsed: 9.9 min\n",
      "[valid loss]grapheme: 0.1641, vowel: 0.0989, consonant: 0.0793\n",
      "[valid recall]total: 0.9709, grapheme: 0.9577, vowel: 0.9835, consonant: 0.9845\n",
      "================================================================================\n"
     ]
    },
    {
     "name": "stdout",
     "output_type": "stream",
     "text": [
      "lr:  [0.004993003952302436]\n"
     ]
    },
    {
     "name": "stderr",
     "output_type": "stream",
     "text": [
      "[EPOCH 00038]train_loss: 0.8753; val_loss: 0.1013; time elapsed: 10.0 min\n",
      "[valid loss]grapheme: 0.1379, vowel: 0.0683, consonant: 0.0611\n",
      "[valid recall]total: 0.9708, grapheme: 0.9565, vowel: 0.9858, consonant: 0.9845\n",
      "================================================================================\n"
     ]
    },
    {
     "name": "stdout",
     "output_type": "stream",
     "text": [
      "lr:  [0.004984272244984255]\n"
     ]
    },
    {
     "name": "stderr",
     "output_type": "stream",
     "text": [
      "[EPOCH 00039]train_loss: 0.8663; val_loss: 0.1086; time elapsed: 9.7 min\n",
      "[valid loss]grapheme: 0.1444, vowel: 0.0768, consonant: 0.0689\n",
      "[valid recall]total: 0.9749, grapheme: 0.9637, vowel: 0.9867, consonant: 0.9856\n",
      "================================================================================\n"
     ]
    },
    {
     "name": "stdout",
     "output_type": "stream",
     "text": [
      "lr:  [0.004972066072281515]\n"
     ]
    },
    {
     "name": "stderr",
     "output_type": "stream",
     "text": [
      "[EPOCH 00040]train_loss: 0.8293; val_loss: 0.1152; time elapsed: 9.9 min\n",
      "[valid loss]grapheme: 0.1491, vowel: 0.0888, consonant: 0.0736\n",
      "[valid recall]total: 0.9749, grapheme: 0.9646, vowel: 0.9861, consonant: 0.9843\n",
      "================================================================================\n"
     ]
    },
    {
     "name": "stdout",
     "output_type": "stream",
     "text": [
      "lr:  [0.004956402505630461]\n"
     ]
    },
    {
     "name": "stderr",
     "output_type": "stream",
     "text": [
      "[EPOCH 00041]train_loss: 0.8329; val_loss: 0.1211; time elapsed: 10.0 min\n",
      "[valid loss]grapheme: 0.1564, vowel: 0.0959, consonant: 0.0757\n",
      "[valid recall]total: 0.9727, grapheme: 0.9618, vowel: 0.9864, consonant: 0.9811\n",
      "================================================================================\n"
     ]
    },
    {
     "name": "stdout",
     "output_type": "stream",
     "text": [
      "lr:  [0.004937303451945404]\n"
     ]
    },
    {
     "name": "stderr",
     "output_type": "stream",
     "text": [
      "[EPOCH 00042]train_loss: 0.8229; val_loss: 0.0906; time elapsed: 9.7 min\n",
      "[valid loss]grapheme: 0.1266, vowel: 0.0572, consonant: 0.0520\n",
      "[valid recall]total: 0.9760, grapheme: 0.9648, vowel: 0.9882, consonant: 0.9862\n",
      "================================================================================\n"
     ]
    },
    {
     "name": "stdout",
     "output_type": "stream",
     "text": [
      "lr:  [0.004914795622979922]\n"
     ]
    },
    {
     "name": "stderr",
     "output_type": "stream",
     "text": [
      "[EPOCH 00043]train_loss: 0.8008; val_loss: 0.0979; time elapsed: 9.8 min\n",
      "[valid loss]grapheme: 0.1332, vowel: 0.0681, consonant: 0.0573\n",
      "[valid recall]total: 0.9760, grapheme: 0.9652, vowel: 0.9870, consonant: 0.9865\n",
      "================================================================================\n"
     ]
    },
    {
     "name": "stdout",
     "output_type": "stream",
     "text": [
      "lr:  [0.004888910497968052]\n"
     ]
    },
    {
     "name": "stderr",
     "output_type": "stream",
     "text": [
      "[EPOCH 00044]train_loss: 0.8012; val_loss: 0.1168; time elapsed: 9.9 min\n",
      "[valid loss]grapheme: 0.1499, vowel: 0.0939, consonant: 0.0733\n",
      "[valid recall]total: 0.9746, grapheme: 0.9628, vowel: 0.9852, consonant: 0.9877\n",
      "================================================================================\n"
     ]
    },
    {
     "name": "stdout",
     "output_type": "stream",
     "text": [
      "lr:  [0.0048596842795977395]\n"
     ]
    },
    {
     "name": "stderr",
     "output_type": "stream",
     "text": [
      "[EPOCH 00045]train_loss: 0.7919; val_loss: 0.0880; time elapsed: 9.8 min\n",
      "[valid loss]grapheme: 0.1227, vowel: 0.0554, consonant: 0.0512\n",
      "[valid recall]total: 0.9749, grapheme: 0.9642, vowel: 0.9850, consonant: 0.9861\n",
      "================================================================================\n"
     ]
    },
    {
     "name": "stdout",
     "output_type": "stream",
     "text": [
      "lr:  [0.004827157843378102]\n"
     ]
    },
    {
     "name": "stderr",
     "output_type": "stream",
     "text": [
      "[EPOCH 00046]train_loss: 0.8157; val_loss: 0.0938; time elapsed: 9.7 min\n",
      "[valid loss]grapheme: 0.1266, vowel: 0.0635, consonant: 0.0583\n",
      "[valid recall]total: 0.9750, grapheme: 0.9654, vowel: 0.9858, consonant: 0.9832\n",
      "================================================================================\n"
     ]
    },
    {
     "name": "stdout",
     "output_type": "stream",
     "text": [
      "lr:  [0.004791376680471341]\n"
     ]
    },
    {
     "name": "stderr",
     "output_type": "stream",
     "text": [
      "[EPOCH 00047]train_loss: 0.8164; val_loss: 0.1335; time elapsed: 9.9 min\n",
      "[valid loss]grapheme: 0.1660, vowel: 0.1184, consonant: 0.0837\n",
      "[valid recall]total: 0.9751, grapheme: 0.9646, vowel: 0.9843, consonant: 0.9868\n",
      "================================================================================\n"
     ]
    },
    {
     "name": "stdout",
     "output_type": "stream",
     "text": [
      "lr:  [0.004752390834069225]\n"
     ]
    },
    {
     "name": "stderr",
     "output_type": "stream",
     "text": [
      "[EPOCH 00048]train_loss: 0.7922; val_loss: 0.1781; time elapsed: 9.9 min\n",
      "[valid loss]grapheme: 0.2028, vowel: 0.1940, consonant: 0.1127\n",
      "[valid recall]total: 0.9662, grapheme: 0.9524, vowel: 0.9777, consonant: 0.9821\n",
      "================================================================================\n"
     ]
    },
    {
     "name": "stdout",
     "output_type": "stream",
     "text": [
      "lr:  [0.004710254829403174]\n"
     ]
    },
    {
     "name": "stderr",
     "output_type": "stream",
     "text": [
      "[EPOCH 00049]train_loss: 0.8215; val_loss: 0.1063; time elapsed: 9.6 min\n",
      "[valid loss]grapheme: 0.1379, vowel: 0.0813, consonant: 0.0683\n",
      "[valid recall]total: 0.9765, grapheme: 0.9676, vowel: 0.9873, consonant: 0.9833\n",
      "================================================================================\n"
     ]
    },
    {
     "name": "stdout",
     "output_type": "stream",
     "text": [
      "lr:  [0.004665027597485786]\n"
     ]
    },
    {
     "name": "stderr",
     "output_type": "stream",
     "text": [
      "[EPOCH 00050]train_loss: 0.7957; val_loss: 0.1540; time elapsed: 9.8 min\n",
      "[valid loss]grapheme: 0.1756, vowel: 0.1669, consonant: 0.0980\n",
      "[valid recall]total: 0.9747, grapheme: 0.9624, vowel: 0.9858, consonant: 0.9882\n",
      "================================================================================\n"
     ]
    },
    {
     "name": "stdout",
     "output_type": "stream",
     "text": [
      "lr:  [0.004616772392690489]\n"
     ]
    },
    {
     "name": "stderr",
     "output_type": "stream",
     "text": [
      "[EPOCH 00051]train_loss: 0.7762; val_loss: 0.0830; time elapsed: 9.9 min\n",
      "[valid loss]grapheme: 0.1117, vowel: 0.0583, consonant: 0.0502\n",
      "[valid recall]total: 0.9784, grapheme: 0.9690, vowel: 0.9901, consonant: 0.9855\n",
      "================================================================================\n"
     ]
    },
    {
     "name": "stdout",
     "output_type": "stream",
     "text": [
      "lr:  [0.00456555670428458]\n"
     ]
    },
    {
     "name": "stderr",
     "output_type": "stream",
     "text": [
      "[EPOCH 00052]train_loss: 0.7835; val_loss: 0.1234; time elapsed: 9.7 min\n",
      "[valid loss]grapheme: 0.1480, vowel: 0.1140, consonant: 0.0836\n",
      "[valid recall]total: 0.9773, grapheme: 0.9682, vowel: 0.9878, consonant: 0.9851\n",
      "================================================================================\n"
     ]
    },
    {
     "name": "stdout",
     "output_type": "stream",
     "text": [
      "lr:  [0.004511452162039379]\n"
     ]
    },
    {
     "name": "stderr",
     "output_type": "stream",
     "text": [
      "[EPOCH 00053]train_loss: 0.7473; val_loss: 0.0847; time elapsed: 9.7 min\n",
      "[valid loss]grapheme: 0.1116, vowel: 0.0625, consonant: 0.0531\n",
      "[valid recall]total: 0.9794, grapheme: 0.9706, vowel: 0.9886, consonant: 0.9878\n",
      "================================================================================\n"
     ]
    },
    {
     "name": "stdout",
     "output_type": "stream",
     "text": [
      "lr:  [0.004454534436049523]\n"
     ]
    },
    {
     "name": "stderr",
     "output_type": "stream",
     "text": [
      "[EPOCH 00054]train_loss: 0.7728; val_loss: 0.0932; time elapsed: 9.9 min\n",
      "[valid loss]grapheme: 0.1191, vowel: 0.0751, consonant: 0.0595\n",
      "[valid recall]total: 0.9789, grapheme: 0.9708, vowel: 0.9869, consonant: 0.9871\n",
      "================================================================================\n"
     ]
    },
    {
     "name": "stdout",
     "output_type": "stream",
     "text": [
      "lr:  [0.004394883130901493]\n"
     ]
    },
    {
     "name": "stderr",
     "output_type": "stream",
     "text": [
      "[EPOCH 00055]train_loss: 0.7745; val_loss: 0.0942; time elapsed: 9.8 min\n",
      "[valid loss]grapheme: 0.1178, vowel: 0.0778, consonant: 0.0635\n",
      "[valid recall]total: 0.9797, grapheme: 0.9715, vowel: 0.9882, consonant: 0.9876\n",
      "================================================================================\n"
     ]
    },
    {
     "name": "stdout",
     "output_type": "stream",
     "text": [
      "lr:  [0.0043325816743394]\n"
     ]
    },
    {
     "name": "stderr",
     "output_type": "stream",
     "text": [
      "[EPOCH 00056]train_loss: 0.7552; val_loss: 0.1036; time elapsed: 9.7 min\n",
      "[valid loss]grapheme: 0.1256, vowel: 0.0950, consonant: 0.0680\n",
      "[valid recall]total: 0.9792, grapheme: 0.9713, vowel: 0.9863, consonant: 0.9879\n",
      "================================================================================\n"
     ]
    },
    {
     "name": "stdout",
     "output_type": "stream",
     "text": [
      "lr:  [0.004267717200583741]\n"
     ]
    },
    {
     "name": "stderr",
     "output_type": "stream",
     "text": [
      "[EPOCH 00057]train_loss: 0.7621; val_loss: 0.0941; time elapsed: 9.9 min\n",
      "[valid loss]grapheme: 0.1200, vowel: 0.0743, consonant: 0.0620\n",
      "[valid recall]total: 0.9786, grapheme: 0.9687, vowel: 0.9881, consonant: 0.9888\n",
      "================================================================================\n"
     ]
    },
    {
     "name": "stdout",
     "output_type": "stream",
     "text": [
      "lr:  [0.004200380428466321]\n"
     ]
    },
    {
     "name": "stderr",
     "output_type": "stream",
     "text": [
      "[EPOCH 00058]train_loss: 0.7538; val_loss: 0.1013; time elapsed: 9.9 min\n",
      "[valid loss]grapheme: 0.1294, vowel: 0.0810, consonant: 0.0652\n",
      "[valid recall]total: 0.9771, grapheme: 0.9666, vowel: 0.9884, consonant: 0.9867\n",
      "================================================================================\n"
     ]
    },
    {
     "name": "stdout",
     "output_type": "stream",
     "text": [
      "lr:  [0.00413066553455175]\n"
     ]
    },
    {
     "name": "stderr",
     "output_type": "stream",
     "text": [
      "[EPOCH 00059]train_loss: 0.7232; val_loss: 0.1051; time elapsed: 9.7 min\n",
      "[valid loss]grapheme: 0.1258, vowel: 0.0953, consonant: 0.0735\n",
      "[valid recall]total: 0.9801, grapheme: 0.9719, vowel: 0.9895, consonant: 0.9869\n",
      "================================================================================\n"
     ]
    },
    {
     "name": "stdout",
     "output_type": "stream",
     "text": [
      "lr:  [0.004058670021423012]\n"
     ]
    },
    {
     "name": "stderr",
     "output_type": "stream",
     "text": [
      "[EPOCH 00060]train_loss: 0.7693; val_loss: 0.0817; time elapsed: 9.9 min\n",
      "[valid loss]grapheme: 0.1109, vowel: 0.0557, consonant: 0.0494\n",
      "[valid recall]total: 0.9775, grapheme: 0.9675, vowel: 0.9889, consonant: 0.9863\n",
      "================================================================================\n"
     ]
    },
    {
     "name": "stdout",
     "output_type": "stream",
     "text": [
      "lr:  [0.003984494581315281]\n"
     ]
    },
    {
     "name": "stderr",
     "output_type": "stream",
     "text": [
      "[EPOCH 00061]train_loss: 0.7357; val_loss: 0.0866; time elapsed: 9.9 min\n",
      "[valid loss]grapheme: 0.1084, vowel: 0.0720, consonant: 0.0575\n",
      "[valid recall]total: 0.9816, grapheme: 0.9730, vowel: 0.9890, consonant: 0.9914\n",
      "================================================================================\n"
     ]
    },
    {
     "name": "stdout",
     "output_type": "stream",
     "text": [
      "lr:  [0.003908242955288733]\n"
     ]
    },
    {
     "name": "stderr",
     "output_type": "stream",
     "text": [
      "[EPOCH 00062]train_loss: 0.7350; val_loss: 0.1037; time elapsed: 9.7 min\n",
      "[valid loss]grapheme: 0.1258, vowel: 0.0941, consonant: 0.0691\n",
      "[valid recall]total: 0.9797, grapheme: 0.9698, vowel: 0.9898, consonant: 0.9892\n",
      "================================================================================\n"
     ]
    },
    {
     "name": "stdout",
     "output_type": "stream",
     "text": [
      "lr:  [0.003830021788137277]\n"
     ]
    },
    {
     "name": "stderr",
     "output_type": "stream",
     "text": [
      "[EPOCH 00063]train_loss: 0.7200; val_loss: 0.1241; time elapsed: 10.0 min\n",
      "[valid loss]grapheme: 0.1482, vowel: 0.1131, consonant: 0.0870\n",
      "[valid recall]total: 0.9769, grapheme: 0.9655, vowel: 0.9867, consonant: 0.9897\n",
      "================================================================================\n"
     ]
    },
    {
     "name": "stdout",
     "output_type": "stream",
     "text": [
      "lr:  [0.0037499404792361865]\n"
     ]
    },
    {
     "name": "stderr",
     "output_type": "stream",
     "text": [
      "[EPOCH 00064]train_loss: 0.7136; val_loss: 0.0889; time elapsed: 10.1 min\n",
      "[valid loss]grapheme: 0.1080, vowel: 0.0755, consonant: 0.0640\n",
      "[valid recall]total: 0.9813, grapheme: 0.9735, vowel: 0.9888, consonant: 0.9897\n",
      "================================================================================\n"
     ]
    },
    {
     "name": "stdout",
     "output_type": "stream",
     "text": [
      "lr:  [0.0036681110295371665]\n"
     ]
    },
    {
     "name": "stderr",
     "output_type": "stream",
     "text": [
      "[EPOCH 00065]train_loss: 0.7346; val_loss: 0.1120; time elapsed: 9.8 min\n",
      "[valid loss]grapheme: 0.1304, vowel: 0.1058, consonant: 0.0813\n",
      "[valid recall]total: 0.9808, grapheme: 0.9734, vowel: 0.9891, consonant: 0.9873\n",
      "================================================================================\n"
     ]
    },
    {
     "name": "stdout",
     "output_type": "stream",
     "text": [
      "lr:  [0.0035846478849249023]\n"
     ]
    },
    {
     "name": "stderr",
     "output_type": "stream",
     "text": [
      "[EPOCH 00066]train_loss: 0.7090; val_loss: 0.0854; time elapsed: 10.0 min\n",
      "[valid loss]grapheme: 0.1110, vowel: 0.0659, consonant: 0.0537\n",
      "[valid recall]total: 0.9810, grapheme: 0.9726, vowel: 0.9898, consonant: 0.9888\n",
      "================================================================================\n"
     ]
    },
    {
     "name": "stdout",
     "output_type": "stream",
     "text": [
      "lr:  [0.0034996677761541394]\n"
     ]
    },
    {
     "name": "stderr",
     "output_type": "stream",
     "text": [
      "[EPOCH 00067]train_loss: 0.7057; val_loss: 0.0925; time elapsed: 10.1 min\n",
      "[valid loss]grapheme: 0.1124, vowel: 0.0819, consonant: 0.0635\n",
      "[valid recall]total: 0.9806, grapheme: 0.9726, vowel: 0.9889, consonant: 0.9883\n",
      "================================================================================\n"
     ]
    },
    {
     "name": "stdout",
     "output_type": "stream",
     "text": [
      "lr:  [0.0034132895555911667]\n"
     ]
    }
   ],
   "source": [
    "#### training for 5 folds here ####\n",
    "kf = KFold(n_splits=5, shuffle=True, random_state=SEED).split(X=train_images_arr, y=train_label_arr)\n",
    "\n",
    "for fold, (train_idx, valid_idx) in enumerate(kf):\n",
    "    \n",
    "    if fold in [0,1,2,3,4]:#train 1 fold for testing ideas\n",
    "        print('========training fold %d========'%fold)\n",
    "        print(train_idx)\n",
    "        print(valid_idx)\n",
    "        \n",
    "        checkpoint_path = '../checkpoint/v4-fold'+str(fold)\n",
    "        print('checkpoint_path: ', checkpoint_path)\n",
    "        \n",
    "        #1.1 data\n",
    "        train_inputs, valid_inputs = train_images_arr[train_idx], train_images_arr[valid_idx]\n",
    "        train_outputs, valid_outputs = train_label_arr[train_idx], train_label_arr[valid_idx]\n",
    "        #1.2 Dataset, DataLoader\n",
    "        train_dl = prepare_dataset(train_inputs, train_outputs, mode='train', debug=debug)\n",
    "        val_dl = prepare_dataset(valid_inputs, valid_outputs, mode='valid', debug=debug)\n",
    "        \n",
    "        #2. model\n",
    "        #net = se_resnext50_32x4d(num_classes=num_classes, pretrained=None).cuda(device=device)\n",
    "        net = se_resnext50_32x4d(num_classes=num_classes, pretrained='imagenet').cuda(device=device)\n",
    "\n",
    "        #3. train session\n",
    "        train_and_valid(net, train_dl, val_dl)\n"
   ]
  },
  {
   "cell_type": "code",
   "execution_count": null,
   "metadata": {},
   "outputs": [],
   "source": [
    "#fold0: val_loss=0.0543, CV=0.9850, LB=0.9763\n",
    "#fold1: val_loss=0.0609, CV=0.9840, LB=0.9778\n"
   ]
  },
  {
   "cell_type": "code",
   "execution_count": null,
   "metadata": {},
   "outputs": [],
   "source": [
    "# fold 0\n",
    "# [     0      1      2 ... 200835 200837 200839]\n",
    "# [     4      6     12 ... 200832 200836 200838]"
   ]
  },
  {
   "cell_type": "markdown",
   "metadata": {},
   "source": [
    "### check dataset/network/etc."
   ]
  },
  {
   "cell_type": "code",
   "execution_count": null,
   "metadata": {
    "scrolled": true
   },
   "outputs": [],
   "source": [
    "# kf = KFold(n_splits=5, shuffle=True, random_state=SEED).split(X=train_images_arr, y=train_label_arr)\n",
    "\n",
    "# for fold, (train_idx, valid_idx) in enumerate(kf):\n",
    "    \n",
    "#     if fold in [0]:#train 1 fold for testing ideas\n",
    "#         print('========training fold %d========'%fold)\n",
    "#         print(train_idx)\n",
    "#         print(valid_idx)\n",
    "        \n",
    "#         #1.1 data\n",
    "#         train_inputs, valid_inputs = train_images_arr[train_idx], train_images_arr[valid_idx]\n",
    "#         train_outputs, valid_outputs = train_label_arr[train_idx], train_label_arr[valid_idx]\n",
    "#         #1.2 Dataset, DataLoader\n",
    "#         train_dl = prepare_dataset(train_inputs, train_outputs, mode='train', debug=debug)\n",
    "#         val_dl = prepare_dataset(valid_inputs, valid_outputs, mode='valid', debug=debug)\n",
    "\n",
    "# ####\n",
    "# for batch_id, (images, labels) in enumerate(train_dl):\n",
    "#     inputs = images.to(device=device, dtype=torch.float)\n",
    "#     truth = labels.to(device=device, dtype=torch.float)\n",
    "#     if np.random.rand()<1.0:\n",
    "#         print('cutmix')\n",
    "#         inputs, truth = cutmix(inputs, truth, alpha=None)\n",
    "#     else:\n",
    "#         print('mixup')\n",
    "#         inputs, truth = mixup(inputs, truth, alpha=0.4)\n",
    "#     if batch_id==1:\n",
    "#         break\n",
    "\n",
    "# #print(inputs.shape, truth.shape)"
   ]
  },
  {
   "cell_type": "code",
   "execution_count": null,
   "metadata": {},
   "outputs": [],
   "source": [
    "# show_inputs = inputs.cpu().numpy()[np.random.choice(BATCH_SIZE, 20), :, :, :]\n",
    "# fig,axes = plt.subplots(5,4, figsize=(10,8))\n",
    "# for i in range(20):\n",
    "#     axes[i//4, i%4].imshow(show_inputs[i, 0], cmap='binary')"
   ]
  },
  {
   "cell_type": "code",
   "execution_count": null,
   "metadata": {},
   "outputs": [],
   "source": []
  },
  {
   "cell_type": "code",
   "execution_count": null,
   "metadata": {},
   "outputs": [],
   "source": [
    "# import importlib\n",
    "# import senet_v2\n",
    "# importlib.reload(senet_v2)\n",
    "\n",
    "# import torch\n",
    "\n",
    "# from senet_v2 import se_resnext50_32x4d\n",
    "\n",
    "# net = se_resnext50_32x4d(num_classes=186, pretrained='imagenet', debug=True).cuda(device='cuda:2')\n",
    "\n",
    "# inputs = torch.rand((128, 1, 137, 236), dtype=torch.float).cuda(device='cuda:2')\n",
    "# print(inputs.size())\n",
    "\n",
    "# logit = net(inputs)\n",
    "# print(logit.shape)"
   ]
  },
  {
   "cell_type": "code",
   "execution_count": null,
   "metadata": {},
   "outputs": [],
   "source": []
  }
 ],
 "metadata": {
  "kernelspec": {
   "display_name": "Python 3",
   "language": "python",
   "name": "python3"
  },
  "language_info": {
   "codemirror_mode": {
    "name": "ipython",
    "version": 3
   },
   "file_extension": ".py",
   "mimetype": "text/x-python",
   "name": "python",
   "nbconvert_exporter": "python",
   "pygments_lexer": "ipython3",
   "version": "3.7.3"
  }
 },
 "nbformat": 4,
 "nbformat_minor": 2
}
