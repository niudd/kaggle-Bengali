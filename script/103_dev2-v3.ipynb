{
 "cells": [
  {
   "cell_type": "code",
   "execution_count": 1,
   "metadata": {},
   "outputs": [],
   "source": [
    "#define environment\n",
    "ON_KAGGLE = False\n",
    "TRAIN_PREDICT = 'train'"
   ]
  },
  {
   "cell_type": "code",
   "execution_count": 2,
   "metadata": {},
   "outputs": [
    {
     "name": "stdout",
     "output_type": "stream",
     "text": [
      "torch 1.3.1+cu100\n"
     ]
    }
   ],
   "source": [
    "import sys\n",
    "if ON_KAGGLE:\n",
    "    sys.path.append('../input/bengali-util/script/')\n",
    "    sys.path.append('../input/bengali-util/')\n",
    "    from script.utils import seed_everything, set_n_get_device\n",
    "else:\n",
    "    from utils import seed_everything, set_n_get_device\n",
    "\n",
    "import os\n",
    "import pickle\n",
    "import time\n",
    "\n",
    "import pandas as pd\n",
    "import numpy as np\n",
    "from matplotlib import pyplot as plt\n",
    "\n",
    "import torch\n",
    "import torch.nn as nn\n",
    "from torch.nn import functional as F\n",
    "print('torch', torch.__version__)\n",
    "\n",
    "if TRAIN_PREDICT=='train':\n",
    "    from sklearn.model_selection import train_test_split, KFold\n",
    "\n",
    "\n",
    "%matplotlib inline"
   ]
  },
  {
   "cell_type": "code",
   "execution_count": 3,
   "metadata": {},
   "outputs": [],
   "source": [
    "if ON_KAGGLE:\n",
    "    #load utility scripts\n",
    "    pass\n",
    "\n",
    "else:#offline\n",
    "    pass\n",
    "    "
   ]
  },
  {
   "cell_type": "code",
   "execution_count": 3,
   "metadata": {},
   "outputs": [],
   "source": [
    "#config\n",
    "debug = True\n",
    "SEED = 42\n",
    "IMG_HEIGHT = 137\n",
    "IMG_WIDTH = 236\n",
    "\n",
    "if TRAIN_PREDICT=='train':\n",
    "    BATCH_SIZE = 128\n",
    "else:\n",
    "    BATCH_SIZE = 256\n",
    "\n",
    "if ON_KAGGLE:\n",
    "    NUM_WORKERS = 2\n",
    "else:\n",
    "    NUM_WORKERS = 16\n",
    "\n",
    "device = set_n_get_device(\"2,3\", data_device_id=\"cuda:0\")#IMPORTANT: data_device_id is set to free gpu for storing the model, e.g.\"cuda:1\"\n",
    "multi_gpu = [0,1]\n",
    "\n",
    "if debug:\n",
    "    LOG_PATH = '../logging/v3-debug.log'\n",
    "else:\n",
    "    LOG_PATH = '../logging/v3.log'\n",
    "\n",
    "checkpoint_path = '../checkpoint/v3'\n",
    "warm_start, last_checkpoint_path = False, '../checkpoint/v2/last.pth.tar'\n",
    "\n",
    "NUM_EPOCHS = 120\n",
    "early_stopping_round = 9999\n",
    "#LearningRate = 5e-3\n",
    "\n",
    "seed_everything(SEED)"
   ]
  },
  {
   "cell_type": "code",
   "execution_count": 4,
   "metadata": {},
   "outputs": [],
   "source": [
    "#CONSTANTS\n",
    "n_grapheme=168\n",
    "n_vowel=11\n",
    "n_consonant=7\n",
    "#n_combo = 1295\n",
    "\n",
    "#num_classes = n_grapheme+n_vowel+n_consonant+n_combo\n",
    "num_classes = n_grapheme+n_vowel+n_consonant"
   ]
  },
  {
   "cell_type": "markdown",
   "metadata": {},
   "source": [
    "## Pipeline\n",
    "1. pytorch Dataset, data augmentation, DataLoader, train-test-split/KFold, \n",
    "2. network\n",
    "3. training process"
   ]
  },
  {
   "cell_type": "code",
   "execution_count": 5,
   "metadata": {
    "scrolled": true
   },
   "outputs": [
    {
     "data": {
      "text/plain": [
       "((200840, 137, 236), (200840, 3))"
      ]
     },
     "execution_count": 5,
     "metadata": {},
     "output_type": "execute_result"
    }
   ],
   "source": [
    "if ON_KAGGLE:\n",
    "    pass\n",
    "\n",
    "else:#offline\n",
    "    train_df_list = [pd.read_feather('../data/processed/train_image_data_%d.feather'%i) for i in range(4)]\n",
    "    train_images_arr = np.concatenate([df.iloc[:, 1:].values.reshape(-1, IMG_HEIGHT, IMG_WIDTH) \n",
    "                                       for df in train_df_list], axis=0)\n",
    "    train_label_df = pd.read_csv('../data/raw/train.csv')\n",
    "    train_label_arr = train_label_df[['grapheme_root', 'vowel_diacritic', 'consonant_diacritic']].values\n",
    "\n",
    "train_images_arr.shape, train_label_arr.shape"
   ]
  },
  {
   "cell_type": "code",
   "execution_count": 7,
   "metadata": {},
   "outputs": [],
   "source": [
    "# import importlib\n",
    "# import augmentation\n",
    "# importlib.reload(augmentation)\n",
    "# from augmentation import *"
   ]
  },
  {
   "cell_type": "code",
   "execution_count": 8,
   "metadata": {},
   "outputs": [],
   "source": [
    "# ##experiment a lot of augmentations\n",
    "# imgs = train_images_arr[np.random.choice(200840, 4), :]\n",
    "# imgs = np.clip((255-imgs)/255, 0, 1)\n",
    "\n",
    "# fig,axes = plt.subplots(4,2, figsize=(10,8))\n",
    "# for i in range(4):\n",
    "#     image = imgs[i]\n",
    "#     img_aug = do_random_shift_scale_crop_pad2(image, limit=0.2)\n",
    "#     axes[i, 0].imshow(image, cmap='binary')\n",
    "#     axes[i, 1].imshow(img_aug, cmap='binary')"
   ]
  },
  {
   "cell_type": "code",
   "execution_count": 9,
   "metadata": {
    "scrolled": true
   },
   "outputs": [],
   "source": [
    "## 1. encode grapheme characters to index 2. use it as sampler\n",
    "# unique_char = train_label_df['grapheme'].unique()\n",
    "# char2ind = dict([(char,i) for i,char in enumerate(unique_char)])\n",
    "# grapheme_ind = [char2ind[char] for char in train_label_df['grapheme']]\n",
    "# cls_w_dict = pd.value_counts(grapheme_ind)\n",
    "# cls_w_dict /= 100\n",
    "# cls_w_dict = cls_w_dict.to_dict()\n",
    "# cls_w = [cls_w_dict[i] for i in grapheme_ind]\n",
    "\n",
    "\n",
    "##check onehot correct?\n",
    "#train_label_df.loc[train_label_arr[:,3]==1, ]"
   ]
  },
  {
   "cell_type": "code",
   "execution_count": 6,
   "metadata": {},
   "outputs": [],
   "source": [
    "##data augmentation --cutmix, mixup\n",
    "def rand_bbox(size, lam):\n",
    "    W = size[2]\n",
    "    H = size[3]\n",
    "    #cut_rat = np.sqrt(1. - lam)\n",
    "    cut_rat = lam\n",
    "    cut_w = np.int(W * cut_rat)\n",
    "    cut_h = np.int(H * cut_rat)\n",
    "\n",
    "    # uniform, ignore edge area\n",
    "    cx = np.random.randint(W//4, W*3//4)\n",
    "    cy = np.random.randint(H//4, H*3//4)\n",
    "\n",
    "    bbx1 = np.clip(cx - cut_w // 2, 0, W)\n",
    "    bby1 = np.clip(cy - cut_h // 2, 0, H)\n",
    "    bbx2 = np.clip(cx + cut_w // 2, 0, W)\n",
    "    bby2 = np.clip(cy + cut_h // 2, 0, H)\n",
    "    #print(bbx1, bby1, bbx2, bby2)\n",
    "    return bbx1, bby1, bbx2, bby2\n",
    "\n",
    "def cutmix(data, target, alpha=1.0):\n",
    "    targets1, targets2, targets3 = target[:,0], target[:,1], target[:,2]\n",
    "    indices = torch.randperm(data.size(0))\n",
    "    shuffled_data = data[indices]\n",
    "    shuffled_targets1 = targets1[indices]\n",
    "    shuffled_targets2 = targets2[indices]\n",
    "    shuffled_targets3 = targets3[indices]\n",
    "\n",
    "    #lam = np.random.beta(alpha, alpha)\n",
    "    lam = np.sqrt(np.random.rand()/4)\n",
    "    bbx1, bby1, bbx2, bby2 = rand_bbox(data.size(), lam)\n",
    "    data[:, :, bbx1:bbx2, bby1:bby2] = data[indices, :, bbx1:bbx2, bby1:bby2]\n",
    "    #data[:, :, bbx1:bbx2, bby1:bby2] += data[indices, :, bbx1:bbx2, bby1:bby2]\n",
    "    #data = torch.clamp(data, 0, 1)\n",
    "    # adjust lambda to exactly match pixel ratio\n",
    "    lam = 1 - ((bbx2 - bbx1) * (bby2 - bby1) / (data.size()[-1] * data.size()[-2]))\n",
    "\n",
    "    targets = [targets1, shuffled_targets1, targets2, shuffled_targets2, \n",
    "               targets3, shuffled_targets3, lam]\n",
    "    return data, targets\n",
    "\n",
    "def mixup(data, target, alpha=0.4):\n",
    "    targets1, targets2, targets3 = target[:,0], target[:,1], target[:,2]\n",
    "    indices = torch.randperm(data.size(0))\n",
    "    shuffled_data = data[indices]\n",
    "    shuffled_targets1 = targets1[indices]\n",
    "    shuffled_targets2 = targets2[indices]\n",
    "    shuffled_targets3 = targets3[indices]\n",
    "\n",
    "    lam = np.random.beta(alpha, alpha)\n",
    "    data = data * lam + shuffled_data * (1 - lam)\n",
    "    targets = [targets1, shuffled_targets1, targets2, shuffled_targets2, \n",
    "               targets3, shuffled_targets3, lam]\n",
    "\n",
    "    return data, targets"
   ]
  },
  {
   "cell_type": "code",
   "execution_count": 11,
   "metadata": {},
   "outputs": [],
   "source": [
    "# kf = KFold(n_splits=5, shuffle=True, random_state=SEED).split(X=train_images_arr, y=train_label_arr)\n",
    "\n",
    "# for fold, (train_idx, valid_idx) in enumerate(kf):\n",
    "    \n",
    "#     if fold in [0]:#train 1 fold for testing ideas\n",
    "#         print('========training fold %d========'%fold)\n",
    "#         print(train_idx)\n",
    "#         print(valid_idx)\n",
    "        \n",
    "#         #1.1 data\n",
    "#         train_inputs, valid_inputs = train_images_arr[train_idx], train_images_arr[valid_idx]\n",
    "#         train_outputs, valid_outputs = train_label_arr[train_idx], train_label_arr[valid_idx]\n",
    "#         #1.2 Dataset, DataLoader\n",
    "#         train_dl = prepare_dataset(train_inputs, train_outputs, mode='train', debug=debug)\n",
    "#         val_dl = prepare_dataset(valid_inputs, valid_outputs, mode='valid', debug=debug)\n",
    "\n",
    "# ####\n",
    "# for batch_id, (images, labels) in enumerate(train_dl):\n",
    "#     inputs = images.to(device=device, dtype=torch.float)\n",
    "#     truth = labels.to(device=device, dtype=torch.float)\n",
    "#     if np.random.rand()<-10:\n",
    "#         inputs, truth = cutmix(inputs, truth, alpha=None)\n",
    "#     else:\n",
    "#         inputs, truth = mixup(inputs, truth, alpha=0.4)\n",
    "#     if batch_id==1:\n",
    "#         break\n",
    "\n",
    "# #print(inputs.shape, truth.shape)\n",
    "\n",
    "# show_inputs = inputs.cpu().numpy()[np.random.choice(BATCH_SIZE, 20, replace=False), :, :, :]\n",
    "# fig,axes = plt.subplots(5,4, figsize=(10,8))\n",
    "# for i in range(20):\n",
    "#     axes[i//4, i%4].imshow(show_inputs[i, 0], cmap='binary')"
   ]
  },
  {
   "cell_type": "code",
   "execution_count": 12,
   "metadata": {},
   "outputs": [],
   "source": [
    "# ##crop to 128x128\n",
    "# def bbox(img):\n",
    "#     rows = np.any(img, axis=1)\n",
    "#     cols = np.any(img, axis=0)\n",
    "#     rmin, rmax = np.where(rows)[0][[0, -1]]\n",
    "#     cmin, cmax = np.where(cols)[0][[0, -1]]\n",
    "#     return rmin, rmax, cmin, cmax\n",
    "\n",
    "# def crop_resize(img0, size=128, pad=16):\n",
    "#     #crop a box around pixels large than the threshold \n",
    "#     #some images contain line at the sides\n",
    "#     ymin,ymax,xmin,xmax = bbox(img0[5:-5,5:-5] > 80)\n",
    "#     #cropping may cut too much, so we need to add it back\n",
    "#     xmin = xmin - 13 if (xmin > 13) else 0\n",
    "#     ymin = ymin - 10 if (ymin > 10) else 0\n",
    "#     xmax = xmax + 13 if (xmax < IMG_WIDTH - 13) else IMG_WIDTH\n",
    "#     ymax = ymax + 10 if (ymax < IMG_HEIGHT - 10) else IMG_HEIGHT\n",
    "#     img = img0[ymin:ymax,xmin:xmax]\n",
    "#     #remove lo intensity pixels as noise\n",
    "#     img[img < 28] = 0\n",
    "#     lx, ly = xmax-xmin,ymax-ymin\n",
    "#     l = max(lx,ly) + pad\n",
    "#     #make sure that the aspect ratio is kept in rescaling\n",
    "#     img = np.pad(img, [((l-ly)//2,), ((l-lx)//2,)], mode='constant')\n",
    "#     return cv2.resize(img,(size,size))"
   ]
  },
  {
   "cell_type": "code",
   "execution_count": 13,
   "metadata": {},
   "outputs": [],
   "source": [
    "#img0 = train_images_arr[0]\n",
    "#img0 = 255 - img0\n",
    "#img0 = (img0*(255.0/img0.max())).astype(np.uint8)\n",
    "#plt.imshow(crop_resize(rotate(img0, angle=20, reshape=False)))"
   ]
  },
  {
   "cell_type": "code",
   "execution_count": 14,
   "metadata": {},
   "outputs": [],
   "source": [
    "# #### make up a weighted/balanced data sampler --for mixup/cutmix ####\n",
    "# #weights for 168 classes--graphene_root\n",
    "# import torch.utils.data\n",
    "# _weights = [6.8,6.9,3,3.1,3,5.7,3.2,6.5,6.4,2.3,6.6,6.6,6.8,0.2,1.3,0.9,1.1,1.3,0.6,3.6,3,1.1,0.3,0.2,3,0.9,5.8,3.3,1.3,0.4,2.3,1.3,0.9,7.4,3.6,2.1,1,3.5,0.3,1.6,1.3,3.3,0.5,0.3,0.9,6.9,1.7,2.2,0.7,3.1,1.4,3.1,1.1,0.3,1.7,0.6,0.4,1.6,0.8,0.4,2.3,1.7,1.2,6.7,0.2,0.7,1.3,2.1,1.6,1.3,1,0.3,0.2,7.7,0.7,0.9,0.5,1,3.4,0.3,2.2,0.3,3.4,0.7,2.2,0.7,0.5,6,1.3,0.4,1.6,0.6,0.9,1.6,1,1.4,0.2,2.1,1.6,2.2,2.2,0.9,7.1,0.3,6.2,6.6,1.3,0.2,6.3,1.1,2.9,1.3,1.1,0.2,6.7,0.2,2.3,0.7,0.9,0.7,0.8,2.2,0.4,0.5,0.5,1.2,6.3,1.1,1.1,1,6.9,2.3,1,0.2,1.6,1.6,1,1.8,1.1,0.4,1.1,0.6,0.9,1.6,1.6,3.2,3.3,0.2,0.6,0.4,0.4,0.8,1.6,0.6,1.4,1.1,1.3,3.1,7,0.3,2.1,3.2,2.2,6.1,6.1,0.9,3.3,0.6]\n",
    "# weights_dict = dict(zip(range(len(_weights)), _weights))"
   ]
  },
  {
   "cell_type": "code",
   "execution_count": 7,
   "metadata": {},
   "outputs": [],
   "source": [
    "from torch.utils.data import DataLoader, Dataset\n",
    "from utils import set_logger, save_checkpoint, load_checkpoint\n",
    "import logging\n",
    "#import gc\n",
    "from scipy.ndimage.interpolation import rotate\n",
    "import cv2\n",
    "from augmentation import *\n",
    "\n",
    "\n",
    "def prepare_dataset(img_arr, label_arr, mode='train', debug=False):\n",
    "    \"\"\"\n",
    "    mode: 'train', 'valid', 'test'\n",
    "    \"\"\"\n",
    "    if debug:#for debug, sample 1/10 data\n",
    "        n = img_arr.shape[0]\n",
    "        sid = np.random.choice(n, size=n//5, replace=False)\n",
    "        img_arr = img_arr[sid]\n",
    "        label_arr = label_arr[sid]\n",
    "\n",
    "    if mode=='train':\n",
    "        ds = DatasetV1(img_arr, label_arr, mode='train', augmentation=True)\n",
    "        dl = DataLoader(ds,\n",
    "                        batch_size=BATCH_SIZE,\n",
    "                        shuffle=True,\n",
    "                        #sampler=sampler,\n",
    "                        num_workers=NUM_WORKERS,\n",
    "                        drop_last=True\n",
    "                       )\n",
    "\n",
    "#     if mode=='train':\n",
    "#         ds = DatasetV1(img_arr, label_arr, mode='train', augmentation=True)\n",
    "#         weights = [weights_dict[c] for c in label_arr[:,0]]\n",
    "#         sampler = torch.utils.data.WeightedRandomSampler(weights, num_samples=len(ds), replacement=True)\n",
    "#         dl = DataLoader(ds,\n",
    "#                         batch_size=BATCH_SIZE,\n",
    "#                         shuffle=False,\n",
    "#                         sampler=sampler,\n",
    "#                         num_workers=NUM_WORKERS,\n",
    "#                         drop_last=True\n",
    "#                        )\n",
    "#         return dl\n",
    "\n",
    "    elif mode=='valid':\n",
    "        ds = DatasetV1(img_arr, label_arr, mode='train', augmentation=False)\n",
    "        dl = DataLoader(ds,\n",
    "                        batch_size=BATCH_SIZE,\n",
    "                        shuffle=False,\n",
    "                        #sampler=sampler,\n",
    "                        num_workers=NUM_WORKERS,\n",
    "                        drop_last=True\n",
    "                       )\n",
    "    elif mode=='test':\n",
    "        ds = DatasetV1(img_arr, label_arr, mode='test', augmentation=False)\n",
    "        dl = DataLoader(ds,\n",
    "                        batch_size=BATCH_SIZE,\n",
    "                        shuffle=False,\n",
    "                        #sampler=sampler,\n",
    "                        num_workers=NUM_WORKERS,\n",
    "                        drop_last=False\n",
    "                       ) \n",
    "    return dl\n",
    "\n",
    "class DatasetV1(Dataset):\n",
    "    \"\"\"plain\"\"\"\n",
    "    def __init__(self, inputs, outputs, mode='train', augmentation=False):\n",
    "        \"\"\"\n",
    "        inputs: images, (N, H, W)\n",
    "        outputs: label, (N, 3)\n",
    "        \"\"\"\n",
    "        self.inputs = inputs\n",
    "        self.outputs = outputs\n",
    "        self.mode = mode \n",
    "        self.augmentation = augmentation\n",
    "    \n",
    "    def __getitem__(self, idx):\n",
    "        #TODO: augmentation, preprocessing\n",
    "        inputs, outputs = self.inputs[idx], self.outputs[idx]\n",
    "        inputs = np.clip((255-inputs)/255.0, 0, 1)\n",
    "\n",
    "#         inputs = cv2.resize(inputs, (224,224))\n",
    "#         inputs = np.clip(inputs, 0, 1)\n",
    "\n",
    "        #crop\n",
    "#         inputs = 255-inputs\n",
    "#         inputs = crop_resize(inputs)\n",
    "#         inputs = np.clip(inputs/255.0, 0, 1)\n",
    "\n",
    "        if self.augmentation:\n",
    "            inputs = self.do_augmentation(inputs)\n",
    "        \n",
    "        inputs = np.expand_dims(inputs, 0)#(224,224)-->(1,224,224)\n",
    "        inputs = inputs.astype(np.float32)\n",
    "        return inputs, outputs\n",
    "\n",
    "    def __len__(self):\n",
    "        return self.inputs.shape[0]\n",
    "    \n",
    "    def do_augmentation(self, image):\n",
    "        #rotate\n",
    "        #if np.random.rand() < 0.5:\n",
    "        #angle = np.random.randint(0, 40) - 20\n",
    "        #inputs = rotate(inputs, angle, reshape=False)\n",
    "        for op in np.random.choice([\n",
    "            lambda image : do_identity(image),\n",
    "            lambda image : do_random_projective(image, 0.4),#0.4\n",
    "            lambda image : do_random_perspective(image, 0.4),#0.4\n",
    "            lambda image : do_random_scale(image, 0.4),#0.4\n",
    "            lambda image : do_random_rotate(image, 0.4),#0.4\n",
    "            lambda image : do_random_shear_x(image, 0.5),#0.5\n",
    "            lambda image : do_random_shear_y(image, 0.4),#0.4\n",
    "            lambda image : do_random_stretch_x(image, 0.5),#0.5\n",
    "            lambda image : do_random_stretch_y(image, 0.5),#0.5\n",
    "            lambda image : do_random_grid_distortion(image, 0.4),#0.4\n",
    "            lambda image : do_random_custom_distortion1(image, 0.5),#0.5\n",
    "        ],1):\n",
    "            image = op(image)\n",
    "\n",
    "        for op in np.random.choice([\n",
    "            lambda image : do_identity(image),\n",
    "            lambda image : do_random_erode(image, 0.4),#0.4\n",
    "            lambda image : do_random_dilate(image, 0.4),#0.4\n",
    "            lambda image : do_random_sprinkle(image, 0.5),#0.5\n",
    "            #lambda image : do_random_line(image, 0.2),\n",
    "        ],1):\n",
    "            image = op(image)\n",
    "\n",
    "        for op in np.random.choice([\n",
    "            lambda image : do_identity(image),\n",
    "            lambda image : do_random_contast(image, 0.5),#0.5\n",
    "            lambda image : do_random_block_fade(image, 0.5),#0.5\n",
    "        ],1):\n",
    "            image = op(image)\n",
    "        \n",
    "#         if np.random.rand()<1.1:\n",
    "#             image = do_random_shift_scale_crop_pad2(image, limit=0.1)\n",
    "#         else:\n",
    "#             image = do_shift_scale_rotate2(image, angle=np.random.uniform(0, 10))\n",
    "        return image\n",
    "\n",
    "def train_and_valid(net, train_dl, val_dl):\n",
    "    \"\"\"train one fold\n",
    "    \n",
    "    [settings]...\n",
    "    \n",
    "    [Epoch i]\n",
    "        [Trainset]\n",
    "            [Batch j]\n",
    "        [Validset]\n",
    "            [Batch k]\n",
    "        [Logging/Checkpoint]\n",
    "    \"\"\"\n",
    "    set_logger(LOG_PATH)\n",
    "    logging.info('\\n\\n')\n",
    "    #1. optim\n",
    "    train_params = filter(lambda p: p.requires_grad, net.parameters())\n",
    "#     optimizer = torch.optim.Adam(train_params, lr=LearningRate)\n",
    "#     scheduler = torch.optim.lr_scheduler.ReduceLROnPlateau(optimizer, mode='min', \n",
    "#                                                           factor=0.5, patience=5, \n",
    "#                                                           verbose=False, threshold=0.0001, \n",
    "#                                                           threshold_mode='rel', cooldown=0, \n",
    "#                                                           min_lr=0, eps=1e-08)\n",
    "    optimizer = torch.optim.Adam(train_params)\n",
    "    scheduler = torch.optim.lr_scheduler.OneCycleLR(optimizer, max_lr=5e-3, \n",
    "                                                    steps_per_epoch=len(train_dl),#1255 \n",
    "                                                    epochs=NUM_EPOCHS)\n",
    "\n",
    "    #1.1 warm-start\n",
    "    if warm_start:\n",
    "        logging.info('warm_start: '+last_checkpoint_path)\n",
    "        net, _ = load_checkpoint(last_checkpoint_path, net)\n",
    "    \n",
    "    #2. using multi GPU\n",
    "    if multi_gpu is not None:\n",
    "        net = nn.DataParallel(net, device_ids=multi_gpu)\n",
    "    #3. train\n",
    "    diff = 0\n",
    "    best_val_metric = np.inf\n",
    "    optimizer.zero_grad()\n",
    "    \n",
    "    for i_epoch in range(NUM_EPOCHS):\n",
    "        t0 = time.time()\n",
    "        print('lr: ', scheduler.get_lr())\n",
    "        ## trainset -------------------------------------------------------------\n",
    "        net.train()\n",
    "        loss_logger = LossLogger()\n",
    "        for batch_id, (images, labels) in enumerate(train_dl):\n",
    "            inputs = images.to(device=device, dtype=torch.float)\n",
    "            truth = labels.to(device=device, dtype=torch.float)\n",
    "            \n",
    "            #do cutmix/mixup\n",
    "            if i_epoch<-1:#5\n",
    "                mode = 0\n",
    "                do_nothing = True\n",
    "            else:\n",
    "                mode = 1\n",
    "                if np.random.rand()<0.5:\n",
    "                    inputs, truth = cutmix(inputs, truth, alpha=None)\n",
    "                else:\n",
    "                    inputs, truth = mixup(inputs, truth, alpha=0.4)\n",
    "            \n",
    "            logit = net(inputs)\n",
    "            logits = torch.split(logit, [n_grapheme, n_vowel, n_consonant], dim=1)\n",
    "            train_loss = loss_logger.update(logits, truth, mode=mode)\n",
    "            #grandient accumulation step=2\n",
    "            acc_step = 1\n",
    "            if acc_step>1:\n",
    "                train_loss = train_loss / acc_step\n",
    "            train_loss.backward()\n",
    "            if (batch_id+1)%acc_step==0:\n",
    "                optimizer.step()\n",
    "                optimizer.zero_grad()\n",
    "            ##lr scheduler\n",
    "            scheduler.step()\n",
    "        ##aggregate loss\n",
    "        train_loss_total, _, _, _ = loss_logger.aggregate()\n",
    "        \n",
    "#         ##check for memory leakage\n",
    "#         for obj in gc.get_objects():\n",
    "#             try:\n",
    "#                 if torch.is_tensor(obj) or (hasattr(obj, 'data') and torch.is_tensor(obj.data)):\n",
    "#                     print(type(obj), obj.size())\n",
    "#             except:\n",
    "#                 pass\n",
    "        ## validset -------------------------------------------------------------\n",
    "        net.eval()\n",
    "        loss_logger = LossLogger()\n",
    "        metric_logger = MetricLogger()\n",
    "        with torch.no_grad():\n",
    "            for batch_id, (images, labels) in enumerate(val_dl):\n",
    "                inputs = images.to(device=device, dtype=torch.float)\n",
    "                truth = labels.to(device=device, dtype=torch.float)\n",
    "                logit = net(inputs)\n",
    "                logits = torch.split(logit, [n_grapheme, n_vowel, n_consonant], dim=1)\n",
    "                _ = loss_logger.update(logits, truth, mode=0)\n",
    "                metric_logger.update(logits, truth)\n",
    "        rec, rec_grapheme, rec_vowel, rec_consonant = metric_logger.aggregate()\n",
    "        loss_total, loss_grapheme, loss_vowel, loss_consonant = loss_logger.aggregate()\n",
    "        \n",
    "        ## callbacks -------------------------------------------------------------\n",
    "        val_metric = loss_total#rec\n",
    "        #scheduler.step(val_metric)\n",
    "        \n",
    "        #sometimes too early stop, force to at least train N epochs\n",
    "        if i_epoch>=80:\n",
    "            if val_metric < best_val_metric:\n",
    "                best_val_metric = val_metric\n",
    "                is_best = True\n",
    "                diff = 0\n",
    "            else:\n",
    "                is_best = False\n",
    "                diff += 1\n",
    "                if diff > early_stopping_round:\n",
    "                    logging.info('Early Stopping: val_metric does not increase %d rounds'%early_stopping_round)\n",
    "                    break\n",
    "        else:\n",
    "            is_best = False\n",
    "        \n",
    "        #save checkpoint\n",
    "        checkpoint_dict = \\\n",
    "        {\n",
    "            'epoch': i_epoch,\n",
    "            'state_dict': net.module.state_dict() if multi_gpu is not None else net.state_dict(),\n",
    "            'optim_dict' : optimizer.state_dict(),\n",
    "            'metrics': {'train_loss': train_loss_total, 'val_loss': loss_total, \n",
    "                        'val_metric': val_metric}\n",
    "        }\n",
    "        save_checkpoint(checkpoint_dict, is_best=is_best, checkpoint=checkpoint_path)\n",
    "        \n",
    "        #logging loss/metric\n",
    "        logging.info('[EPOCH %05d]train_loss: %0.4f; val_loss: %0.4f; time elapsed: %0.1f min'%(i_epoch, \n",
    "                    train_loss_total, loss_total, (time.time()-t0)/60))\n",
    "        logging.info('[valid loss]grapheme: %0.4f, vowel: %0.4f, consonant: %0.4f'%(loss_grapheme, \n",
    "                                                                        loss_vowel, loss_consonant))\n",
    "        logging.info('[valid recall]total: %0.4f, grapheme: %0.4f, vowel: %0.4f, consonant: %0.4f'%(rec, \n",
    "                    rec_grapheme, rec_vowel, rec_consonant))\n",
    "        logging.info('='*80)\n",
    "\n",
    "def predict(test_dl):\n",
    "    pass"
   ]
  },
  {
   "cell_type": "code",
   "execution_count": 16,
   "metadata": {
    "scrolled": true
   },
   "outputs": [],
   "source": [
    "# import torch\n",
    "# import torchvision\n",
    "# print(torch.__version__)\n",
    "\n",
    "# NUM_EPOCHS=120\n",
    "\n",
    "# model = torchvision.models.resnet18(pretrained=False)\n",
    "# optimizer = torch.optim.Adam(model.parameters())\n",
    "# scheduler = torch.optim.lr_scheduler.OneCycleLR(optimizer, max_lr=5e-3, \n",
    "#                                                 steps_per_epoch=1255, epochs=NUM_EPOCHS)#steps_per_epoch=len(dl)\n",
    "\n",
    "# l = []\n",
    "# for epoch in range(NUM_EPOCHS):\n",
    "#     for i,batch in enumerate(range(1255)):\n",
    "#         l.append(scheduler.get_lr())\n",
    "#         #train_batch(...)\n",
    "#         scheduler.step()\n",
    "\n",
    "# l[0::1255]"
   ]
  },
  {
   "cell_type": "code",
   "execution_count": 8,
   "metadata": {},
   "outputs": [],
   "source": [
    "from sklearn.metrics import recall_score\n",
    "\n",
    "class LossLogger(object):\n",
    "    \"\"\"loss for an epoch\n",
    "    \n",
    "    [Epoch i]:\n",
    "        loss_logger = LossLogger()\n",
    "        \n",
    "        [Batch j]:\n",
    "            loss = loss_logger.update(logits, truth)\n",
    "            loss.backward()\n",
    "        \n",
    "        loss, loss_grapheme, loss_vowel, loss_consonant = loss_logger.aggregate()\n",
    "    \"\"\"\n",
    "    def __init__(self):\n",
    "        self.loss_grapheme = []\n",
    "        self.loss_vowel = []\n",
    "        self.loss_consonant = []\n",
    "\n",
    "    def update(self, logits, truth, mode=0):\n",
    "        \"\"\"\n",
    "        logits: logit splitted to [logit_grapheme, logit_vowel, logit_consonant]\n",
    "        truth: shape (N, 3)\n",
    "        \"\"\"\n",
    "        if mode==0:\n",
    "            #loss\n",
    "            loss_grapheme = F.cross_entropy(logits[0], truth[:,0].long())\n",
    "            loss_vowel = F.cross_entropy(logits[1], truth[:,1].long())\n",
    "            loss_consonant = F.cross_entropy(logits[2], truth[:,2].long())\n",
    "            loss = 0.5*loss_grapheme + 0.25*loss_vowel + 0.25*loss_consonant\n",
    "            #\n",
    "            self.loss_grapheme.append(loss_grapheme.item())\n",
    "            self.loss_vowel.append(loss_vowel.item())\n",
    "            self.loss_consonant.append(loss_consonant.item())\n",
    "            return loss\n",
    "        elif mode==1:#cutmix/mixup loss\n",
    "            truth1, truth2, truth3, truth4, truth5, truth6, lam = \\\n",
    "                    truth[0], truth[1], truth[2], truth[3], truth[4], truth[5], truth[6]\n",
    "            criterion = nn.CrossEntropyLoss(reduction='mean')\n",
    "            loss_grapheme = lam * criterion(logits[0], truth1.long()) + \\\n",
    "                (1 - lam) * criterion(logits[0], truth2.long())\n",
    "            loss_vowel = lam * criterion(logits[1], truth3.long()) + \\\n",
    "                (1 - lam) * criterion(logits[1], truth4.long())\n",
    "            loss_consonant = lam * criterion(logits[2], truth5.long()) + \\\n",
    "                (1 - lam) * criterion(logits[2], truth6.long())\n",
    "            loss = 0.5*loss_grapheme + 0.25*loss_vowel + 0.25*loss_consonant\n",
    "            #\n",
    "            self.loss_grapheme.append(loss_grapheme.item())\n",
    "            self.loss_vowel.append(loss_vowel.item())\n",
    "            self.loss_consonant.append(loss_consonant.item())\n",
    "            return loss\n",
    "    \n",
    "    def aggregate(self):\n",
    "        \"\"\"\n",
    "        for print logging\n",
    "        \"\"\"\n",
    "        loss_grapheme = np.mean(self.loss_grapheme)\n",
    "        loss_vowel = np.mean(self.loss_vowel)\n",
    "        loss_consonant = np.mean(self.loss_consonant)\n",
    "        loss_total = np.mean(\n",
    "            0.5*np.array(self.loss_grapheme) + \\\n",
    "            0.25*np.array(self.loss_vowel) + \\\n",
    "            0.25*np.array(self.loss_consonant)\n",
    "        )\n",
    "        return loss_total, loss_grapheme, loss_vowel, loss_consonant\n",
    "\n",
    "class MetricLogger(object):\n",
    "    \"\"\"recall, precision for an epoch\n",
    "    \n",
    "    [Epoch i]:\n",
    "        metric_logger = MetricLogger()\n",
    "        \n",
    "        [Batch j]:\n",
    "            metric_logger.update(logits, truth)\n",
    "        \n",
    "        rec, rec_grapheme, rec_vowel, rec_consonant = metric_logger.aggregate()\n",
    "    \"\"\"\n",
    "    def __init__(self):\n",
    "        self.pred_grapheme = torch.tensor([], dtype=torch.long).cuda(device)\n",
    "        self.pred_vowel = torch.tensor([], dtype=torch.long).cuda(device=device)\n",
    "        self.pred_consonant = torch.tensor([], dtype=torch.long).cuda(device=device)\n",
    "        \n",
    "        self.truth_grapheme = torch.tensor([], dtype=torch.long).cuda(device=device)\n",
    "        self.truth_vowel = torch.tensor([], dtype=torch.long).cuda(device=device)\n",
    "        self.truth_consonant = torch.tensor([], dtype=torch.long).cuda(device=device)\n",
    "\n",
    "    def update(self, logits, truth):\n",
    "        pred = torch.argmax(logits[0], dim=1)\n",
    "        self.pred_grapheme = torch.cat([self.pred_grapheme, pred])\n",
    "        self.truth_grapheme = torch.cat([self.truth_grapheme, truth[:, 0].long()])\n",
    "        #\n",
    "        pred = torch.argmax(logits[1], dim=1)\n",
    "        self.pred_vowel = torch.cat([self.pred_vowel, pred])\n",
    "        self.truth_vowel = torch.cat([self.truth_vowel, truth[:, 1].long()])\n",
    "        #\n",
    "        pred = torch.argmax(logits[2], dim=1)\n",
    "        self.pred_consonant = torch.cat([self.pred_consonant, pred])\n",
    "        self.truth_consonant = torch.cat([self.truth_consonant, truth[:, 2].long()])\n",
    "\n",
    "    def aggregate(self):\n",
    "        rec_grapheme = recall_score(self.truth_grapheme.cpu().numpy(), \n",
    "                                    self.pred_grapheme.cpu().numpy(), \n",
    "                                    average='macro')\n",
    "        rec_vowel = recall_score(self.truth_vowel.cpu().numpy(), \n",
    "                                 self.pred_vowel.cpu().numpy(), \n",
    "                                 average='macro')\n",
    "        rec_consonant = recall_score(self.truth_consonant.cpu().numpy(), \n",
    "                                     self.pred_consonant.cpu().numpy(), \n",
    "                                     average='macro')\n",
    "        #rec = (2*rec_grapheme + 1*rec_vowel + 1*rec_consonant) / 4\n",
    "        rec = np.average([rec_grapheme, rec_vowel, rec_consonant], weights=[2,1,1])\n",
    "        return rec, rec_grapheme, rec_vowel, rec_consonant\n",
    "\n",
    "# #debug MetricLogger\n",
    "# #Epoch 0\n",
    "# loss_logger = LossLogger()\n",
    "# metric_logger = MetricLogger()\n",
    "# for batch_id, (images, labels) in enumerate(val_dl):\n",
    "#     inputs = images.to(device=device, dtype=torch.float)\n",
    "#     truth = labels.to(device=device, dtype=torch.float)\n",
    "#     if batch_id==10:\n",
    "#         break\n",
    "#     logit = net(inputs)\n",
    "#     logits = torch.split(logit, [n_grapheme, n_vowel, n_consonant], dim=1)\n",
    "#     loss = loss_logger.update(logits, truth)\n",
    "#     metric_logger.update(logits, truth)\n",
    "# rec, rec_grapheme, rec_vowel, rec_consonant = metric_logger.aggregate()\n",
    "# loss_total, loss_grapheme, loss_vowel, loss_consonant = loss_logger.aggregate()\n",
    "# print(rec, rec_grapheme, rec_vowel, rec_consonant)\n",
    "# print(loss_total, loss_grapheme, loss_vowel, loss_consonant)"
   ]
  },
  {
   "cell_type": "code",
   "execution_count": 18,
   "metadata": {},
   "outputs": [],
   "source": [
    "# from senet import se_resnext50_32x4d\n",
    "# from senet_v2 import se_resnext50_32x4d\n",
    "from efficientnet import EffiNet"
   ]
  },
  {
   "cell_type": "code",
   "execution_count": 19,
   "metadata": {
    "scrolled": true
   },
   "outputs": [
    {
     "name": "stdout",
     "output_type": "stream",
     "text": [
      "========training fold 1========\n",
      "[     1      2      3 ... 200836 200838 200839]\n",
      "[     0     11     20 ... 200829 200834 200837]\n",
      "checkpoint_path:  ../checkpoint/v3-fold1\n",
      "Loaded pretrained weights for efficientnet-b3\n"
     ]
    },
    {
     "name": "stderr",
     "output_type": "stream",
     "text": [
      "\n",
      "\n",
      "\n"
     ]
    },
    {
     "name": "stdout",
     "output_type": "stream",
     "text": [
      "lr:  [0.00019999999999999966]\n"
     ]
    },
    {
     "name": "stderr",
     "output_type": "stream",
     "text": [
      "[EPOCH 00000]train_loss: 2.7045; val_loss: 0.8571; time elapsed: 7.8 min\n",
      "[valid loss]grapheme: 1.0906, vowel: 0.5963, consonant: 0.6508\n",
      "[valid recall]total: 0.7343, grapheme: 0.6608, vowel: 0.8967, consonant: 0.7188\n",
      "================================================================================\n"
     ]
    },
    {
     "name": "stdout",
     "output_type": "stream",
     "text": [
      "lr:  [0.0002091331286183584]\n"
     ]
    },
    {
     "name": "stderr",
     "output_type": "stream",
     "text": [
      "[EPOCH 00001]train_loss: 1.8365; val_loss: 0.4375; time elapsed: 7.7 min\n",
      "[valid loss]grapheme: 0.4860, vowel: 0.3346, consonant: 0.4435\n",
      "[valid recall]total: 0.8588, grapheme: 0.8404, vowel: 0.9482, consonant: 0.8063\n",
      "================================================================================\n"
     ]
    },
    {
     "name": "stdout",
     "output_type": "stream",
     "text": [
      "lr:  [0.00023646300277480308]\n"
     ]
    },
    {
     "name": "stderr",
     "output_type": "stream",
     "text": [
      "[EPOCH 00002]train_loss: 1.5683; val_loss: 0.3192; time elapsed: 7.5 min\n",
      "[valid loss]grapheme: 0.3638, vowel: 0.2472, consonant: 0.3020\n",
      "[valid recall]total: 0.9039, grapheme: 0.8949, vowel: 0.9652, consonant: 0.8606\n",
      "================================================================================\n"
     ]
    },
    {
     "name": "stdout",
     "output_type": "stream",
     "text": [
      "lr:  [0.00028178161642283817]\n"
     ]
    },
    {
     "name": "stderr",
     "output_type": "stream",
     "text": [
      "[EPOCH 00003]train_loss: 1.4184; val_loss: 0.2673; time elapsed: 7.7 min\n",
      "[valid loss]grapheme: 0.3239, vowel: 0.1909, consonant: 0.2303\n",
      "[valid recall]total: 0.9329, grapheme: 0.9086, vowel: 0.9676, consonant: 0.9466\n",
      "================================================================================\n"
     ]
    },
    {
     "name": "stdout",
     "output_type": "stream",
     "text": [
      "lr:  [0.00034474405228975165]\n"
     ]
    },
    {
     "name": "stderr",
     "output_type": "stream",
     "text": [
      "[EPOCH 00004]train_loss: 1.3286; val_loss: 0.2731; time elapsed: 7.8 min\n",
      "[valid loss]grapheme: 0.3552, vowel: 0.1865, consonant: 0.1955\n",
      "[valid recall]total: 0.9225, grapheme: 0.9005, vowel: 0.9641, consonant: 0.9251\n",
      "================================================================================\n"
     ]
    },
    {
     "name": "stdout",
     "output_type": "stream",
     "text": [
      "lr:  [0.00042487110702146315]\n"
     ]
    },
    {
     "name": "stderr",
     "output_type": "stream",
     "text": [
      "[EPOCH 00005]train_loss: 1.2608; val_loss: 0.2318; time elapsed: 7.9 min\n",
      "[valid loss]grapheme: 0.2919, vowel: 0.1856, consonant: 0.1579\n",
      "[valid recall]total: 0.9445, grapheme: 0.9212, vowel: 0.9743, consonant: 0.9614\n",
      "================================================================================\n"
     ]
    },
    {
     "name": "stdout",
     "output_type": "stream",
     "text": [
      "lr:  [0.0005215529383707429]\n"
     ]
    },
    {
     "name": "stderr",
     "output_type": "stream",
     "text": [
      "[EPOCH 00006]train_loss: 1.2085; val_loss: 0.2405; time elapsed: 8.0 min\n",
      "[valid loss]grapheme: 0.3154, vowel: 0.1795, consonant: 0.1520\n",
      "[valid recall]total: 0.9381, grapheme: 0.9185, vowel: 0.9704, consonant: 0.9449\n",
      "================================================================================\n"
     ]
    },
    {
     "name": "stdout",
     "output_type": "stream",
     "text": [
      "lr:  [0.0006340537066702812]\n"
     ]
    },
    {
     "name": "stderr",
     "output_type": "stream",
     "text": [
      "[EPOCH 00007]train_loss: 1.1728; val_loss: 0.2138; time elapsed: 7.8 min\n",
      "[valid loss]grapheme: 0.2827, vowel: 0.1586, consonant: 0.1315\n",
      "[valid recall]total: 0.9510, grapheme: 0.9324, vowel: 0.9760, consonant: 0.9632\n",
      "================================================================================\n"
     ]
    },
    {
     "name": "stdout",
     "output_type": "stream",
     "text": [
      "lr:  [0.0007615171752646255]\n"
     ]
    },
    {
     "name": "stderr",
     "output_type": "stream",
     "text": [
      "[EPOCH 00008]train_loss: 1.1498; val_loss: 0.2084; time elapsed: 7.8 min\n",
      "[valid loss]grapheme: 0.2798, vowel: 0.1476, consonant: 0.1265\n",
      "[valid recall]total: 0.9508, grapheme: 0.9287, vowel: 0.9773, consonant: 0.9685\n",
      "================================================================================\n"
     ]
    },
    {
     "name": "stdout",
     "output_type": "stream",
     "text": [
      "lr:  [0.0009029732272764308]\n"
     ]
    },
    {
     "name": "stderr",
     "output_type": "stream",
     "text": [
      "[EPOCH 00009]train_loss: 1.1325; val_loss: 0.2019; time elapsed: 7.9 min\n",
      "[valid loss]grapheme: 0.2700, vowel: 0.1486, consonant: 0.1190\n",
      "[valid recall]total: 0.9507, grapheme: 0.9314, vowel: 0.9764, consonant: 0.9637\n",
      "================================================================================\n"
     ]
    },
    {
     "name": "stdout",
     "output_type": "stream",
     "text": [
      "lr:  [0.0010573452491083046]\n"
     ]
    },
    {
     "name": "stderr",
     "output_type": "stream",
     "text": [
      "[EPOCH 00010]train_loss: 1.1227; val_loss: 0.2765; time elapsed: 7.9 min\n",
      "[valid loss]grapheme: 0.3957, vowel: 0.1604, consonant: 0.1542\n",
      "[valid recall]total: 0.9283, grapheme: 0.8929, vowel: 0.9711, consonant: 0.9562\n",
      "================================================================================\n"
     ]
    },
    {
     "name": "stdout",
     "output_type": "stream",
     "text": [
      "lr:  [0.0012234583244848593]\n"
     ]
    },
    {
     "name": "stderr",
     "output_type": "stream",
     "text": [
      "[EPOCH 00011]train_loss: 1.1065; val_loss: 0.2370; time elapsed: 7.9 min\n",
      "[valid loss]grapheme: 0.3276, vowel: 0.1682, consonant: 0.1244\n",
      "[valid recall]total: 0.9391, grapheme: 0.9103, vowel: 0.9754, consonant: 0.9604\n",
      "================================================================================\n"
     ]
    },
    {
     "name": "stdout",
     "output_type": "stream",
     "text": [
      "lr:  [0.0014000481766705897]\n"
     ]
    },
    {
     "name": "stderr",
     "output_type": "stream",
     "text": [
      "[EPOCH 00012]train_loss: 1.0818; val_loss: 0.2238; time elapsed: 7.7 min\n",
      "[valid loss]grapheme: 0.3050, vowel: 0.1581, consonant: 0.1271\n",
      "[valid recall]total: 0.9417, grapheme: 0.9198, vowel: 0.9689, consonant: 0.9584\n",
      "================================================================================\n"
     ]
    },
    {
     "name": "stdout",
     "output_type": "stream",
     "text": [
      "lr:  [0.0015857707908049057]\n"
     ]
    },
    {
     "name": "stderr",
     "output_type": "stream",
     "text": [
      "[EPOCH 00013]train_loss: 1.0739; val_loss: 0.2408; time elapsed: 7.9 min\n",
      "[valid loss]grapheme: 0.3257, vowel: 0.1739, consonant: 0.1380\n",
      "[valid recall]total: 0.9374, grapheme: 0.9186, vowel: 0.9669, consonant: 0.9455\n",
      "================================================================================\n"
     ]
    },
    {
     "name": "stdout",
     "output_type": "stream",
     "text": [
      "lr:  [0.001779212643119284]\n"
     ]
    },
    {
     "name": "stderr",
     "output_type": "stream",
     "text": [
      "[EPOCH 00014]train_loss: 1.0714; val_loss: 0.2204; time elapsed: 8.0 min\n",
      "[valid loss]grapheme: 0.2901, vowel: 0.1626, consonant: 0.1388\n",
      "[valid recall]total: 0.9497, grapheme: 0.9333, vowel: 0.9734, consonant: 0.9587\n",
      "================================================================================\n"
     ]
    },
    {
     "name": "stdout",
     "output_type": "stream",
     "text": [
      "lr:  [0.001978901459182592]\n"
     ]
    },
    {
     "name": "stderr",
     "output_type": "stream",
     "text": [
      "[EPOCH 00015]train_loss: 1.0206; val_loss: 0.2283; time elapsed: 7.9 min\n",
      "[valid loss]grapheme: 0.3131, vowel: 0.1475, consonant: 0.1396\n",
      "[valid recall]total: 0.9345, grapheme: 0.9109, vowel: 0.9729, consonant: 0.9435\n",
      "================================================================================\n"
     ]
    },
    {
     "name": "stdout",
     "output_type": "stream",
     "text": [
      "lr:  [0.0021833174192941998]\n"
     ]
    },
    {
     "name": "stderr",
     "output_type": "stream",
     "text": [
      "[EPOCH 00016]train_loss: 1.0650; val_loss: 0.2325; time elapsed: 7.7 min\n",
      "[valid loss]grapheme: 0.3068, vowel: 0.1734, consonant: 0.1429\n",
      "[valid recall]total: 0.9428, grapheme: 0.9209, vowel: 0.9702, consonant: 0.9593\n",
      "================================================================================\n"
     ]
    },
    {
     "name": "stdout",
     "output_type": "stream",
     "text": [
      "lr:  [0.0023909047257413218]\n"
     ]
    },
    {
     "name": "stderr",
     "output_type": "stream",
     "text": [
      "[EPOCH 00017]train_loss: 1.0483; val_loss: 0.1925; time elapsed: 7.9 min\n",
      "[valid loss]grapheme: 0.2531, vowel: 0.1454, consonant: 0.1182\n",
      "[valid recall]total: 0.9511, grapheme: 0.9337, vowel: 0.9748, consonant: 0.9622\n",
      "================================================================================\n"
     ]
    },
    {
     "name": "stdout",
     "output_type": "stream",
     "text": [
      "lr:  [0.0026000834438828562]\n"
     ]
    },
    {
     "name": "stderr",
     "output_type": "stream",
     "text": [
      "[EPOCH 00018]train_loss: 1.0329; val_loss: 0.3791; time elapsed: 8.0 min\n",
      "[valid loss]grapheme: 0.5053, vowel: 0.2837, consonant: 0.2222\n",
      "[valid recall]total: 0.9031, grapheme: 0.8637, vowel: 0.9445, consonant: 0.9408\n",
      "================================================================================\n"
     ]
    },
    {
     "name": "stdout",
     "output_type": "stream",
     "text": [
      "lr:  [0.0028092615269379615]\n"
     ]
    },
    {
     "name": "stderr",
     "output_type": "stream",
     "text": [
      "[EPOCH 00019]train_loss: 1.0233; val_loss: 0.1961; time elapsed: 8.0 min\n",
      "[valid loss]grapheme: 0.2583, vowel: 0.1502, consonant: 0.1176\n",
      "[valid recall]total: 0.9520, grapheme: 0.9355, vowel: 0.9739, consonant: 0.9633\n",
      "================================================================================\n"
     ]
    },
    {
     "name": "stdout",
     "output_type": "stream",
     "text": [
      "lr:  [0.0030168469329594017]\n"
     ]
    },
    {
     "name": "stderr",
     "output_type": "stream",
     "text": [
      "[EPOCH 00020]train_loss: 1.0180; val_loss: 0.1883; time elapsed: 7.8 min\n",
      "[valid loss]grapheme: 0.2574, vowel: 0.1249, consonant: 0.1134\n",
      "[valid recall]total: 0.9469, grapheme: 0.9279, vowel: 0.9774, consonant: 0.9542\n",
      "================================================================================\n"
     ]
    },
    {
     "name": "stdout",
     "output_type": "stream",
     "text": [
      "lr:  [0.0032212597417701017]\n"
     ]
    },
    {
     "name": "stderr",
     "output_type": "stream",
     "text": [
      "[EPOCH 00021]train_loss: 1.0109; val_loss: 0.1740; time elapsed: 7.9 min\n",
      "[valid loss]grapheme: 0.2402, vowel: 0.1137, consonant: 0.1020\n",
      "[valid recall]total: 0.9581, grapheme: 0.9441, vowel: 0.9795, consonant: 0.9648\n",
      "================================================================================\n"
     ]
    },
    {
     "name": "stdout",
     "output_type": "stream",
     "text": [
      "lr:  [0.0034209441796416405]\n"
     ]
    },
    {
     "name": "stderr",
     "output_type": "stream",
     "text": [
      "[EPOCH 00022]train_loss: 0.9963; val_loss: 0.3098; time elapsed: 8.0 min\n",
      "[valid loss]grapheme: 0.4549, vowel: 0.1938, consonant: 0.1358\n",
      "[valid recall]total: 0.9133, grapheme: 0.8751, vowel: 0.9577, consonant: 0.9453\n",
      "================================================================================\n"
     ]
    },
    {
     "name": "stdout",
     "output_type": "stream",
     "text": [
      "lr:  [0.0036143804601955457]\n"
     ]
    },
    {
     "name": "stderr",
     "output_type": "stream",
     "text": [
      "[EPOCH 00023]train_loss: 0.9961; val_loss: 0.2383; time elapsed: 7.9 min\n",
      "[valid loss]grapheme: 0.3129, vowel: 0.1782, consonant: 0.1491\n",
      "[valid recall]total: 0.9330, grapheme: 0.9210, vowel: 0.9466, consonant: 0.9432\n",
      "================================================================================\n"
     ]
    },
    {
     "name": "stdout",
     "output_type": "stream",
     "text": [
      "lr:  [0.0038000963514070204]\n"
     ]
    },
    {
     "name": "stderr",
     "output_type": "stream",
     "text": [
      "[EPOCH 00024]train_loss: 0.9973; val_loss: 0.2152; time elapsed: 7.7 min\n",
      "[valid loss]grapheme: 0.2873, vowel: 0.1621, consonant: 0.1242\n",
      "[valid recall]total: 0.9366, grapheme: 0.9083, vowel: 0.9665, consonant: 0.9632\n",
      "================================================================================\n"
     ]
    },
    {
     "name": "stdout",
     "output_type": "stream",
     "text": [
      "lr:  [0.003976678380675308]\n"
     ]
    },
    {
     "name": "stderr",
     "output_type": "stream",
     "text": [
      "[EPOCH 00025]train_loss: 0.9743; val_loss: 0.1984; time elapsed: 7.8 min\n",
      "[valid loss]grapheme: 0.2644, vowel: 0.1338, consonant: 0.1310\n",
      "[valid recall]total: 0.9476, grapheme: 0.9273, vowel: 0.9726, consonant: 0.9632\n",
      "================================================================================\n"
     ]
    },
    {
     "name": "stdout",
     "output_type": "stream",
     "text": [
      "lr:  [0.004142782592679578]\n"
     ]
    },
    {
     "name": "stderr",
     "output_type": "stream",
     "text": [
      "[EPOCH 00026]train_loss: 0.9825; val_loss: 0.2015; time elapsed: 7.9 min\n",
      "[valid loss]grapheme: 0.2562, vowel: 0.1710, consonant: 0.1226\n",
      "[valid recall]total: 0.9476, grapheme: 0.9328, vowel: 0.9758, consonant: 0.9490\n",
      "================================================================================\n"
     ]
    },
    {
     "name": "stdout",
     "output_type": "stream",
     "text": [
      "lr:  [0.004297144778142924]\n"
     ]
    },
    {
     "name": "stderr",
     "output_type": "stream",
     "text": [
      "[EPOCH 00027]train_loss: 0.9748; val_loss: 0.2056; time elapsed: 8.0 min\n",
      "[valid loss]grapheme: 0.2790, vowel: 0.1493, consonant: 0.1151\n",
      "[valid recall]total: 0.9426, grapheme: 0.9220, vowel: 0.9725, consonant: 0.9538\n",
      "================================================================================\n"
     ]
    },
    {
     "name": "stdout",
     "output_type": "stream",
     "text": [
      "lr:  [0.004438590095653974]\n"
     ]
    },
    {
     "name": "stderr",
     "output_type": "stream",
     "text": [
      "[EPOCH 00028]train_loss: 0.9592; val_loss: 0.1899; time elapsed: 7.9 min\n",
      "[valid loss]grapheme: 0.2501, vowel: 0.1499, consonant: 0.1094\n",
      "[valid recall]total: 0.9511, grapheme: 0.9311, vowel: 0.9803, consonant: 0.9620\n",
      "================================================================================\n"
     ]
    },
    {
     "name": "stdout",
     "output_type": "stream",
     "text": [
      "lr:  [0.004566042013314983]\n"
     ]
    },
    {
     "name": "stderr",
     "output_type": "stream",
     "text": [
      "[EPOCH 00029]train_loss: 0.9831; val_loss: 0.1639; time elapsed: 7.7 min\n",
      "[valid loss]grapheme: 0.2197, vowel: 0.1172, consonant: 0.0990\n",
      "[valid recall]total: 0.9561, grapheme: 0.9421, vowel: 0.9777, consonant: 0.9627\n",
      "================================================================================\n"
     ]
    },
    {
     "name": "stdout",
     "output_type": "stream",
     "text": [
      "lr:  [0.004678530502162072]\n"
     ]
    },
    {
     "name": "stderr",
     "output_type": "stream",
     "text": [
      "[EPOCH 00030]train_loss: 0.9515; val_loss: 0.1889; time elapsed: 7.6 min\n",
      "[valid loss]grapheme: 0.2514, vowel: 0.1274, consonant: 0.1255\n",
      "[valid recall]total: 0.9549, grapheme: 0.9344, vowel: 0.9782, consonant: 0.9727\n",
      "================================================================================\n"
     ]
    },
    {
     "name": "stdout",
     "output_type": "stream",
     "text": [
      "lr:  [0.004775199418997971]\n"
     ]
    },
    {
     "name": "stderr",
     "output_type": "stream",
     "text": [
      "[EPOCH 00031]train_loss: 0.9692; val_loss: 0.1670; time elapsed: 7.5 min\n",
      "[valid loss]grapheme: 0.2147, vowel: 0.1252, consonant: 0.1131\n",
      "[valid recall]total: 0.9599, grapheme: 0.9454, vowel: 0.9798, consonant: 0.9690\n",
      "================================================================================\n"
     ]
    },
    {
     "name": "stdout",
     "output_type": "stream",
     "text": [
      "lr:  [0.004855313022446962]\n"
     ]
    },
    {
     "name": "stderr",
     "output_type": "stream",
     "text": [
      "[EPOCH 00032]train_loss: 0.9243; val_loss: 0.1851; time elapsed: 7.7 min\n",
      "[valid loss]grapheme: 0.2580, vowel: 0.1167, consonant: 0.1075\n",
      "[valid recall]total: 0.9532, grapheme: 0.9312, vowel: 0.9791, consonant: 0.9712\n",
      "================================================================================\n"
     ]
    },
    {
     "name": "stdout",
     "output_type": "stream",
     "text": [
      "lr:  [0.00491826157263873]\n"
     ]
    },
    {
     "name": "stderr",
     "output_type": "stream",
     "text": [
      "[EPOCH 00033]train_loss: 0.9249; val_loss: 0.1822; time elapsed: 7.8 min\n",
      "[valid loss]grapheme: 0.2391, vowel: 0.1490, consonant: 0.1015\n",
      "[valid recall]total: 0.9568, grapheme: 0.9403, vowel: 0.9781, consonant: 0.9683\n",
      "================================================================================\n"
     ]
    },
    {
     "name": "stdout",
     "output_type": "stream",
     "text": [
      "lr:  [0.00496356597190224]\n"
     ]
    },
    {
     "name": "stderr",
     "output_type": "stream",
     "text": [
      "[EPOCH 00034]train_loss: 0.9100; val_loss: 0.2213; time elapsed: 7.9 min\n",
      "[valid loss]grapheme: 0.2949, vowel: 0.1728, consonant: 0.1228\n",
      "[valid recall]total: 0.9554, grapheme: 0.9438, vowel: 0.9751, consonant: 0.9587\n",
      "================================================================================\n"
     ]
    },
    {
     "name": "stdout",
     "output_type": "stream",
     "text": [
      "lr:  [0.004990881411149617]\n"
     ]
    },
    {
     "name": "stderr",
     "output_type": "stream",
     "text": [
      "[EPOCH 00035]train_loss: 0.9253; val_loss: 0.1712; time elapsed: 8.0 min\n",
      "[valid loss]grapheme: 0.2350, vowel: 0.1156, consonant: 0.0994\n",
      "[valid recall]total: 0.9550, grapheme: 0.9347, vowel: 0.9772, consonant: 0.9736\n",
      "================================================================================\n"
     ]
    },
    {
     "name": "stdout",
     "output_type": "stream",
     "text": [
      "lr:  [0.0049999999988899]\n"
     ]
    },
    {
     "name": "stderr",
     "output_type": "stream",
     "text": [
      "[EPOCH 00036]train_loss: 0.9284; val_loss: 0.1408; time elapsed: 8.0 min\n",
      "[valid loss]grapheme: 0.1814, vowel: 0.0986, consonant: 0.1018\n",
      "[valid recall]total: 0.9645, grapheme: 0.9533, vowel: 0.9797, consonant: 0.9716\n",
      "================================================================================\n"
     ]
    },
    {
     "name": "stdout",
     "output_type": "stream",
     "text": [
      "lr:  [0.004998248982153825]\n"
     ]
    },
    {
     "name": "stderr",
     "output_type": "stream",
     "text": [
      "[EPOCH 00037]train_loss: 0.9001; val_loss: 0.2375; time elapsed: 7.7 min\n",
      "[valid loss]grapheme: 0.3250, vowel: 0.1632, consonant: 0.1368\n",
      "[valid recall]total: 0.9310, grapheme: 0.9107, vowel: 0.9714, consonant: 0.9312\n",
      "================================================================================\n"
     ]
    },
    {
     "name": "stdout",
     "output_type": "stream",
     "text": [
      "lr:  [0.004993003952302436]\n"
     ]
    },
    {
     "name": "stderr",
     "output_type": "stream",
     "text": [
      "[EPOCH 00038]train_loss: 0.9087; val_loss: 0.1618; time elapsed: 7.8 min\n",
      "[valid loss]grapheme: 0.2125, vowel: 0.1277, consonant: 0.0943\n",
      "[valid recall]total: 0.9645, grapheme: 0.9527, vowel: 0.9788, consonant: 0.9736\n",
      "================================================================================\n"
     ]
    },
    {
     "name": "stdout",
     "output_type": "stream",
     "text": [
      "lr:  [0.004984272244984255]\n"
     ]
    },
    {
     "name": "stderr",
     "output_type": "stream",
     "text": [
      "[EPOCH 00039]train_loss: 0.9074; val_loss: 0.1577; time elapsed: 7.9 min\n",
      "[valid loss]grapheme: 0.2036, vowel: 0.1261, consonant: 0.0975\n",
      "[valid recall]total: 0.9625, grapheme: 0.9482, vowel: 0.9822, consonant: 0.9713\n",
      "================================================================================\n"
     ]
    },
    {
     "name": "stdout",
     "output_type": "stream",
     "text": [
      "lr:  [0.004972066072281515]\n"
     ]
    },
    {
     "name": "stderr",
     "output_type": "stream",
     "text": [
      "[EPOCH 00040]train_loss: 0.9085; val_loss: 0.1437; time elapsed: 8.0 min\n",
      "[valid loss]grapheme: 0.1883, vowel: 0.1043, consonant: 0.0936\n",
      "[valid recall]total: 0.9673, grapheme: 0.9562, vowel: 0.9807, consonant: 0.9764\n",
      "================================================================================\n"
     ]
    },
    {
     "name": "stdout",
     "output_type": "stream",
     "text": [
      "lr:  [0.004956402505630461]\n"
     ]
    },
    {
     "name": "stderr",
     "output_type": "stream",
     "text": [
      "[EPOCH 00041]train_loss: 0.8732; val_loss: 0.1654; time elapsed: 7.8 min\n",
      "[valid loss]grapheme: 0.2189, vowel: 0.1253, consonant: 0.0986\n",
      "[valid recall]total: 0.9614, grapheme: 0.9436, vowel: 0.9814, consonant: 0.9768\n",
      "================================================================================\n"
     ]
    },
    {
     "name": "stdout",
     "output_type": "stream",
     "text": [
      "lr:  [0.004937303451945404]\n"
     ]
    },
    {
     "name": "stderr",
     "output_type": "stream",
     "text": [
      "[EPOCH 00042]train_loss: 0.8772; val_loss: 0.1876; time elapsed: 7.8 min\n",
      "[valid loss]grapheme: 0.2258, vowel: 0.1716, consonant: 0.1272\n",
      "[valid recall]total: 0.9558, grapheme: 0.9407, vowel: 0.9725, consonant: 0.9691\n",
      "================================================================================\n"
     ]
    },
    {
     "name": "stdout",
     "output_type": "stream",
     "text": [
      "lr:  [0.004914795622979922]\n"
     ]
    },
    {
     "name": "stderr",
     "output_type": "stream",
     "text": [
      "[EPOCH 00043]train_loss: 0.8759; val_loss: 0.1455; time elapsed: 8.0 min\n",
      "[valid loss]grapheme: 0.1878, vowel: 0.1142, consonant: 0.0923\n",
      "[valid recall]total: 0.9623, grapheme: 0.9480, vowel: 0.9819, consonant: 0.9713\n",
      "================================================================================\n"
     ]
    },
    {
     "name": "stdout",
     "output_type": "stream",
     "text": [
      "lr:  [0.004888910497968052]\n"
     ]
    },
    {
     "name": "stderr",
     "output_type": "stream",
     "text": [
      "[EPOCH 00044]train_loss: 0.8644; val_loss: 0.2169; time elapsed: 8.0 min\n",
      "[valid loss]grapheme: 0.2910, vowel: 0.1514, consonant: 0.1340\n",
      "[valid recall]total: 0.9367, grapheme: 0.9201, vowel: 0.9718, consonant: 0.9348\n",
      "================================================================================\n"
     ]
    },
    {
     "name": "stdout",
     "output_type": "stream",
     "text": [
      "lr:  [0.0048596842795977395]\n"
     ]
    },
    {
     "name": "stderr",
     "output_type": "stream",
     "text": [
      "[EPOCH 00045]train_loss: 0.8794; val_loss: 0.1610; time elapsed: 7.8 min\n",
      "[valid loss]grapheme: 0.2062, vowel: 0.1292, consonant: 0.1022\n",
      "[valid recall]total: 0.9617, grapheme: 0.9457, vowel: 0.9815, consonant: 0.9738\n",
      "================================================================================\n"
     ]
    },
    {
     "name": "stdout",
     "output_type": "stream",
     "text": [
      "lr:  [0.004827157843378102]\n"
     ]
    },
    {
     "name": "stderr",
     "output_type": "stream",
     "text": [
      "[EPOCH 00046]train_loss: 0.8955; val_loss: 0.1487; time elapsed: 7.8 min\n",
      "[valid loss]grapheme: 0.2043, vowel: 0.0933, consonant: 0.0927\n",
      "[valid recall]total: 0.9574, grapheme: 0.9454, vowel: 0.9756, consonant: 0.9632\n",
      "================================================================================\n"
     ]
    },
    {
     "name": "stdout",
     "output_type": "stream",
     "text": [
      "lr:  [0.004791376680471341]\n"
     ]
    },
    {
     "name": "stderr",
     "output_type": "stream",
     "text": [
      "[EPOCH 00047]train_loss: 0.8880; val_loss: 0.1556; time elapsed: 7.9 min\n",
      "[valid loss]grapheme: 0.2098, vowel: 0.1023, consonant: 0.1005\n",
      "[valid recall]total: 0.9565, grapheme: 0.9411, vowel: 0.9786, consonant: 0.9652\n",
      "================================================================================\n"
     ]
    },
    {
     "name": "stdout",
     "output_type": "stream",
     "text": [
      "lr:  [0.004752390834069225]\n"
     ]
    },
    {
     "name": "stderr",
     "output_type": "stream",
     "text": [
      "[EPOCH 00048]train_loss: 0.8799; val_loss: 0.2425; time elapsed: 8.0 min\n",
      "[valid loss]grapheme: 0.3362, vowel: 0.1631, consonant: 0.1347\n",
      "[valid recall]total: 0.9283, grapheme: 0.9075, vowel: 0.9623, consonant: 0.9359\n",
      "================================================================================\n"
     ]
    },
    {
     "name": "stdout",
     "output_type": "stream",
     "text": [
      "lr:  [0.004710254829403174]\n"
     ]
    },
    {
     "name": "stderr",
     "output_type": "stream",
     "text": [
      "[EPOCH 00049]train_loss: 0.8568; val_loss: 0.1836; time elapsed: 7.9 min\n",
      "[valid loss]grapheme: 0.2497, vowel: 0.1313, consonant: 0.1039\n",
      "[valid recall]total: 0.9501, grapheme: 0.9305, vowel: 0.9780, consonant: 0.9615\n",
      "================================================================================\n"
     ]
    },
    {
     "name": "stdout",
     "output_type": "stream",
     "text": [
      "lr:  [0.004665027597485786]\n"
     ]
    },
    {
     "name": "stderr",
     "output_type": "stream",
     "text": [
      "[EPOCH 00050]train_loss: 0.8539; val_loss: 0.1264; time elapsed: 7.8 min\n",
      "[valid loss]grapheme: 0.1635, vowel: 0.0967, consonant: 0.0820\n",
      "[valid recall]total: 0.9674, grapheme: 0.9557, vowel: 0.9825, consonant: 0.9758\n",
      "================================================================================\n"
     ]
    },
    {
     "name": "stdout",
     "output_type": "stream",
     "text": [
      "lr:  [0.004616772392690489]\n"
     ]
    },
    {
     "name": "stderr",
     "output_type": "stream",
     "text": [
      "[EPOCH 00051]train_loss: 0.8580; val_loss: 1.0560; time elapsed: 8.0 min\n",
      "[valid loss]grapheme: 1.6030, vowel: 0.5506, consonant: 0.4674\n",
      "[valid recall]total: 0.5922, grapheme: 0.4807, vowel: 0.8763, consonant: 0.5309\n",
      "================================================================================\n"
     ]
    },
    {
     "name": "stdout",
     "output_type": "stream",
     "text": [
      "lr:  [0.00456555670428458]\n"
     ]
    },
    {
     "name": "stderr",
     "output_type": "stream",
     "text": [
      "[EPOCH 00052]train_loss: 0.8369; val_loss: 0.1887; time elapsed: 8.1 min\n",
      "[valid loss]grapheme: 0.2482, vowel: 0.1455, consonant: 0.1129\n",
      "[valid recall]total: 0.9520, grapheme: 0.9362, vowel: 0.9708, consonant: 0.9647\n",
      "================================================================================\n"
     ]
    },
    {
     "name": "stdout",
     "output_type": "stream",
     "text": [
      "lr:  [0.004511452162039379]\n"
     ]
    },
    {
     "name": "stderr",
     "output_type": "stream",
     "text": [
      "[EPOCH 00053]train_loss: 0.8509; val_loss: 0.1504; time elapsed: 7.9 min\n",
      "[valid loss]grapheme: 0.1927, vowel: 0.1215, consonant: 0.0948\n",
      "[valid recall]total: 0.9646, grapheme: 0.9524, vowel: 0.9832, consonant: 0.9706\n",
      "================================================================================\n"
     ]
    },
    {
     "name": "stdout",
     "output_type": "stream",
     "text": [
      "lr:  [0.004454534436049523]\n"
     ]
    },
    {
     "name": "stderr",
     "output_type": "stream",
     "text": [
      "[EPOCH 00054]train_loss: 0.8176; val_loss: 0.2575; time elapsed: 7.7 min\n",
      "[valid loss]grapheme: 0.3509, vowel: 0.1791, consonant: 0.1493\n",
      "[valid recall]total: 0.9237, grapheme: 0.9013, vowel: 0.9532, consonant: 0.9390\n",
      "================================================================================\n"
     ]
    },
    {
     "name": "stdout",
     "output_type": "stream",
     "text": [
      "lr:  [0.004394883130901493]\n"
     ]
    },
    {
     "name": "stderr",
     "output_type": "stream",
     "text": [
      "[EPOCH 00055]train_loss: 0.8420; val_loss: 0.1679; time elapsed: 7.7 min\n",
      "[valid loss]grapheme: 0.2090, vowel: 0.1504, consonant: 0.1033\n",
      "[valid recall]total: 0.9635, grapheme: 0.9494, vowel: 0.9815, consonant: 0.9737\n",
      "================================================================================\n"
     ]
    },
    {
     "name": "stdout",
     "output_type": "stream",
     "text": [
      "lr:  [0.0043325816743394]\n"
     ]
    },
    {
     "name": "stderr",
     "output_type": "stream",
     "text": [
      "[EPOCH 00056]train_loss: 0.8008; val_loss: 0.1205; time elapsed: 7.8 min\n",
      "[valid loss]grapheme: 0.1472, vowel: 0.1069, consonant: 0.0805\n",
      "[valid recall]total: 0.9739, grapheme: 0.9645, vowel: 0.9864, consonant: 0.9802\n",
      "================================================================================\n"
     ]
    },
    {
     "name": "stdout",
     "output_type": "stream",
     "text": [
      "lr:  [0.004267717200583741]\n"
     ]
    },
    {
     "name": "stderr",
     "output_type": "stream",
     "text": [
      "[EPOCH 00057]train_loss: 0.8443; val_loss: 0.1606; time elapsed: 7.9 min\n",
      "[valid loss]grapheme: 0.2297, vowel: 0.0959, consonant: 0.0870\n",
      "[valid recall]total: 0.9521, grapheme: 0.9297, vowel: 0.9819, consonant: 0.9670\n",
      "================================================================================\n"
     ]
    },
    {
     "name": "stdout",
     "output_type": "stream",
     "text": [
      "lr:  [0.004200380428466321]\n"
     ]
    },
    {
     "name": "stderr",
     "output_type": "stream",
     "text": [
      "[EPOCH 00058]train_loss: 0.8276; val_loss: 0.1362; time elapsed: 8.0 min\n",
      "[valid loss]grapheme: 0.1723, vowel: 0.1098, consonant: 0.0904\n",
      "[valid recall]total: 0.9701, grapheme: 0.9573, vowel: 0.9848, consonant: 0.9810\n",
      "================================================================================\n"
     ]
    },
    {
     "name": "stdout",
     "output_type": "stream",
     "text": [
      "lr:  [0.00413066553455175]\n"
     ]
    },
    {
     "name": "stderr",
     "output_type": "stream",
     "text": [
      "[EPOCH 00059]train_loss: 0.8361; val_loss: 0.1582; time elapsed: 8.0 min\n",
      "[valid loss]grapheme: 0.2047, vowel: 0.1260, consonant: 0.0975\n",
      "[valid recall]total: 0.9635, grapheme: 0.9489, vowel: 0.9828, consonant: 0.9732\n",
      "================================================================================\n"
     ]
    },
    {
     "name": "stdout",
     "output_type": "stream",
     "text": [
      "lr:  [0.004058670021423012]\n"
     ]
    },
    {
     "name": "stderr",
     "output_type": "stream",
     "text": [
      "[EPOCH 00060]train_loss: 0.8238; val_loss: 0.1595; time elapsed: 7.8 min\n",
      "[valid loss]grapheme: 0.2087, vowel: 0.1246, consonant: 0.0957\n",
      "[valid recall]total: 0.9591, grapheme: 0.9439, vowel: 0.9821, consonant: 0.9666\n",
      "================================================================================\n"
     ]
    },
    {
     "name": "stdout",
     "output_type": "stream",
     "text": [
      "lr:  [0.003984494581315281]\n"
     ]
    },
    {
     "name": "stderr",
     "output_type": "stream",
     "text": [
      "[EPOCH 00061]train_loss: 0.8094; val_loss: 0.1541; time elapsed: 7.9 min\n",
      "[valid loss]grapheme: 0.2107, vowel: 0.1072, consonant: 0.0878\n",
      "[valid recall]total: 0.9586, grapheme: 0.9403, vowel: 0.9820, consonant: 0.9719\n",
      "================================================================================\n"
     ]
    },
    {
     "name": "stdout",
     "output_type": "stream",
     "text": [
      "lr:  [0.003908242955288733]\n"
     ]
    },
    {
     "name": "stderr",
     "output_type": "stream",
     "text": [
      "[EPOCH 00062]train_loss: 0.8093; val_loss: 0.1561; time elapsed: 8.1 min\n",
      "[valid loss]grapheme: 0.2071, vowel: 0.1130, consonant: 0.0974\n",
      "[valid recall]total: 0.9634, grapheme: 0.9491, vowel: 0.9829, consonant: 0.9726\n",
      "================================================================================\n"
     ]
    },
    {
     "name": "stdout",
     "output_type": "stream",
     "text": [
      "lr:  [0.003830021788137277]\n"
     ]
    },
    {
     "name": "stderr",
     "output_type": "stream",
     "text": [
      "[EPOCH 00063]train_loss: 0.7944; val_loss: 0.3137; time elapsed: 8.0 min\n",
      "[valid loss]grapheme: 0.4026, vowel: 0.2867, consonant: 0.1629\n",
      "[valid recall]total: 0.9176, grapheme: 0.9038, vowel: 0.9340, consonant: 0.9287\n",
      "================================================================================\n"
     ]
    },
    {
     "name": "stdout",
     "output_type": "stream",
     "text": [
      "lr:  [0.0037499404792361865]\n"
     ]
    },
    {
     "name": "stderr",
     "output_type": "stream",
     "text": [
      "[EPOCH 00064]train_loss: 0.8117; val_loss: 0.1580; time elapsed: 7.8 min\n",
      "[valid loss]grapheme: 0.1959, vowel: 0.1424, consonant: 0.0976\n",
      "[valid recall]total: 0.9617, grapheme: 0.9500, vowel: 0.9829, consonant: 0.9639\n",
      "================================================================================\n"
     ]
    },
    {
     "name": "stdout",
     "output_type": "stream",
     "text": [
      "lr:  [0.0036681110295371665]\n"
     ]
    },
    {
     "name": "stderr",
     "output_type": "stream",
     "text": [
      "[EPOCH 00065]train_loss: 0.7912; val_loss: 0.1585; time elapsed: 7.9 min\n",
      "[valid loss]grapheme: 0.2087, vowel: 0.1184, consonant: 0.0980\n",
      "[valid recall]total: 0.9622, grapheme: 0.9457, vowel: 0.9834, consonant: 0.9740\n",
      "================================================================================\n"
     ]
    },
    {
     "name": "stdout",
     "output_type": "stream",
     "text": [
      "lr:  [0.0035846478849249023]\n"
     ]
    },
    {
     "name": "stderr",
     "output_type": "stream",
     "text": [
      "[EPOCH 00066]train_loss: 0.7769; val_loss: 0.1094; time elapsed: 8.0 min\n",
      "[valid loss]grapheme: 0.1424, vowel: 0.0783, consonant: 0.0747\n",
      "[valid recall]total: 0.9728, grapheme: 0.9673, vowel: 0.9852, consonant: 0.9713\n",
      "================================================================================\n"
     ]
    },
    {
     "name": "stdout",
     "output_type": "stream",
     "text": [
      "lr:  [0.0034996677761541394]\n"
     ]
    },
    {
     "name": "stderr",
     "output_type": "stream",
     "text": [
      "[EPOCH 00067]train_loss: 0.7768; val_loss: 0.1199; time elapsed: 8.0 min\n",
      "[valid loss]grapheme: 0.1509, vowel: 0.1009, consonant: 0.0770\n",
      "[valid recall]total: 0.9727, grapheme: 0.9619, vowel: 0.9866, consonant: 0.9803\n",
      "================================================================================\n"
     ]
    },
    {
     "name": "stdout",
     "output_type": "stream",
     "text": [
      "lr:  [0.0034132895555911667]\n"
     ]
    },
    {
     "name": "stderr",
     "output_type": "stream",
     "text": [
      "[EPOCH 00068]train_loss: 0.7750; val_loss: 0.1257; time elapsed: 7.8 min\n",
      "[valid loss]grapheme: 0.1598, vowel: 0.1002, consonant: 0.0829\n",
      "[valid recall]total: 0.9701, grapheme: 0.9579, vowel: 0.9837, consonant: 0.9807\n",
      "================================================================================\n"
     ]
    },
    {
     "name": "stdout",
     "output_type": "stream",
     "text": [
      "lr:  [0.0033256340309880373]\n"
     ]
    },
    {
     "name": "stderr",
     "output_type": "stream",
     "text": [
      "[EPOCH 00069]train_loss: 0.7813; val_loss: 0.1177; time elapsed: 7.9 min\n",
      "[valid loss]grapheme: 0.1504, vowel: 0.0939, consonant: 0.0760\n",
      "[valid recall]total: 0.9697, grapheme: 0.9577, vowel: 0.9856, consonant: 0.9777\n",
      "================================================================================\n"
     ]
    },
    {
     "name": "stdout",
     "output_type": "stream",
     "text": [
      "lr:  [0.0032368237965220022]\n"
     ]
    },
    {
     "name": "stderr",
     "output_type": "stream",
     "text": [
      "[EPOCH 00070]train_loss: 0.7738; val_loss: 0.1257; time elapsed: 8.0 min\n",
      "[valid loss]grapheme: 0.1460, vowel: 0.1255, consonant: 0.0855\n",
      "[valid recall]total: 0.9738, grapheme: 0.9647, vowel: 0.9861, consonant: 0.9799\n",
      "================================================================================\n"
     ]
    },
    {
     "name": "stdout",
     "output_type": "stream",
     "text": [
      "lr:  [0.0031469830613364675]\n"
     ]
    },
    {
     "name": "stderr",
     "output_type": "stream",
     "text": [
      "[EPOCH 00071]train_loss: 0.7700; val_loss: 0.1185; time elapsed: 8.1 min\n",
      "[valid loss]grapheme: 0.1519, vowel: 0.0976, consonant: 0.0727\n",
      "[valid recall]total: 0.9696, grapheme: 0.9584, vowel: 0.9855, consonant: 0.9763\n",
      "================================================================================\n"
     ]
    },
    {
     "name": "stdout",
     "output_type": "stream",
     "text": [
      "lr:  [0.003056237475823277]\n"
     ]
    },
    {
     "name": "stderr",
     "output_type": "stream",
     "text": [
      "[EPOCH 00072]train_loss: 0.7706; val_loss: 0.1002; time elapsed: 7.8 min\n",
      "[valid loss]grapheme: 0.1189, vowel: 0.0922, consonant: 0.0709\n",
      "[valid recall]total: 0.9785, grapheme: 0.9702, vowel: 0.9884, consonant: 0.9850\n",
      "================================================================================\n"
     ]
    },
    {
     "name": "stdout",
     "output_type": "stream",
     "text": [
      "lr:  [0.0029647139558892782]\n"
     ]
    },
    {
     "name": "stderr",
     "output_type": "stream",
     "text": [
      "[EPOCH 00073]train_loss: 0.7567; val_loss: 0.1191; time elapsed: 7.9 min\n",
      "[valid loss]grapheme: 0.1459, vowel: 0.1043, consonant: 0.0802\n",
      "[valid recall]total: 0.9737, grapheme: 0.9639, vowel: 0.9852, consonant: 0.9817\n",
      "================================================================================\n"
     ]
    },
    {
     "name": "stdout",
     "output_type": "stream",
     "text": [
      "lr:  [0.0028725405054529475]\n"
     ]
    },
    {
     "name": "stderr",
     "output_type": "stream",
     "text": [
      "[EPOCH 00074]train_loss: 0.7808; val_loss: 0.0988; time elapsed: 8.0 min\n",
      "[valid loss]grapheme: 0.1162, vowel: 0.0915, consonant: 0.0714\n",
      "[valid recall]total: 0.9792, grapheme: 0.9730, vowel: 0.9879, consonant: 0.9830\n",
      "================================================================================\n"
     ]
    },
    {
     "name": "stdout",
     "output_type": "stream",
     "text": [
      "lr:  [0.0027798460374193405]\n"
     ]
    },
    {
     "name": "stderr",
     "output_type": "stream",
     "text": [
      "[EPOCH 00075]train_loss: 0.7596; val_loss: 0.1281; time elapsed: 8.0 min\n",
      "[valid loss]grapheme: 0.1670, vowel: 0.1001, consonant: 0.0784\n",
      "[valid recall]total: 0.9659, grapheme: 0.9548, vowel: 0.9786, consonant: 0.9755\n",
      "================================================================================\n"
     ]
    },
    {
     "name": "stdout",
     "output_type": "stream",
     "text": [
      "lr:  [0.0026867601933837307]\n"
     ]
    },
    {
     "name": "stderr",
     "output_type": "stream",
     "text": [
      "[EPOCH 00076]train_loss: 0.7322; val_loss: 0.1209; time elapsed: 7.8 min\n",
      "[valid loss]grapheme: 0.1525, vowel: 0.1080, consonant: 0.0707\n",
      "[valid recall]total: 0.9718, grapheme: 0.9615, vowel: 0.9863, consonant: 0.9776\n",
      "================================================================================\n"
     ]
    },
    {
     "name": "stdout",
     "output_type": "stream",
     "text": [
      "lr:  [0.002593413162316124]\n"
     ]
    },
    {
     "name": "stderr",
     "output_type": "stream",
     "text": [
      "[EPOCH 00077]train_loss: 0.7357; val_loss: 0.1499; time elapsed: 7.9 min\n",
      "[valid loss]grapheme: 0.1995, vowel: 0.1108, consonant: 0.0899\n",
      "[valid recall]total: 0.9617, grapheme: 0.9449, vowel: 0.9833, consonant: 0.9739\n",
      "================================================================================\n"
     ]
    },
    {
     "name": "stdout",
     "output_type": "stream",
     "text": [
      "lr:  [0.0024999354984802046]\n"
     ]
    },
    {
     "name": "stderr",
     "output_type": "stream",
     "text": [
      "[EPOCH 00078]train_loss: 0.7440; val_loss: 0.0909; time elapsed: 8.0 min\n",
      "[valid loss]grapheme: 0.1022, vowel: 0.0942, consonant: 0.0652\n",
      "[valid recall]total: 0.9820, grapheme: 0.9766, vowel: 0.9889, consonant: 0.9860\n",
      "================================================================================\n"
     ]
    },
    {
     "name": "stdout",
     "output_type": "stream",
     "text": [
      "lr:  [0.002406457938841397]\n"
     ]
    },
    {
     "name": "stderr",
     "output_type": "stream",
     "text": [
      "[EPOCH 00079]train_loss: 0.7351; val_loss: 0.1172; time elapsed: 8.0 min\n",
      "[valid loss]grapheme: 0.1386, vowel: 0.1189, consonant: 0.0729\n",
      "[valid recall]total: 0.9753, grapheme: 0.9670, vowel: 0.9878, consonant: 0.9797\n",
      "================================================================================\n"
     ]
    },
    {
     "name": "stdout",
     "output_type": "stream",
     "text": [
      "lr:  [0.002313111220219397]\n"
     ]
    },
    {
     "name": "stderr",
     "output_type": "stream",
     "text": [
      "[EPOCH 00080]train_loss: 0.7464; val_loss: 0.0958; time elapsed: 7.8 min\n",
      "[valid loss]grapheme: 0.1195, vowel: 0.0797, consonant: 0.0645\n",
      "[valid recall]total: 0.9777, grapheme: 0.9698, vowel: 0.9879, consonant: 0.9834\n",
      "================================================================================\n"
     ]
    },
    {
     "name": "stdout",
     "output_type": "stream",
     "text": [
      "lr:  [0.002220025896440907]\n"
     ]
    },
    {
     "name": "stderr",
     "output_type": "stream",
     "text": [
      "[EPOCH 00081]train_loss: 0.7140; val_loss: 0.1003; time elapsed: 7.9 min\n",
      "[valid loss]grapheme: 0.1139, vowel: 0.1006, consonant: 0.0728\n",
      "[valid recall]total: 0.9793, grapheme: 0.9738, vowel: 0.9882, consonant: 0.9815\n",
      "================================================================================\n"
     ]
    },
    {
     "name": "stdout",
     "output_type": "stream",
     "text": [
      "lr:  [0.0021273321557483027]\n"
     ]
    },
    {
     "name": "stderr",
     "output_type": "stream",
     "text": [
      "[EPOCH 00082]train_loss: 0.7227; val_loss: 0.0995; time elapsed: 7.9 min\n",
      "[valid loss]grapheme: 0.1085, vowel: 0.1089, consonant: 0.0720\n",
      "[valid recall]total: 0.9825, grapheme: 0.9779, vowel: 0.9886, consonant: 0.9856\n",
      "================================================================================\n"
     ]
    },
    {
     "name": "stdout",
     "output_type": "stream",
     "text": [
      "lr:  [0.0020351596387196092]\n"
     ]
    },
    {
     "name": "stderr",
     "output_type": "stream",
     "text": [
      "[EPOCH 00083]train_loss: 0.7139; val_loss: 0.1012; time elapsed: 8.0 min\n",
      "[valid loss]grapheme: 0.1158, vowel: 0.1045, consonant: 0.0688\n",
      "[valid recall]total: 0.9810, grapheme: 0.9753, vowel: 0.9888, consonant: 0.9846\n",
      "================================================================================\n"
     ]
    },
    {
     "name": "stdout",
     "output_type": "stream",
     "text": [
      "lr:  [0.0019436372569544252]\n"
     ]
    },
    {
     "name": "stderr",
     "output_type": "stream",
     "text": [
      "[EPOCH 00084]train_loss: 0.7262; val_loss: 0.1083; time elapsed: 7.8 min\n",
      "[valid loss]grapheme: 0.1277, vowel: 0.0999, consonant: 0.0780\n",
      "[valid recall]total: 0.9764, grapheme: 0.9681, vowel: 0.9879, consonant: 0.9814\n",
      "================================================================================\n"
     ]
    },
    {
     "name": "stdout",
     "output_type": "stream",
     "text": [
      "lr:  [0.0018528930127793956]\n"
     ]
    },
    {
     "name": "stderr",
     "output_type": "stream",
     "text": [
      "[EPOCH 00085]train_loss: 0.7198; val_loss: 0.1211; time elapsed: 7.8 min\n",
      "[valid loss]grapheme: 0.1433, vowel: 0.1140, consonant: 0.0840\n",
      "[valid recall]total: 0.9753, grapheme: 0.9654, vowel: 0.9866, consonant: 0.9840\n",
      "================================================================================\n"
     ]
    },
    {
     "name": "stdout",
     "output_type": "stream",
     "text": [
      "lr:  [0.001763053820225385]\n"
     ]
    },
    {
     "name": "stderr",
     "output_type": "stream",
     "text": [
      "[EPOCH 00086]train_loss: 0.7030; val_loss: 0.1004; time elapsed: 7.9 min\n",
      "[valid loss]grapheme: 0.1247, vowel: 0.0875, consonant: 0.0648\n",
      "[valid recall]total: 0.9773, grapheme: 0.9693, vowel: 0.9874, consonant: 0.9832\n",
      "================================================================================\n"
     ]
    },
    {
     "name": "stdout",
     "output_type": "stream",
     "text": [
      "lr:  [0.0016742453275267266]\n"
     ]
    },
    {
     "name": "stderr",
     "output_type": "stream",
     "text": [
      "[EPOCH 00087]train_loss: 0.6790; val_loss: 0.0885; time elapsed: 8.0 min\n",
      "[valid loss]grapheme: 0.1102, vowel: 0.0714, consonant: 0.0623\n",
      "[valid recall]total: 0.9797, grapheme: 0.9730, vowel: 0.9886, consonant: 0.9842\n",
      "================================================================================\n"
     ]
    },
    {
     "name": "stdout",
     "output_type": "stream",
     "text": [
      "lr:  [0.0015865917413908092]\n"
     ]
    },
    {
     "name": "stderr",
     "output_type": "stream",
     "text": [
      "[EPOCH 00088]train_loss: 0.6908; val_loss: 0.0853; time elapsed: 7.7 min\n",
      "[valid loss]grapheme: 0.1001, vowel: 0.0784, consonant: 0.0627\n",
      "[valid recall]total: 0.9820, grapheme: 0.9776, vowel: 0.9890, consonant: 0.9838\n",
      "================================================================================\n"
     ]
    },
    {
     "name": "stdout",
     "output_type": "stream",
     "text": [
      "lr:  [0.001500215653283761]\n"
     ]
    },
    {
     "name": "stderr",
     "output_type": "stream",
     "text": [
      "[EPOCH 00089]train_loss: 0.7031; val_loss: 0.0856; time elapsed: 7.8 min\n",
      "[valid loss]grapheme: 0.0998, vowel: 0.0804, consonant: 0.0626\n",
      "[valid recall]total: 0.9821, grapheme: 0.9769, vowel: 0.9892, consonant: 0.9854\n",
      "================================================================================\n"
     ]
    },
    {
     "name": "stdout",
     "output_type": "stream",
     "text": [
      "lr:  [0.0014152378679752032]\n"
     ]
    },
    {
     "name": "stderr",
     "output_type": "stream",
     "text": [
      "[EPOCH 00090]train_loss: 0.7193; val_loss: 0.1051; time elapsed: 7.9 min\n",
      "[valid loss]grapheme: 0.1216, vowel: 0.0976, consonant: 0.0795\n",
      "[valid recall]total: 0.9793, grapheme: 0.9731, vowel: 0.9875, consonant: 0.9836\n",
      "================================================================================\n"
     ]
    },
    {
     "name": "stdout",
     "output_type": "stream",
     "text": [
      "lr:  [0.001331777234581852]\n"
     ]
    },
    {
     "name": "stderr",
     "output_type": "stream",
     "text": [
      "[EPOCH 00091]train_loss: 0.6891; val_loss: 0.0945; time elapsed: 8.0 min\n",
      "[valid loss]grapheme: 0.1041, vowel: 0.0998, consonant: 0.0700\n",
      "[valid recall]total: 0.9816, grapheme: 0.9767, vowel: 0.9884, consonant: 0.9846\n",
      "================================================================================\n"
     ]
    },
    {
     "name": "stdout",
     "output_type": "stream",
     "text": [
      "lr:  [0.001249950480346286]\n"
     ]
    },
    {
     "name": "stderr",
     "output_type": "stream",
     "text": [
      "[EPOCH 00092]train_loss: 0.6887; val_loss: 0.1091; time elapsed: 7.8 min\n",
      "[valid loss]grapheme: 0.1491, vowel: 0.0726, consonant: 0.0654\n",
      "[valid recall]total: 0.9723, grapheme: 0.9604, vowel: 0.9869, consonant: 0.9816\n",
      "================================================================================\n"
     ]
    },
    {
     "name": "stdout",
     "output_type": "stream",
     "text": [
      "lr:  [0.0011698720473833427]\n"
     ]
    },
    {
     "name": "stderr",
     "output_type": "stream",
     "text": [
      "[EPOCH 00093]train_loss: 0.7015; val_loss: 0.1308; time elapsed: 7.8 min\n",
      "[valid loss]grapheme: 0.1650, vowel: 0.1117, consonant: 0.0814\n",
      "[valid recall]total: 0.9728, grapheme: 0.9615, vowel: 0.9877, consonant: 0.9805\n",
      "================================================================================\n"
     ]
    },
    {
     "name": "stdout",
     "output_type": "stream",
     "text": [
      "lr:  [0.0010916539326224664]\n"
     ]
    },
    {
     "name": "stderr",
     "output_type": "stream",
     "text": [
      "[EPOCH 00094]train_loss: 0.6859; val_loss: 0.0857; time elapsed: 7.9 min\n",
      "[valid loss]grapheme: 0.0979, vowel: 0.0846, consonant: 0.0622\n",
      "[valid recall]total: 0.9813, grapheme: 0.9763, vowel: 0.9889, consonant: 0.9836\n",
      "================================================================================\n"
     ]
    },
    {
     "name": "stdout",
     "output_type": "stream",
     "text": [
      "lr:  [0.0010154055311698842]\n"
     ]
    },
    {
     "name": "stderr",
     "output_type": "stream",
     "text": [
      "[EPOCH 00095]train_loss: 0.6812; val_loss: 0.0919; time elapsed: 8.0 min\n",
      "[valid loss]grapheme: 0.1052, vowel: 0.0889, consonant: 0.0684\n",
      "[valid recall]total: 0.9815, grapheme: 0.9761, vowel: 0.9894, consonant: 0.9846\n",
      "================================================================================\n"
     ]
    },
    {
     "name": "stdout",
     "output_type": "stream",
     "text": [
      "lr:  [0.000941233483309653]\n"
     ]
    },
    {
     "name": "stderr",
     "output_type": "stream",
     "text": [
      "[EPOCH 00096]train_loss: 0.6698; val_loss: 0.0729; time elapsed: 7.8 min\n",
      "[valid loss]grapheme: 0.0812, vowel: 0.0719, consonant: 0.0572\n",
      "[valid recall]total: 0.9838, grapheme: 0.9804, vowel: 0.9895, consonant: 0.9850\n",
      "================================================================================\n"
     ]
    },
    {
     "name": "stdout",
     "output_type": "stream",
     "text": [
      "lr:  [0.0008692415253575775]\n"
     ]
    },
    {
     "name": "stderr",
     "output_type": "stream",
     "text": [
      "[EPOCH 00097]train_loss: 0.6870; val_loss: 0.0836; time elapsed: 7.8 min\n",
      "[valid loss]grapheme: 0.0921, vowel: 0.0849, consonant: 0.0650\n",
      "[valid recall]total: 0.9828, grapheme: 0.9791, vowel: 0.9886, consonant: 0.9843\n",
      "================================================================================\n"
     ]
    },
    {
     "name": "stdout",
     "output_type": "stream",
     "text": [
      "lr:  [0.0007995303445765982]\n"
     ]
    },
    {
     "name": "stderr",
     "output_type": "stream",
     "text": [
      "[EPOCH 00098]train_loss: 0.6855; val_loss: 0.0712; time elapsed: 7.9 min\n",
      "[valid loss]grapheme: 0.0783, vowel: 0.0714, consonant: 0.0568\n",
      "[valid recall]total: 0.9845, grapheme: 0.9815, vowel: 0.9890, consonant: 0.9859\n",
      "================================================================================\n"
     ]
    },
    {
     "name": "stdout",
     "output_type": "stream",
     "text": [
      "lr:  [0.0007321974383565461]\n"
     ]
    },
    {
     "name": "stderr",
     "output_type": "stream",
     "text": [
      "[EPOCH 00099]train_loss: 0.6546; val_loss: 0.0754; time elapsed: 8.0 min\n",
      "[valid loss]grapheme: 0.0838, vowel: 0.0807, consonant: 0.0533\n",
      "[valid recall]total: 0.9839, grapheme: 0.9803, vowel: 0.9890, consonant: 0.9861\n",
      "================================================================================\n"
     ]
    },
    {
     "name": "stdout",
     "output_type": "stream",
     "text": [
      "lr:  [0.0006673369778552256]\n"
     ]
    },
    {
     "name": "stderr",
     "output_type": "stream",
     "text": [
      "[EPOCH 00100]train_loss: 0.6643; val_loss: 0.0760; time elapsed: 7.8 min\n",
      "[valid loss]grapheme: 0.0836, vowel: 0.0787, consonant: 0.0580\n",
      "[valid recall]total: 0.9849, grapheme: 0.9815, vowel: 0.9901, consonant: 0.9867\n",
      "================================================================================\n"
     ]
    },
    {
     "name": "stdout",
     "output_type": "stream",
     "text": [
      "lr:  [0.0006050396762915392]\n"
     ]
    },
    {
     "name": "stderr",
     "output_type": "stream",
     "text": [
      "[EPOCH 00101]train_loss: 0.6794; val_loss: 0.0823; time elapsed: 7.8 min\n",
      "[valid loss]grapheme: 0.0862, vowel: 0.0951, consonant: 0.0618\n",
      "[valid recall]total: 0.9850, grapheme: 0.9822, vowel: 0.9895, consonant: 0.9859\n",
      "================================================================================\n"
     ]
    },
    {
     "name": "stdout",
     "output_type": "stream",
     "text": [
      "lr:  [0.0005453926620748458]\n"
     ]
    },
    {
     "name": "stderr",
     "output_type": "stream",
     "text": [
      "[EPOCH 00102]train_loss: 0.6805; val_loss: 0.0858; time elapsed: 7.9 min\n",
      "[valid loss]grapheme: 0.0893, vowel: 0.1013, consonant: 0.0634\n",
      "[valid recall]total: 0.9847, grapheme: 0.9814, vowel: 0.9903, consonant: 0.9858\n",
      "================================================================================\n"
     ]
    },
    {
     "name": "stdout",
     "output_type": "stream",
     "text": [
      "lr:  [0.0004884793569479999]\n"
     ]
    },
    {
     "name": "stderr",
     "output_type": "stream",
     "text": [
      "[EPOCH 00103]train_loss: 0.6805; val_loss: 0.0878; time elapsed: 8.0 min\n",
      "[valid loss]grapheme: 0.0945, vowel: 0.0931, consonant: 0.0691\n",
      "[valid recall]total: 0.9855, grapheme: 0.9827, vowel: 0.9903, consonant: 0.9863\n",
      "================================================================================\n"
     ]
    },
    {
     "name": "stdout",
     "output_type": "stream",
     "text": [
      "lr:  [0.0004343793593145067]\n"
     ]
    },
    {
     "name": "stderr",
     "output_type": "stream",
     "text": [
      "[EPOCH 00104]train_loss: 0.6610; val_loss: 0.0852; time elapsed: 7.8 min\n",
      "[valid loss]grapheme: 0.0918, vowel: 0.0934, consonant: 0.0639\n",
      "[valid recall]total: 0.9845, grapheme: 0.9815, vowel: 0.9903, consonant: 0.9848\n",
      "================================================================================\n"
     ]
    },
    {
     "name": "stdout",
     "output_type": "stream",
     "text": [
      "lr:  [0.0003831683329129493]\n"
     ]
    },
    {
     "name": "stderr",
     "output_type": "stream",
     "text": [
      "[EPOCH 00105]train_loss: 0.6649; val_loss: 0.0757; time elapsed: 7.8 min\n",
      "[valid loss]grapheme: 0.0856, vowel: 0.0760, consonant: 0.0555\n",
      "[valid recall]total: 0.9836, grapheme: 0.9792, vowel: 0.9899, consonant: 0.9861\n",
      "================================================================================\n"
     ]
    },
    {
     "name": "stdout",
     "output_type": "stream",
     "text": [
      "lr:  [0.00033491790099441797]\n"
     ]
    },
    {
     "name": "stderr",
     "output_type": "stream",
     "text": [
      "[EPOCH 00106]train_loss: 0.6629; val_loss: 0.0781; time elapsed: 7.9 min\n",
      "[valid loss]grapheme: 0.0828, vowel: 0.0852, consonant: 0.0617\n",
      "[valid recall]total: 0.9856, grapheme: 0.9829, vowel: 0.9905, consonant: 0.9862\n",
      "================================================================================\n"
     ]
    },
    {
     "name": "stdout",
     "output_type": "stream",
     "text": [
      "lr:  [0.00028969554615090783]\n"
     ]
    },
    {
     "name": "stderr",
     "output_type": "stream",
     "text": [
      "[EPOCH 00107]train_loss: 0.6695; val_loss: 0.0747; time elapsed: 8.0 min\n",
      "[valid loss]grapheme: 0.0774, vowel: 0.0823, consonant: 0.0619\n",
      "[valid recall]total: 0.9854, grapheme: 0.9822, vowel: 0.9908, consonant: 0.9862\n",
      "================================================================================\n"
     ]
    },
    {
     "name": "stdout",
     "output_type": "stream",
     "text": [
      "lr:  [0.0002475645159348177]\n"
     ]
    },
    {
     "name": "stderr",
     "output_type": "stream",
     "text": [
      "[EPOCH 00108]train_loss: 0.6493; val_loss: 0.0720; time elapsed: 7.8 min\n",
      "[valid loss]grapheme: 0.0783, vowel: 0.0784, consonant: 0.0530\n",
      "[valid recall]total: 0.9853, grapheme: 0.9826, vowel: 0.9908, consonant: 0.9853\n",
      "================================================================================\n"
     ]
    },
    {
     "name": "stdout",
     "output_type": "stream",
     "text": [
      "lr:  [0.00020858373440152763]\n"
     ]
    },
    {
     "name": "stderr",
     "output_type": "stream",
     "text": [
      "[EPOCH 00109]train_loss: 0.6669; val_loss: 0.0759; time elapsed: 7.8 min\n",
      "[valid loss]grapheme: 0.0800, vowel: 0.0797, consonant: 0.0639\n",
      "[valid recall]total: 0.9855, grapheme: 0.9831, vowel: 0.9905, consonant: 0.9852\n",
      "================================================================================\n"
     ]
    },
    {
     "name": "stdout",
     "output_type": "stream",
     "text": [
      "lr:  [0.00017280771969877933]\n"
     ]
    },
    {
     "name": "stderr",
     "output_type": "stream",
     "text": [
      "[EPOCH 00110]train_loss: 0.6530; val_loss: 0.0768; time elapsed: 8.0 min\n",
      "[valid loss]grapheme: 0.0839, vowel: 0.0796, consonant: 0.0597\n",
      "[valid recall]total: 0.9848, grapheme: 0.9818, vowel: 0.9904, consonant: 0.9851\n",
      "================================================================================\n"
     ]
    },
    {
     "name": "stdout",
     "output_type": "stream",
     "text": [
      "lr:  [0.00014028650781811662]\n"
     ]
    },
    {
     "name": "stderr",
     "output_type": "stream",
     "text": [
      "[EPOCH 00111]train_loss: 0.6565; val_loss: 0.0627; time elapsed: 8.0 min\n",
      "[valid loss]grapheme: 0.0704, vowel: 0.0611, consonant: 0.0489\n",
      "[valid recall]total: 0.9861, grapheme: 0.9835, vowel: 0.9905, consonant: 0.9871\n",
      "================================================================================\n"
     ]
    },
    {
     "name": "stdout",
     "output_type": "stream",
     "text": [
      "lr:  [0.00011106558261502592]\n"
     ]
    },
    {
     "name": "stderr",
     "output_type": "stream",
     "text": [
      "[EPOCH 00112]train_loss: 0.6545; val_loss: 0.0683; time elapsed: 7.8 min\n",
      "[valid loss]grapheme: 0.0729, vowel: 0.0717, consonant: 0.0558\n",
      "[valid recall]total: 0.9857, grapheme: 0.9835, vowel: 0.9907, consonant: 0.9851\n",
      "================================================================================\n"
     ]
    },
    {
     "name": "stdout",
     "output_type": "stream",
     "text": [
      "lr:  [8.518581219565397e-05]\n"
     ]
    },
    {
     "name": "stderr",
     "output_type": "stream",
     "text": [
      "[EPOCH 00113]train_loss: 0.6728; val_loss: 0.0760; time elapsed: 7.8 min\n",
      "[valid loss]grapheme: 0.0776, vowel: 0.0868, consonant: 0.0620\n",
      "[valid recall]total: 0.9855, grapheme: 0.9833, vowel: 0.9905, consonant: 0.9851\n",
      "================================================================================\n"
     ]
    },
    {
     "name": "stdout",
     "output_type": "stream",
     "text": [
      "lr:  [6.268339175906405e-05]\n"
     ]
    },
    {
     "name": "stderr",
     "output_type": "stream",
     "text": [
      "[EPOCH 00114]train_loss: 0.6399; val_loss: 0.0709; time elapsed: 8.0 min\n",
      "[valid loss]grapheme: 0.0758, vowel: 0.0808, consonant: 0.0510\n",
      "[valid recall]total: 0.9862, grapheme: 0.9836, vowel: 0.9904, consonant: 0.9872\n",
      "================================================================================\n"
     ]
    },
    {
     "name": "stdout",
     "output_type": "stream",
     "text": [
      "lr:  [4.358979297497717e-05]\n"
     ]
    },
    {
     "name": "stderr",
     "output_type": "stream",
     "text": [
      "[EPOCH 00115]train_loss: 0.6458; val_loss: 0.0757; time elapsed: 8.0 min\n",
      "[valid loss]grapheme: 0.0798, vowel: 0.0792, consonant: 0.0640\n",
      "[valid recall]total: 0.9853, grapheme: 0.9830, vowel: 0.9904, consonant: 0.9849\n",
      "================================================================================\n"
     ]
    },
    {
     "name": "stdout",
     "output_type": "stream",
     "text": [
      "lr:  [2.7931719967797712e-05]\n"
     ]
    },
    {
     "name": "stderr",
     "output_type": "stream",
     "text": [
      "[EPOCH 00116]train_loss: 0.6656; val_loss: 0.0658; time elapsed: 7.8 min\n",
      "[valid loss]grapheme: 0.0714, vowel: 0.0692, consonant: 0.0511\n",
      "[valid recall]total: 0.9861, grapheme: 0.9833, vowel: 0.9903, consonant: 0.9872\n",
      "================================================================================\n"
     ]
    },
    {
     "name": "stdout",
     "output_type": "stream",
     "text": [
      "lr:  [1.573107196847947e-05]\n"
     ]
    },
    {
     "name": "stderr",
     "output_type": "stream",
     "text": [
      "[EPOCH 00117]train_loss: 0.6597; val_loss: 0.0739; time elapsed: 7.8 min\n",
      "[valid loss]grapheme: 0.0766, vowel: 0.0856, consonant: 0.0571\n",
      "[valid recall]total: 0.9861, grapheme: 0.9834, vowel: 0.9903, consonant: 0.9872\n",
      "================================================================================\n"
     ]
    },
    {
     "name": "stdout",
     "output_type": "stream",
     "text": [
      "lr:  [7.004912686470389e-06]\n"
     ]
    },
    {
     "name": "stderr",
     "output_type": "stream",
     "text": [
      "[EPOCH 00118]train_loss: 0.6529; val_loss: 0.0873; time elapsed: 8.0 min\n",
      "[valid loss]grapheme: 0.0870, vowel: 0.1060, consonant: 0.0690\n",
      "[valid recall]total: 0.9853, grapheme: 0.9831, vowel: 0.9903, consonant: 0.9850\n",
      "================================================================================\n"
     ]
    },
    {
     "name": "stdout",
     "output_type": "stream",
     "text": [
      "lr:  [1.7654464445743385e-06]\n"
     ]
    },
    {
     "name": "stderr",
     "output_type": "stream",
     "text": [
      "[EPOCH 00119]train_loss: 0.6681; val_loss: 0.0689; time elapsed: 8.0 min\n",
      "[valid loss]grapheme: 0.0712, vowel: 0.0744, consonant: 0.0588\n",
      "[valid recall]total: 0.9859, grapheme: 0.9836, vowel: 0.9903, consonant: 0.9860\n",
      "================================================================================\n"
     ]
    },
    {
     "name": "stdout",
     "output_type": "stream",
     "text": [
      "========training fold 2========\n",
      "[     0      2      4 ... 200836 200837 200838]\n",
      "[     1      3      8 ... 200821 200833 200839]\n",
      "checkpoint_path:  ../checkpoint/v3-fold2\n"
     ]
    },
    {
     "name": "stderr",
     "output_type": "stream",
     "text": [
      "\n",
      "\n",
      "\n"
     ]
    },
    {
     "name": "stdout",
     "output_type": "stream",
     "text": [
      "Loaded pretrained weights for efficientnet-b3\n",
      "lr:  [0.00019999999999999966]\n"
     ]
    },
    {
     "name": "stderr",
     "output_type": "stream",
     "text": [
      "[EPOCH 00000]train_loss: 2.7091; val_loss: 0.8620; time elapsed: 7.7 min\n",
      "[valid loss]grapheme: 1.0726, vowel: 0.6137, consonant: 0.6891\n",
      "[valid recall]total: 0.7228, grapheme: 0.6569, vowel: 0.8904, consonant: 0.6870\n",
      "================================================================================\n"
     ]
    },
    {
     "name": "stdout",
     "output_type": "stream",
     "text": [
      "lr:  [0.0002091331286183584]\n"
     ]
    },
    {
     "name": "stderr",
     "output_type": "stream",
     "text": [
      "[EPOCH 00001]train_loss: 1.8395; val_loss: 0.4602; time elapsed: 7.8 min\n",
      "[valid loss]grapheme: 0.5328, vowel: 0.3454, consonant: 0.4296\n",
      "[valid recall]total: 0.8541, grapheme: 0.8444, vowel: 0.9423, consonant: 0.7851\n",
      "================================================================================\n"
     ]
    },
    {
     "name": "stdout",
     "output_type": "stream",
     "text": [
      "lr:  [0.00023646300277480308]\n"
     ]
    },
    {
     "name": "stderr",
     "output_type": "stream",
     "text": [
      "[EPOCH 00002]train_loss: 1.5917; val_loss: 0.3649; time elapsed: 7.9 min\n",
      "[valid loss]grapheme: 0.4408, vowel: 0.2541, consonant: 0.3241\n",
      "[valid recall]total: 0.9042, grapheme: 0.8793, vowel: 0.9537, consonant: 0.9046\n",
      "================================================================================\n"
     ]
    },
    {
     "name": "stdout",
     "output_type": "stream",
     "text": [
      "lr:  [0.00028178161642283817]\n"
     ]
    },
    {
     "name": "stderr",
     "output_type": "stream",
     "text": [
      "[EPOCH 00003]train_loss: 1.4160; val_loss: 0.2822; time elapsed: 8.0 min\n",
      "[valid loss]grapheme: 0.3515, vowel: 0.1937, consonant: 0.2322\n",
      "[valid recall]total: 0.9244, grapheme: 0.9076, vowel: 0.9608, consonant: 0.9216\n",
      "================================================================================\n"
     ]
    },
    {
     "name": "stdout",
     "output_type": "stream",
     "text": [
      "lr:  [0.00034474405228975165]\n"
     ]
    },
    {
     "name": "stderr",
     "output_type": "stream",
     "text": [
      "[EPOCH 00004]train_loss: 1.3097; val_loss: 0.2542; time elapsed: 7.8 min\n",
      "[valid loss]grapheme: 0.3364, vowel: 0.1769, consonant: 0.1670\n",
      "[valid recall]total: 0.9353, grapheme: 0.9132, vowel: 0.9742, consonant: 0.9407\n",
      "================================================================================\n"
     ]
    },
    {
     "name": "stdout",
     "output_type": "stream",
     "text": [
      "lr:  [0.00042487110702146315]\n"
     ]
    },
    {
     "name": "stderr",
     "output_type": "stream",
     "text": [
      "[EPOCH 00005]train_loss: 1.2911; val_loss: 0.2496; time elapsed: 7.9 min\n",
      "[valid loss]grapheme: 0.3297, vowel: 0.1718, consonant: 0.1670\n",
      "[valid recall]total: 0.9437, grapheme: 0.9187, vowel: 0.9759, consonant: 0.9616\n",
      "================================================================================\n"
     ]
    },
    {
     "name": "stdout",
     "output_type": "stream",
     "text": [
      "lr:  [0.0005215529383707429]\n"
     ]
    },
    {
     "name": "stderr",
     "output_type": "stream",
     "text": [
      "[EPOCH 00006]train_loss: 1.2120; val_loss: 0.2523; time elapsed: 8.0 min\n",
      "[valid loss]grapheme: 0.3218, vowel: 0.2041, consonant: 0.1613\n",
      "[valid recall]total: 0.9463, grapheme: 0.9246, vowel: 0.9700, consonant: 0.9661\n",
      "================================================================================\n"
     ]
    },
    {
     "name": "stdout",
     "output_type": "stream",
     "text": [
      "lr:  [0.0006340537066702812]\n"
     ]
    },
    {
     "name": "stderr",
     "output_type": "stream",
     "text": [
      "[EPOCH 00007]train_loss: 1.1770; val_loss: 0.2568; time elapsed: 8.0 min\n",
      "[valid loss]grapheme: 0.3458, vowel: 0.1804, consonant: 0.1553\n",
      "[valid recall]total: 0.9396, grapheme: 0.9114, vowel: 0.9735, consonant: 0.9620\n",
      "================================================================================\n"
     ]
    },
    {
     "name": "stdout",
     "output_type": "stream",
     "text": [
      "lr:  [0.0007615171752646255]\n"
     ]
    },
    {
     "name": "stderr",
     "output_type": "stream",
     "text": [
      "[EPOCH 00008]train_loss: 1.1635; val_loss: 0.2133; time elapsed: 7.8 min\n",
      "[valid loss]grapheme: 0.2937, vowel: 0.1418, consonant: 0.1238\n",
      "[valid recall]total: 0.9462, grapheme: 0.9226, vowel: 0.9751, consonant: 0.9647\n",
      "================================================================================\n"
     ]
    },
    {
     "name": "stdout",
     "output_type": "stream",
     "text": [
      "lr:  [0.0009029732272764308]\n"
     ]
    },
    {
     "name": "stderr",
     "output_type": "stream",
     "text": [
      "[EPOCH 00009]train_loss: 1.1297; val_loss: 0.2100; time elapsed: 7.9 min\n",
      "[valid loss]grapheme: 0.2812, vowel: 0.1486, consonant: 0.1291\n",
      "[valid recall]total: 0.9478, grapheme: 0.9307, vowel: 0.9748, consonant: 0.9552\n",
      "================================================================================\n"
     ]
    },
    {
     "name": "stdout",
     "output_type": "stream",
     "text": [
      "lr:  [0.0010573452491083046]\n"
     ]
    },
    {
     "name": "stderr",
     "output_type": "stream",
     "text": [
      "[EPOCH 00010]train_loss: 1.1147; val_loss: 0.2519; time elapsed: 8.0 min\n",
      "[valid loss]grapheme: 0.3439, vowel: 0.1765, consonant: 0.1433\n",
      "[valid recall]total: 0.9214, grapheme: 0.8995, vowel: 0.9705, consonant: 0.9159\n",
      "================================================================================\n"
     ]
    },
    {
     "name": "stdout",
     "output_type": "stream",
     "text": [
      "lr:  [0.0012234583244848593]\n"
     ]
    },
    {
     "name": "stderr",
     "output_type": "stream",
     "text": [
      "[EPOCH 00011]train_loss: 1.1065; val_loss: 0.2820; time elapsed: 8.0 min\n",
      "[valid loss]grapheme: 0.3928, vowel: 0.1906, consonant: 0.1517\n",
      "[valid recall]total: 0.9270, grapheme: 0.9020, vowel: 0.9707, consonant: 0.9334\n",
      "================================================================================\n"
     ]
    },
    {
     "name": "stdout",
     "output_type": "stream",
     "text": [
      "lr:  [0.0014000481766705897]\n"
     ]
    },
    {
     "name": "stderr",
     "output_type": "stream",
     "text": [
      "[EPOCH 00012]train_loss: 1.0883; val_loss: 0.2609; time elapsed: 7.8 min\n",
      "[valid loss]grapheme: 0.3659, vowel: 0.1661, consonant: 0.1459\n",
      "[valid recall]total: 0.9353, grapheme: 0.9064, vowel: 0.9612, consonant: 0.9673\n",
      "================================================================================\n"
     ]
    },
    {
     "name": "stdout",
     "output_type": "stream",
     "text": [
      "lr:  [0.0015857707908049057]\n"
     ]
    },
    {
     "name": "stderr",
     "output_type": "stream",
     "text": [
      "[EPOCH 00013]train_loss: 1.0781; val_loss: 0.2667; time elapsed: 7.9 min\n",
      "[valid loss]grapheme: 0.3481, vowel: 0.2277, consonant: 0.1430\n",
      "[valid recall]total: 0.9397, grapheme: 0.9134, vowel: 0.9745, consonant: 0.9574\n",
      "================================================================================\n"
     ]
    },
    {
     "name": "stdout",
     "output_type": "stream",
     "text": [
      "lr:  [0.001779212643119284]\n"
     ]
    },
    {
     "name": "stderr",
     "output_type": "stream",
     "text": [
      "[EPOCH 00014]train_loss: 1.0842; val_loss: 0.2764; time elapsed: 8.0 min\n",
      "[valid loss]grapheme: 0.3833, vowel: 0.1738, consonant: 0.1651\n",
      "[valid recall]total: 0.9306, grapheme: 0.9095, vowel: 0.9752, consonant: 0.9283\n",
      "================================================================================\n"
     ]
    },
    {
     "name": "stdout",
     "output_type": "stream",
     "text": [
      "lr:  [0.001978901459182592]\n"
     ]
    },
    {
     "name": "stderr",
     "output_type": "stream",
     "text": [
      "[EPOCH 00015]train_loss: 1.0339; val_loss: 1.1056; time elapsed: 8.0 min\n",
      "[valid loss]grapheme: 0.8190, vowel: 2.3542, consonant: 0.4303\n",
      "[valid recall]total: 0.6388, grapheme: 0.7390, vowel: 0.3580, consonant: 0.7189\n",
      "================================================================================\n"
     ]
    },
    {
     "name": "stdout",
     "output_type": "stream",
     "text": [
      "lr:  [0.0021833174192941998]\n"
     ]
    },
    {
     "name": "stderr",
     "output_type": "stream",
     "text": [
      "[EPOCH 00016]train_loss: 1.0412; val_loss: 0.2485; time elapsed: 7.8 min\n",
      "[valid loss]grapheme: 0.3560, vowel: 0.1588, consonant: 0.1230\n",
      "[valid recall]total: 0.9347, grapheme: 0.9059, vowel: 0.9716, consonant: 0.9553\n",
      "================================================================================\n"
     ]
    },
    {
     "name": "stdout",
     "output_type": "stream",
     "text": [
      "lr:  [0.0023909047257413218]\n"
     ]
    },
    {
     "name": "stderr",
     "output_type": "stream",
     "text": [
      "[EPOCH 00017]train_loss: 1.0355; val_loss: 0.2461; time elapsed: 7.9 min\n",
      "[valid loss]grapheme: 0.3210, vowel: 0.1771, consonant: 0.1655\n",
      "[valid recall]total: 0.9315, grapheme: 0.9184, vowel: 0.9678, consonant: 0.9212\n",
      "================================================================================\n"
     ]
    },
    {
     "name": "stdout",
     "output_type": "stream",
     "text": [
      "lr:  [0.0026000834438828562]\n"
     ]
    },
    {
     "name": "stderr",
     "output_type": "stream",
     "text": [
      "[EPOCH 00018]train_loss: 1.0693; val_loss: 0.2121; time elapsed: 8.0 min\n",
      "[valid loss]grapheme: 0.2868, vowel: 0.1458, consonant: 0.1290\n",
      "[valid recall]total: 0.9447, grapheme: 0.9300, vowel: 0.9749, consonant: 0.9440\n",
      "================================================================================\n"
     ]
    },
    {
     "name": "stdout",
     "output_type": "stream",
     "text": [
      "lr:  [0.0028092615269379615]\n"
     ]
    },
    {
     "name": "stderr",
     "output_type": "stream",
     "text": [
      "[EPOCH 00019]train_loss: 1.0377; val_loss: 0.4696; time elapsed: 8.0 min\n",
      "[valid loss]grapheme: 0.6100, vowel: 0.3608, consonant: 0.2978\n",
      "[valid recall]total: 0.8693, grapheme: 0.8410, vowel: 0.9206, consonant: 0.8746\n",
      "================================================================================\n"
     ]
    },
    {
     "name": "stdout",
     "output_type": "stream",
     "text": [
      "lr:  [0.0030168469329594017]\n"
     ]
    },
    {
     "name": "stderr",
     "output_type": "stream",
     "text": [
      "[EPOCH 00020]train_loss: 1.0166; val_loss: 0.1864; time elapsed: 7.7 min\n",
      "[valid loss]grapheme: 0.2557, vowel: 0.1249, consonant: 0.1095\n",
      "[valid recall]total: 0.9575, grapheme: 0.9392, vowel: 0.9806, consonant: 0.9710\n",
      "================================================================================\n"
     ]
    },
    {
     "name": "stdout",
     "output_type": "stream",
     "text": [
      "lr:  [0.0032212597417701017]\n"
     ]
    },
    {
     "name": "stderr",
     "output_type": "stream",
     "text": [
      "[EPOCH 00021]train_loss: 1.0029; val_loss: 0.2972; time elapsed: 7.8 min\n",
      "[valid loss]grapheme: 0.4024, vowel: 0.2225, consonant: 0.1616\n",
      "[valid recall]total: 0.9137, grapheme: 0.8795, vowel: 0.9446, consonant: 0.9513\n",
      "================================================================================\n"
     ]
    },
    {
     "name": "stdout",
     "output_type": "stream",
     "text": [
      "lr:  [0.0034209441796416405]\n"
     ]
    },
    {
     "name": "stderr",
     "output_type": "stream",
     "text": [
      "[EPOCH 00022]train_loss: 0.9956; val_loss: 0.3033; time elapsed: 8.0 min\n",
      "[valid loss]grapheme: 0.4114, vowel: 0.2464, consonant: 0.1442\n",
      "[valid recall]total: 0.9189, grapheme: 0.8828, vowel: 0.9645, consonant: 0.9454\n",
      "================================================================================\n"
     ]
    },
    {
     "name": "stdout",
     "output_type": "stream",
     "text": [
      "lr:  [0.0036143804601955457]\n"
     ]
    },
    {
     "name": "stderr",
     "output_type": "stream",
     "text": [
      "[EPOCH 00023]train_loss: 0.9960; val_loss: 0.1959; time elapsed: 8.0 min\n",
      "[valid loss]grapheme: 0.2722, vowel: 0.1251, consonant: 0.1139\n",
      "[valid recall]total: 0.9472, grapheme: 0.9202, vowel: 0.9756, consonant: 0.9729\n",
      "================================================================================\n"
     ]
    },
    {
     "name": "stdout",
     "output_type": "stream",
     "text": [
      "lr:  [0.0038000963514070204]\n"
     ]
    },
    {
     "name": "stderr",
     "output_type": "stream",
     "text": [
      "[EPOCH 00024]train_loss: 0.9787; val_loss: 0.2574; time elapsed: 7.8 min\n",
      "[valid loss]grapheme: 0.3387, vowel: 0.2044, consonant: 0.1478\n",
      "[valid recall]total: 0.9354, grapheme: 0.9061, vowel: 0.9686, consonant: 0.9606\n",
      "================================================================================\n"
     ]
    },
    {
     "name": "stdout",
     "output_type": "stream",
     "text": [
      "lr:  [0.003976678380675308]\n"
     ]
    },
    {
     "name": "stderr",
     "output_type": "stream",
     "text": [
      "[EPOCH 00025]train_loss: 1.0125; val_loss: 0.2208; time elapsed: 7.9 min\n",
      "[valid loss]grapheme: 0.3043, vowel: 0.1521, consonant: 0.1223\n",
      "[valid recall]total: 0.9424, grapheme: 0.9173, vowel: 0.9696, consonant: 0.9653\n",
      "================================================================================\n"
     ]
    },
    {
     "name": "stdout",
     "output_type": "stream",
     "text": [
      "lr:  [0.004142782592679578]\n"
     ]
    },
    {
     "name": "stderr",
     "output_type": "stream",
     "text": [
      "[EPOCH 00026]train_loss: 0.9789; val_loss: 0.1923; time elapsed: 8.0 min\n",
      "[valid loss]grapheme: 0.2588, vowel: 0.1403, consonant: 0.1113\n",
      "[valid recall]total: 0.9539, grapheme: 0.9281, vowel: 0.9789, consonant: 0.9806\n",
      "================================================================================\n"
     ]
    },
    {
     "name": "stdout",
     "output_type": "stream",
     "text": [
      "lr:  [0.004297144778142924]\n"
     ]
    },
    {
     "name": "stderr",
     "output_type": "stream",
     "text": [
      "[EPOCH 00027]train_loss: 0.9454; val_loss: 0.2273; time elapsed: 8.0 min\n",
      "[valid loss]grapheme: 0.3228, vowel: 0.1418, consonant: 0.1217\n",
      "[valid recall]total: 0.9370, grapheme: 0.9180, vowel: 0.9666, consonant: 0.9455\n",
      "================================================================================\n"
     ]
    },
    {
     "name": "stdout",
     "output_type": "stream",
     "text": [
      "lr:  [0.004438590095653974]\n"
     ]
    },
    {
     "name": "stderr",
     "output_type": "stream",
     "text": [
      "[EPOCH 00028]train_loss: 0.9749; val_loss: 0.5192; time elapsed: 7.8 min\n",
      "[valid loss]grapheme: 0.5878, vowel: 0.6626, consonant: 0.2385\n",
      "[valid recall]total: 0.8168, grapheme: 0.7988, vowel: 0.8004, consonant: 0.8693\n",
      "================================================================================\n"
     ]
    },
    {
     "name": "stdout",
     "output_type": "stream",
     "text": [
      "lr:  [0.004566042013314983]\n"
     ]
    },
    {
     "name": "stderr",
     "output_type": "stream",
     "text": [
      "[EPOCH 00029]train_loss: 0.9604; val_loss: 0.2098; time elapsed: 7.8 min\n",
      "[valid loss]grapheme: 0.2601, vowel: 0.1539, consonant: 0.1653\n",
      "[valid recall]total: 0.9530, grapheme: 0.9361, vowel: 0.9762, consonant: 0.9635\n",
      "================================================================================\n"
     ]
    },
    {
     "name": "stdout",
     "output_type": "stream",
     "text": [
      "lr:  [0.004678530502162072]\n"
     ]
    },
    {
     "name": "stderr",
     "output_type": "stream",
     "text": [
      "[EPOCH 00030]train_loss: 0.9739; val_loss: 0.1976; time elapsed: 8.0 min\n",
      "[valid loss]grapheme: 0.2616, vowel: 0.1542, consonant: 0.1131\n",
      "[valid recall]total: 0.9592, grapheme: 0.9405, vowel: 0.9803, consonant: 0.9754\n",
      "================================================================================\n"
     ]
    },
    {
     "name": "stdout",
     "output_type": "stream",
     "text": [
      "lr:  [0.004775199418997971]\n"
     ]
    },
    {
     "name": "stderr",
     "output_type": "stream",
     "text": [
      "[EPOCH 00031]train_loss: 0.9518; val_loss: 0.1851; time elapsed: 8.0 min\n",
      "[valid loss]grapheme: 0.2504, vowel: 0.1390, consonant: 0.1005\n",
      "[valid recall]total: 0.9576, grapheme: 0.9392, vowel: 0.9792, consonant: 0.9729\n",
      "================================================================================\n"
     ]
    },
    {
     "name": "stdout",
     "output_type": "stream",
     "text": [
      "lr:  [0.004855313022446962]\n"
     ]
    },
    {
     "name": "stderr",
     "output_type": "stream",
     "text": [
      "[EPOCH 00032]train_loss: 0.9372; val_loss: 0.8074; time elapsed: 7.8 min\n",
      "[valid loss]grapheme: 0.9772, vowel: 0.9432, consonant: 0.3319\n",
      "[valid recall]total: 0.7508, grapheme: 0.7522, vowel: 0.7274, consonant: 0.7717\n",
      "================================================================================\n"
     ]
    },
    {
     "name": "stdout",
     "output_type": "stream",
     "text": [
      "lr:  [0.00491826157263873]\n"
     ]
    },
    {
     "name": "stderr",
     "output_type": "stream",
     "text": [
      "[EPOCH 00033]train_loss: 0.9201; val_loss: 0.1893; time elapsed: 7.8 min\n",
      "[valid loss]grapheme: 0.2565, vowel: 0.1360, consonant: 0.1083\n",
      "[valid recall]total: 0.9501, grapheme: 0.9330, vowel: 0.9714, consonant: 0.9632\n",
      "================================================================================\n"
     ]
    },
    {
     "name": "stdout",
     "output_type": "stream",
     "text": [
      "lr:  [0.00496356597190224]\n"
     ]
    },
    {
     "name": "stderr",
     "output_type": "stream",
     "text": [
      "[EPOCH 00034]train_loss: 0.9662; val_loss: 0.2531; time elapsed: 7.9 min\n",
      "[valid loss]grapheme: 0.3474, vowel: 0.1617, consonant: 0.1558\n",
      "[valid recall]total: 0.9233, grapheme: 0.9047, vowel: 0.9686, consonant: 0.9150\n",
      "================================================================================\n"
     ]
    },
    {
     "name": "stdout",
     "output_type": "stream",
     "text": [
      "lr:  [0.004990881411149617]\n"
     ]
    },
    {
     "name": "stderr",
     "output_type": "stream",
     "text": [
      "[EPOCH 00035]train_loss: 0.9306; val_loss: 0.4916; time elapsed: 8.0 min\n",
      "[valid loss]grapheme: 0.7650, vowel: 0.2277, consonant: 0.2088\n",
      "[valid recall]total: 0.8359, grapheme: 0.7817, vowel: 0.9563, consonant: 0.8238\n",
      "================================================================================\n"
     ]
    },
    {
     "name": "stdout",
     "output_type": "stream",
     "text": [
      "lr:  [0.0049999999988899]\n"
     ]
    },
    {
     "name": "stderr",
     "output_type": "stream",
     "text": [
      "[EPOCH 00036]train_loss: 0.9275; val_loss: 0.2168; time elapsed: 7.8 min\n",
      "[valid loss]grapheme: 0.3075, vowel: 0.1389, consonant: 0.1134\n",
      "[valid recall]total: 0.9407, grapheme: 0.9097, vowel: 0.9748, consonant: 0.9685\n",
      "================================================================================\n"
     ]
    },
    {
     "name": "stdout",
     "output_type": "stream",
     "text": [
      "lr:  [0.004998248982153825]\n"
     ]
    },
    {
     "name": "stderr",
     "output_type": "stream",
     "text": [
      "[EPOCH 00037]train_loss: 0.9165; val_loss: 0.1698; time elapsed: 7.9 min\n",
      "[valid loss]grapheme: 0.2231, vowel: 0.1344, consonant: 0.0986\n",
      "[valid recall]total: 0.9576, grapheme: 0.9426, vowel: 0.9817, consonant: 0.9634\n",
      "================================================================================\n"
     ]
    },
    {
     "name": "stdout",
     "output_type": "stream",
     "text": [
      "lr:  [0.004993003952302436]\n"
     ]
    },
    {
     "name": "stderr",
     "output_type": "stream",
     "text": [
      "[EPOCH 00038]train_loss: 0.9147; val_loss: 0.2115; time elapsed: 7.9 min\n",
      "[valid loss]grapheme: 0.3078, vowel: 0.1256, consonant: 0.1048\n",
      "[valid recall]total: 0.9332, grapheme: 0.9025, vowel: 0.9734, consonant: 0.9543\n",
      "================================================================================\n"
     ]
    },
    {
     "name": "stdout",
     "output_type": "stream",
     "text": [
      "lr:  [0.004984272244984255]\n"
     ]
    },
    {
     "name": "stderr",
     "output_type": "stream",
     "text": [
      "[EPOCH 00039]train_loss: 0.8882; val_loss: 0.2114; time elapsed: 8.0 min\n",
      "[valid loss]grapheme: 0.2998, vowel: 0.1455, consonant: 0.1006\n",
      "[valid recall]total: 0.9414, grapheme: 0.9143, vowel: 0.9759, consonant: 0.9610\n",
      "================================================================================\n"
     ]
    },
    {
     "name": "stdout",
     "output_type": "stream",
     "text": [
      "lr:  [0.004972066072281515]\n"
     ]
    },
    {
     "name": "stderr",
     "output_type": "stream",
     "text": [
      "[EPOCH 00040]train_loss: 0.9110; val_loss: 0.1853; time elapsed: 7.8 min\n",
      "[valid loss]grapheme: 0.2430, vowel: 0.1498, consonant: 0.1054\n",
      "[valid recall]total: 0.9581, grapheme: 0.9396, vowel: 0.9792, consonant: 0.9739\n",
      "================================================================================\n"
     ]
    },
    {
     "name": "stdout",
     "output_type": "stream",
     "text": [
      "lr:  [0.004956402505630461]\n"
     ]
    },
    {
     "name": "stderr",
     "output_type": "stream",
     "text": [
      "[EPOCH 00041]train_loss: 0.8830; val_loss: 0.2709; time elapsed: 7.8 min\n",
      "[valid loss]grapheme: 0.3901, vowel: 0.1885, consonant: 0.1148\n",
      "[valid recall]total: 0.9128, grapheme: 0.8729, vowel: 0.9804, consonant: 0.9249\n",
      "================================================================================\n"
     ]
    },
    {
     "name": "stdout",
     "output_type": "stream",
     "text": [
      "lr:  [0.004937303451945404]\n"
     ]
    },
    {
     "name": "stderr",
     "output_type": "stream",
     "text": [
      "[EPOCH 00042]train_loss: 0.9147; val_loss: 0.2046; time elapsed: 7.9 min\n",
      "[valid loss]grapheme: 0.2870, vowel: 0.1390, consonant: 0.1054\n",
      "[valid recall]total: 0.9466, grapheme: 0.9208, vowel: 0.9763, consonant: 0.9687\n",
      "================================================================================\n"
     ]
    },
    {
     "name": "stdout",
     "output_type": "stream",
     "text": [
      "lr:  [0.004914795622979922]\n"
     ]
    },
    {
     "name": "stderr",
     "output_type": "stream",
     "text": [
      "[EPOCH 00043]train_loss: 0.8935; val_loss: 0.9380; time elapsed: 8.0 min\n",
      "[valid loss]grapheme: 1.3860, vowel: 0.5587, consonant: 0.4215\n",
      "[valid recall]total: 0.6194, grapheme: 0.5343, vowel: 0.8500, consonant: 0.5589\n",
      "================================================================================\n"
     ]
    },
    {
     "name": "stdout",
     "output_type": "stream",
     "text": [
      "lr:  [0.004888910497968052]\n"
     ]
    },
    {
     "name": "stderr",
     "output_type": "stream",
     "text": [
      "[EPOCH 00044]train_loss: 0.9047; val_loss: 0.2204; time elapsed: 7.8 min\n",
      "[valid loss]grapheme: 0.3131, vowel: 0.1528, consonant: 0.1026\n",
      "[valid recall]total: 0.9384, grapheme: 0.9126, vowel: 0.9786, consonant: 0.9497\n",
      "================================================================================\n"
     ]
    },
    {
     "name": "stdout",
     "output_type": "stream",
     "text": [
      "lr:  [0.0048596842795977395]\n"
     ]
    },
    {
     "name": "stderr",
     "output_type": "stream",
     "text": [
      "[EPOCH 00045]train_loss: 0.8693; val_loss: 0.1765; time elapsed: 7.8 min\n",
      "[valid loss]grapheme: 0.2344, vowel: 0.1344, consonant: 0.1026\n",
      "[valid recall]total: 0.9588, grapheme: 0.9394, vowel: 0.9793, consonant: 0.9769\n",
      "================================================================================\n"
     ]
    },
    {
     "name": "stdout",
     "output_type": "stream",
     "text": [
      "lr:  [0.004827157843378102]\n"
     ]
    },
    {
     "name": "stderr",
     "output_type": "stream",
     "text": [
      "[EPOCH 00046]train_loss: 0.8683; val_loss: 0.1644; time elapsed: 7.9 min\n",
      "[valid loss]grapheme: 0.2039, vowel: 0.1536, consonant: 0.0963\n",
      "[valid recall]total: 0.9705, grapheme: 0.9571, vowel: 0.9851, consonant: 0.9827\n",
      "================================================================================\n"
     ]
    },
    {
     "name": "stdout",
     "output_type": "stream",
     "text": [
      "lr:  [0.004791376680471341]\n"
     ]
    },
    {
     "name": "stderr",
     "output_type": "stream",
     "text": [
      "[EPOCH 00047]train_loss: 0.8876; val_loss: 3.3582; time elapsed: 8.0 min\n",
      "[valid loss]grapheme: 5.0022, vowel: 2.1033, consonant: 1.3251\n",
      "[valid recall]total: 0.1431, grapheme: 0.0543, vowel: 0.2143, consonant: 0.2497\n",
      "================================================================================\n"
     ]
    },
    {
     "name": "stdout",
     "output_type": "stream",
     "text": [
      "lr:  [0.004752390834069225]\n"
     ]
    },
    {
     "name": "stderr",
     "output_type": "stream",
     "text": [
      "[EPOCH 00048]train_loss: 0.8436; val_loss: 0.1282; time elapsed: 7.8 min\n",
      "[valid loss]grapheme: 0.1603, vowel: 0.1080, consonant: 0.0844\n",
      "[valid recall]total: 0.9684, grapheme: 0.9577, vowel: 0.9800, consonant: 0.9784\n",
      "================================================================================\n"
     ]
    },
    {
     "name": "stdout",
     "output_type": "stream",
     "text": [
      "lr:  [0.004710254829403174]\n"
     ]
    },
    {
     "name": "stderr",
     "output_type": "stream",
     "text": [
      "[EPOCH 00049]train_loss: 0.8540; val_loss: 0.1311; time elapsed: 7.8 min\n",
      "[valid loss]grapheme: 0.1716, vowel: 0.0961, consonant: 0.0851\n",
      "[valid recall]total: 0.9653, grapheme: 0.9497, vowel: 0.9808, consonant: 0.9809\n",
      "================================================================================\n"
     ]
    },
    {
     "name": "stdout",
     "output_type": "stream",
     "text": [
      "lr:  [0.004665027597485786]\n"
     ]
    },
    {
     "name": "stderr",
     "output_type": "stream",
     "text": [
      "[EPOCH 00050]train_loss: 0.8482; val_loss: 0.1445; time elapsed: 7.9 min\n",
      "[valid loss]grapheme: 0.1829, vowel: 0.1264, consonant: 0.0858\n",
      "[valid recall]total: 0.9697, grapheme: 0.9565, vowel: 0.9834, consonant: 0.9827\n",
      "================================================================================\n"
     ]
    },
    {
     "name": "stdout",
     "output_type": "stream",
     "text": [
      "lr:  [0.004616772392690489]\n"
     ]
    },
    {
     "name": "stderr",
     "output_type": "stream",
     "text": [
      "[EPOCH 00051]train_loss: 0.8825; val_loss: 0.4739; time elapsed: 8.0 min\n",
      "[valid loss]grapheme: 0.7180, vowel: 0.2421, consonant: 0.2176\n",
      "[valid recall]total: 0.8354, grapheme: 0.7875, vowel: 0.9609, consonant: 0.8059\n",
      "================================================================================\n"
     ]
    },
    {
     "name": "stdout",
     "output_type": "stream",
     "text": [
      "lr:  [0.00456555670428458]\n"
     ]
    },
    {
     "name": "stderr",
     "output_type": "stream",
     "text": [
      "[EPOCH 00052]train_loss: 0.8702; val_loss: 0.1895; time elapsed: 7.8 min\n",
      "[valid loss]grapheme: 0.2564, vowel: 0.1448, consonant: 0.1004\n",
      "[valid recall]total: 0.9524, grapheme: 0.9316, vowel: 0.9811, consonant: 0.9652\n",
      "================================================================================\n"
     ]
    },
    {
     "name": "stdout",
     "output_type": "stream",
     "text": [
      "lr:  [0.004511452162039379]\n"
     ]
    },
    {
     "name": "stderr",
     "output_type": "stream",
     "text": [
      "[EPOCH 00053]train_loss: 0.8596; val_loss: 0.1291; time elapsed: 7.8 min\n",
      "[valid loss]grapheme: 0.1671, vowel: 0.0980, consonant: 0.0840\n",
      "[valid recall]total: 0.9718, grapheme: 0.9591, vowel: 0.9839, consonant: 0.9850\n",
      "================================================================================\n"
     ]
    },
    {
     "name": "stdout",
     "output_type": "stream",
     "text": [
      "lr:  [0.004454534436049523]\n"
     ]
    },
    {
     "name": "stderr",
     "output_type": "stream",
     "text": [
      "[EPOCH 00054]train_loss: 0.8456; val_loss: 0.1334; time elapsed: 8.0 min\n",
      "[valid loss]grapheme: 0.1824, vowel: 0.0921, consonant: 0.0764\n",
      "[valid recall]total: 0.9686, grapheme: 0.9531, vowel: 0.9840, consonant: 0.9842\n",
      "================================================================================\n"
     ]
    },
    {
     "name": "stdout",
     "output_type": "stream",
     "text": [
      "lr:  [0.004394883130901493]\n"
     ]
    },
    {
     "name": "stderr",
     "output_type": "stream",
     "text": [
      "[EPOCH 00055]train_loss: 0.8364; val_loss: 0.1316; time elapsed: 8.0 min\n",
      "[valid loss]grapheme: 0.1689, vowel: 0.1022, consonant: 0.0867\n",
      "[valid recall]total: 0.9705, grapheme: 0.9589, vowel: 0.9846, consonant: 0.9795\n",
      "================================================================================\n"
     ]
    },
    {
     "name": "stdout",
     "output_type": "stream",
     "text": [
      "lr:  [0.0043325816743394]\n"
     ]
    },
    {
     "name": "stderr",
     "output_type": "stream",
     "text": [
      "[EPOCH 00056]train_loss: 0.8544; val_loss: 0.1373; time elapsed: 7.8 min\n",
      "[valid loss]grapheme: 0.1884, vowel: 0.0930, consonant: 0.0795\n",
      "[valid recall]total: 0.9654, grapheme: 0.9515, vowel: 0.9815, consonant: 0.9770\n",
      "================================================================================\n"
     ]
    },
    {
     "name": "stdout",
     "output_type": "stream",
     "text": [
      "lr:  [0.004267717200583741]\n"
     ]
    },
    {
     "name": "stderr",
     "output_type": "stream",
     "text": [
      "[EPOCH 00057]train_loss: 0.8312; val_loss: 0.1458; time elapsed: 7.8 min\n",
      "[valid loss]grapheme: 0.2016, vowel: 0.1004, consonant: 0.0795\n",
      "[valid recall]total: 0.9639, grapheme: 0.9462, vowel: 0.9846, consonant: 0.9786\n",
      "================================================================================\n"
     ]
    },
    {
     "name": "stdout",
     "output_type": "stream",
     "text": [
      "lr:  [0.004200380428466321]\n"
     ]
    },
    {
     "name": "stderr",
     "output_type": "stream",
     "text": [
      "[EPOCH 00058]train_loss: 0.8305; val_loss: 0.1699; time elapsed: 8.0 min\n",
      "[valid loss]grapheme: 0.2263, vowel: 0.1362, consonant: 0.0908\n",
      "[valid recall]total: 0.9603, grapheme: 0.9415, vowel: 0.9829, consonant: 0.9754\n",
      "================================================================================\n"
     ]
    },
    {
     "name": "stdout",
     "output_type": "stream",
     "text": [
      "lr:  [0.00413066553455175]\n"
     ]
    },
    {
     "name": "stderr",
     "output_type": "stream",
     "text": [
      "[EPOCH 00059]train_loss: 0.7924; val_loss: 1.4961; time elapsed: 8.0 min\n",
      "[valid loss]grapheme: 2.1447, vowel: 1.0001, consonant: 0.6951\n",
      "[valid recall]total: 0.5012, grapheme: 0.4650, vowel: 0.5934, consonant: 0.4815\n",
      "================================================================================\n"
     ]
    },
    {
     "name": "stdout",
     "output_type": "stream",
     "text": [
      "lr:  [0.004058670021423012]\n"
     ]
    },
    {
     "name": "stderr",
     "output_type": "stream",
     "text": [
      "[EPOCH 00060]train_loss: 0.8182; val_loss: 0.1188; time elapsed: 7.8 min\n",
      "[valid loss]grapheme: 0.1550, vowel: 0.0946, consonant: 0.0704\n",
      "[valid recall]total: 0.9752, grapheme: 0.9637, vowel: 0.9869, consonant: 0.9866\n",
      "================================================================================\n"
     ]
    },
    {
     "name": "stdout",
     "output_type": "stream",
     "text": [
      "lr:  [0.003984494581315281]\n"
     ]
    },
    {
     "name": "stderr",
     "output_type": "stream",
     "text": [
      "[EPOCH 00061]train_loss: 0.8041; val_loss: 0.1201; time elapsed: 7.6 min\n",
      "[valid loss]grapheme: 0.1596, vowel: 0.0897, consonant: 0.0716\n",
      "[valid recall]total: 0.9696, grapheme: 0.9547, vowel: 0.9834, consonant: 0.9855\n",
      "================================================================================\n"
     ]
    },
    {
     "name": "stdout",
     "output_type": "stream",
     "text": [
      "lr:  [0.003908242955288733]\n"
     ]
    },
    {
     "name": "stderr",
     "output_type": "stream",
     "text": [
      "[EPOCH 00062]train_loss: 0.8210; val_loss: 0.1353; time elapsed: 7.6 min\n",
      "[valid loss]grapheme: 0.1755, vowel: 0.1052, consonant: 0.0851\n",
      "[valid recall]total: 0.9724, grapheme: 0.9606, vowel: 0.9860, consonant: 0.9824\n",
      "================================================================================\n"
     ]
    },
    {
     "name": "stdout",
     "output_type": "stream",
     "text": [
      "lr:  [0.003830021788137277]\n"
     ]
    },
    {
     "name": "stderr",
     "output_type": "stream",
     "text": [
      "[EPOCH 00063]train_loss: 0.8006; val_loss: 0.2263; time elapsed: 7.5 min\n",
      "[valid loss]grapheme: 0.3075, vowel: 0.1669, consonant: 0.1232\n",
      "[valid recall]total: 0.9411, grapheme: 0.9190, vowel: 0.9754, consonant: 0.9512\n",
      "================================================================================\n"
     ]
    },
    {
     "name": "stdout",
     "output_type": "stream",
     "text": [
      "lr:  [0.0037499404792361865]\n"
     ]
    },
    {
     "name": "stderr",
     "output_type": "stream",
     "text": [
      "[EPOCH 00064]train_loss: 0.8114; val_loss: 0.1340; time elapsed: 7.6 min\n",
      "[valid loss]grapheme: 0.1773, vowel: 0.1010, consonant: 0.0803\n",
      "[valid recall]total: 0.9703, grapheme: 0.9585, vowel: 0.9837, consonant: 0.9804\n",
      "================================================================================\n"
     ]
    },
    {
     "name": "stdout",
     "output_type": "stream",
     "text": [
      "lr:  [0.0036681110295371665]\n"
     ]
    },
    {
     "name": "stderr",
     "output_type": "stream",
     "text": [
      "[EPOCH 00065]train_loss: 0.8003; val_loss: 0.1436; time elapsed: 7.6 min\n",
      "[valid loss]grapheme: 0.1887, vowel: 0.1131, consonant: 0.0838\n",
      "[valid recall]total: 0.9673, grapheme: 0.9536, vowel: 0.9842, consonant: 0.9779\n",
      "================================================================================\n"
     ]
    },
    {
     "name": "stdout",
     "output_type": "stream",
     "text": [
      "lr:  [0.0035846478849249023]\n"
     ]
    },
    {
     "name": "stderr",
     "output_type": "stream",
     "text": [
      "[EPOCH 00066]train_loss: 0.7981; val_loss: 0.1223; time elapsed: 7.6 min\n",
      "[valid loss]grapheme: 0.1621, vowel: 0.0950, consonant: 0.0699\n",
      "[valid recall]total: 0.9739, grapheme: 0.9636, vowel: 0.9848, consonant: 0.9834\n",
      "================================================================================\n"
     ]
    },
    {
     "name": "stdout",
     "output_type": "stream",
     "text": [
      "lr:  [0.0034996677761541394]\n"
     ]
    },
    {
     "name": "stderr",
     "output_type": "stream",
     "text": [
      "[EPOCH 00067]train_loss: 0.7699; val_loss: 0.1192; time elapsed: 7.6 min\n",
      "[valid loss]grapheme: 0.1448, vowel: 0.1089, consonant: 0.0783\n",
      "[valid recall]total: 0.9760, grapheme: 0.9661, vowel: 0.9883, consonant: 0.9836\n",
      "================================================================================\n"
     ]
    },
    {
     "name": "stdout",
     "output_type": "stream",
     "text": [
      "lr:  [0.0034132895555911667]\n"
     ]
    },
    {
     "name": "stderr",
     "output_type": "stream",
     "text": [
      "[EPOCH 00068]train_loss: 0.7652; val_loss: 0.2121; time elapsed: 7.7 min\n",
      "[valid loss]grapheme: 0.2972, vowel: 0.1472, consonant: 0.1069\n",
      "[valid recall]total: 0.9461, grapheme: 0.9251, vowel: 0.9808, consonant: 0.9536\n",
      "================================================================================\n"
     ]
    },
    {
     "name": "stdout",
     "output_type": "stream",
     "text": [
      "lr:  [0.0033256340309880373]\n"
     ]
    },
    {
     "name": "stderr",
     "output_type": "stream",
     "text": [
      "[EPOCH 00069]train_loss: 0.7857; val_loss: 0.1276; time elapsed: 8.0 min\n",
      "[valid loss]grapheme: 0.1515, vowel: 0.1264, consonant: 0.0810\n",
      "[valid recall]total: 0.9685, grapheme: 0.9624, vowel: 0.9752, consonant: 0.9741\n",
      "================================================================================\n"
     ]
    },
    {
     "name": "stdout",
     "output_type": "stream",
     "text": [
      "lr:  [0.0032368237965220022]\n"
     ]
    },
    {
     "name": "stderr",
     "output_type": "stream",
     "text": [
      "[EPOCH 00070]train_loss: 0.7909; val_loss: 0.1313; time elapsed: 8.2 min\n",
      "[valid loss]grapheme: 0.1669, vowel: 0.1141, consonant: 0.0775\n",
      "[valid recall]total: 0.9729, grapheme: 0.9605, vowel: 0.9872, consonant: 0.9834\n",
      "================================================================================\n"
     ]
    },
    {
     "name": "stdout",
     "output_type": "stream",
     "text": [
      "lr:  [0.0031469830613364675]\n"
     ]
    },
    {
     "name": "stderr",
     "output_type": "stream",
     "text": [
      "[EPOCH 00071]train_loss: 0.7612; val_loss: 0.1166; time elapsed: 8.2 min\n",
      "[valid loss]grapheme: 0.1550, vowel: 0.0859, consonant: 0.0706\n",
      "[valid recall]total: 0.9730, grapheme: 0.9614, vowel: 0.9861, consonant: 0.9829\n",
      "================================================================================\n"
     ]
    },
    {
     "name": "stdout",
     "output_type": "stream",
     "text": [
      "lr:  [0.003056237475823277]\n"
     ]
    },
    {
     "name": "stderr",
     "output_type": "stream",
     "text": [
      "[EPOCH 00072]train_loss: 0.7637; val_loss: 0.1129; time elapsed: 8.2 min\n",
      "[valid loss]grapheme: 0.1422, vowel: 0.0943, consonant: 0.0729\n",
      "[valid recall]total: 0.9760, grapheme: 0.9654, vowel: 0.9873, consonant: 0.9860\n",
      "================================================================================\n"
     ]
    },
    {
     "name": "stdout",
     "output_type": "stream",
     "text": [
      "lr:  [0.0029647139558892782]\n"
     ]
    },
    {
     "name": "stderr",
     "output_type": "stream",
     "text": [
      "[EPOCH 00073]train_loss: 0.7741; val_loss: 0.1127; time elapsed: 8.2 min\n",
      "[valid loss]grapheme: 0.1442, vowel: 0.0899, consonant: 0.0725\n",
      "[valid recall]total: 0.9729, grapheme: 0.9633, vowel: 0.9842, consonant: 0.9810\n",
      "================================================================================\n"
     ]
    },
    {
     "name": "stdout",
     "output_type": "stream",
     "text": [
      "lr:  [0.0028725405054529475]\n"
     ]
    },
    {
     "name": "stderr",
     "output_type": "stream",
     "text": [
      "[EPOCH 00074]train_loss: 0.7544; val_loss: 0.1619; time elapsed: 8.2 min\n",
      "[valid loss]grapheme: 0.2076, vowel: 0.1291, consonant: 0.1032\n",
      "[valid recall]total: 0.9675, grapheme: 0.9523, vowel: 0.9821, consonant: 0.9834\n",
      "================================================================================\n"
     ]
    },
    {
     "name": "stdout",
     "output_type": "stream",
     "text": [
      "lr:  [0.0027798460374193405]\n"
     ]
    },
    {
     "name": "stderr",
     "output_type": "stream",
     "text": [
      "[EPOCH 00075]train_loss: 0.7635; val_loss: 0.1055; time elapsed: 8.2 min\n",
      "[valid loss]grapheme: 0.1300, vowel: 0.0934, consonant: 0.0684\n",
      "[valid recall]total: 0.9779, grapheme: 0.9687, vowel: 0.9876, consonant: 0.9867\n",
      "================================================================================\n"
     ]
    },
    {
     "name": "stdout",
     "output_type": "stream",
     "text": [
      "lr:  [0.0026867601933837307]\n"
     ]
    },
    {
     "name": "stderr",
     "output_type": "stream",
     "text": [
      "[EPOCH 00076]train_loss: 0.7371; val_loss: 0.0979; time elapsed: 8.2 min\n",
      "[valid loss]grapheme: 0.1297, vowel: 0.0715, consonant: 0.0606\n",
      "[valid recall]total: 0.9755, grapheme: 0.9639, vowel: 0.9869, consonant: 0.9872\n",
      "================================================================================\n"
     ]
    },
    {
     "name": "stdout",
     "output_type": "stream",
     "text": [
      "lr:  [0.002593413162316124]\n"
     ]
    },
    {
     "name": "stderr",
     "output_type": "stream",
     "text": [
      "[EPOCH 00077]train_loss: 0.7493; val_loss: 0.1419; time elapsed: 8.2 min\n",
      "[valid loss]grapheme: 0.1806, vowel: 0.1145, consonant: 0.0919\n",
      "[valid recall]total: 0.9683, grapheme: 0.9537, vowel: 0.9856, consonant: 0.9804\n",
      "================================================================================\n"
     ]
    },
    {
     "name": "stdout",
     "output_type": "stream",
     "text": [
      "lr:  [0.0024999354984802046]\n"
     ]
    },
    {
     "name": "stderr",
     "output_type": "stream",
     "text": [
      "[EPOCH 00078]train_loss: 0.7313; val_loss: 0.1374; time elapsed: 8.3 min\n",
      "[valid loss]grapheme: 0.1791, vowel: 0.1030, consonant: 0.0883\n",
      "[valid recall]total: 0.9691, grapheme: 0.9573, vowel: 0.9841, consonant: 0.9778\n",
      "================================================================================\n"
     ]
    },
    {
     "name": "stdout",
     "output_type": "stream",
     "text": [
      "lr:  [0.002406457938841397]\n"
     ]
    },
    {
     "name": "stderr",
     "output_type": "stream",
     "text": [
      "[EPOCH 00079]train_loss: 0.7441; val_loss: 0.1235; time elapsed: 8.2 min\n",
      "[valid loss]grapheme: 0.1499, vowel: 0.1123, consonant: 0.0818\n",
      "[valid recall]total: 0.9774, grapheme: 0.9674, vowel: 0.9861, consonant: 0.9886\n",
      "================================================================================\n"
     ]
    },
    {
     "name": "stdout",
     "output_type": "stream",
     "text": [
      "lr:  [0.002313111220219397]\n"
     ]
    },
    {
     "name": "stderr",
     "output_type": "stream",
     "text": [
      "[EPOCH 00080]train_loss: 0.7447; val_loss: 0.1178; time elapsed: 8.2 min\n",
      "[valid loss]grapheme: 0.1477, vowel: 0.1000, consonant: 0.0757\n",
      "[valid recall]total: 0.9749, grapheme: 0.9639, vowel: 0.9883, consonant: 0.9836\n",
      "================================================================================\n"
     ]
    },
    {
     "name": "stdout",
     "output_type": "stream",
     "text": [
      "lr:  [0.002220025896440907]\n"
     ]
    },
    {
     "name": "stderr",
     "output_type": "stream",
     "text": [
      "[EPOCH 00081]train_loss: 0.7449; val_loss: 0.0904; time elapsed: 8.2 min\n",
      "[valid loss]grapheme: 0.1140, vowel: 0.0749, consonant: 0.0584\n",
      "[valid recall]total: 0.9815, grapheme: 0.9731, vowel: 0.9892, consonant: 0.9906\n",
      "================================================================================\n"
     ]
    },
    {
     "name": "stdout",
     "output_type": "stream",
     "text": [
      "lr:  [0.0021273321557483027]\n"
     ]
    },
    {
     "name": "stderr",
     "output_type": "stream",
     "text": [
      "[EPOCH 00082]train_loss: 0.7174; val_loss: 0.1471; time elapsed: 8.2 min\n",
      "[valid loss]grapheme: 0.1859, vowel: 0.1295, consonant: 0.0873\n",
      "[valid recall]total: 0.9746, grapheme: 0.9618, vowel: 0.9871, consonant: 0.9876\n",
      "================================================================================\n"
     ]
    },
    {
     "name": "stdout",
     "output_type": "stream",
     "text": [
      "lr:  [0.0020351596387196092]\n"
     ]
    },
    {
     "name": "stderr",
     "output_type": "stream",
     "text": [
      "[EPOCH 00083]train_loss: 0.7270; val_loss: 0.0854; time elapsed: 8.2 min\n",
      "[valid loss]grapheme: 0.1040, vowel: 0.0740, consonant: 0.0597\n",
      "[valid recall]total: 0.9831, grapheme: 0.9772, vowel: 0.9901, consonant: 0.9880\n",
      "================================================================================\n"
     ]
    },
    {
     "name": "stdout",
     "output_type": "stream",
     "text": [
      "lr:  [0.0019436372569544252]\n"
     ]
    },
    {
     "name": "stderr",
     "output_type": "stream",
     "text": [
      "[EPOCH 00084]train_loss: 0.7141; val_loss: 0.0936; time elapsed: 8.2 min\n",
      "[valid loss]grapheme: 0.1104, vowel: 0.0896, consonant: 0.0640\n",
      "[valid recall]total: 0.9823, grapheme: 0.9755, vowel: 0.9899, consonant: 0.9883\n",
      "================================================================================\n"
     ]
    },
    {
     "name": "stdout",
     "output_type": "stream",
     "text": [
      "lr:  [0.0018528930127793956]\n"
     ]
    },
    {
     "name": "stderr",
     "output_type": "stream",
     "text": [
      "[EPOCH 00085]train_loss: 0.7329; val_loss: 0.1023; time elapsed: 8.2 min\n",
      "[valid loss]grapheme: 0.1223, vowel: 0.0961, consonant: 0.0687\n",
      "[valid recall]total: 0.9798, grapheme: 0.9714, vowel: 0.9895, consonant: 0.9867\n",
      "================================================================================\n"
     ]
    },
    {
     "name": "stdout",
     "output_type": "stream",
     "text": [
      "lr:  [0.001763053820225385]\n"
     ]
    },
    {
     "name": "stderr",
     "output_type": "stream",
     "text": [
      "[EPOCH 00086]train_loss: 0.7142; val_loss: 0.0984; time elapsed: 8.2 min\n",
      "[valid loss]grapheme: 0.1159, vowel: 0.0928, consonant: 0.0691\n",
      "[valid recall]total: 0.9791, grapheme: 0.9706, vowel: 0.9885, consonant: 0.9867\n",
      "================================================================================\n"
     ]
    },
    {
     "name": "stdout",
     "output_type": "stream",
     "text": [
      "lr:  [0.0016742453275267266]\n"
     ]
    },
    {
     "name": "stderr",
     "output_type": "stream",
     "text": [
      "[EPOCH 00087]train_loss: 0.7011; val_loss: 0.1062; time elapsed: 8.2 min\n",
      "[valid loss]grapheme: 0.1343, vowel: 0.0886, consonant: 0.0678\n",
      "[valid recall]total: 0.9775, grapheme: 0.9669, vowel: 0.9868, consonant: 0.9894\n",
      "================================================================================\n"
     ]
    },
    {
     "name": "stdout",
     "output_type": "stream",
     "text": [
      "lr:  [0.0015865917413908092]\n"
     ]
    },
    {
     "name": "stderr",
     "output_type": "stream",
     "text": [
      "[EPOCH 00088]train_loss: 0.7012; val_loss: 0.1030; time elapsed: 8.2 min\n",
      "[valid loss]grapheme: 0.1253, vowel: 0.0944, consonant: 0.0670\n",
      "[valid recall]total: 0.9795, grapheme: 0.9711, vowel: 0.9897, consonant: 0.9863\n",
      "================================================================================\n"
     ]
    },
    {
     "name": "stdout",
     "output_type": "stream",
     "text": [
      "lr:  [0.001500215653283761]\n"
     ]
    },
    {
     "name": "stderr",
     "output_type": "stream",
     "text": [
      "[EPOCH 00089]train_loss: 0.6928; val_loss: 0.0895; time elapsed: 8.2 min\n",
      "[valid loss]grapheme: 0.1045, vowel: 0.0874, consonant: 0.0615\n",
      "[valid recall]total: 0.9839, grapheme: 0.9777, vowel: 0.9907, consonant: 0.9894\n",
      "================================================================================\n"
     ]
    },
    {
     "name": "stdout",
     "output_type": "stream",
     "text": [
      "lr:  [0.0014152378679752032]\n"
     ]
    },
    {
     "name": "stderr",
     "output_type": "stream",
     "text": [
      "[EPOCH 00090]train_loss: 0.6835; val_loss: 0.0854; time elapsed: 7.6 min\n",
      "[valid loss]grapheme: 0.1071, vowel: 0.0696, consonant: 0.0578\n",
      "[valid recall]total: 0.9801, grapheme: 0.9732, vowel: 0.9877, consonant: 0.9863\n",
      "================================================================================\n"
     ]
    },
    {
     "name": "stdout",
     "output_type": "stream",
     "text": [
      "lr:  [0.001331777234581852]\n"
     ]
    },
    {
     "name": "stderr",
     "output_type": "stream",
     "text": [
      "[EPOCH 00091]train_loss: 0.6954; val_loss: 0.1163; time elapsed: 7.7 min\n",
      "[valid loss]grapheme: 0.1431, vowel: 0.1006, consonant: 0.0784\n",
      "[valid recall]total: 0.9771, grapheme: 0.9662, vowel: 0.9899, consonant: 0.9863\n",
      "================================================================================\n"
     ]
    },
    {
     "name": "stdout",
     "output_type": "stream",
     "text": [
      "lr:  [0.001249950480346286]\n"
     ]
    },
    {
     "name": "stderr",
     "output_type": "stream",
     "text": [
      "[EPOCH 00092]train_loss: 0.7068; val_loss: 0.0992; time elapsed: 7.8 min\n",
      "[valid loss]grapheme: 0.1204, vowel: 0.0893, consonant: 0.0668\n",
      "[valid recall]total: 0.9786, grapheme: 0.9687, vowel: 0.9892, consonant: 0.9877\n",
      "================================================================================\n"
     ]
    },
    {
     "name": "stdout",
     "output_type": "stream",
     "text": [
      "lr:  [0.0011698720473833427]\n"
     ]
    },
    {
     "name": "stderr",
     "output_type": "stream",
     "text": [
      "[EPOCH 00093]train_loss: 0.6701; val_loss: 0.0936; time elapsed: 7.8 min\n",
      "[valid loss]grapheme: 0.1108, vowel: 0.0871, consonant: 0.0659\n",
      "[valid recall]total: 0.9817, grapheme: 0.9740, vowel: 0.9904, consonant: 0.9884\n",
      "================================================================================\n"
     ]
    },
    {
     "name": "stdout",
     "output_type": "stream",
     "text": [
      "lr:  [0.0010916539326224664]\n"
     ]
    },
    {
     "name": "stderr",
     "output_type": "stream",
     "text": [
      "[EPOCH 00094]train_loss: 0.6822; val_loss: 0.0894; time elapsed: 7.8 min\n",
      "[valid loss]grapheme: 0.1018, vowel: 0.0944, consonant: 0.0595\n",
      "[valid recall]total: 0.9841, grapheme: 0.9777, vowel: 0.9904, consonant: 0.9906\n",
      "================================================================================\n"
     ]
    },
    {
     "name": "stdout",
     "output_type": "stream",
     "text": [
      "lr:  [0.0010154055311698842]\n"
     ]
    },
    {
     "name": "stderr",
     "output_type": "stream",
     "text": [
      "[EPOCH 00095]train_loss: 0.6944; val_loss: 0.0752; time elapsed: 7.8 min\n",
      "[valid loss]grapheme: 0.0946, vowel: 0.0612, consonant: 0.0503\n",
      "[valid recall]total: 0.9823, grapheme: 0.9745, vowel: 0.9916, consonant: 0.9886\n",
      "================================================================================\n"
     ]
    },
    {
     "name": "stdout",
     "output_type": "stream",
     "text": [
      "lr:  [0.000941233483309653]\n"
     ]
    },
    {
     "name": "stderr",
     "output_type": "stream",
     "text": [
      "[EPOCH 00096]train_loss: 0.7024; val_loss: 0.0944; time elapsed: 7.6 min\n",
      "[valid loss]grapheme: 0.1191, vowel: 0.0747, consonant: 0.0647\n",
      "[valid recall]total: 0.9792, grapheme: 0.9694, vowel: 0.9899, consonant: 0.9882\n",
      "================================================================================\n"
     ]
    },
    {
     "name": "stdout",
     "output_type": "stream",
     "text": [
      "lr:  [0.0008692415253575775]\n"
     ]
    },
    {
     "name": "stderr",
     "output_type": "stream",
     "text": [
      "[EPOCH 00097]train_loss: 0.6861; val_loss: 0.1709; time elapsed: 7.6 min\n",
      "[valid loss]grapheme: 0.2402, vowel: 0.1121, consonant: 0.0913\n",
      "[valid recall]total: 0.9535, grapheme: 0.9287, vowel: 0.9845, consonant: 0.9722\n",
      "================================================================================\n"
     ]
    },
    {
     "name": "stdout",
     "output_type": "stream",
     "text": [
      "lr:  [0.0007995303445765982]\n"
     ]
    },
    {
     "name": "stderr",
     "output_type": "stream",
     "text": [
      "[EPOCH 00098]train_loss: 0.6636; val_loss: 0.0888; time elapsed: 7.6 min\n",
      "[valid loss]grapheme: 0.1046, vowel: 0.0842, consonant: 0.0619\n",
      "[valid recall]total: 0.9835, grapheme: 0.9762, vowel: 0.9906, consonant: 0.9910\n",
      "================================================================================\n"
     ]
    },
    {
     "name": "stdout",
     "output_type": "stream",
     "text": [
      "lr:  [0.0007321974383565461]\n"
     ]
    },
    {
     "name": "stderr",
     "output_type": "stream",
     "text": [
      "[EPOCH 00099]train_loss: 0.6918; val_loss: 0.1121; time elapsed: 7.6 min\n",
      "[valid loss]grapheme: 0.1286, vowel: 0.1142, consonant: 0.0770\n",
      "[valid recall]total: 0.9797, grapheme: 0.9715, vowel: 0.9894, consonant: 0.9864\n",
      "================================================================================\n"
     ]
    },
    {
     "name": "stdout",
     "output_type": "stream",
     "text": [
      "lr:  [0.0006673369778552256]\n"
     ]
    },
    {
     "name": "stderr",
     "output_type": "stream",
     "text": [
      "[EPOCH 00100]train_loss: 0.6811; val_loss: 0.0751; time elapsed: 7.6 min\n",
      "[valid loss]grapheme: 0.0862, vowel: 0.0739, consonant: 0.0539\n",
      "[valid recall]total: 0.9853, grapheme: 0.9804, vowel: 0.9913, consonant: 0.9891\n",
      "================================================================================\n"
     ]
    },
    {
     "name": "stdout",
     "output_type": "stream",
     "text": [
      "lr:  [0.0006050396762915392]\n"
     ]
    },
    {
     "name": "stderr",
     "output_type": "stream",
     "text": [
      "[EPOCH 00101]train_loss: 0.6852; val_loss: 0.0791; time elapsed: 7.6 min\n",
      "[valid loss]grapheme: 0.0913, vowel: 0.0750, consonant: 0.0590\n",
      "[valid recall]total: 0.9845, grapheme: 0.9787, vowel: 0.9908, consonant: 0.9898\n",
      "================================================================================\n"
     ]
    },
    {
     "name": "stdout",
     "output_type": "stream",
     "text": [
      "lr:  [0.0005453926620748458]\n"
     ]
    },
    {
     "name": "stderr",
     "output_type": "stream",
     "text": [
      "[EPOCH 00102]train_loss: 0.6523; val_loss: 0.0787; time elapsed: 7.6 min\n",
      "[valid loss]grapheme: 0.0897, vowel: 0.0820, consonant: 0.0534\n",
      "[valid recall]total: 0.9843, grapheme: 0.9784, vowel: 0.9904, consonant: 0.9900\n",
      "================================================================================\n"
     ]
    },
    {
     "name": "stdout",
     "output_type": "stream",
     "text": [
      "lr:  [0.0004884793569479999]\n"
     ]
    },
    {
     "name": "stderr",
     "output_type": "stream",
     "text": [
      "[EPOCH 00103]train_loss: 0.6630; val_loss: 0.0762; time elapsed: 7.6 min\n",
      "[valid loss]grapheme: 0.0867, vowel: 0.0748, consonant: 0.0567\n",
      "[valid recall]total: 0.9872, grapheme: 0.9824, vowel: 0.9918, consonant: 0.9922\n",
      "================================================================================\n"
     ]
    },
    {
     "name": "stdout",
     "output_type": "stream",
     "text": [
      "lr:  [0.0004343793593145067]\n"
     ]
    },
    {
     "name": "stderr",
     "output_type": "stream",
     "text": [
      "[EPOCH 00104]train_loss: 0.6910; val_loss: 0.0663; time elapsed: 7.6 min\n",
      "[valid loss]grapheme: 0.0779, vowel: 0.0630, consonant: 0.0463\n",
      "[valid recall]total: 0.9862, grapheme: 0.9806, vowel: 0.9911, consonant: 0.9924\n",
      "================================================================================\n"
     ]
    },
    {
     "name": "stdout",
     "output_type": "stream",
     "text": [
      "lr:  [0.0003831683329129493]\n"
     ]
    },
    {
     "name": "stderr",
     "output_type": "stream",
     "text": [
      "[EPOCH 00105]train_loss: 0.6734; val_loss: 0.0662; time elapsed: 7.6 min\n",
      "[valid loss]grapheme: 0.0779, vowel: 0.0633, consonant: 0.0458\n",
      "[valid recall]total: 0.9872, grapheme: 0.9823, vowel: 0.9917, consonant: 0.9926\n",
      "================================================================================\n"
     ]
    },
    {
     "name": "stdout",
     "output_type": "stream",
     "text": [
      "lr:  [0.00033491790099441797]\n"
     ]
    },
    {
     "name": "stderr",
     "output_type": "stream",
     "text": [
      "[EPOCH 00106]train_loss: 0.6831; val_loss: 0.0742; time elapsed: 7.6 min\n",
      "[valid loss]grapheme: 0.0825, vowel: 0.0752, consonant: 0.0565\n",
      "[valid recall]total: 0.9870, grapheme: 0.9822, vowel: 0.9911, consonant: 0.9922\n",
      "================================================================================\n"
     ]
    },
    {
     "name": "stdout",
     "output_type": "stream",
     "text": [
      "lr:  [0.00028969554615090783]\n"
     ]
    },
    {
     "name": "stderr",
     "output_type": "stream",
     "text": [
      "[EPOCH 00107]train_loss: 0.6622; val_loss: 0.0959; time elapsed: 7.6 min\n",
      "[valid loss]grapheme: 0.1019, vowel: 0.1141, consonant: 0.0657\n",
      "[valid recall]total: 0.9870, grapheme: 0.9823, vowel: 0.9915, consonant: 0.9921\n",
      "================================================================================\n"
     ]
    },
    {
     "name": "stdout",
     "output_type": "stream",
     "text": [
      "lr:  [0.0002475645159348177]\n"
     ]
    },
    {
     "name": "stderr",
     "output_type": "stream",
     "text": [
      "[EPOCH 00108]train_loss: 0.6537; val_loss: 0.0748; time elapsed: 7.8 min\n",
      "[valid loss]grapheme: 0.0834, vowel: 0.0758, consonant: 0.0564\n",
      "[valid recall]total: 0.9863, grapheme: 0.9808, vowel: 0.9913, consonant: 0.9922\n",
      "================================================================================\n"
     ]
    },
    {
     "name": "stdout",
     "output_type": "stream",
     "text": [
      "lr:  [0.00020858373440152763]\n"
     ]
    },
    {
     "name": "stderr",
     "output_type": "stream",
     "text": [
      "[EPOCH 00109]train_loss: 0.7018; val_loss: 0.0886; time elapsed: 7.7 min\n",
      "[valid loss]grapheme: 0.0876, vowel: 0.1120, consonant: 0.0671\n",
      "[valid recall]total: 0.9870, grapheme: 0.9823, vowel: 0.9912, consonant: 0.9922\n",
      "================================================================================\n"
     ]
    },
    {
     "name": "stdout",
     "output_type": "stream",
     "text": [
      "lr:  [0.00017280771969877933]\n"
     ]
    },
    {
     "name": "stderr",
     "output_type": "stream",
     "text": [
      "[EPOCH 00110]train_loss: 0.6634; val_loss: 0.0788; time elapsed: 7.8 min\n",
      "[valid loss]grapheme: 0.0845, vowel: 0.0865, consonant: 0.0598\n",
      "[valid recall]total: 0.9866, grapheme: 0.9814, vowel: 0.9913, consonant: 0.9922\n",
      "================================================================================\n"
     ]
    },
    {
     "name": "stdout",
     "output_type": "stream",
     "text": [
      "lr:  [0.00014028650781811662]\n"
     ]
    },
    {
     "name": "stderr",
     "output_type": "stream",
     "text": [
      "[EPOCH 00111]train_loss: 0.6478; val_loss: 0.0820; time elapsed: 7.9 min\n",
      "[valid loss]grapheme: 0.0909, vowel: 0.0900, consonant: 0.0562\n",
      "[valid recall]total: 0.9871, grapheme: 0.9824, vowel: 0.9913, consonant: 0.9922\n",
      "================================================================================\n"
     ]
    },
    {
     "name": "stdout",
     "output_type": "stream",
     "text": [
      "lr:  [0.00011106558261502592]\n"
     ]
    },
    {
     "name": "stderr",
     "output_type": "stream",
     "text": [
      "[EPOCH 00112]train_loss: 0.6541; val_loss: 0.0796; time elapsed: 7.9 min\n",
      "[valid loss]grapheme: 0.0869, vowel: 0.0862, consonant: 0.0584\n",
      "[valid recall]total: 0.9869, grapheme: 0.9819, vowel: 0.9916, consonant: 0.9921\n",
      "================================================================================\n"
     ]
    },
    {
     "name": "stdout",
     "output_type": "stream",
     "text": [
      "lr:  [8.518581219565397e-05]\n"
     ]
    },
    {
     "name": "stderr",
     "output_type": "stream",
     "text": [
      "[EPOCH 00113]train_loss: 0.6544; val_loss: 0.0797; time elapsed: 7.9 min\n",
      "[valid loss]grapheme: 0.0863, vowel: 0.0864, consonant: 0.0600\n",
      "[valid recall]total: 0.9872, grapheme: 0.9827, vowel: 0.9914, consonant: 0.9921\n",
      "================================================================================\n"
     ]
    },
    {
     "name": "stdout",
     "output_type": "stream",
     "text": [
      "lr:  [6.268339175906405e-05]\n"
     ]
    },
    {
     "name": "stderr",
     "output_type": "stream",
     "text": [
      "[EPOCH 00114]train_loss: 0.6686; val_loss: 0.0794; time elapsed: 7.9 min\n",
      "[valid loss]grapheme: 0.0856, vowel: 0.0833, consonant: 0.0633\n",
      "[valid recall]total: 0.9871, grapheme: 0.9826, vowel: 0.9915, consonant: 0.9919\n",
      "================================================================================\n"
     ]
    },
    {
     "name": "stdout",
     "output_type": "stream",
     "text": [
      "lr:  [4.358979297497717e-05]\n"
     ]
    },
    {
     "name": "stderr",
     "output_type": "stream",
     "text": [
      "[EPOCH 00115]train_loss: 0.6882; val_loss: 0.0781; time elapsed: 8.0 min\n",
      "[valid loss]grapheme: 0.0820, vowel: 0.0877, consonant: 0.0605\n",
      "[valid recall]total: 0.9871, grapheme: 0.9825, vowel: 0.9914, consonant: 0.9921\n",
      "================================================================================\n"
     ]
    },
    {
     "name": "stdout",
     "output_type": "stream",
     "text": [
      "lr:  [2.7931719967797712e-05]\n"
     ]
    },
    {
     "name": "stderr",
     "output_type": "stream",
     "text": [
      "[EPOCH 00116]train_loss: 0.6603; val_loss: 0.0748; time elapsed: 7.9 min\n",
      "[valid loss]grapheme: 0.0816, vowel: 0.0800, consonant: 0.0561\n",
      "[valid recall]total: 0.9870, grapheme: 0.9823, vowel: 0.9914, consonant: 0.9922\n",
      "================================================================================\n"
     ]
    },
    {
     "name": "stdout",
     "output_type": "stream",
     "text": [
      "lr:  [1.573107196847947e-05]\n"
     ]
    },
    {
     "name": "stderr",
     "output_type": "stream",
     "text": [
      "[EPOCH 00117]train_loss: 0.6341; val_loss: 0.0826; time elapsed: 8.0 min\n",
      "[valid loss]grapheme: 0.0894, vowel: 0.0930, consonant: 0.0586\n",
      "[valid recall]total: 0.9872, grapheme: 0.9828, vowel: 0.9910, consonant: 0.9920\n",
      "================================================================================\n"
     ]
    },
    {
     "name": "stdout",
     "output_type": "stream",
     "text": [
      "lr:  [7.004912686470389e-06]\n"
     ]
    },
    {
     "name": "stderr",
     "output_type": "stream",
     "text": [
      "[EPOCH 00118]train_loss: 0.6697; val_loss: 0.0841; time elapsed: 7.9 min\n",
      "[valid loss]grapheme: 0.0877, vowel: 0.0954, consonant: 0.0657\n",
      "[valid recall]total: 0.9873, grapheme: 0.9829, vowel: 0.9916, consonant: 0.9919\n",
      "================================================================================\n"
     ]
    },
    {
     "name": "stdout",
     "output_type": "stream",
     "text": [
      "lr:  [1.7654464445743385e-06]\n"
     ]
    },
    {
     "name": "stderr",
     "output_type": "stream",
     "text": [
      "[EPOCH 00119]train_loss: 0.6635; val_loss: 0.0674; time elapsed: 8.0 min\n",
      "[valid loss]grapheme: 0.0770, vowel: 0.0648, consonant: 0.0509\n",
      "[valid recall]total: 0.9875, grapheme: 0.9828, vowel: 0.9921, consonant: 0.9922\n",
      "================================================================================\n"
     ]
    },
    {
     "name": "stdout",
     "output_type": "stream",
     "text": [
      "========training fold 3========\n",
      "[     0      1      3 ... 200837 200838 200839]\n",
      "[     2      7      9 ... 200814 200822 200828]\n",
      "checkpoint_path:  ../checkpoint/v3-fold3\n"
     ]
    },
    {
     "name": "stderr",
     "output_type": "stream",
     "text": [
      "\n",
      "\n",
      "\n"
     ]
    },
    {
     "name": "stdout",
     "output_type": "stream",
     "text": [
      "Loaded pretrained weights for efficientnet-b3\n",
      "lr:  [0.00019999999999999966]\n"
     ]
    },
    {
     "name": "stderr",
     "output_type": "stream",
     "text": [
      "[EPOCH 00000]train_loss: 2.7149; val_loss: 0.8884; time elapsed: 7.8 min\n",
      "[valid loss]grapheme: 1.1230, vowel: 0.6109, consonant: 0.6967\n",
      "[valid recall]total: 0.7085, grapheme: 0.6194, vowel: 0.8823, consonant: 0.7129\n",
      "================================================================================\n"
     ]
    },
    {
     "name": "stdout",
     "output_type": "stream",
     "text": [
      "lr:  [0.0002091331286183584]\n"
     ]
    },
    {
     "name": "stderr",
     "output_type": "stream",
     "text": [
      "[EPOCH 00001]train_loss: 1.8521; val_loss: 0.4680; time elapsed: 7.8 min\n",
      "[valid loss]grapheme: 0.5240, vowel: 0.3592, consonant: 0.4649\n",
      "[valid recall]total: 0.8373, grapheme: 0.8311, vowel: 0.9490, consonant: 0.7378\n",
      "================================================================================\n"
     ]
    },
    {
     "name": "stdout",
     "output_type": "stream",
     "text": [
      "lr:  [0.00023646300277480308]\n"
     ]
    },
    {
     "name": "stderr",
     "output_type": "stream",
     "text": [
      "[EPOCH 00002]train_loss: 1.5931; val_loss: 0.3235; time elapsed: 7.7 min\n",
      "[valid loss]grapheme: 0.3684, vowel: 0.2485, consonant: 0.3087\n",
      "[valid recall]total: 0.9022, grapheme: 0.8902, vowel: 0.9589, consonant: 0.8695\n",
      "================================================================================\n"
     ]
    },
    {
     "name": "stdout",
     "output_type": "stream",
     "text": [
      "lr:  [0.00028178161642283817]\n"
     ]
    },
    {
     "name": "stderr",
     "output_type": "stream",
     "text": [
      "[EPOCH 00003]train_loss: 1.4308; val_loss: 0.2657; time elapsed: 7.6 min\n",
      "[valid loss]grapheme: 0.3228, vowel: 0.1934, consonant: 0.2240\n",
      "[valid recall]total: 0.9324, grapheme: 0.9107, vowel: 0.9703, consonant: 0.9380\n",
      "================================================================================\n"
     ]
    },
    {
     "name": "stdout",
     "output_type": "stream",
     "text": [
      "lr:  [0.00034474405228975165]\n"
     ]
    },
    {
     "name": "stderr",
     "output_type": "stream",
     "text": [
      "[EPOCH 00004]train_loss: 1.3299; val_loss: 0.2342; time elapsed: 7.7 min\n",
      "[valid loss]grapheme: 0.2968, vowel: 0.1700, consonant: 0.1731\n",
      "[valid recall]total: 0.9360, grapheme: 0.9163, vowel: 0.9716, consonant: 0.9400\n",
      "================================================================================\n"
     ]
    },
    {
     "name": "stdout",
     "output_type": "stream",
     "text": [
      "lr:  [0.00042487110702146315]\n"
     ]
    },
    {
     "name": "stderr",
     "output_type": "stream",
     "text": [
      "[EPOCH 00005]train_loss: 1.2663; val_loss: 0.2600; time elapsed: 7.6 min\n",
      "[valid loss]grapheme: 0.3354, vowel: 0.1899, consonant: 0.1792\n",
      "[valid recall]total: 0.9338, grapheme: 0.9233, vowel: 0.9750, consonant: 0.9138\n",
      "================================================================================\n"
     ]
    },
    {
     "name": "stdout",
     "output_type": "stream",
     "text": [
      "lr:  [0.0005215529383707429]\n"
     ]
    },
    {
     "name": "stderr",
     "output_type": "stream",
     "text": [
      "[EPOCH 00006]train_loss: 1.2181; val_loss: 0.2419; time elapsed: 7.6 min\n",
      "[valid loss]grapheme: 0.3307, vowel: 0.1665, consonant: 0.1398\n",
      "[valid recall]total: 0.9303, grapheme: 0.9082, vowel: 0.9722, consonant: 0.9326\n",
      "================================================================================\n"
     ]
    },
    {
     "name": "stdout",
     "output_type": "stream",
     "text": [
      "lr:  [0.0006340537066702812]\n"
     ]
    },
    {
     "name": "stderr",
     "output_type": "stream",
     "text": [
      "[EPOCH 00007]train_loss: 1.1645; val_loss: 0.2361; time elapsed: 7.6 min\n",
      "[valid loss]grapheme: 0.3332, vowel: 0.1508, consonant: 0.1271\n",
      "[valid recall]total: 0.9362, grapheme: 0.9092, vowel: 0.9750, consonant: 0.9513\n",
      "================================================================================\n"
     ]
    },
    {
     "name": "stdout",
     "output_type": "stream",
     "text": [
      "lr:  [0.0007615171752646255]\n"
     ]
    },
    {
     "name": "stderr",
     "output_type": "stream",
     "text": [
      "[EPOCH 00008]train_loss: 1.1453; val_loss: 0.2322; time elapsed: 7.6 min\n",
      "[valid loss]grapheme: 0.2913, vowel: 0.1997, consonant: 0.1463\n",
      "[valid recall]total: 0.9487, grapheme: 0.9327, vowel: 0.9729, consonant: 0.9567\n",
      "================================================================================\n"
     ]
    },
    {
     "name": "stdout",
     "output_type": "stream",
     "text": [
      "lr:  [0.0009029732272764308]\n"
     ]
    },
    {
     "name": "stderr",
     "output_type": "stream",
     "text": [
      "[EPOCH 00009]train_loss: 1.1658; val_loss: 0.2187; time elapsed: 7.6 min\n",
      "[valid loss]grapheme: 0.2755, vowel: 0.1716, consonant: 0.1522\n",
      "[valid recall]total: 0.9486, grapheme: 0.9347, vowel: 0.9769, consonant: 0.9481\n",
      "================================================================================\n"
     ]
    },
    {
     "name": "stdout",
     "output_type": "stream",
     "text": [
      "lr:  [0.0010573452491083046]\n"
     ]
    },
    {
     "name": "stderr",
     "output_type": "stream",
     "text": [
      "[EPOCH 00010]train_loss: 1.1146; val_loss: 0.2135; time elapsed: 7.6 min\n",
      "[valid loss]grapheme: 0.2942, vowel: 0.1420, consonant: 0.1235\n",
      "[valid recall]total: 0.9514, grapheme: 0.9292, vowel: 0.9774, consonant: 0.9696\n",
      "================================================================================\n"
     ]
    },
    {
     "name": "stdout",
     "output_type": "stream",
     "text": [
      "lr:  [0.0012234583244848593]\n"
     ]
    },
    {
     "name": "stderr",
     "output_type": "stream",
     "text": [
      "[EPOCH 00011]train_loss: 1.1082; val_loss: 0.2560; time elapsed: 7.6 min\n",
      "[valid loss]grapheme: 0.3612, vowel: 0.1609, consonant: 0.1407\n",
      "[valid recall]total: 0.9315, grapheme: 0.9032, vowel: 0.9690, consonant: 0.9507\n",
      "================================================================================\n"
     ]
    },
    {
     "name": "stdout",
     "output_type": "stream",
     "text": [
      "lr:  [0.0014000481766705897]\n"
     ]
    },
    {
     "name": "stderr",
     "output_type": "stream",
     "text": [
      "[EPOCH 00012]train_loss: 1.1011; val_loss: 0.2075; time elapsed: 7.7 min\n",
      "[valid loss]grapheme: 0.2837, vowel: 0.1365, consonant: 0.1259\n",
      "[valid recall]total: 0.9488, grapheme: 0.9296, vowel: 0.9770, consonant: 0.9591\n",
      "================================================================================\n"
     ]
    },
    {
     "name": "stdout",
     "output_type": "stream",
     "text": [
      "lr:  [0.0015857707908049057]\n"
     ]
    },
    {
     "name": "stderr",
     "output_type": "stream",
     "text": [
      "[EPOCH 00013]train_loss: 1.0848; val_loss: 0.1914; time elapsed: 7.6 min\n",
      "[valid loss]grapheme: 0.2546, vowel: 0.1400, consonant: 0.1167\n",
      "[valid recall]total: 0.9555, grapheme: 0.9374, vowel: 0.9805, consonant: 0.9667\n",
      "================================================================================\n"
     ]
    },
    {
     "name": "stdout",
     "output_type": "stream",
     "text": [
      "lr:  [0.001779212643119284]\n"
     ]
    },
    {
     "name": "stderr",
     "output_type": "stream",
     "text": [
      "[EPOCH 00014]train_loss: 1.0738; val_loss: 0.1864; time elapsed: 7.7 min\n",
      "[valid loss]grapheme: 0.2479, vowel: 0.1369, consonant: 0.1128\n",
      "[valid recall]total: 0.9558, grapheme: 0.9387, vowel: 0.9788, consonant: 0.9670\n",
      "================================================================================\n"
     ]
    },
    {
     "name": "stdout",
     "output_type": "stream",
     "text": [
      "lr:  [0.001978901459182592]\n"
     ]
    },
    {
     "name": "stderr",
     "output_type": "stream",
     "text": [
      "[EPOCH 00015]train_loss: 1.0811; val_loss: 0.6194; time elapsed: 7.6 min\n",
      "[valid loss]grapheme: 0.5306, vowel: 1.1166, consonant: 0.2997\n",
      "[valid recall]total: 0.8159, grapheme: 0.8374, vowel: 0.7369, consonant: 0.8520\n",
      "================================================================================\n"
     ]
    },
    {
     "name": "stdout",
     "output_type": "stream",
     "text": [
      "lr:  [0.0021833174192941998]\n"
     ]
    },
    {
     "name": "stderr",
     "output_type": "stream",
     "text": [
      "[EPOCH 00016]train_loss: 1.0525; val_loss: 0.2216; time elapsed: 7.7 min\n",
      "[valid loss]grapheme: 0.3027, vowel: 0.1507, consonant: 0.1303\n",
      "[valid recall]total: 0.9442, grapheme: 0.9163, vowel: 0.9811, consonant: 0.9629\n",
      "================================================================================\n"
     ]
    },
    {
     "name": "stdout",
     "output_type": "stream",
     "text": [
      "lr:  [0.0023909047257413218]\n"
     ]
    },
    {
     "name": "stderr",
     "output_type": "stream",
     "text": [
      "[EPOCH 00017]train_loss: 1.0609; val_loss: 0.2550; time elapsed: 7.6 min\n",
      "[valid loss]grapheme: 0.3396, vowel: 0.1837, consonant: 0.1570\n",
      "[valid recall]total: 0.9425, grapheme: 0.9186, vowel: 0.9727, consonant: 0.9602\n",
      "================================================================================\n"
     ]
    },
    {
     "name": "stdout",
     "output_type": "stream",
     "text": [
      "lr:  [0.0026000834438828562]\n"
     ]
    },
    {
     "name": "stderr",
     "output_type": "stream",
     "text": [
      "[EPOCH 00018]train_loss: 1.0360; val_loss: 0.1732; time elapsed: 7.7 min\n",
      "[valid loss]grapheme: 0.2326, vowel: 0.1257, consonant: 0.1020\n",
      "[valid recall]total: 0.9555, grapheme: 0.9403, vowel: 0.9817, consonant: 0.9600\n",
      "================================================================================\n"
     ]
    },
    {
     "name": "stdout",
     "output_type": "stream",
     "text": [
      "lr:  [0.0028092615269379615]\n"
     ]
    },
    {
     "name": "stderr",
     "output_type": "stream",
     "text": [
      "[EPOCH 00019]train_loss: 1.0317; val_loss: 0.2282; time elapsed: 7.6 min\n",
      "[valid loss]grapheme: 0.3028, vowel: 0.1813, consonant: 0.1259\n",
      "[valid recall]total: 0.9469, grapheme: 0.9295, vowel: 0.9764, consonant: 0.9521\n",
      "================================================================================\n"
     ]
    },
    {
     "name": "stdout",
     "output_type": "stream",
     "text": [
      "lr:  [0.0030168469329594017]\n"
     ]
    },
    {
     "name": "stderr",
     "output_type": "stream",
     "text": [
      "[EPOCH 00020]train_loss: 1.0220; val_loss: 0.2311; time elapsed: 7.7 min\n",
      "[valid loss]grapheme: 0.3248, vowel: 0.1587, consonant: 0.1159\n",
      "[valid recall]total: 0.9338, grapheme: 0.9055, vowel: 0.9739, consonant: 0.9503\n",
      "================================================================================\n"
     ]
    },
    {
     "name": "stdout",
     "output_type": "stream",
     "text": [
      "lr:  [0.0032212597417701017]\n"
     ]
    },
    {
     "name": "stderr",
     "output_type": "stream",
     "text": [
      "[EPOCH 00021]train_loss: 1.0051; val_loss: 0.2050; time elapsed: 7.6 min\n",
      "[valid loss]grapheme: 0.2670, vowel: 0.1631, consonant: 0.1227\n",
      "[valid recall]total: 0.9501, grapheme: 0.9326, vowel: 0.9724, consonant: 0.9627\n",
      "================================================================================\n"
     ]
    },
    {
     "name": "stdout",
     "output_type": "stream",
     "text": [
      "lr:  [0.0034209441796416405]\n"
     ]
    },
    {
     "name": "stderr",
     "output_type": "stream",
     "text": [
      "[EPOCH 00022]train_loss: 1.0096; val_loss: 0.2852; time elapsed: 7.6 min\n",
      "[valid loss]grapheme: 0.4305, vowel: 0.1613, consonant: 0.1185\n",
      "[valid recall]total: 0.9058, grapheme: 0.8517, vowel: 0.9644, consonant: 0.9553\n",
      "================================================================================\n"
     ]
    },
    {
     "name": "stdout",
     "output_type": "stream",
     "text": [
      "lr:  [0.0036143804601955457]\n"
     ]
    },
    {
     "name": "stderr",
     "output_type": "stream",
     "text": [
      "[EPOCH 00023]train_loss: 0.9848; val_loss: 0.2819; time elapsed: 7.6 min\n",
      "[valid loss]grapheme: 0.3616, vowel: 0.2564, consonant: 0.1479\n",
      "[valid recall]total: 0.9135, grapheme: 0.8946, vowel: 0.9377, consonant: 0.9270\n",
      "================================================================================\n"
     ]
    },
    {
     "name": "stdout",
     "output_type": "stream",
     "text": [
      "lr:  [0.0038000963514070204]\n"
     ]
    },
    {
     "name": "stderr",
     "output_type": "stream",
     "text": [
      "[EPOCH 00024]train_loss: 0.9731; val_loss: 0.2318; time elapsed: 7.7 min\n",
      "[valid loss]grapheme: 0.3127, vowel: 0.1640, consonant: 0.1379\n",
      "[valid recall]total: 0.9410, grapheme: 0.9179, vowel: 0.9721, consonant: 0.9559\n",
      "================================================================================\n"
     ]
    },
    {
     "name": "stdout",
     "output_type": "stream",
     "text": [
      "lr:  [0.003976678380675308]\n"
     ]
    },
    {
     "name": "stderr",
     "output_type": "stream",
     "text": [
      "[EPOCH 00025]train_loss: 0.9827; val_loss: 0.2494; time elapsed: 7.6 min\n",
      "[valid loss]grapheme: 0.3383, vowel: 0.1903, consonant: 0.1309\n",
      "[valid recall]total: 0.9310, grapheme: 0.9039, vowel: 0.9597, consonant: 0.9565\n",
      "================================================================================\n"
     ]
    },
    {
     "name": "stdout",
     "output_type": "stream",
     "text": [
      "lr:  [0.004142782592679578]\n"
     ]
    },
    {
     "name": "stderr",
     "output_type": "stream",
     "text": [
      "[EPOCH 00026]train_loss: 1.0030; val_loss: 0.2313; time elapsed: 7.6 min\n",
      "[valid loss]grapheme: 0.3148, vowel: 0.1648, consonant: 0.1308\n",
      "[valid recall]total: 0.9390, grapheme: 0.9130, vowel: 0.9688, consonant: 0.9612\n",
      "================================================================================\n"
     ]
    },
    {
     "name": "stdout",
     "output_type": "stream",
     "text": [
      "lr:  [0.004297144778142924]\n"
     ]
    },
    {
     "name": "stderr",
     "output_type": "stream",
     "text": [
      "[EPOCH 00027]train_loss: 0.9660; val_loss: 0.2096; time elapsed: 7.6 min\n",
      "[valid loss]grapheme: 0.2630, vowel: 0.1914, consonant: 0.1209\n",
      "[valid recall]total: 0.9464, grapheme: 0.9384, vowel: 0.9496, consonant: 0.9591\n",
      "================================================================================\n"
     ]
    },
    {
     "name": "stdout",
     "output_type": "stream",
     "text": [
      "lr:  [0.004438590095653974]\n"
     ]
    },
    {
     "name": "stderr",
     "output_type": "stream",
     "text": [
      "[EPOCH 00028]train_loss: 0.9627; val_loss: 0.2375; time elapsed: 7.7 min\n",
      "[valid loss]grapheme: 0.3217, vowel: 0.1641, consonant: 0.1424\n",
      "[valid recall]total: 0.9411, grapheme: 0.9172, vowel: 0.9664, consonant: 0.9634\n",
      "================================================================================\n"
     ]
    },
    {
     "name": "stdout",
     "output_type": "stream",
     "text": [
      "lr:  [0.004566042013314983]\n"
     ]
    },
    {
     "name": "stderr",
     "output_type": "stream",
     "text": [
      "[EPOCH 00029]train_loss: 0.9526; val_loss: 0.2636; time elapsed: 7.6 min\n",
      "[valid loss]grapheme: 0.3270, vowel: 0.2062, consonant: 0.1941\n",
      "[valid recall]total: 0.9313, grapheme: 0.9062, vowel: 0.9654, consonant: 0.9473\n",
      "================================================================================\n"
     ]
    },
    {
     "name": "stdout",
     "output_type": "stream",
     "text": [
      "lr:  [0.004678530502162072]\n"
     ]
    },
    {
     "name": "stderr",
     "output_type": "stream",
     "text": [
      "[EPOCH 00030]train_loss: 0.9504; val_loss: 0.1918; time elapsed: 7.6 min\n",
      "[valid loss]grapheme: 0.2672, vowel: 0.1258, consonant: 0.1071\n",
      "[valid recall]total: 0.9506, grapheme: 0.9311, vowel: 0.9723, consonant: 0.9681\n",
      "================================================================================\n"
     ]
    },
    {
     "name": "stdout",
     "output_type": "stream",
     "text": [
      "lr:  [0.004775199418997971]\n"
     ]
    },
    {
     "name": "stderr",
     "output_type": "stream",
     "text": [
      "[EPOCH 00031]train_loss: 0.9710; val_loss: 0.1972; time elapsed: 7.6 min\n",
      "[valid loss]grapheme: 0.2595, vowel: 0.1565, consonant: 0.1134\n",
      "[valid recall]total: 0.9530, grapheme: 0.9361, vowel: 0.9776, consonant: 0.9623\n",
      "================================================================================\n"
     ]
    },
    {
     "name": "stdout",
     "output_type": "stream",
     "text": [
      "lr:  [0.004855313022446962]\n"
     ]
    },
    {
     "name": "stderr",
     "output_type": "stream",
     "text": [
      "[EPOCH 00032]train_loss: 0.9439; val_loss: 0.1992; time elapsed: 7.7 min\n",
      "[valid loss]grapheme: 0.2622, vowel: 0.1633, consonant: 0.1089\n",
      "[valid recall]total: 0.9540, grapheme: 0.9315, vowel: 0.9820, consonant: 0.9711\n",
      "================================================================================\n"
     ]
    },
    {
     "name": "stdout",
     "output_type": "stream",
     "text": [
      "lr:  [0.00491826157263873]\n"
     ]
    },
    {
     "name": "stderr",
     "output_type": "stream",
     "text": [
      "[EPOCH 00033]train_loss: 0.9549; val_loss: 0.1576; time elapsed: 7.6 min\n",
      "[valid loss]grapheme: 0.2072, vowel: 0.1157, consonant: 0.1002\n",
      "[valid recall]total: 0.9626, grapheme: 0.9474, vowel: 0.9842, consonant: 0.9713\n",
      "================================================================================\n"
     ]
    },
    {
     "name": "stdout",
     "output_type": "stream",
     "text": [
      "lr:  [0.00496356597190224]\n"
     ]
    },
    {
     "name": "stderr",
     "output_type": "stream",
     "text": [
      "[EPOCH 00034]train_loss: 0.9366; val_loss: 0.1539; time elapsed: 7.6 min\n",
      "[valid loss]grapheme: 0.2084, vowel: 0.1088, consonant: 0.0900\n",
      "[valid recall]total: 0.9585, grapheme: 0.9379, vowel: 0.9834, consonant: 0.9749\n",
      "================================================================================\n"
     ]
    },
    {
     "name": "stdout",
     "output_type": "stream",
     "text": [
      "lr:  [0.004990881411149617]\n"
     ]
    },
    {
     "name": "stderr",
     "output_type": "stream",
     "text": [
      "[EPOCH 00035]train_loss: 0.9188; val_loss: 0.1967; time elapsed: 7.6 min\n",
      "[valid loss]grapheme: 0.2498, vowel: 0.1676, consonant: 0.1196\n",
      "[valid recall]total: 0.9514, grapheme: 0.9375, vowel: 0.9811, consonant: 0.9495\n",
      "================================================================================\n"
     ]
    },
    {
     "name": "stdout",
     "output_type": "stream",
     "text": [
      "lr:  [0.0049999999988899]\n"
     ]
    },
    {
     "name": "stderr",
     "output_type": "stream",
     "text": [
      "[EPOCH 00036]train_loss: 0.9238; val_loss: 0.1791; time elapsed: 7.6 min\n",
      "[valid loss]grapheme: 0.2531, vowel: 0.1138, consonant: 0.0964\n",
      "[valid recall]total: 0.9463, grapheme: 0.9220, vowel: 0.9731, consonant: 0.9682\n",
      "================================================================================\n"
     ]
    },
    {
     "name": "stdout",
     "output_type": "stream",
     "text": [
      "lr:  [0.004998248982153825]\n"
     ]
    },
    {
     "name": "stderr",
     "output_type": "stream",
     "text": [
      "[EPOCH 00037]train_loss: 0.9378; val_loss: 0.1743; time elapsed: 7.6 min\n",
      "[valid loss]grapheme: 0.2370, vowel: 0.1285, consonant: 0.0948\n",
      "[valid recall]total: 0.9547, grapheme: 0.9346, vowel: 0.9810, consonant: 0.9685\n",
      "================================================================================\n"
     ]
    },
    {
     "name": "stdout",
     "output_type": "stream",
     "text": [
      "lr:  [0.004993003952302436]\n"
     ]
    },
    {
     "name": "stderr",
     "output_type": "stream",
     "text": [
      "[EPOCH 00038]train_loss: 0.9315; val_loss: 0.1584; time elapsed: 7.6 min\n",
      "[valid loss]grapheme: 0.1945, vowel: 0.1414, consonant: 0.1031\n",
      "[valid recall]total: 0.9681, grapheme: 0.9561, vowel: 0.9843, consonant: 0.9757\n",
      "================================================================================\n"
     ]
    },
    {
     "name": "stdout",
     "output_type": "stream",
     "text": [
      "lr:  [0.004984272244984255]\n"
     ]
    },
    {
     "name": "stderr",
     "output_type": "stream",
     "text": [
      "[EPOCH 00039]train_loss: 0.9238; val_loss: 0.1318; time elapsed: 7.6 min\n",
      "[valid loss]grapheme: 0.1797, vowel: 0.0900, consonant: 0.0778\n",
      "[valid recall]total: 0.9631, grapheme: 0.9482, vowel: 0.9831, consonant: 0.9728\n",
      "================================================================================\n"
     ]
    },
    {
     "name": "stdout",
     "output_type": "stream",
     "text": [
      "lr:  [0.004972066072281515]\n"
     ]
    },
    {
     "name": "stderr",
     "output_type": "stream",
     "text": [
      "[EPOCH 00040]train_loss: 0.9057; val_loss: 0.1618; time elapsed: 7.6 min\n",
      "[valid loss]grapheme: 0.2090, vowel: 0.1299, consonant: 0.0995\n",
      "[valid recall]total: 0.9627, grapheme: 0.9502, vowel: 0.9824, consonant: 0.9677\n",
      "================================================================================\n"
     ]
    },
    {
     "name": "stdout",
     "output_type": "stream",
     "text": [
      "lr:  [0.004956402505630461]\n"
     ]
    },
    {
     "name": "stderr",
     "output_type": "stream",
     "text": [
      "[EPOCH 00041]train_loss: 0.8997; val_loss: 0.1834; time elapsed: 7.6 min\n",
      "[valid loss]grapheme: 0.2417, vowel: 0.1480, consonant: 0.1022\n",
      "[valid recall]total: 0.9544, grapheme: 0.9368, vowel: 0.9796, consonant: 0.9644\n",
      "================================================================================\n"
     ]
    },
    {
     "name": "stdout",
     "output_type": "stream",
     "text": [
      "lr:  [0.004937303451945404]\n"
     ]
    },
    {
     "name": "stderr",
     "output_type": "stream",
     "text": [
      "[EPOCH 00042]train_loss: 0.9049; val_loss: 0.1604; time elapsed: 7.6 min\n",
      "[valid loss]grapheme: 0.2161, vowel: 0.1178, consonant: 0.0915\n",
      "[valid recall]total: 0.9610, grapheme: 0.9446, vowel: 0.9806, consonant: 0.9742\n",
      "================================================================================\n"
     ]
    },
    {
     "name": "stdout",
     "output_type": "stream",
     "text": [
      "lr:  [0.004914795622979922]\n"
     ]
    },
    {
     "name": "stderr",
     "output_type": "stream",
     "text": [
      "[EPOCH 00043]train_loss: 0.8790; val_loss: 0.1411; time elapsed: 7.6 min\n",
      "[valid loss]grapheme: 0.1798, vowel: 0.1115, consonant: 0.0934\n",
      "[valid recall]total: 0.9695, grapheme: 0.9588, vowel: 0.9847, consonant: 0.9756\n",
      "================================================================================\n"
     ]
    },
    {
     "name": "stdout",
     "output_type": "stream",
     "text": [
      "lr:  [0.004888910497968052]\n"
     ]
    },
    {
     "name": "stderr",
     "output_type": "stream",
     "text": [
      "[EPOCH 00044]train_loss: 0.8807; val_loss: 0.1244; time elapsed: 7.7 min\n",
      "[valid loss]grapheme: 0.1669, vowel: 0.0858, consonant: 0.0778\n",
      "[valid recall]total: 0.9690, grapheme: 0.9585, vowel: 0.9852, consonant: 0.9740\n",
      "================================================================================\n"
     ]
    },
    {
     "name": "stdout",
     "output_type": "stream",
     "text": [
      "lr:  [0.0048596842795977395]\n"
     ]
    },
    {
     "name": "stderr",
     "output_type": "stream",
     "text": [
      "[EPOCH 00045]train_loss: 0.8727; val_loss: 0.1465; time elapsed: 7.8 min\n",
      "[valid loss]grapheme: 0.1839, vowel: 0.1303, consonant: 0.0882\n",
      "[valid recall]total: 0.9633, grapheme: 0.9475, vowel: 0.9826, consonant: 0.9756\n",
      "================================================================================\n"
     ]
    },
    {
     "name": "stdout",
     "output_type": "stream",
     "text": [
      "lr:  [0.004827157843378102]\n"
     ]
    },
    {
     "name": "stderr",
     "output_type": "stream",
     "text": [
      "[EPOCH 00046]train_loss: 0.8925; val_loss: 0.1593; time elapsed: 7.7 min\n",
      "[valid loss]grapheme: 0.2070, vowel: 0.1265, consonant: 0.0968\n",
      "[valid recall]total: 0.9608, grapheme: 0.9455, vowel: 0.9831, consonant: 0.9692\n",
      "================================================================================\n"
     ]
    },
    {
     "name": "stdout",
     "output_type": "stream",
     "text": [
      "lr:  [0.004791376680471341]\n"
     ]
    },
    {
     "name": "stderr",
     "output_type": "stream",
     "text": [
      "[EPOCH 00047]train_loss: 0.8895; val_loss: 0.1383; time elapsed: 7.7 min\n",
      "[valid loss]grapheme: 0.1788, vowel: 0.1074, consonant: 0.0884\n",
      "[valid recall]total: 0.9686, grapheme: 0.9582, vowel: 0.9847, consonant: 0.9732\n",
      "================================================================================\n"
     ]
    },
    {
     "name": "stdout",
     "output_type": "stream",
     "text": [
      "lr:  [0.004752390834069225]\n"
     ]
    },
    {
     "name": "stderr",
     "output_type": "stream",
     "text": [
      "[EPOCH 00048]train_loss: 0.8602; val_loss: 0.1574; time elapsed: 7.7 min\n",
      "[valid loss]grapheme: 0.1964, vowel: 0.1393, consonant: 0.0975\n",
      "[valid recall]total: 0.9642, grapheme: 0.9478, vowel: 0.9861, consonant: 0.9750\n",
      "================================================================================\n"
     ]
    },
    {
     "name": "stdout",
     "output_type": "stream",
     "text": [
      "lr:  [0.004710254829403174]\n"
     ]
    },
    {
     "name": "stderr",
     "output_type": "stream",
     "text": [
      "[EPOCH 00049]train_loss: 0.8928; val_loss: 0.1938; time elapsed: 7.7 min\n",
      "[valid loss]grapheme: 0.2705, vowel: 0.1306, consonant: 0.1038\n",
      "[valid recall]total: 0.9470, grapheme: 0.9223, vowel: 0.9789, consonant: 0.9646\n",
      "================================================================================\n"
     ]
    },
    {
     "name": "stdout",
     "output_type": "stream",
     "text": [
      "lr:  [0.004665027597485786]\n"
     ]
    },
    {
     "name": "stderr",
     "output_type": "stream",
     "text": [
      "[EPOCH 00050]train_loss: 0.8682; val_loss: 0.1594; time elapsed: 7.7 min\n",
      "[valid loss]grapheme: 0.2013, vowel: 0.1419, consonant: 0.0931\n",
      "[valid recall]total: 0.9632, grapheme: 0.9475, vowel: 0.9843, consonant: 0.9734\n",
      "================================================================================\n"
     ]
    },
    {
     "name": "stdout",
     "output_type": "stream",
     "text": [
      "lr:  [0.004616772392690489]\n"
     ]
    },
    {
     "name": "stderr",
     "output_type": "stream",
     "text": [
      "[EPOCH 00051]train_loss: 0.8540; val_loss: 0.1449; time elapsed: 7.8 min\n",
      "[valid loss]grapheme: 0.1922, vowel: 0.1072, consonant: 0.0882\n",
      "[valid recall]total: 0.9649, grapheme: 0.9499, vowel: 0.9842, consonant: 0.9755\n",
      "================================================================================\n"
     ]
    },
    {
     "name": "stdout",
     "output_type": "stream",
     "text": [
      "lr:  [0.00456555670428458]\n"
     ]
    },
    {
     "name": "stderr",
     "output_type": "stream",
     "text": [
      "[EPOCH 00052]train_loss: 0.8552; val_loss: 0.1621; time elapsed: 7.7 min\n",
      "[valid loss]grapheme: 0.2057, vowel: 0.1427, consonant: 0.0942\n",
      "[valid recall]total: 0.9639, grapheme: 0.9493, vowel: 0.9822, consonant: 0.9749\n",
      "================================================================================\n"
     ]
    },
    {
     "name": "stdout",
     "output_type": "stream",
     "text": [
      "lr:  [0.004511452162039379]\n"
     ]
    },
    {
     "name": "stderr",
     "output_type": "stream",
     "text": [
      "[EPOCH 00053]train_loss: 0.8255; val_loss: 0.1072; time elapsed: 7.8 min\n",
      "[valid loss]grapheme: 0.1361, vowel: 0.0822, consonant: 0.0745\n",
      "[valid recall]total: 0.9728, grapheme: 0.9639, vowel: 0.9875, consonant: 0.9760\n",
      "================================================================================\n"
     ]
    },
    {
     "name": "stdout",
     "output_type": "stream",
     "text": [
      "lr:  [0.004454534436049523]\n"
     ]
    },
    {
     "name": "stderr",
     "output_type": "stream",
     "text": [
      "[EPOCH 00054]train_loss: 0.8486; val_loss: 0.1771; time elapsed: 7.7 min\n",
      "[valid loss]grapheme: 0.2367, vowel: 0.1368, consonant: 0.0981\n",
      "[valid recall]total: 0.9532, grapheme: 0.9330, vowel: 0.9822, consonant: 0.9646\n",
      "================================================================================\n"
     ]
    },
    {
     "name": "stdout",
     "output_type": "stream",
     "text": [
      "lr:  [0.004394883130901493]\n"
     ]
    },
    {
     "name": "stderr",
     "output_type": "stream",
     "text": [
      "[EPOCH 00055]train_loss: 0.8454; val_loss: 0.1400; time elapsed: 7.8 min\n",
      "[valid loss]grapheme: 0.1823, vowel: 0.1051, consonant: 0.0902\n",
      "[valid recall]total: 0.9672, grapheme: 0.9552, vowel: 0.9837, consonant: 0.9746\n",
      "================================================================================\n"
     ]
    },
    {
     "name": "stdout",
     "output_type": "stream",
     "text": [
      "lr:  [0.0043325816743394]\n"
     ]
    },
    {
     "name": "stderr",
     "output_type": "stream",
     "text": [
      "[EPOCH 00056]train_loss: 0.8341; val_loss: 0.1698; time elapsed: 7.7 min\n",
      "[valid loss]grapheme: 0.2235, vowel: 0.1278, consonant: 0.1046\n",
      "[valid recall]total: 0.9518, grapheme: 0.9359, vowel: 0.9799, consonant: 0.9556\n",
      "================================================================================\n"
     ]
    },
    {
     "name": "stdout",
     "output_type": "stream",
     "text": [
      "lr:  [0.004267717200583741]\n"
     ]
    },
    {
     "name": "stderr",
     "output_type": "stream",
     "text": [
      "[EPOCH 00057]train_loss: 0.8411; val_loss: 0.1297; time elapsed: 7.7 min\n",
      "[valid loss]grapheme: 0.1688, vowel: 0.0966, consonant: 0.0847\n",
      "[valid recall]total: 0.9664, grapheme: 0.9533, vowel: 0.9853, consonant: 0.9736\n",
      "================================================================================\n"
     ]
    },
    {
     "name": "stdout",
     "output_type": "stream",
     "text": [
      "lr:  [0.004200380428466321]\n"
     ]
    },
    {
     "name": "stderr",
     "output_type": "stream",
     "text": [
      "[EPOCH 00058]train_loss: 0.8261; val_loss: 0.1494; time elapsed: 7.7 min\n",
      "[valid loss]grapheme: 0.2056, vowel: 0.0975, consonant: 0.0888\n",
      "[valid recall]total: 0.9546, grapheme: 0.9422, vowel: 0.9837, consonant: 0.9502\n",
      "================================================================================\n"
     ]
    },
    {
     "name": "stdout",
     "output_type": "stream",
     "text": [
      "lr:  [0.00413066553455175]\n"
     ]
    },
    {
     "name": "stderr",
     "output_type": "stream",
     "text": [
      "[EPOCH 00059]train_loss: 0.8026; val_loss: 0.1447; time elapsed: 7.7 min\n",
      "[valid loss]grapheme: 0.1907, vowel: 0.1131, consonant: 0.0842\n",
      "[valid recall]total: 0.9619, grapheme: 0.9457, vowel: 0.9838, consonant: 0.9726\n",
      "================================================================================\n"
     ]
    },
    {
     "name": "stdout",
     "output_type": "stream",
     "text": [
      "lr:  [0.004058670021423012]\n"
     ]
    },
    {
     "name": "stderr",
     "output_type": "stream",
     "text": [
      "[EPOCH 00060]train_loss: 0.8490; val_loss: 0.1475; time elapsed: 7.7 min\n",
      "[valid loss]grapheme: 0.1837, vowel: 0.1328, consonant: 0.0898\n",
      "[valid recall]total: 0.9664, grapheme: 0.9542, vowel: 0.9866, consonant: 0.9706\n",
      "================================================================================\n"
     ]
    },
    {
     "name": "stdout",
     "output_type": "stream",
     "text": [
      "lr:  [0.003984494581315281]\n"
     ]
    },
    {
     "name": "stderr",
     "output_type": "stream",
     "text": [
      "[EPOCH 00061]train_loss: 0.8083; val_loss: 0.1186; time elapsed: 7.7 min\n",
      "[valid loss]grapheme: 0.1595, vowel: 0.0814, consonant: 0.0739\n",
      "[valid recall]total: 0.9678, grapheme: 0.9549, vowel: 0.9868, consonant: 0.9747\n",
      "================================================================================\n"
     ]
    },
    {
     "name": "stdout",
     "output_type": "stream",
     "text": [
      "lr:  [0.003908242955288733]\n"
     ]
    },
    {
     "name": "stderr",
     "output_type": "stream",
     "text": [
      "[EPOCH 00062]train_loss: 0.8031; val_loss: 0.1501; time elapsed: 7.8 min\n",
      "[valid loss]grapheme: 0.1976, vowel: 0.1070, consonant: 0.0984\n",
      "[valid recall]total: 0.9593, grapheme: 0.9439, vowel: 0.9807, consonant: 0.9687\n",
      "================================================================================\n"
     ]
    },
    {
     "name": "stdout",
     "output_type": "stream",
     "text": [
      "lr:  [0.003830021788137277]\n"
     ]
    },
    {
     "name": "stderr",
     "output_type": "stream",
     "text": [
      "[EPOCH 00063]train_loss: 0.7966; val_loss: 0.1880; time elapsed: 7.7 min\n",
      "[valid loss]grapheme: 0.2429, vowel: 0.1580, consonant: 0.1084\n",
      "[valid recall]total: 0.9533, grapheme: 0.9327, vowel: 0.9815, consonant: 0.9665\n",
      "================================================================================\n"
     ]
    },
    {
     "name": "stdout",
     "output_type": "stream",
     "text": [
      "lr:  [0.0037499404792361865]\n"
     ]
    },
    {
     "name": "stderr",
     "output_type": "stream",
     "text": [
      "[EPOCH 00064]train_loss: 0.7916; val_loss: 0.1144; time elapsed: 7.7 min\n",
      "[valid loss]grapheme: 0.1436, vowel: 0.0933, consonant: 0.0771\n",
      "[valid recall]total: 0.9734, grapheme: 0.9635, vowel: 0.9872, consonant: 0.9793\n",
      "================================================================================\n"
     ]
    },
    {
     "name": "stdout",
     "output_type": "stream",
     "text": [
      "lr:  [0.0036681110295371665]\n"
     ]
    },
    {
     "name": "stderr",
     "output_type": "stream",
     "text": [
      "[EPOCH 00065]train_loss: 0.8068; val_loss: 0.1232; time elapsed: 7.7 min\n",
      "[valid loss]grapheme: 0.1556, vowel: 0.1022, consonant: 0.0797\n",
      "[valid recall]total: 0.9698, grapheme: 0.9564, vowel: 0.9879, consonant: 0.9783\n",
      "================================================================================\n"
     ]
    },
    {
     "name": "stdout",
     "output_type": "stream",
     "text": [
      "lr:  [0.0035846478849249023]\n"
     ]
    },
    {
     "name": "stderr",
     "output_type": "stream",
     "text": [
      "[EPOCH 00066]train_loss: 0.7762; val_loss: 0.1172; time elapsed: 7.8 min\n",
      "[valid loss]grapheme: 0.1456, vowel: 0.0973, consonant: 0.0805\n",
      "[valid recall]total: 0.9739, grapheme: 0.9663, vowel: 0.9868, consonant: 0.9760\n",
      "================================================================================\n"
     ]
    },
    {
     "name": "stdout",
     "output_type": "stream",
     "text": [
      "lr:  [0.0034996677761541394]\n"
     ]
    },
    {
     "name": "stderr",
     "output_type": "stream",
     "text": [
      "[EPOCH 00067]train_loss: 0.7784; val_loss: 0.1284; time elapsed: 7.7 min\n",
      "[valid loss]grapheme: 0.1610, vowel: 0.1114, consonant: 0.0801\n",
      "[valid recall]total: 0.9698, grapheme: 0.9584, vowel: 0.9858, consonant: 0.9765\n",
      "================================================================================\n"
     ]
    },
    {
     "name": "stdout",
     "output_type": "stream",
     "text": [
      "lr:  [0.0034132895555911667]\n"
     ]
    },
    {
     "name": "stderr",
     "output_type": "stream",
     "text": [
      "[EPOCH 00068]train_loss: 0.7423; val_loss: 0.0921; time elapsed: 7.8 min\n",
      "[valid loss]grapheme: 0.1151, vowel: 0.0780, consonant: 0.0603\n",
      "[valid recall]total: 0.9760, grapheme: 0.9690, vowel: 0.9872, consonant: 0.9788\n",
      "================================================================================\n"
     ]
    },
    {
     "name": "stdout",
     "output_type": "stream",
     "text": [
      "lr:  [0.0033256340309880373]\n"
     ]
    },
    {
     "name": "stderr",
     "output_type": "stream",
     "text": [
      "[EPOCH 00069]train_loss: 0.7932; val_loss: 0.1332; time elapsed: 7.7 min\n",
      "[valid loss]grapheme: 0.1658, vowel: 0.1110, consonant: 0.0902\n",
      "[valid recall]total: 0.9686, grapheme: 0.9566, vowel: 0.9865, consonant: 0.9746\n",
      "================================================================================\n"
     ]
    },
    {
     "name": "stdout",
     "output_type": "stream",
     "text": [
      "lr:  [0.0032368237965220022]\n"
     ]
    },
    {
     "name": "stderr",
     "output_type": "stream",
     "text": [
      "[EPOCH 00070]train_loss: 0.7725; val_loss: 0.1209; time elapsed: 7.8 min\n",
      "[valid loss]grapheme: 0.1509, vowel: 0.1055, consonant: 0.0765\n",
      "[valid recall]total: 0.9719, grapheme: 0.9621, vowel: 0.9866, consonant: 0.9766\n",
      "================================================================================\n"
     ]
    },
    {
     "name": "stdout",
     "output_type": "stream",
     "text": [
      "lr:  [0.0031469830613364675]\n"
     ]
    },
    {
     "name": "stderr",
     "output_type": "stream",
     "text": [
      "[EPOCH 00071]train_loss: 0.7559; val_loss: 0.1096; time elapsed: 7.7 min\n",
      "[valid loss]grapheme: 0.1360, vowel: 0.0934, consonant: 0.0731\n",
      "[valid recall]total: 0.9726, grapheme: 0.9635, vowel: 0.9872, consonant: 0.9761\n",
      "================================================================================\n"
     ]
    },
    {
     "name": "stdout",
     "output_type": "stream",
     "text": [
      "lr:  [0.003056237475823277]\n"
     ]
    },
    {
     "name": "stderr",
     "output_type": "stream",
     "text": [
      "[EPOCH 00072]train_loss: 0.7496; val_loss: 0.1213; time elapsed: 7.8 min\n",
      "[valid loss]grapheme: 0.1534, vowel: 0.0921, consonant: 0.0863\n",
      "[valid recall]total: 0.9732, grapheme: 0.9641, vowel: 0.9872, consonant: 0.9774\n",
      "================================================================================\n"
     ]
    },
    {
     "name": "stdout",
     "output_type": "stream",
     "text": [
      "lr:  [0.0029647139558892782]\n"
     ]
    },
    {
     "name": "stderr",
     "output_type": "stream",
     "text": [
      "[EPOCH 00073]train_loss: 0.7755; val_loss: 0.1110; time elapsed: 7.7 min\n",
      "[valid loss]grapheme: 0.1305, vowel: 0.1078, consonant: 0.0753\n",
      "[valid recall]total: 0.9769, grapheme: 0.9700, vowel: 0.9890, consonant: 0.9787\n",
      "================================================================================\n"
     ]
    },
    {
     "name": "stdout",
     "output_type": "stream",
     "text": [
      "lr:  [0.0028725405054529475]\n"
     ]
    },
    {
     "name": "stderr",
     "output_type": "stream",
     "text": [
      "[EPOCH 00074]train_loss: 0.7602; val_loss: 0.1188; time elapsed: 7.8 min\n",
      "[valid loss]grapheme: 0.1453, vowel: 0.1064, consonant: 0.0784\n",
      "[valid recall]total: 0.9732, grapheme: 0.9648, vowel: 0.9860, consonant: 0.9773\n",
      "================================================================================\n"
     ]
    },
    {
     "name": "stdout",
     "output_type": "stream",
     "text": [
      "lr:  [0.0027798460374193405]\n"
     ]
    },
    {
     "name": "stderr",
     "output_type": "stream",
     "text": [
      "[EPOCH 00075]train_loss: 0.7538; val_loss: 0.1239; time elapsed: 7.7 min\n",
      "[valid loss]grapheme: 0.1427, vowel: 0.1252, consonant: 0.0850\n",
      "[valid recall]total: 0.9741, grapheme: 0.9651, vowel: 0.9871, consonant: 0.9791\n",
      "================================================================================\n"
     ]
    },
    {
     "name": "stdout",
     "output_type": "stream",
     "text": [
      "lr:  [0.0026867601933837307]\n"
     ]
    },
    {
     "name": "stderr",
     "output_type": "stream",
     "text": [
      "[EPOCH 00076]train_loss: 0.7393; val_loss: 0.1191; time elapsed: 7.7 min\n",
      "[valid loss]grapheme: 0.1497, vowel: 0.0986, consonant: 0.0784\n",
      "[valid recall]total: 0.9712, grapheme: 0.9604, vowel: 0.9873, consonant: 0.9767\n",
      "================================================================================\n"
     ]
    },
    {
     "name": "stdout",
     "output_type": "stream",
     "text": [
      "lr:  [0.002593413162316124]\n"
     ]
    },
    {
     "name": "stderr",
     "output_type": "stream",
     "text": [
      "[EPOCH 00077]train_loss: 0.7232; val_loss: 0.0829; time elapsed: 7.8 min\n",
      "[valid loss]grapheme: 0.1053, vowel: 0.0651, consonant: 0.0560\n",
      "[valid recall]total: 0.9780, grapheme: 0.9714, vowel: 0.9902, consonant: 0.9790\n",
      "================================================================================\n"
     ]
    },
    {
     "name": "stdout",
     "output_type": "stream",
     "text": [
      "lr:  [0.0024999354984802046]\n"
     ]
    },
    {
     "name": "stderr",
     "output_type": "stream",
     "text": [
      "[EPOCH 00078]train_loss: 0.7508; val_loss: 0.1132; time elapsed: 7.7 min\n",
      "[valid loss]grapheme: 0.1425, vowel: 0.0943, consonant: 0.0733\n",
      "[valid recall]total: 0.9738, grapheme: 0.9656, vowel: 0.9881, consonant: 0.9761\n",
      "================================================================================\n"
     ]
    },
    {
     "name": "stdout",
     "output_type": "stream",
     "text": [
      "lr:  [0.002406457938841397]\n"
     ]
    },
    {
     "name": "stderr",
     "output_type": "stream",
     "text": [
      "[EPOCH 00079]train_loss: 0.7276; val_loss: 0.1044; time elapsed: 7.7 min\n",
      "[valid loss]grapheme: 0.1370, vowel: 0.0733, consonant: 0.0705\n",
      "[valid recall]total: 0.9713, grapheme: 0.9610, vowel: 0.9857, consonant: 0.9775\n",
      "================================================================================\n"
     ]
    },
    {
     "name": "stdout",
     "output_type": "stream",
     "text": [
      "lr:  [0.002313111220219397]\n"
     ]
    },
    {
     "name": "stderr",
     "output_type": "stream",
     "text": [
      "[EPOCH 00080]train_loss: 0.7253; val_loss: 0.0948; time elapsed: 7.7 min\n",
      "[valid loss]grapheme: 0.1131, vowel: 0.0814, consonant: 0.0716\n",
      "[valid recall]total: 0.9777, grapheme: 0.9708, vowel: 0.9888, consonant: 0.9805\n",
      "================================================================================\n"
     ]
    },
    {
     "name": "stdout",
     "output_type": "stream",
     "text": [
      "lr:  [0.002220025896440907]\n"
     ]
    },
    {
     "name": "stderr",
     "output_type": "stream",
     "text": [
      "[EPOCH 00081]train_loss: 0.7146; val_loss: 0.0945; time elapsed: 7.7 min\n",
      "[valid loss]grapheme: 0.1152, vowel: 0.0800, consonant: 0.0678\n",
      "[valid recall]total: 0.9774, grapheme: 0.9710, vowel: 0.9889, consonant: 0.9789\n",
      "================================================================================\n"
     ]
    },
    {
     "name": "stdout",
     "output_type": "stream",
     "text": [
      "lr:  [0.0021273321557483027]\n"
     ]
    },
    {
     "name": "stderr",
     "output_type": "stream",
     "text": [
      "[EPOCH 00082]train_loss: 0.7157; val_loss: 0.0978; time elapsed: 7.7 min\n",
      "[valid loss]grapheme: 0.1101, vowel: 0.1047, consonant: 0.0662\n",
      "[valid recall]total: 0.9798, grapheme: 0.9741, vowel: 0.9892, consonant: 0.9817\n",
      "================================================================================\n"
     ]
    },
    {
     "name": "stdout",
     "output_type": "stream",
     "text": [
      "lr:  [0.0020351596387196092]\n"
     ]
    },
    {
     "name": "stderr",
     "output_type": "stream",
     "text": [
      "[EPOCH 00083]train_loss: 0.7356; val_loss: 0.1014; time elapsed: 7.8 min\n",
      "[valid loss]grapheme: 0.1191, vowel: 0.0960, consonant: 0.0716\n",
      "[valid recall]total: 0.9772, grapheme: 0.9695, vowel: 0.9890, consonant: 0.9807\n",
      "================================================================================\n"
     ]
    },
    {
     "name": "stdout",
     "output_type": "stream",
     "text": [
      "lr:  [0.0019436372569544252]\n"
     ]
    },
    {
     "name": "stderr",
     "output_type": "stream",
     "text": [
      "[EPOCH 00084]train_loss: 0.7024; val_loss: 0.0953; time elapsed: 7.7 min\n",
      "[valid loss]grapheme: 0.1119, vowel: 0.0854, consonant: 0.0718\n",
      "[valid recall]total: 0.9794, grapheme: 0.9732, vowel: 0.9904, consonant: 0.9807\n",
      "================================================================================\n"
     ]
    },
    {
     "name": "stdout",
     "output_type": "stream",
     "text": [
      "lr:  [0.0018528930127793956]\n"
     ]
    },
    {
     "name": "stderr",
     "output_type": "stream",
     "text": [
      "[EPOCH 00085]train_loss: 0.7310; val_loss: 0.0959; time elapsed: 7.8 min\n",
      "[valid loss]grapheme: 0.1157, vowel: 0.0878, consonant: 0.0645\n",
      "[valid recall]total: 0.9768, grapheme: 0.9691, vowel: 0.9895, consonant: 0.9795\n",
      "================================================================================\n"
     ]
    },
    {
     "name": "stdout",
     "output_type": "stream",
     "text": [
      "lr:  [0.001763053820225385]\n"
     ]
    },
    {
     "name": "stderr",
     "output_type": "stream",
     "text": [
      "[EPOCH 00086]train_loss: 0.7191; val_loss: 0.0957; time elapsed: 7.7 min\n",
      "[valid loss]grapheme: 0.1165, vowel: 0.0842, consonant: 0.0657\n",
      "[valid recall]total: 0.9781, grapheme: 0.9706, vowel: 0.9895, consonant: 0.9820\n",
      "================================================================================\n"
     ]
    },
    {
     "name": "stdout",
     "output_type": "stream",
     "text": [
      "lr:  [0.0016742453275267266]\n"
     ]
    },
    {
     "name": "stderr",
     "output_type": "stream",
     "text": [
      "[EPOCH 00087]train_loss: 0.7156; val_loss: 0.1013; time elapsed: 7.8 min\n",
      "[valid loss]grapheme: 0.1196, vowel: 0.0954, consonant: 0.0705\n",
      "[valid recall]total: 0.9783, grapheme: 0.9714, vowel: 0.9892, consonant: 0.9810\n",
      "================================================================================\n"
     ]
    },
    {
     "name": "stdout",
     "output_type": "stream",
     "text": [
      "lr:  [0.0015865917413908092]\n"
     ]
    },
    {
     "name": "stderr",
     "output_type": "stream",
     "text": [
      "[EPOCH 00088]train_loss: 0.7024; val_loss: 0.0996; time elapsed: 7.7 min\n",
      "[valid loss]grapheme: 0.1238, vowel: 0.0798, consonant: 0.0712\n",
      "[valid recall]total: 0.9766, grapheme: 0.9682, vowel: 0.9892, consonant: 0.9807\n",
      "================================================================================\n"
     ]
    },
    {
     "name": "stdout",
     "output_type": "stream",
     "text": [
      "lr:  [0.001500215653283761]\n"
     ]
    },
    {
     "name": "stderr",
     "output_type": "stream",
     "text": [
      "[EPOCH 00089]train_loss: 0.6935; val_loss: 0.1024; time elapsed: 7.8 min\n",
      "[valid loss]grapheme: 0.1211, vowel: 0.0973, consonant: 0.0702\n",
      "[valid recall]total: 0.9782, grapheme: 0.9711, vowel: 0.9894, consonant: 0.9815\n",
      "================================================================================\n"
     ]
    },
    {
     "name": "stdout",
     "output_type": "stream",
     "text": [
      "lr:  [0.0014152378679752032]\n"
     ]
    },
    {
     "name": "stderr",
     "output_type": "stream",
     "text": [
      "[EPOCH 00090]train_loss: 0.7050; val_loss: 0.1151; time elapsed: 7.7 min\n",
      "[valid loss]grapheme: 0.1284, vowel: 0.1189, consonant: 0.0846\n",
      "[valid recall]total: 0.9785, grapheme: 0.9720, vowel: 0.9899, consonant: 0.9803\n",
      "================================================================================\n"
     ]
    },
    {
     "name": "stdout",
     "output_type": "stream",
     "text": [
      "lr:  [0.001331777234581852]\n"
     ]
    },
    {
     "name": "stderr",
     "output_type": "stream",
     "text": [
      "[EPOCH 00091]train_loss: 0.6940; val_loss: 0.1014; time elapsed: 7.8 min\n",
      "[valid loss]grapheme: 0.1293, vowel: 0.0823, consonant: 0.0648\n",
      "[valid recall]total: 0.9748, grapheme: 0.9650, vowel: 0.9885, consonant: 0.9806\n",
      "================================================================================\n"
     ]
    },
    {
     "name": "stdout",
     "output_type": "stream",
     "text": [
      "lr:  [0.001249950480346286]\n"
     ]
    },
    {
     "name": "stderr",
     "output_type": "stream",
     "text": [
      "[EPOCH 00092]train_loss: 0.6927; val_loss: 0.0913; time elapsed: 7.7 min\n",
      "[valid loss]grapheme: 0.1102, vowel: 0.0821, consonant: 0.0624\n",
      "[valid recall]total: 0.9798, grapheme: 0.9743, vowel: 0.9892, consonant: 0.9816\n",
      "================================================================================\n"
     ]
    },
    {
     "name": "stdout",
     "output_type": "stream",
     "text": [
      "lr:  [0.0011698720473833427]\n"
     ]
    },
    {
     "name": "stderr",
     "output_type": "stream",
     "text": [
      "[EPOCH 00093]train_loss: 0.6725; val_loss: 0.0790; time elapsed: 7.7 min\n",
      "[valid loss]grapheme: 0.0959, vowel: 0.0665, consonant: 0.0579\n",
      "[valid recall]total: 0.9819, grapheme: 0.9766, vowel: 0.9911, consonant: 0.9831\n",
      "================================================================================\n"
     ]
    },
    {
     "name": "stdout",
     "output_type": "stream",
     "text": [
      "lr:  [0.0010916539326224664]\n"
     ]
    },
    {
     "name": "stderr",
     "output_type": "stream",
     "text": [
      "[EPOCH 00094]train_loss: 0.6629; val_loss: 0.0795; time elapsed: 7.7 min\n",
      "[valid loss]grapheme: 0.0887, vowel: 0.0775, consonant: 0.0631\n",
      "[valid recall]total: 0.9835, grapheme: 0.9790, vowel: 0.9906, consonant: 0.9851\n",
      "================================================================================\n"
     ]
    },
    {
     "name": "stdout",
     "output_type": "stream",
     "text": [
      "lr:  [0.0010154055311698842]\n"
     ]
    },
    {
     "name": "stderr",
     "output_type": "stream",
     "text": [
      "[EPOCH 00095]train_loss: 0.6724; val_loss: 0.0730; time elapsed: 7.7 min\n",
      "[valid loss]grapheme: 0.0857, vowel: 0.0637, consonant: 0.0567\n",
      "[valid recall]total: 0.9827, grapheme: 0.9786, vowel: 0.9911, consonant: 0.9827\n",
      "================================================================================\n"
     ]
    },
    {
     "name": "stdout",
     "output_type": "stream",
     "text": [
      "lr:  [0.000941233483309653]\n"
     ]
    },
    {
     "name": "stderr",
     "output_type": "stream",
     "text": [
      "[EPOCH 00096]train_loss: 0.6788; val_loss: 0.0897; time elapsed: 7.7 min\n",
      "[valid loss]grapheme: 0.1059, vowel: 0.0820, consonant: 0.0650\n",
      "[valid recall]total: 0.9807, grapheme: 0.9754, vowel: 0.9907, consonant: 0.9813\n",
      "================================================================================\n"
     ]
    },
    {
     "name": "stdout",
     "output_type": "stream",
     "text": [
      "lr:  [0.0008692415253575775]\n"
     ]
    },
    {
     "name": "stderr",
     "output_type": "stream",
     "text": [
      "[EPOCH 00097]train_loss: 0.6900; val_loss: 0.0876; time elapsed: 7.7 min\n",
      "[valid loss]grapheme: 0.1059, vowel: 0.0756, consonant: 0.0629\n",
      "[valid recall]total: 0.9800, grapheme: 0.9734, vowel: 0.9900, consonant: 0.9831\n",
      "================================================================================\n"
     ]
    },
    {
     "name": "stdout",
     "output_type": "stream",
     "text": [
      "lr:  [0.0007995303445765982]\n"
     ]
    },
    {
     "name": "stderr",
     "output_type": "stream",
     "text": [
      "[EPOCH 00098]train_loss: 0.6465; val_loss: 0.0968; time elapsed: 7.7 min\n",
      "[valid loss]grapheme: 0.1162, vowel: 0.0877, consonant: 0.0671\n",
      "[valid recall]total: 0.9780, grapheme: 0.9706, vowel: 0.9902, consonant: 0.9806\n",
      "================================================================================\n"
     ]
    },
    {
     "name": "stdout",
     "output_type": "stream",
     "text": [
      "lr:  [0.0007321974383565461]\n"
     ]
    },
    {
     "name": "stderr",
     "output_type": "stream",
     "text": [
      "[EPOCH 00099]train_loss: 0.6784; val_loss: 0.0711; time elapsed: 7.7 min\n",
      "[valid loss]grapheme: 0.0839, vowel: 0.0646, consonant: 0.0519\n",
      "[valid recall]total: 0.9832, grapheme: 0.9783, vowel: 0.9918, consonant: 0.9844\n",
      "================================================================================\n"
     ]
    },
    {
     "name": "stdout",
     "output_type": "stream",
     "text": [
      "lr:  [0.0006673369778552256]\n"
     ]
    },
    {
     "name": "stderr",
     "output_type": "stream",
     "text": [
      "[EPOCH 00100]train_loss: 0.6692; val_loss: 0.0905; time elapsed: 7.7 min\n",
      "[valid loss]grapheme: 0.1015, vowel: 0.0946, consonant: 0.0644\n",
      "[valid recall]total: 0.9815, grapheme: 0.9765, vowel: 0.9910, consonant: 0.9821\n",
      "================================================================================\n"
     ]
    },
    {
     "name": "stdout",
     "output_type": "stream",
     "text": [
      "lr:  [0.0006050396762915392]\n"
     ]
    },
    {
     "name": "stderr",
     "output_type": "stream",
     "text": [
      "[EPOCH 00101]train_loss: 0.6610; val_loss: 0.0892; time elapsed: 7.7 min\n",
      "[valid loss]grapheme: 0.0998, vowel: 0.0917, consonant: 0.0655\n",
      "[valid recall]total: 0.9816, grapheme: 0.9766, vowel: 0.9903, consonant: 0.9831\n",
      "================================================================================\n"
     ]
    },
    {
     "name": "stdout",
     "output_type": "stream",
     "text": [
      "lr:  [0.0005453926620748458]\n"
     ]
    },
    {
     "name": "stderr",
     "output_type": "stream",
     "text": [
      "[EPOCH 00102]train_loss: 0.6875; val_loss: 0.0752; time elapsed: 7.8 min\n",
      "[valid loss]grapheme: 0.0894, vowel: 0.0691, consonant: 0.0527\n",
      "[valid recall]total: 0.9826, grapheme: 0.9778, vowel: 0.9914, consonant: 0.9832\n",
      "================================================================================\n"
     ]
    },
    {
     "name": "stdout",
     "output_type": "stream",
     "text": [
      "lr:  [0.0004884793569479999]\n"
     ]
    },
    {
     "name": "stderr",
     "output_type": "stream",
     "text": [
      "[EPOCH 00103]train_loss: 0.6772; val_loss: 0.0804; time elapsed: 7.7 min\n",
      "[valid loss]grapheme: 0.0902, vowel: 0.0779, consonant: 0.0631\n",
      "[valid recall]total: 0.9825, grapheme: 0.9785, vowel: 0.9906, consonant: 0.9824\n",
      "================================================================================\n"
     ]
    },
    {
     "name": "stdout",
     "output_type": "stream",
     "text": [
      "lr:  [0.0004343793593145067]\n"
     ]
    },
    {
     "name": "stderr",
     "output_type": "stream",
     "text": [
      "[EPOCH 00104]train_loss: 0.6690; val_loss: 0.0707; time elapsed: 7.8 min\n",
      "[valid loss]grapheme: 0.0817, vowel: 0.0660, consonant: 0.0535\n",
      "[valid recall]total: 0.9828, grapheme: 0.9783, vowel: 0.9916, consonant: 0.9830\n",
      "================================================================================\n"
     ]
    },
    {
     "name": "stdout",
     "output_type": "stream",
     "text": [
      "lr:  [0.0003831683329129493]\n"
     ]
    },
    {
     "name": "stderr",
     "output_type": "stream",
     "text": [
      "[EPOCH 00105]train_loss: 0.6706; val_loss: 0.0807; time elapsed: 7.7 min\n",
      "[valid loss]grapheme: 0.0869, vowel: 0.0851, consonant: 0.0638\n",
      "[valid recall]total: 0.9844, grapheme: 0.9813, vowel: 0.9922, consonant: 0.9829\n",
      "================================================================================\n"
     ]
    },
    {
     "name": "stdout",
     "output_type": "stream",
     "text": [
      "lr:  [0.00033491790099441797]\n"
     ]
    },
    {
     "name": "stderr",
     "output_type": "stream",
     "text": [
      "[EPOCH 00106]train_loss: 0.6752; val_loss: 0.0763; time elapsed: 7.8 min\n",
      "[valid loss]grapheme: 0.0868, vowel: 0.0691, consonant: 0.0626\n",
      "[valid recall]total: 0.9834, grapheme: 0.9792, vowel: 0.9919, consonant: 0.9832\n",
      "================================================================================\n"
     ]
    },
    {
     "name": "stdout",
     "output_type": "stream",
     "text": [
      "lr:  [0.00028969554615090783]\n"
     ]
    },
    {
     "name": "stderr",
     "output_type": "stream",
     "text": [
      "[EPOCH 00107]train_loss: 0.6698; val_loss: 0.0687; time elapsed: 7.7 min\n",
      "[valid loss]grapheme: 0.0773, vowel: 0.0686, consonant: 0.0518\n",
      "[valid recall]total: 0.9852, grapheme: 0.9820, vowel: 0.9925, consonant: 0.9844\n",
      "================================================================================\n"
     ]
    },
    {
     "name": "stdout",
     "output_type": "stream",
     "text": [
      "lr:  [0.0002475645159348177]\n"
     ]
    },
    {
     "name": "stderr",
     "output_type": "stream",
     "text": [
      "[EPOCH 00108]train_loss: 0.6497; val_loss: 0.0664; time elapsed: 7.8 min\n",
      "[valid loss]grapheme: 0.0756, vowel: 0.0632, consonant: 0.0513\n",
      "[valid recall]total: 0.9853, grapheme: 0.9823, vowel: 0.9925, consonant: 0.9840\n",
      "================================================================================\n"
     ]
    },
    {
     "name": "stdout",
     "output_type": "stream",
     "text": [
      "lr:  [0.00020858373440152763]\n"
     ]
    },
    {
     "name": "stderr",
     "output_type": "stream",
     "text": [
      "[EPOCH 00109]train_loss: 0.6723; val_loss: 0.0701; time elapsed: 7.7 min\n",
      "[valid loss]grapheme: 0.0769, vowel: 0.0699, consonant: 0.0570\n",
      "[valid recall]total: 0.9851, grapheme: 0.9821, vowel: 0.9924, consonant: 0.9838\n",
      "================================================================================\n"
     ]
    },
    {
     "name": "stdout",
     "output_type": "stream",
     "text": [
      "lr:  [0.00017280771969877933]\n"
     ]
    },
    {
     "name": "stderr",
     "output_type": "stream",
     "text": [
      "[EPOCH 00110]train_loss: 0.6641; val_loss: 0.0676; time elapsed: 7.8 min\n",
      "[valid loss]grapheme: 0.0756, vowel: 0.0645, consonant: 0.0548\n",
      "[valid recall]total: 0.9854, grapheme: 0.9823, vowel: 0.9923, consonant: 0.9849\n",
      "================================================================================\n"
     ]
    },
    {
     "name": "stdout",
     "output_type": "stream",
     "text": [
      "lr:  [0.00014028650781811662]\n"
     ]
    },
    {
     "name": "stderr",
     "output_type": "stream",
     "text": [
      "[EPOCH 00111]train_loss: 0.6405; val_loss: 0.0759; time elapsed: 7.7 min\n",
      "[valid loss]grapheme: 0.0863, vowel: 0.0749, consonant: 0.0561\n",
      "[valid recall]total: 0.9853, grapheme: 0.9822, vowel: 0.9923, consonant: 0.9845\n",
      "================================================================================\n"
     ]
    },
    {
     "name": "stdout",
     "output_type": "stream",
     "text": [
      "lr:  [0.00011106558261502592]\n"
     ]
    },
    {
     "name": "stderr",
     "output_type": "stream",
     "text": [
      "[EPOCH 00112]train_loss: 0.6508; val_loss: 0.0804; time elapsed: 7.8 min\n",
      "[valid loss]grapheme: 0.0775, vowel: 0.1028, consonant: 0.0639\n",
      "[valid recall]total: 0.9853, grapheme: 0.9824, vowel: 0.9922, consonant: 0.9842\n",
      "================================================================================\n"
     ]
    },
    {
     "name": "stdout",
     "output_type": "stream",
     "text": [
      "lr:  [8.518581219565397e-05]\n"
     ]
    },
    {
     "name": "stderr",
     "output_type": "stream",
     "text": [
      "[EPOCH 00113]train_loss: 0.6580; val_loss: 0.0782; time elapsed: 7.7 min\n",
      "[valid loss]grapheme: 0.0836, vowel: 0.0789, consonant: 0.0669\n",
      "[valid recall]total: 0.9853, grapheme: 0.9823, vowel: 0.9923, consonant: 0.9845\n",
      "================================================================================\n"
     ]
    },
    {
     "name": "stdout",
     "output_type": "stream",
     "text": [
      "lr:  [6.268339175906405e-05]\n"
     ]
    },
    {
     "name": "stderr",
     "output_type": "stream",
     "text": [
      "[EPOCH 00114]train_loss: 0.6696; val_loss: 0.0708; time elapsed: 7.7 min\n",
      "[valid loss]grapheme: 0.0768, vowel: 0.0741, consonant: 0.0556\n",
      "[valid recall]total: 0.9855, grapheme: 0.9826, vowel: 0.9922, consonant: 0.9846\n",
      "================================================================================\n"
     ]
    },
    {
     "name": "stdout",
     "output_type": "stream",
     "text": [
      "lr:  [4.358979297497717e-05]\n"
     ]
    },
    {
     "name": "stderr",
     "output_type": "stream",
     "text": [
      "[EPOCH 00115]train_loss: 0.6671; val_loss: 0.0762; time elapsed: 7.7 min\n",
      "[valid loss]grapheme: 0.0798, vowel: 0.0835, consonant: 0.0616\n",
      "[valid recall]total: 0.9851, grapheme: 0.9821, vowel: 0.9923, consonant: 0.9840\n",
      "================================================================================\n"
     ]
    },
    {
     "name": "stdout",
     "output_type": "stream",
     "text": [
      "lr:  [2.7931719967797712e-05]\n"
     ]
    },
    {
     "name": "stderr",
     "output_type": "stream",
     "text": [
      "[EPOCH 00116]train_loss: 0.6673; val_loss: 0.0701; time elapsed: 7.7 min\n",
      "[valid loss]grapheme: 0.0794, vowel: 0.0710, consonant: 0.0508\n",
      "[valid recall]total: 0.9854, grapheme: 0.9824, vowel: 0.9923, consonant: 0.9847\n",
      "================================================================================\n"
     ]
    },
    {
     "name": "stdout",
     "output_type": "stream",
     "text": [
      "lr:  [1.573107196847947e-05]\n"
     ]
    },
    {
     "name": "stderr",
     "output_type": "stream",
     "text": [
      "[EPOCH 00117]train_loss: 0.6390; val_loss: 0.0692; time elapsed: 7.7 min\n",
      "[valid loss]grapheme: 0.0773, vowel: 0.0718, consonant: 0.0506\n",
      "[valid recall]total: 0.9856, grapheme: 0.9827, vowel: 0.9924, consonant: 0.9846\n",
      "================================================================================\n"
     ]
    },
    {
     "name": "stdout",
     "output_type": "stream",
     "text": [
      "lr:  [7.004912686470389e-06]\n"
     ]
    },
    {
     "name": "stderr",
     "output_type": "stream",
     "text": [
      "[EPOCH 00118]train_loss: 0.6642; val_loss: 0.0723; time elapsed: 7.7 min\n",
      "[valid loss]grapheme: 0.0797, vowel: 0.0745, consonant: 0.0550\n",
      "[valid recall]total: 0.9853, grapheme: 0.9823, vowel: 0.9923, consonant: 0.9843\n",
      "================================================================================\n"
     ]
    },
    {
     "name": "stdout",
     "output_type": "stream",
     "text": [
      "lr:  [1.7654464445743385e-06]\n"
     ]
    },
    {
     "name": "stderr",
     "output_type": "stream",
     "text": [
      "[EPOCH 00119]train_loss: 0.6547; val_loss: 0.0839; time elapsed: 7.7 min\n",
      "[valid loss]grapheme: 0.0895, vowel: 0.0948, consonant: 0.0617\n",
      "[valid recall]total: 0.9852, grapheme: 0.9824, vowel: 0.9921, consonant: 0.9840\n",
      "================================================================================\n"
     ]
    },
    {
     "name": "stdout",
     "output_type": "stream",
     "text": [
      "========training fold 4========\n",
      "[     0      1      2 ... 200837 200838 200839]\n",
      "[     5     10     15 ... 200818 200830 200835]\n",
      "checkpoint_path:  ../checkpoint/v3-fold4\n"
     ]
    },
    {
     "name": "stderr",
     "output_type": "stream",
     "text": [
      "\n",
      "\n",
      "\n"
     ]
    },
    {
     "name": "stdout",
     "output_type": "stream",
     "text": [
      "Loaded pretrained weights for efficientnet-b3\n",
      "lr:  [0.00019999999999999966]\n"
     ]
    },
    {
     "name": "stderr",
     "output_type": "stream",
     "text": [
      "[EPOCH 00000]train_loss: 2.7106; val_loss: 0.8389; time elapsed: 7.6 min\n",
      "[valid loss]grapheme: 1.0233, vowel: 0.6309, consonant: 0.6781\n",
      "[valid recall]total: 0.7103, grapheme: 0.6393, vowel: 0.8859, consonant: 0.6767\n",
      "================================================================================\n"
     ]
    },
    {
     "name": "stdout",
     "output_type": "stream",
     "text": [
      "lr:  [0.0002091331286183584]\n"
     ]
    },
    {
     "name": "stderr",
     "output_type": "stream",
     "text": [
      "[EPOCH 00001]train_loss: 1.8159; val_loss: 0.4503; time elapsed: 7.7 min\n",
      "[valid loss]grapheme: 0.4967, vowel: 0.3559, consonant: 0.4519\n",
      "[valid recall]total: 0.8633, grapheme: 0.8471, vowel: 0.9368, consonant: 0.8222\n",
      "================================================================================\n"
     ]
    },
    {
     "name": "stdout",
     "output_type": "stream",
     "text": [
      "lr:  [0.00023646300277480308]\n"
     ]
    },
    {
     "name": "stderr",
     "output_type": "stream",
     "text": [
      "[EPOCH 00002]train_loss: 1.5821; val_loss: 0.3299; time elapsed: 7.7 min\n",
      "[valid loss]grapheme: 0.3935, vowel: 0.2344, consonant: 0.2982\n",
      "[valid recall]total: 0.9052, grapheme: 0.8921, vowel: 0.9625, consonant: 0.8742\n",
      "================================================================================\n"
     ]
    },
    {
     "name": "stdout",
     "output_type": "stream",
     "text": [
      "lr:  [0.00028178161642283817]\n"
     ]
    },
    {
     "name": "stderr",
     "output_type": "stream",
     "text": [
      "[EPOCH 00003]train_loss: 1.4088; val_loss: 0.2636; time elapsed: 7.7 min\n",
      "[valid loss]grapheme: 0.3253, vowel: 0.1845, consonant: 0.2192\n",
      "[valid recall]total: 0.9307, grapheme: 0.9150, vowel: 0.9660, consonant: 0.9268\n",
      "================================================================================\n"
     ]
    },
    {
     "name": "stdout",
     "output_type": "stream",
     "text": [
      "lr:  [0.00034474405228975165]\n"
     ]
    },
    {
     "name": "stderr",
     "output_type": "stream",
     "text": [
      "[EPOCH 00004]train_loss: 1.3225; val_loss: 0.2549; time elapsed: 7.7 min\n",
      "[valid loss]grapheme: 0.3243, vowel: 0.1845, consonant: 0.1866\n",
      "[valid recall]total: 0.9342, grapheme: 0.9123, vowel: 0.9668, consonant: 0.9452\n",
      "================================================================================\n"
     ]
    },
    {
     "name": "stdout",
     "output_type": "stream",
     "text": [
      "lr:  [0.00042487110702146315]\n"
     ]
    },
    {
     "name": "stderr",
     "output_type": "stream",
     "text": [
      "[EPOCH 00005]train_loss: 1.2677; val_loss: 0.2649; time elapsed: 7.8 min\n",
      "[valid loss]grapheme: 0.3240, vowel: 0.2271, consonant: 0.1844\n",
      "[valid recall]total: 0.9316, grapheme: 0.9149, vowel: 0.9630, consonant: 0.9336\n",
      "================================================================================\n"
     ]
    },
    {
     "name": "stdout",
     "output_type": "stream",
     "text": [
      "lr:  [0.0005215529383707429]\n"
     ]
    },
    {
     "name": "stderr",
     "output_type": "stream",
     "text": [
      "[EPOCH 00006]train_loss: 1.2171; val_loss: 0.2540; time elapsed: 7.7 min\n",
      "[valid loss]grapheme: 0.3313, vowel: 0.2015, consonant: 0.1517\n",
      "[valid recall]total: 0.9348, grapheme: 0.9198, vowel: 0.9715, consonant: 0.9280\n",
      "================================================================================\n"
     ]
    },
    {
     "name": "stdout",
     "output_type": "stream",
     "text": [
      "lr:  [0.0006340537066702812]\n"
     ]
    },
    {
     "name": "stderr",
     "output_type": "stream",
     "text": [
      "[EPOCH 00007]train_loss: 1.1257; val_loss: 0.2432; time elapsed: 7.8 min\n",
      "[valid loss]grapheme: 0.3227, vowel: 0.1770, consonant: 0.1503\n",
      "[valid recall]total: 0.9405, grapheme: 0.9235, vowel: 0.9728, consonant: 0.9422\n",
      "================================================================================\n"
     ]
    },
    {
     "name": "stdout",
     "output_type": "stream",
     "text": [
      "lr:  [0.0007615171752646255]\n"
     ]
    },
    {
     "name": "stderr",
     "output_type": "stream",
     "text": [
      "[EPOCH 00008]train_loss: 1.1701; val_loss: 0.2577; time elapsed: 7.7 min\n",
      "[valid loss]grapheme: 0.3510, vowel: 0.1887, consonant: 0.1402\n",
      "[valid recall]total: 0.9377, grapheme: 0.9101, vowel: 0.9729, consonant: 0.9578\n",
      "================================================================================\n"
     ]
    },
    {
     "name": "stdout",
     "output_type": "stream",
     "text": [
      "lr:  [0.0009029732272764308]\n"
     ]
    },
    {
     "name": "stderr",
     "output_type": "stream",
     "text": [
      "[EPOCH 00009]train_loss: 1.1382; val_loss: 0.2495; time elapsed: 7.7 min\n",
      "[valid loss]grapheme: 0.3440, vowel: 0.1597, consonant: 0.1502\n",
      "[valid recall]total: 0.9424, grapheme: 0.9282, vowel: 0.9725, consonant: 0.9407\n",
      "================================================================================\n"
     ]
    },
    {
     "name": "stdout",
     "output_type": "stream",
     "text": [
      "lr:  [0.0010573452491083046]\n"
     ]
    },
    {
     "name": "stderr",
     "output_type": "stream",
     "text": [
      "[EPOCH 00010]train_loss: 1.0892; val_loss: 0.2550; time elapsed: 7.7 min\n",
      "[valid loss]grapheme: 0.3412, vowel: 0.1864, consonant: 0.1514\n",
      "[valid recall]total: 0.9438, grapheme: 0.9211, vowel: 0.9747, consonant: 0.9581\n",
      "================================================================================\n"
     ]
    },
    {
     "name": "stdout",
     "output_type": "stream",
     "text": [
      "lr:  [0.0012234583244848593]\n"
     ]
    },
    {
     "name": "stderr",
     "output_type": "stream",
     "text": [
      "[EPOCH 00011]train_loss: 1.1086; val_loss: 0.2797; time elapsed: 7.7 min\n",
      "[valid loss]grapheme: 0.3688, vowel: 0.2149, consonant: 0.1663\n",
      "[valid recall]total: 0.9283, grapheme: 0.9011, vowel: 0.9619, consonant: 0.9491\n",
      "================================================================================\n"
     ]
    },
    {
     "name": "stdout",
     "output_type": "stream",
     "text": [
      "lr:  [0.0014000481766705897]\n"
     ]
    },
    {
     "name": "stderr",
     "output_type": "stream",
     "text": [
      "[EPOCH 00012]train_loss: 1.0738; val_loss: 0.2456; time elapsed: 7.7 min\n",
      "[valid loss]grapheme: 0.3346, vowel: 0.1857, consonant: 0.1273\n",
      "[valid recall]total: 0.9399, grapheme: 0.9156, vowel: 0.9727, consonant: 0.9557\n",
      "================================================================================\n"
     ]
    },
    {
     "name": "stdout",
     "output_type": "stream",
     "text": [
      "lr:  [0.0015857707908049057]\n"
     ]
    },
    {
     "name": "stderr",
     "output_type": "stream",
     "text": [
      "[EPOCH 00013]train_loss: 1.0704; val_loss: 0.1950; time elapsed: 7.7 min\n",
      "[valid loss]grapheme: 0.2583, vowel: 0.1329, consonant: 0.1306\n",
      "[valid recall]total: 0.9522, grapheme: 0.9416, vowel: 0.9770, consonant: 0.9489\n",
      "================================================================================\n"
     ]
    },
    {
     "name": "stdout",
     "output_type": "stream",
     "text": [
      "lr:  [0.001779212643119284]\n"
     ]
    },
    {
     "name": "stderr",
     "output_type": "stream",
     "text": [
      "[EPOCH 00014]train_loss: 1.0658; val_loss: 0.2112; time elapsed: 7.7 min\n",
      "[valid loss]grapheme: 0.2896, vowel: 0.1530, consonant: 0.1124\n",
      "[valid recall]total: 0.9480, grapheme: 0.9313, vowel: 0.9749, consonant: 0.9546\n",
      "================================================================================\n"
     ]
    },
    {
     "name": "stdout",
     "output_type": "stream",
     "text": [
      "lr:  [0.001978901459182592]\n"
     ]
    },
    {
     "name": "stderr",
     "output_type": "stream",
     "text": [
      "[EPOCH 00015]train_loss: 1.0753; val_loss: 0.2264; time elapsed: 7.7 min\n",
      "[valid loss]grapheme: 0.2986, vowel: 0.1688, consonant: 0.1396\n",
      "[valid recall]total: 0.9471, grapheme: 0.9301, vowel: 0.9748, consonant: 0.9534\n",
      "================================================================================\n"
     ]
    },
    {
     "name": "stdout",
     "output_type": "stream",
     "text": [
      "lr:  [0.0021833174192941998]\n"
     ]
    },
    {
     "name": "stderr",
     "output_type": "stream",
     "text": [
      "[EPOCH 00016]train_loss: 1.0426; val_loss: 0.2217; time elapsed: 7.6 min\n",
      "[valid loss]grapheme: 0.3087, vowel: 0.1549, consonant: 0.1144\n",
      "[valid recall]total: 0.9391, grapheme: 0.9128, vowel: 0.9769, consonant: 0.9537\n",
      "================================================================================\n"
     ]
    },
    {
     "name": "stdout",
     "output_type": "stream",
     "text": [
      "lr:  [0.0023909047257413218]\n"
     ]
    },
    {
     "name": "stderr",
     "output_type": "stream",
     "text": [
      "[EPOCH 00017]train_loss: 1.0135; val_loss: 0.2274; time elapsed: 7.6 min\n",
      "[valid loss]grapheme: 0.3071, vowel: 0.1694, consonant: 0.1258\n",
      "[valid recall]total: 0.9404, grapheme: 0.9197, vowel: 0.9636, consonant: 0.9587\n",
      "================================================================================\n"
     ]
    },
    {
     "name": "stdout",
     "output_type": "stream",
     "text": [
      "lr:  [0.0026000834438828562]\n"
     ]
    },
    {
     "name": "stderr",
     "output_type": "stream",
     "text": [
      "[EPOCH 00018]train_loss: 1.0179; val_loss: 0.2177; time elapsed: 7.6 min\n",
      "[valid loss]grapheme: 0.2932, vowel: 0.1380, consonant: 0.1462\n",
      "[valid recall]total: 0.9460, grapheme: 0.9317, vowel: 0.9736, consonant: 0.9471\n",
      "================================================================================\n"
     ]
    },
    {
     "name": "stdout",
     "output_type": "stream",
     "text": [
      "lr:  [0.0028092615269379615]\n"
     ]
    },
    {
     "name": "stderr",
     "output_type": "stream",
     "text": [
      "[EPOCH 00019]train_loss: 1.0092; val_loss: 0.1893; time elapsed: 7.6 min\n",
      "[valid loss]grapheme: 0.2581, vowel: 0.1257, consonant: 0.1154\n",
      "[valid recall]total: 0.9515, grapheme: 0.9342, vowel: 0.9760, consonant: 0.9618\n",
      "================================================================================\n"
     ]
    },
    {
     "name": "stdout",
     "output_type": "stream",
     "text": [
      "lr:  [0.0030168469329594017]\n"
     ]
    },
    {
     "name": "stderr",
     "output_type": "stream",
     "text": [
      "[EPOCH 00020]train_loss: 1.0129; val_loss: 0.2299; time elapsed: 7.6 min\n",
      "[valid loss]grapheme: 0.3198, vowel: 0.1510, consonant: 0.1288\n",
      "[valid recall]total: 0.9413, grapheme: 0.9165, vowel: 0.9715, consonant: 0.9610\n",
      "================================================================================\n"
     ]
    },
    {
     "name": "stdout",
     "output_type": "stream",
     "text": [
      "lr:  [0.0032212597417701017]\n"
     ]
    },
    {
     "name": "stderr",
     "output_type": "stream",
     "text": [
      "[EPOCH 00021]train_loss: 1.0277; val_loss: 0.4771; time elapsed: 7.6 min\n",
      "[valid loss]grapheme: 0.5959, vowel: 0.4512, consonant: 0.2655\n",
      "[valid recall]total: 0.8537, grapheme: 0.8362, vowel: 0.8905, consonant: 0.8517\n",
      "================================================================================\n"
     ]
    },
    {
     "name": "stdout",
     "output_type": "stream",
     "text": [
      "lr:  [0.0034209441796416405]\n"
     ]
    },
    {
     "name": "stderr",
     "output_type": "stream",
     "text": [
      "[EPOCH 00022]train_loss: 1.0006; val_loss: 0.2045; time elapsed: 7.6 min\n",
      "[valid loss]grapheme: 0.2870, vowel: 0.1335, consonant: 0.1103\n",
      "[valid recall]total: 0.9470, grapheme: 0.9308, vowel: 0.9757, consonant: 0.9506\n",
      "================================================================================\n"
     ]
    },
    {
     "name": "stdout",
     "output_type": "stream",
     "text": [
      "lr:  [0.0036143804601955457]\n"
     ]
    },
    {
     "name": "stderr",
     "output_type": "stream",
     "text": [
      "[EPOCH 00023]train_loss: 0.9864; val_loss: 0.2019; time elapsed: 7.6 min\n",
      "[valid loss]grapheme: 0.2869, vowel: 0.1298, consonant: 0.1038\n",
      "[valid recall]total: 0.9467, grapheme: 0.9226, vowel: 0.9723, consonant: 0.9693\n",
      "================================================================================\n"
     ]
    },
    {
     "name": "stdout",
     "output_type": "stream",
     "text": [
      "lr:  [0.0038000963514070204]\n"
     ]
    },
    {
     "name": "stderr",
     "output_type": "stream",
     "text": [
      "[EPOCH 00024]train_loss: 0.9919; val_loss: 0.1925; time elapsed: 7.6 min\n",
      "[valid loss]grapheme: 0.2528, vowel: 0.1436, consonant: 0.1206\n",
      "[valid recall]total: 0.9517, grapheme: 0.9358, vowel: 0.9765, consonant: 0.9588\n",
      "================================================================================\n"
     ]
    },
    {
     "name": "stdout",
     "output_type": "stream",
     "text": [
      "lr:  [0.003976678380675308]\n"
     ]
    },
    {
     "name": "stderr",
     "output_type": "stream",
     "text": [
      "[EPOCH 00025]train_loss: 0.9647; val_loss: 0.3803; time elapsed: 7.6 min\n",
      "[valid loss]grapheme: 0.4985, vowel: 0.3370, consonant: 0.1870\n",
      "[valid recall]total: 0.8799, grapheme: 0.8632, vowel: 0.9251, consonant: 0.8682\n",
      "================================================================================\n"
     ]
    },
    {
     "name": "stdout",
     "output_type": "stream",
     "text": [
      "lr:  [0.004142782592679578]\n"
     ]
    },
    {
     "name": "stderr",
     "output_type": "stream",
     "text": [
      "[EPOCH 00026]train_loss: 0.9812; val_loss: 0.2338; time elapsed: 7.6 min\n",
      "[valid loss]grapheme: 0.3108, vowel: 0.1703, consonant: 0.1434\n",
      "[valid recall]total: 0.9422, grapheme: 0.9230, vowel: 0.9781, consonant: 0.9448\n",
      "================================================================================\n"
     ]
    },
    {
     "name": "stdout",
     "output_type": "stream",
     "text": [
      "lr:  [0.004297144778142924]\n"
     ]
    },
    {
     "name": "stderr",
     "output_type": "stream",
     "text": [
      "[EPOCH 00027]train_loss: 0.9742; val_loss: 0.2030; time elapsed: 7.6 min\n",
      "[valid loss]grapheme: 0.2763, vowel: 0.1491, consonant: 0.1103\n",
      "[valid recall]total: 0.9533, grapheme: 0.9348, vowel: 0.9768, consonant: 0.9667\n",
      "================================================================================\n"
     ]
    },
    {
     "name": "stdout",
     "output_type": "stream",
     "text": [
      "lr:  [0.004438590095653974]\n"
     ]
    },
    {
     "name": "stderr",
     "output_type": "stream",
     "text": [
      "[EPOCH 00028]train_loss: 0.9331; val_loss: 0.1670; time elapsed: 7.6 min\n",
      "[valid loss]grapheme: 0.2236, vowel: 0.1222, consonant: 0.0985\n",
      "[valid recall]total: 0.9597, grapheme: 0.9475, vowel: 0.9825, consonant: 0.9612\n",
      "================================================================================\n"
     ]
    },
    {
     "name": "stdout",
     "output_type": "stream",
     "text": [
      "lr:  [0.004566042013314983]\n"
     ]
    },
    {
     "name": "stderr",
     "output_type": "stream",
     "text": [
      "[EPOCH 00029]train_loss: 0.9518; val_loss: 0.6453; time elapsed: 7.6 min\n",
      "[valid loss]grapheme: 0.9647, vowel: 0.2785, consonant: 0.3734\n",
      "[valid recall]total: 0.7353, grapheme: 0.6653, vowel: 0.9432, consonant: 0.6674\n",
      "================================================================================\n"
     ]
    },
    {
     "name": "stdout",
     "output_type": "stream",
     "text": [
      "lr:  [0.004678530502162072]\n"
     ]
    },
    {
     "name": "stderr",
     "output_type": "stream",
     "text": [
      "[EPOCH 00030]train_loss: 0.9533; val_loss: 0.1932; time elapsed: 7.7 min\n",
      "[valid loss]grapheme: 0.2613, vowel: 0.1382, consonant: 0.1121\n",
      "[valid recall]total: 0.9485, grapheme: 0.9278, vowel: 0.9800, consonant: 0.9583\n",
      "================================================================================\n"
     ]
    },
    {
     "name": "stdout",
     "output_type": "stream",
     "text": [
      "lr:  [0.004775199418997971]\n"
     ]
    },
    {
     "name": "stderr",
     "output_type": "stream",
     "text": [
      "[EPOCH 00031]train_loss: 0.9873; val_loss: 0.1834; time elapsed: 7.6 min\n",
      "[valid loss]grapheme: 0.2401, vowel: 0.1407, consonant: 0.1126\n",
      "[valid recall]total: 0.9525, grapheme: 0.9360, vowel: 0.9785, consonant: 0.9596\n",
      "================================================================================\n"
     ]
    },
    {
     "name": "stdout",
     "output_type": "stream",
     "text": [
      "lr:  [0.004855313022446962]\n"
     ]
    },
    {
     "name": "stderr",
     "output_type": "stream",
     "text": [
      "[EPOCH 00032]train_loss: 0.9459; val_loss: 0.1704; time elapsed: 7.6 min\n",
      "[valid loss]grapheme: 0.2259, vowel: 0.1327, consonant: 0.0971\n",
      "[valid recall]total: 0.9588, grapheme: 0.9418, vowel: 0.9794, consonant: 0.9721\n",
      "================================================================================\n"
     ]
    },
    {
     "name": "stdout",
     "output_type": "stream",
     "text": [
      "lr:  [0.00491826157263873]\n"
     ]
    },
    {
     "name": "stderr",
     "output_type": "stream",
     "text": [
      "[EPOCH 00033]train_loss: 0.9482; val_loss: 0.2702; time elapsed: 7.6 min\n",
      "[valid loss]grapheme: 0.3957, vowel: 0.1706, consonant: 0.1189\n",
      "[valid recall]total: 0.9254, grapheme: 0.8880, vowel: 0.9736, consonant: 0.9519\n",
      "================================================================================\n"
     ]
    },
    {
     "name": "stdout",
     "output_type": "stream",
     "text": [
      "lr:  [0.00496356597190224]\n"
     ]
    },
    {
     "name": "stderr",
     "output_type": "stream",
     "text": [
      "[EPOCH 00034]train_loss: 0.9170; val_loss: 0.3751; time elapsed: 7.7 min\n",
      "[valid loss]grapheme: 0.5575, vowel: 0.2073, consonant: 0.1780\n",
      "[valid recall]total: 0.8894, grapheme: 0.8375, vowel: 0.9615, consonant: 0.9213\n",
      "================================================================================\n"
     ]
    },
    {
     "name": "stdout",
     "output_type": "stream",
     "text": [
      "lr:  [0.004990881411149617]\n"
     ]
    },
    {
     "name": "stderr",
     "output_type": "stream",
     "text": [
      "[EPOCH 00035]train_loss: 0.9342; val_loss: 0.2075; time elapsed: 7.6 min\n",
      "[valid loss]grapheme: 0.2815, vowel: 0.1506, consonant: 0.1163\n",
      "[valid recall]total: 0.9492, grapheme: 0.9281, vowel: 0.9751, consonant: 0.9655\n",
      "================================================================================\n"
     ]
    },
    {
     "name": "stdout",
     "output_type": "stream",
     "text": [
      "lr:  [0.0049999999988899]\n"
     ]
    },
    {
     "name": "stderr",
     "output_type": "stream",
     "text": [
      "[EPOCH 00036]train_loss: 0.8990; val_loss: 0.2950; time elapsed: 7.7 min\n",
      "[valid loss]grapheme: 0.3824, vowel: 0.2473, consonant: 0.1680\n",
      "[valid recall]total: 0.9136, grapheme: 0.9020, vowel: 0.9412, consonant: 0.9091\n",
      "================================================================================\n"
     ]
    },
    {
     "name": "stdout",
     "output_type": "stream",
     "text": [
      "lr:  [0.004998248982153825]\n"
     ]
    },
    {
     "name": "stderr",
     "output_type": "stream",
     "text": [
      "[EPOCH 00037]train_loss: 0.9299; val_loss: 0.1900; time elapsed: 7.6 min\n",
      "[valid loss]grapheme: 0.2528, vowel: 0.1452, consonant: 0.1091\n",
      "[valid recall]total: 0.9526, grapheme: 0.9355, vowel: 0.9740, consonant: 0.9655\n",
      "================================================================================\n"
     ]
    },
    {
     "name": "stdout",
     "output_type": "stream",
     "text": [
      "lr:  [0.004993003952302436]\n"
     ]
    },
    {
     "name": "stderr",
     "output_type": "stream",
     "text": [
      "[EPOCH 00038]train_loss: 0.8807; val_loss: 0.1950; time elapsed: 7.7 min\n",
      "[valid loss]grapheme: 0.2570, vowel: 0.1529, consonant: 0.1130\n",
      "[valid recall]total: 0.9536, grapheme: 0.9355, vowel: 0.9762, consonant: 0.9671\n",
      "================================================================================\n"
     ]
    },
    {
     "name": "stdout",
     "output_type": "stream",
     "text": [
      "lr:  [0.004984272244984255]\n"
     ]
    },
    {
     "name": "stderr",
     "output_type": "stream",
     "text": [
      "[EPOCH 00039]train_loss: 0.8950; val_loss: 0.1700; time elapsed: 7.6 min\n",
      "[valid loss]grapheme: 0.2203, vowel: 0.1270, consonant: 0.1123\n",
      "[valid recall]total: 0.9506, grapheme: 0.9371, vowel: 0.9812, consonant: 0.9470\n",
      "================================================================================\n"
     ]
    },
    {
     "name": "stdout",
     "output_type": "stream",
     "text": [
      "lr:  [0.004972066072281515]\n"
     ]
    },
    {
     "name": "stderr",
     "output_type": "stream",
     "text": [
      "[EPOCH 00040]train_loss: 0.9105; val_loss: 0.1754; time elapsed: 7.6 min\n",
      "[valid loss]grapheme: 0.2480, vowel: 0.1118, consonant: 0.0937\n",
      "[valid recall]total: 0.9507, grapheme: 0.9342, vowel: 0.9763, consonant: 0.9583\n",
      "================================================================================\n"
     ]
    },
    {
     "name": "stdout",
     "output_type": "stream",
     "text": [
      "lr:  [0.004956402505630461]\n"
     ]
    },
    {
     "name": "stderr",
     "output_type": "stream",
     "text": [
      "[EPOCH 00041]train_loss: 0.8942; val_loss: 1.2687; time elapsed: 7.6 min\n",
      "[valid loss]grapheme: 1.7469, vowel: 0.9655, consonant: 0.6153\n",
      "[valid recall]total: 0.5511, grapheme: 0.5264, vowel: 0.6785, consonant: 0.4729\n",
      "================================================================================\n"
     ]
    },
    {
     "name": "stdout",
     "output_type": "stream",
     "text": [
      "lr:  [0.004937303451945404]\n"
     ]
    },
    {
     "name": "stderr",
     "output_type": "stream",
     "text": [
      "[EPOCH 00043]train_loss: 0.8788; val_loss: 0.2191; time elapsed: 7.6 min\n",
      "[valid loss]grapheme: 0.3048, vowel: 0.1568, consonant: 0.1100\n",
      "[valid recall]total: 0.9329, grapheme: 0.9063, vowel: 0.9740, consonant: 0.9451\n",
      "================================================================================\n"
     ]
    },
    {
     "name": "stdout",
     "output_type": "stream",
     "text": [
      "lr:  [0.004888910497968052]\n"
     ]
    },
    {
     "name": "stderr",
     "output_type": "stream",
     "text": [
      "[EPOCH 00044]train_loss: 0.8676; val_loss: 0.1460; time elapsed: 7.7 min\n",
      "[valid loss]grapheme: 0.1931, vowel: 0.1096, consonant: 0.0883\n",
      "[valid recall]total: 0.9637, grapheme: 0.9504, vowel: 0.9796, consonant: 0.9747\n",
      "================================================================================\n"
     ]
    },
    {
     "name": "stdout",
     "output_type": "stream",
     "text": [
      "lr:  [0.0048596842795977395]\n"
     ]
    },
    {
     "name": "stderr",
     "output_type": "stream",
     "text": [
      "[EPOCH 00045]train_loss: 0.8646; val_loss: 0.1347; time elapsed: 7.6 min\n",
      "[valid loss]grapheme: 0.1677, vowel: 0.1139, consonant: 0.0896\n",
      "[valid recall]total: 0.9711, grapheme: 0.9633, vowel: 0.9849, consonant: 0.9730\n",
      "================================================================================\n"
     ]
    },
    {
     "name": "stdout",
     "output_type": "stream",
     "text": [
      "lr:  [0.004827157843378102]\n"
     ]
    },
    {
     "name": "stderr",
     "output_type": "stream",
     "text": [
      "[EPOCH 00046]train_loss: 0.8812; val_loss: 0.1861; time elapsed: 7.6 min\n",
      "[valid loss]grapheme: 0.2392, vowel: 0.1444, consonant: 0.1213\n",
      "[valid recall]total: 0.9546, grapheme: 0.9432, vowel: 0.9791, consonant: 0.9527\n",
      "================================================================================\n"
     ]
    },
    {
     "name": "stdout",
     "output_type": "stream",
     "text": [
      "lr:  [0.004791376680471341]\n"
     ]
    },
    {
     "name": "stderr",
     "output_type": "stream",
     "text": [
      "[EPOCH 00047]train_loss: 0.9016; val_loss: 0.1512; time elapsed: 7.6 min\n",
      "[valid loss]grapheme: 0.1960, vowel: 0.1153, consonant: 0.0975\n",
      "[valid recall]total: 0.9587, grapheme: 0.9490, vowel: 0.9814, consonant: 0.9555\n",
      "================================================================================\n"
     ]
    },
    {
     "name": "stdout",
     "output_type": "stream",
     "text": [
      "lr:  [0.004752390834069225]\n"
     ]
    },
    {
     "name": "stderr",
     "output_type": "stream",
     "text": [
      "[EPOCH 00048]train_loss: 0.8672; val_loss: 0.1510; time elapsed: 7.7 min\n",
      "[valid loss]grapheme: 0.1955, vowel: 0.1196, consonant: 0.0934\n",
      "[valid recall]total: 0.9650, grapheme: 0.9545, vowel: 0.9818, consonant: 0.9693\n",
      "================================================================================\n"
     ]
    },
    {
     "name": "stdout",
     "output_type": "stream",
     "text": [
      "lr:  [0.004710254829403174]\n"
     ]
    },
    {
     "name": "stderr",
     "output_type": "stream",
     "text": [
      "[EPOCH 00049]train_loss: 0.8722; val_loss: 0.2199; time elapsed: 7.6 min\n",
      "[valid loss]grapheme: 0.2369, vowel: 0.2960, consonant: 0.1099\n",
      "[valid recall]total: 0.9403, grapheme: 0.9296, vowel: 0.9530, consonant: 0.9488\n",
      "================================================================================\n"
     ]
    },
    {
     "name": "stdout",
     "output_type": "stream",
     "text": [
      "lr:  [0.004665027597485786]\n"
     ]
    },
    {
     "name": "stderr",
     "output_type": "stream",
     "text": [
      "[EPOCH 00050]train_loss: 0.8546; val_loss: 0.1570; time elapsed: 7.6 min\n",
      "[valid loss]grapheme: 0.2080, vowel: 0.1151, consonant: 0.0967\n",
      "[valid recall]total: 0.9591, grapheme: 0.9449, vowel: 0.9797, consonant: 0.9670\n",
      "================================================================================\n"
     ]
    },
    {
     "name": "stdout",
     "output_type": "stream",
     "text": [
      "lr:  [0.004616772392690489]\n"
     ]
    },
    {
     "name": "stderr",
     "output_type": "stream",
     "text": [
      "[EPOCH 00051]train_loss: 0.8604; val_loss: 0.1453; time elapsed: 7.6 min\n",
      "[valid loss]grapheme: 0.1852, vowel: 0.1263, consonant: 0.0847\n",
      "[valid recall]total: 0.9658, grapheme: 0.9538, vowel: 0.9847, consonant: 0.9710\n",
      "================================================================================\n"
     ]
    },
    {
     "name": "stdout",
     "output_type": "stream",
     "text": [
      "lr:  [0.00456555670428458]\n"
     ]
    },
    {
     "name": "stderr",
     "output_type": "stream",
     "text": [
      "[EPOCH 00052]train_loss: 0.8398; val_loss: 0.1468; time elapsed: 7.6 min\n",
      "[valid loss]grapheme: 0.1922, vowel: 0.1107, consonant: 0.0922\n",
      "[valid recall]total: 0.9608, grapheme: 0.9485, vowel: 0.9833, consonant: 0.9629\n",
      "================================================================================\n"
     ]
    },
    {
     "name": "stdout",
     "output_type": "stream",
     "text": [
      "lr:  [0.004511452162039379]\n"
     ]
    },
    {
     "name": "stderr",
     "output_type": "stream",
     "text": [
      "[EPOCH 00053]train_loss: 0.8325; val_loss: 0.1324; time elapsed: 7.6 min\n",
      "[valid loss]grapheme: 0.1759, vowel: 0.0978, consonant: 0.0800\n",
      "[valid recall]total: 0.9667, grapheme: 0.9537, vowel: 0.9832, consonant: 0.9762\n",
      "================================================================================\n"
     ]
    },
    {
     "name": "stdout",
     "output_type": "stream",
     "text": [
      "lr:  [0.004454534436049523]\n"
     ]
    },
    {
     "name": "stderr",
     "output_type": "stream",
     "text": [
      "[EPOCH 00054]train_loss: 0.8309; val_loss: 0.1487; time elapsed: 7.6 min\n",
      "[valid loss]grapheme: 0.1881, vowel: 0.1276, consonant: 0.0910\n",
      "[valid recall]total: 0.9674, grapheme: 0.9538, vowel: 0.9840, consonant: 0.9782\n",
      "================================================================================\n"
     ]
    },
    {
     "name": "stdout",
     "output_type": "stream",
     "text": [
      "lr:  [0.004394883130901493]\n"
     ]
    },
    {
     "name": "stderr",
     "output_type": "stream",
     "text": [
      "[EPOCH 00055]train_loss: 0.8190; val_loss: 0.2022; time elapsed: 7.6 min\n",
      "[valid loss]grapheme: 0.2870, vowel: 0.1289, consonant: 0.1062\n",
      "[valid recall]total: 0.9451, grapheme: 0.9261, vowel: 0.9751, consonant: 0.9531\n",
      "================================================================================\n"
     ]
    },
    {
     "name": "stdout",
     "output_type": "stream",
     "text": [
      "lr:  [0.0043325816743394]\n"
     ]
    },
    {
     "name": "stderr",
     "output_type": "stream",
     "text": [
      "[EPOCH 00056]train_loss: 0.8521; val_loss: 0.1195; time elapsed: 7.6 min\n",
      "[valid loss]grapheme: 0.1468, vowel: 0.1039, consonant: 0.0804\n",
      "[valid recall]total: 0.9737, grapheme: 0.9665, vowel: 0.9848, consonant: 0.9769\n",
      "================================================================================\n"
     ]
    },
    {
     "name": "stdout",
     "output_type": "stream",
     "text": [
      "lr:  [0.004267717200583741]\n"
     ]
    },
    {
     "name": "stderr",
     "output_type": "stream",
     "text": [
      "[EPOCH 00057]train_loss: 0.8077; val_loss: 0.1160; time elapsed: 7.6 min\n",
      "[valid loss]grapheme: 0.1488, vowel: 0.0880, consonant: 0.0785\n",
      "[valid recall]total: 0.9685, grapheme: 0.9610, vowel: 0.9853, consonant: 0.9666\n",
      "================================================================================\n"
     ]
    },
    {
     "name": "stdout",
     "output_type": "stream",
     "text": [
      "lr:  [0.004200380428466321]\n"
     ]
    },
    {
     "name": "stderr",
     "output_type": "stream",
     "text": [
      "[EPOCH 00058]train_loss: 0.8167; val_loss: 0.1084; time elapsed: 7.6 min\n",
      "[valid loss]grapheme: 0.1320, vowel: 0.0973, consonant: 0.0725\n",
      "[valid recall]total: 0.9748, grapheme: 0.9664, vowel: 0.9863, consonant: 0.9801\n",
      "================================================================================\n"
     ]
    },
    {
     "name": "stdout",
     "output_type": "stream",
     "text": [
      "lr:  [0.00413066553455175]\n"
     ]
    },
    {
     "name": "stderr",
     "output_type": "stream",
     "text": [
      "[EPOCH 00059]train_loss: 0.8168; val_loss: 0.1687; time elapsed: 7.6 min\n",
      "[valid loss]grapheme: 0.2156, vowel: 0.1433, consonant: 0.1004\n",
      "[valid recall]total: 0.9587, grapheme: 0.9413, vowel: 0.9824, consonant: 0.9699\n",
      "================================================================================\n"
     ]
    },
    {
     "name": "stdout",
     "output_type": "stream",
     "text": [
      "lr:  [0.004058670021423012]\n"
     ]
    },
    {
     "name": "stderr",
     "output_type": "stream",
     "text": [
      "[EPOCH 00060]train_loss: 0.8078; val_loss: 0.1795; time elapsed: 7.6 min\n",
      "[valid loss]grapheme: 0.2119, vowel: 0.1865, consonant: 0.1078\n",
      "[valid recall]total: 0.9595, grapheme: 0.9501, vowel: 0.9746, consonant: 0.9631\n",
      "================================================================================\n"
     ]
    },
    {
     "name": "stdout",
     "output_type": "stream",
     "text": [
      "lr:  [0.003984494581315281]\n"
     ]
    },
    {
     "name": "stderr",
     "output_type": "stream",
     "text": [
      "[EPOCH 00061]train_loss: 0.8412; val_loss: 0.1408; time elapsed: 7.6 min\n",
      "[valid loss]grapheme: 0.1736, vowel: 0.1253, consonant: 0.0906\n",
      "[valid recall]total: 0.9709, grapheme: 0.9601, vowel: 0.9842, consonant: 0.9792\n",
      "================================================================================\n"
     ]
    },
    {
     "name": "stdout",
     "output_type": "stream",
     "text": [
      "lr:  [0.003908242955288733]\n"
     ]
    },
    {
     "name": "stderr",
     "output_type": "stream",
     "text": [
      "[EPOCH 00062]train_loss: 0.8170; val_loss: 0.1263; time elapsed: 7.6 min\n",
      "[valid loss]grapheme: 0.1633, vowel: 0.0953, consonant: 0.0833\n",
      "[valid recall]total: 0.9671, grapheme: 0.9553, vowel: 0.9844, consonant: 0.9736\n",
      "================================================================================\n"
     ]
    },
    {
     "name": "stdout",
     "output_type": "stream",
     "text": [
      "lr:  [0.003830021788137277]\n"
     ]
    },
    {
     "name": "stderr",
     "output_type": "stream",
     "text": [
      "[EPOCH 00063]train_loss: 0.8045; val_loss: 0.1552; time elapsed: 7.7 min\n",
      "[valid loss]grapheme: 0.2110, vowel: 0.1086, consonant: 0.0902\n",
      "[valid recall]total: 0.9643, grapheme: 0.9499, vowel: 0.9821, consonant: 0.9754\n",
      "================================================================================\n"
     ]
    },
    {
     "name": "stdout",
     "output_type": "stream",
     "text": [
      "lr:  [0.0037499404792361865]\n"
     ]
    },
    {
     "name": "stderr",
     "output_type": "stream",
     "text": [
      "[EPOCH 00064]train_loss: 0.8199; val_loss: 0.1127; time elapsed: 7.6 min\n",
      "[valid loss]grapheme: 0.1446, vowel: 0.0896, consonant: 0.0721\n",
      "[valid recall]total: 0.9695, grapheme: 0.9603, vowel: 0.9823, consonant: 0.9749\n",
      "================================================================================\n"
     ]
    },
    {
     "name": "stdout",
     "output_type": "stream",
     "text": [
      "lr:  [0.0036681110295371665]\n"
     ]
    },
    {
     "name": "stderr",
     "output_type": "stream",
     "text": [
      "[EPOCH 00065]train_loss: 0.7949; val_loss: 0.1365; time elapsed: 7.6 min\n",
      "[valid loss]grapheme: 0.1685, vowel: 0.1182, consonant: 0.0906\n",
      "[valid recall]total: 0.9701, grapheme: 0.9609, vowel: 0.9850, consonant: 0.9739\n",
      "================================================================================\n"
     ]
    },
    {
     "name": "stdout",
     "output_type": "stream",
     "text": [
      "lr:  [0.0035846478849249023]\n"
     ]
    },
    {
     "name": "stderr",
     "output_type": "stream",
     "text": [
      "[EPOCH 00066]train_loss: 0.7560; val_loss: 0.1630; time elapsed: 7.5 min\n",
      "[valid loss]grapheme: 0.2267, vowel: 0.1106, consonant: 0.0880\n",
      "[valid recall]total: 0.9577, grapheme: 0.9369, vowel: 0.9815, consonant: 0.9755\n",
      "================================================================================\n"
     ]
    },
    {
     "name": "stdout",
     "output_type": "stream",
     "text": [
      "lr:  [0.0034996677761541394]\n"
     ]
    },
    {
     "name": "stderr",
     "output_type": "stream",
     "text": [
      "[EPOCH 00067]train_loss: 0.7870; val_loss: 0.1112; time elapsed: 7.6 min\n",
      "[valid loss]grapheme: 0.1498, vowel: 0.0754, consonant: 0.0699\n",
      "[valid recall]total: 0.9715, grapheme: 0.9610, vowel: 0.9846, consonant: 0.9792\n",
      "================================================================================\n"
     ]
    },
    {
     "name": "stdout",
     "output_type": "stream",
     "text": [
      "lr:  [0.0034132895555911667]\n"
     ]
    },
    {
     "name": "stderr",
     "output_type": "stream",
     "text": [
      "[EPOCH 00068]train_loss: 0.8062; val_loss: 0.2557; time elapsed: 7.6 min\n",
      "[valid loss]grapheme: 0.3837, vowel: 0.1470, consonant: 0.1084\n",
      "[valid recall]total: 0.9140, grapheme: 0.8811, vowel: 0.9783, consonant: 0.9154\n",
      "================================================================================\n"
     ]
    },
    {
     "name": "stdout",
     "output_type": "stream",
     "text": [
      "lr:  [0.0033256340309880373]\n"
     ]
    },
    {
     "name": "stderr",
     "output_type": "stream",
     "text": [
      "[EPOCH 00069]train_loss: 0.7767; val_loss: 0.1606; time elapsed: 7.6 min\n",
      "[valid loss]grapheme: 0.2081, vowel: 0.1292, consonant: 0.0972\n",
      "[valid recall]total: 0.9642, grapheme: 0.9503, vowel: 0.9814, consonant: 0.9748\n",
      "================================================================================\n"
     ]
    },
    {
     "name": "stdout",
     "output_type": "stream",
     "text": [
      "lr:  [0.0032368237965220022]\n"
     ]
    },
    {
     "name": "stderr",
     "output_type": "stream",
     "text": [
      "[EPOCH 00070]train_loss: 0.7653; val_loss: 0.1284; time elapsed: 7.6 min\n",
      "[valid loss]grapheme: 0.1641, vowel: 0.0974, consonant: 0.0879\n",
      "[valid recall]total: 0.9676, grapheme: 0.9566, vowel: 0.9827, consonant: 0.9747\n",
      "================================================================================\n"
     ]
    },
    {
     "name": "stdout",
     "output_type": "stream",
     "text": [
      "lr:  [0.0031469830613364675]\n"
     ]
    },
    {
     "name": "stderr",
     "output_type": "stream",
     "text": [
      "[EPOCH 00071]train_loss: 0.7796; val_loss: 0.3512; time elapsed: 7.6 min\n",
      "[valid loss]grapheme: 0.5053, vowel: 0.2628, consonant: 0.1313\n",
      "[valid recall]total: 0.8790, grapheme: 0.8310, vowel: 0.9606, consonant: 0.8933\n",
      "================================================================================\n"
     ]
    },
    {
     "name": "stdout",
     "output_type": "stream",
     "text": [
      "lr:  [0.003056237475823277]\n"
     ]
    },
    {
     "name": "stderr",
     "output_type": "stream",
     "text": [
      "[EPOCH 00072]train_loss: 0.7665; val_loss: 0.1278; time elapsed: 7.6 min\n",
      "[valid loss]grapheme: 0.1599, vowel: 0.1129, consonant: 0.0784\n",
      "[valid recall]total: 0.9705, grapheme: 0.9627, vowel: 0.9848, consonant: 0.9718\n",
      "================================================================================\n"
     ]
    },
    {
     "name": "stdout",
     "output_type": "stream",
     "text": [
      "lr:  [0.0029647139558892782]\n"
     ]
    },
    {
     "name": "stderr",
     "output_type": "stream",
     "text": [
      "[EPOCH 00073]train_loss: 0.7746; val_loss: 0.1228; time elapsed: 7.6 min\n",
      "[valid loss]grapheme: 0.1476, vowel: 0.1125, consonant: 0.0833\n",
      "[valid recall]total: 0.9704, grapheme: 0.9652, vowel: 0.9757, consonant: 0.9756\n",
      "================================================================================\n"
     ]
    },
    {
     "name": "stdout",
     "output_type": "stream",
     "text": [
      "lr:  [0.0028725405054529475]\n"
     ]
    },
    {
     "name": "stderr",
     "output_type": "stream",
     "text": [
      "[EPOCH 00074]train_loss: 0.7497; val_loss: 0.1340; time elapsed: 7.6 min\n",
      "[valid loss]grapheme: 0.1832, vowel: 0.0916, consonant: 0.0779\n",
      "[valid recall]total: 0.9628, grapheme: 0.9469, vowel: 0.9838, consonant: 0.9737\n",
      "================================================================================\n"
     ]
    },
    {
     "name": "stdout",
     "output_type": "stream",
     "text": [
      "lr:  [0.0027798460374193405]\n"
     ]
    },
    {
     "name": "stderr",
     "output_type": "stream",
     "text": [
      "[EPOCH 00075]train_loss: 0.7552; val_loss: 0.1429; time elapsed: 7.7 min\n",
      "[valid loss]grapheme: 0.1855, vowel: 0.1221, consonant: 0.0787\n",
      "[valid recall]total: 0.9660, grapheme: 0.9514, vowel: 0.9836, consonant: 0.9775\n",
      "================================================================================\n"
     ]
    },
    {
     "name": "stdout",
     "output_type": "stream",
     "text": [
      "lr:  [0.0026867601933837307]\n"
     ]
    },
    {
     "name": "stderr",
     "output_type": "stream",
     "text": [
      "[EPOCH 00076]train_loss: 0.7446; val_loss: 0.1174; time elapsed: 7.5 min\n",
      "[valid loss]grapheme: 0.1434, vowel: 0.1000, consonant: 0.0829\n",
      "[valid recall]total: 0.9747, grapheme: 0.9665, vowel: 0.9856, consonant: 0.9801\n",
      "================================================================================\n"
     ]
    },
    {
     "name": "stdout",
     "output_type": "stream",
     "text": [
      "lr:  [0.002593413162316124]\n"
     ]
    },
    {
     "name": "stderr",
     "output_type": "stream",
     "text": [
      "[EPOCH 00077]train_loss: 0.7336; val_loss: 0.1046; time elapsed: 7.6 min\n",
      "[valid loss]grapheme: 0.1374, vowel: 0.0757, consonant: 0.0680\n",
      "[valid recall]total: 0.9745, grapheme: 0.9639, vowel: 0.9877, consonant: 0.9825\n",
      "================================================================================\n"
     ]
    },
    {
     "name": "stdout",
     "output_type": "stream",
     "text": [
      "lr:  [0.0024999354984802046]\n"
     ]
    },
    {
     "name": "stderr",
     "output_type": "stream",
     "text": [
      "[EPOCH 00078]train_loss: 0.7473; val_loss: 0.1293; time elapsed: 7.6 min\n",
      "[valid loss]grapheme: 0.1650, vowel: 0.1041, consonant: 0.0833\n",
      "[valid recall]total: 0.9672, grapheme: 0.9565, vowel: 0.9870, consonant: 0.9690\n",
      "================================================================================\n"
     ]
    },
    {
     "name": "stdout",
     "output_type": "stream",
     "text": [
      "lr:  [0.002406457938841397]\n"
     ]
    },
    {
     "name": "stderr",
     "output_type": "stream",
     "text": [
      "[EPOCH 00079]train_loss: 0.7295; val_loss: 0.1113; time elapsed: 7.7 min\n",
      "[valid loss]grapheme: 0.1376, vowel: 0.0915, consonant: 0.0784\n",
      "[valid recall]total: 0.9739, grapheme: 0.9665, vowel: 0.9882, consonant: 0.9745\n",
      "================================================================================\n"
     ]
    },
    {
     "name": "stdout",
     "output_type": "stream",
     "text": [
      "lr:  [0.002313111220219397]\n"
     ]
    },
    {
     "name": "stderr",
     "output_type": "stream",
     "text": [
      "[EPOCH 00080]train_loss: 0.7246; val_loss: 0.1268; time elapsed: 7.5 min\n",
      "[valid loss]grapheme: 0.1653, vowel: 0.0966, consonant: 0.0802\n",
      "[valid recall]total: 0.9683, grapheme: 0.9549, vowel: 0.9863, consonant: 0.9774\n",
      "================================================================================\n"
     ]
    },
    {
     "name": "stdout",
     "output_type": "stream",
     "text": [
      "lr:  [0.002220025896440907]\n"
     ]
    },
    {
     "name": "stderr",
     "output_type": "stream",
     "text": [
      "[EPOCH 00081]train_loss: 0.7089; val_loss: 0.1016; time elapsed: 7.6 min\n",
      "[valid loss]grapheme: 0.1121, vowel: 0.1045, consonant: 0.0777\n",
      "[valid recall]total: 0.9791, grapheme: 0.9742, vowel: 0.9892, consonant: 0.9788\n",
      "================================================================================\n"
     ]
    },
    {
     "name": "stdout",
     "output_type": "stream",
     "text": [
      "lr:  [0.0021273321557483027]\n"
     ]
    },
    {
     "name": "stderr",
     "output_type": "stream",
     "text": [
      "[EPOCH 00082]train_loss: 0.7543; val_loss: 0.1057; time elapsed: 7.6 min\n",
      "[valid loss]grapheme: 0.1304, vowel: 0.0897, consonant: 0.0723\n",
      "[valid recall]total: 0.9752, grapheme: 0.9662, vowel: 0.9875, consonant: 0.9810\n",
      "================================================================================\n"
     ]
    },
    {
     "name": "stdout",
     "output_type": "stream",
     "text": [
      "lr:  [0.0020351596387196092]\n"
     ]
    },
    {
     "name": "stderr",
     "output_type": "stream",
     "text": [
      "[EPOCH 00083]train_loss: 0.7397; val_loss: 0.1416; time elapsed: 7.7 min\n",
      "[valid loss]grapheme: 0.1985, vowel: 0.0889, consonant: 0.0806\n",
      "[valid recall]total: 0.9579, grapheme: 0.9430, vowel: 0.9838, consonant: 0.9619\n",
      "================================================================================\n"
     ]
    },
    {
     "name": "stdout",
     "output_type": "stream",
     "text": [
      "lr:  [0.0019436372569544252]\n"
     ]
    },
    {
     "name": "stderr",
     "output_type": "stream",
     "text": [
      "[EPOCH 00084]train_loss: 0.6985; val_loss: 0.0917; time elapsed: 7.6 min\n",
      "[valid loss]grapheme: 0.1114, vowel: 0.0812, consonant: 0.0627\n",
      "[valid recall]total: 0.9791, grapheme: 0.9726, vowel: 0.9890, consonant: 0.9822\n",
      "================================================================================\n"
     ]
    },
    {
     "name": "stdout",
     "output_type": "stream",
     "text": [
      "lr:  [0.0018528930127793956]\n"
     ]
    },
    {
     "name": "stderr",
     "output_type": "stream",
     "text": [
      "[EPOCH 00085]train_loss: 0.7055; val_loss: 0.0814; time elapsed: 7.7 min\n",
      "[valid loss]grapheme: 0.0977, vowel: 0.0701, consonant: 0.0600\n",
      "[valid recall]total: 0.9797, grapheme: 0.9743, vowel: 0.9889, consonant: 0.9815\n",
      "================================================================================\n"
     ]
    },
    {
     "name": "stdout",
     "output_type": "stream",
     "text": [
      "lr:  [0.001763053820225385]\n"
     ]
    },
    {
     "name": "stderr",
     "output_type": "stream",
     "text": [
      "[EPOCH 00086]train_loss: 0.7017; val_loss: 0.0973; time elapsed: 7.6 min\n",
      "[valid loss]grapheme: 0.1113, vowel: 0.0971, consonant: 0.0694\n",
      "[valid recall]total: 0.9799, grapheme: 0.9745, vowel: 0.9893, consonant: 0.9816\n",
      "================================================================================\n"
     ]
    },
    {
     "name": "stdout",
     "output_type": "stream",
     "text": [
      "lr:  [0.0016742453275267266]\n"
     ]
    },
    {
     "name": "stderr",
     "output_type": "stream",
     "text": [
      "[EPOCH 00087]train_loss: 0.7026; val_loss: 0.0979; time elapsed: 7.6 min\n",
      "[valid loss]grapheme: 0.1115, vowel: 0.0935, consonant: 0.0752\n",
      "[valid recall]total: 0.9809, grapheme: 0.9746, vowel: 0.9899, consonant: 0.9844\n",
      "================================================================================\n"
     ]
    },
    {
     "name": "stdout",
     "output_type": "stream",
     "text": [
      "lr:  [0.0015865917413908092]\n"
     ]
    },
    {
     "name": "stderr",
     "output_type": "stream",
     "text": [
      "[EPOCH 00088]train_loss: 0.7299; val_loss: 0.1000; time elapsed: 7.6 min\n",
      "[valid loss]grapheme: 0.1142, vowel: 0.1038, consonant: 0.0678\n",
      "[valid recall]total: 0.9782, grapheme: 0.9712, vowel: 0.9890, consonant: 0.9814\n",
      "================================================================================\n"
     ]
    },
    {
     "name": "stdout",
     "output_type": "stream",
     "text": [
      "lr:  [0.001500215653283761]\n"
     ]
    },
    {
     "name": "stderr",
     "output_type": "stream",
     "text": [
      "[EPOCH 00089]train_loss: 0.7095; val_loss: 0.1248; time elapsed: 7.7 min\n",
      "[valid loss]grapheme: 0.1448, vowel: 0.1274, consonant: 0.0823\n",
      "[valid recall]total: 0.9744, grapheme: 0.9654, vowel: 0.9878, consonant: 0.9793\n",
      "================================================================================\n"
     ]
    },
    {
     "name": "stdout",
     "output_type": "stream",
     "text": [
      "lr:  [0.0014152378679752032]\n"
     ]
    },
    {
     "name": "stderr",
     "output_type": "stream",
     "text": [
      "[EPOCH 00090]train_loss: 0.6978; val_loss: 0.1066; time elapsed: 7.6 min\n",
      "[valid loss]grapheme: 0.1246, vowel: 0.1015, consonant: 0.0756\n",
      "[valid recall]total: 0.9792, grapheme: 0.9719, vowel: 0.9901, consonant: 0.9830\n",
      "================================================================================\n"
     ]
    },
    {
     "name": "stdout",
     "output_type": "stream",
     "text": [
      "lr:  [0.001331777234581852]\n"
     ]
    },
    {
     "name": "stderr",
     "output_type": "stream",
     "text": [
      "[EPOCH 00091]train_loss: 0.7103; val_loss: 0.0906; time elapsed: 7.6 min\n",
      "[valid loss]grapheme: 0.1048, vowel: 0.0875, consonant: 0.0653\n",
      "[valid recall]total: 0.9818, grapheme: 0.9763, vowel: 0.9897, consonant: 0.9847\n",
      "================================================================================\n"
     ]
    },
    {
     "name": "stdout",
     "output_type": "stream",
     "text": [
      "lr:  [0.001249950480346286]\n"
     ]
    },
    {
     "name": "stderr",
     "output_type": "stream",
     "text": [
      "[EPOCH 00092]train_loss: 0.6965; val_loss: 0.1270; time elapsed: 7.6 min\n",
      "[valid loss]grapheme: 0.1654, vowel: 0.0953, consonant: 0.0821\n",
      "[valid recall]total: 0.9693, grapheme: 0.9557, vowel: 0.9864, consonant: 0.9794\n",
      "================================================================================\n"
     ]
    },
    {
     "name": "stdout",
     "output_type": "stream",
     "text": [
      "lr:  [0.0011698720473833427]\n"
     ]
    },
    {
     "name": "stderr",
     "output_type": "stream",
     "text": [
      "[EPOCH 00093]train_loss: 0.6940; val_loss: 0.0880; time elapsed: 7.5 min\n",
      "[valid loss]grapheme: 0.1070, vowel: 0.0768, consonant: 0.0612\n",
      "[valid recall]total: 0.9786, grapheme: 0.9717, vowel: 0.9889, consonant: 0.9820\n",
      "================================================================================\n"
     ]
    },
    {
     "name": "stdout",
     "output_type": "stream",
     "text": [
      "lr:  [0.0010916539326224664]\n"
     ]
    },
    {
     "name": "stderr",
     "output_type": "stream",
     "text": [
      "[EPOCH 00094]train_loss: 0.7111; val_loss: 0.1036; time elapsed: 7.6 min\n",
      "[valid loss]grapheme: 0.1241, vowel: 0.0967, consonant: 0.0697\n",
      "[valid recall]total: 0.9790, grapheme: 0.9712, vowel: 0.9884, consonant: 0.9852\n",
      "================================================================================\n"
     ]
    },
    {
     "name": "stdout",
     "output_type": "stream",
     "text": [
      "lr:  [0.0010154055311698842]\n"
     ]
    },
    {
     "name": "stderr",
     "output_type": "stream",
     "text": [
      "[EPOCH 00095]train_loss: 0.6817; val_loss: 0.0900; time elapsed: 7.6 min\n",
      "[valid loss]grapheme: 0.1046, vowel: 0.0859, consonant: 0.0648\n",
      "[valid recall]total: 0.9808, grapheme: 0.9755, vowel: 0.9892, consonant: 0.9829\n",
      "================================================================================\n"
     ]
    },
    {
     "name": "stdout",
     "output_type": "stream",
     "text": [
      "lr:  [0.000941233483309653]\n"
     ]
    },
    {
     "name": "stderr",
     "output_type": "stream",
     "text": [
      "[EPOCH 00096]train_loss: 0.6878; val_loss: 0.0780; time elapsed: 7.6 min\n",
      "[valid loss]grapheme: 0.0880, vowel: 0.0784, consonant: 0.0575\n",
      "[valid recall]total: 0.9838, grapheme: 0.9789, vowel: 0.9906, consonant: 0.9868\n",
      "================================================================================\n"
     ]
    },
    {
     "name": "stdout",
     "output_type": "stream",
     "text": [
      "lr:  [0.0008692415253575775]\n"
     ]
    },
    {
     "name": "stderr",
     "output_type": "stream",
     "text": [
      "[EPOCH 00097]train_loss: 0.6873; val_loss: 0.1032; time elapsed: 7.7 min\n",
      "[valid loss]grapheme: 0.1142, vowel: 0.1059, consonant: 0.0787\n",
      "[valid recall]total: 0.9821, grapheme: 0.9765, vowel: 0.9906, consonant: 0.9847\n",
      "================================================================================\n"
     ]
    },
    {
     "name": "stdout",
     "output_type": "stream",
     "text": [
      "lr:  [0.0007995303445765982]\n"
     ]
    },
    {
     "name": "stderr",
     "output_type": "stream",
     "text": [
      "[EPOCH 00098]train_loss: 0.6620; val_loss: 0.0909; time elapsed: 7.6 min\n",
      "[valid loss]grapheme: 0.0993, vowel: 0.0963, consonant: 0.0690\n",
      "[valid recall]total: 0.9824, grapheme: 0.9774, vowel: 0.9907, consonant: 0.9840\n",
      "================================================================================\n"
     ]
    },
    {
     "name": "stdout",
     "output_type": "stream",
     "text": [
      "lr:  [0.0007321974383565461]\n"
     ]
    },
    {
     "name": "stderr",
     "output_type": "stream",
     "text": [
      "[EPOCH 00099]train_loss: 0.6888; val_loss: 0.0745; time elapsed: 7.7 min\n",
      "[valid loss]grapheme: 0.0842, vowel: 0.0740, consonant: 0.0557\n",
      "[valid recall]total: 0.9851, grapheme: 0.9812, vowel: 0.9910, consonant: 0.9870\n",
      "================================================================================\n"
     ]
    },
    {
     "name": "stdout",
     "output_type": "stream",
     "text": [
      "lr:  [0.0006673369778552256]\n"
     ]
    },
    {
     "name": "stderr",
     "output_type": "stream",
     "text": [
      "[EPOCH 00100]train_loss: 0.6760; val_loss: 0.0909; time elapsed: 7.6 min\n",
      "[valid loss]grapheme: 0.1002, vowel: 0.0949, consonant: 0.0683\n",
      "[valid recall]total: 0.9820, grapheme: 0.9764, vowel: 0.9896, consonant: 0.9857\n",
      "================================================================================\n"
     ]
    },
    {
     "name": "stdout",
     "output_type": "stream",
     "text": [
      "lr:  [0.0006050396762915392]\n"
     ]
    },
    {
     "name": "stderr",
     "output_type": "stream",
     "text": [
      "[EPOCH 00101]train_loss: 0.6595; val_loss: 0.0795; time elapsed: 7.6 min\n",
      "[valid loss]grapheme: 0.0891, vowel: 0.0778, consonant: 0.0623\n",
      "[valid recall]total: 0.9835, grapheme: 0.9787, vowel: 0.9895, consonant: 0.9869\n",
      "================================================================================\n"
     ]
    },
    {
     "name": "stdout",
     "output_type": "stream",
     "text": [
      "lr:  [0.0005453926620748458]\n"
     ]
    },
    {
     "name": "stderr",
     "output_type": "stream",
     "text": [
      "[EPOCH 00102]train_loss: 0.6658; val_loss: 0.0834; time elapsed: 7.6 min\n",
      "[valid loss]grapheme: 0.0989, vowel: 0.0774, consonant: 0.0584\n",
      "[valid recall]total: 0.9819, grapheme: 0.9759, vowel: 0.9897, consonant: 0.9861\n",
      "================================================================================\n"
     ]
    },
    {
     "name": "stdout",
     "output_type": "stream",
     "text": [
      "lr:  [0.0004884793569479999]\n"
     ]
    },
    {
     "name": "stderr",
     "output_type": "stream",
     "text": [
      "[EPOCH 00103]train_loss: 0.6730; val_loss: 0.0883; time elapsed: 7.6 min\n",
      "[valid loss]grapheme: 0.1062, vowel: 0.0728, consonant: 0.0679\n",
      "[valid recall]total: 0.9802, grapheme: 0.9725, vowel: 0.9899, consonant: 0.9861\n",
      "================================================================================\n"
     ]
    },
    {
     "name": "stdout",
     "output_type": "stream",
     "text": [
      "lr:  [0.0004343793593145067]\n"
     ]
    },
    {
     "name": "stderr",
     "output_type": "stream",
     "text": [
      "[EPOCH 00104]train_loss: 0.6518; val_loss: 0.0787; time elapsed: 7.6 min\n",
      "[valid loss]grapheme: 0.0915, vowel: 0.0736, consonant: 0.0582\n",
      "[valid recall]total: 0.9830, grapheme: 0.9779, vowel: 0.9906, consonant: 0.9855\n",
      "================================================================================\n"
     ]
    },
    {
     "name": "stdout",
     "output_type": "stream",
     "text": [
      "lr:  [0.0003831683329129493]\n"
     ]
    },
    {
     "name": "stderr",
     "output_type": "stream",
     "text": [
      "[EPOCH 00105]train_loss: 0.6583; val_loss: 0.0735; time elapsed: 7.6 min\n",
      "[valid loss]grapheme: 0.0855, vowel: 0.0676, consonant: 0.0555\n",
      "[valid recall]total: 0.9850, grapheme: 0.9815, vowel: 0.9908, consonant: 0.9865\n",
      "================================================================================\n"
     ]
    },
    {
     "name": "stdout",
     "output_type": "stream",
     "text": [
      "lr:  [0.00033491790099441797]\n"
     ]
    },
    {
     "name": "stderr",
     "output_type": "stream",
     "text": [
      "[EPOCH 00106]train_loss: 0.6760; val_loss: 0.0875; time elapsed: 7.6 min\n",
      "[valid loss]grapheme: 0.1031, vowel: 0.0767, consonant: 0.0670\n",
      "[valid recall]total: 0.9827, grapheme: 0.9773, vowel: 0.9909, consonant: 0.9855\n",
      "================================================================================\n"
     ]
    },
    {
     "name": "stdout",
     "output_type": "stream",
     "text": [
      "lr:  [0.00028969554615090783]\n"
     ]
    },
    {
     "name": "stderr",
     "output_type": "stream",
     "text": [
      "[EPOCH 00107]train_loss: 0.6704; val_loss: 0.0894; time elapsed: 7.6 min\n",
      "[valid loss]grapheme: 0.0932, vowel: 0.0983, consonant: 0.0729\n",
      "[valid recall]total: 0.9839, grapheme: 0.9799, vowel: 0.9903, consonant: 0.9853\n",
      "================================================================================\n"
     ]
    },
    {
     "name": "stdout",
     "output_type": "stream",
     "text": [
      "lr:  [0.0002475645159348177]\n"
     ]
    },
    {
     "name": "stderr",
     "output_type": "stream",
     "text": [
      "[EPOCH 00108]train_loss: 0.6496; val_loss: 0.0670; time elapsed: 7.6 min\n",
      "[valid loss]grapheme: 0.0755, vowel: 0.0640, consonant: 0.0533\n",
      "[valid recall]total: 0.9854, grapheme: 0.9823, vowel: 0.9909, consonant: 0.9863\n",
      "================================================================================\n"
     ]
    },
    {
     "name": "stdout",
     "output_type": "stream",
     "text": [
      "lr:  [0.00020858373440152763]\n"
     ]
    },
    {
     "name": "stderr",
     "output_type": "stream",
     "text": [
      "[EPOCH 00109]train_loss: 0.6875; val_loss: 0.0761; time elapsed: 7.6 min\n",
      "[valid loss]grapheme: 0.0885, vowel: 0.0707, consonant: 0.0567\n",
      "[valid recall]total: 0.9846, grapheme: 0.9806, vowel: 0.9912, consonant: 0.9861\n",
      "================================================================================\n"
     ]
    },
    {
     "name": "stdout",
     "output_type": "stream",
     "text": [
      "lr:  [0.00017280771969877933]\n"
     ]
    },
    {
     "name": "stderr",
     "output_type": "stream",
     "text": [
      "[EPOCH 00110]train_loss: 0.6564; val_loss: 0.0772; time elapsed: 7.7 min\n",
      "[valid loss]grapheme: 0.0875, vowel: 0.0760, consonant: 0.0580\n",
      "[valid recall]total: 0.9851, grapheme: 0.9818, vowel: 0.9907, consonant: 0.9863\n",
      "================================================================================\n"
     ]
    },
    {
     "name": "stdout",
     "output_type": "stream",
     "text": [
      "lr:  [0.00014028650781811662]\n"
     ]
    },
    {
     "name": "stderr",
     "output_type": "stream",
     "text": [
      "[EPOCH 00111]train_loss: 0.6508; val_loss: 0.0689; time elapsed: 7.6 min\n",
      "[valid loss]grapheme: 0.0786, vowel: 0.0675, consonant: 0.0512\n",
      "[valid recall]total: 0.9856, grapheme: 0.9818, vowel: 0.9913, consonant: 0.9876\n",
      "================================================================================\n"
     ]
    },
    {
     "name": "stdout",
     "output_type": "stream",
     "text": [
      "lr:  [0.00011106558261502592]\n"
     ]
    },
    {
     "name": "stderr",
     "output_type": "stream",
     "text": [
      "[EPOCH 00112]train_loss: 0.6595; val_loss: 0.0801; time elapsed: 7.6 min\n",
      "[valid loss]grapheme: 0.0825, vowel: 0.0895, consonant: 0.0657\n",
      "[valid recall]total: 0.9852, grapheme: 0.9817, vowel: 0.9910, consonant: 0.9864\n",
      "================================================================================\n"
     ]
    },
    {
     "name": "stdout",
     "output_type": "stream",
     "text": [
      "lr:  [8.518581219565397e-05]\n"
     ]
    },
    {
     "name": "stderr",
     "output_type": "stream",
     "text": [
      "[EPOCH 00113]train_loss: 0.6499; val_loss: 0.0730; time elapsed: 7.6 min\n",
      "[valid loss]grapheme: 0.0806, vowel: 0.0737, consonant: 0.0571\n",
      "[valid recall]total: 0.9854, grapheme: 0.9820, vowel: 0.9913, consonant: 0.9864\n",
      "================================================================================\n"
     ]
    },
    {
     "name": "stdout",
     "output_type": "stream",
     "text": [
      "lr:  [6.268339175906405e-05]\n"
     ]
    },
    {
     "name": "stderr",
     "output_type": "stream",
     "text": [
      "[EPOCH 00114]train_loss: 0.6383; val_loss: 0.0734; time elapsed: 7.7 min\n",
      "[valid loss]grapheme: 0.0818, vowel: 0.0724, consonant: 0.0576\n",
      "[valid recall]total: 0.9849, grapheme: 0.9813, vowel: 0.9909, consonant: 0.9863\n",
      "================================================================================\n"
     ]
    },
    {
     "name": "stdout",
     "output_type": "stream",
     "text": [
      "lr:  [4.358979297497717e-05]\n"
     ]
    },
    {
     "name": "stderr",
     "output_type": "stream",
     "text": [
      "[EPOCH 00115]train_loss: 0.6488; val_loss: 0.0913; time elapsed: 7.6 min\n",
      "[valid loss]grapheme: 0.0984, vowel: 0.0940, consonant: 0.0744\n",
      "[valid recall]total: 0.9850, grapheme: 0.9815, vowel: 0.9909, consonant: 0.9860\n",
      "================================================================================\n"
     ]
    },
    {
     "name": "stdout",
     "output_type": "stream",
     "text": [
      "lr:  [2.7931719967797712e-05]\n"
     ]
    },
    {
     "name": "stderr",
     "output_type": "stream",
     "text": [
      "[EPOCH 00116]train_loss: 0.6710; val_loss: 0.0806; time elapsed: 7.7 min\n",
      "[valid loss]grapheme: 0.0876, vowel: 0.0821, consonant: 0.0652\n",
      "[valid recall]total: 0.9852, grapheme: 0.9817, vowel: 0.9912, consonant: 0.9861\n",
      "================================================================================\n"
     ]
    },
    {
     "name": "stdout",
     "output_type": "stream",
     "text": [
      "lr:  [1.573107196847947e-05]\n"
     ]
    },
    {
     "name": "stderr",
     "output_type": "stream",
     "text": [
      "[EPOCH 00117]train_loss: 0.6327; val_loss: 0.0672; time elapsed: 7.6 min\n",
      "[valid loss]grapheme: 0.0760, vowel: 0.0624, consonant: 0.0544\n",
      "[valid recall]total: 0.9853, grapheme: 0.9819, vowel: 0.9912, consonant: 0.9863\n",
      "================================================================================\n"
     ]
    },
    {
     "name": "stdout",
     "output_type": "stream",
     "text": [
      "lr:  [7.004912686470389e-06]\n"
     ]
    },
    {
     "name": "stderr",
     "output_type": "stream",
     "text": [
      "[EPOCH 00118]train_loss: 0.6512; val_loss: 0.0756; time elapsed: 7.6 min\n",
      "[valid loss]grapheme: 0.0817, vowel: 0.0788, consonant: 0.0603\n",
      "[valid recall]total: 0.9855, grapheme: 0.9816, vowel: 0.9913, consonant: 0.9875\n",
      "================================================================================\n"
     ]
    },
    {
     "name": "stdout",
     "output_type": "stream",
     "text": [
      "lr:  [1.7654464445743385e-06]\n"
     ]
    },
    {
     "name": "stderr",
     "output_type": "stream",
     "text": [
      "[EPOCH 00119]train_loss: 0.6650; val_loss: 0.0810; time elapsed: 7.6 min\n",
      "[valid loss]grapheme: 0.0924, vowel: 0.0753, consonant: 0.0640\n",
      "[valid recall]total: 0.9851, grapheme: 0.9816, vowel: 0.9911, consonant: 0.9861\n",
      "================================================================================\n"
     ]
    }
   ],
   "source": [
    "#### training for 5 folds here ####\n",
    "kf = KFold(n_splits=5, shuffle=True, random_state=SEED).split(X=train_images_arr, y=train_label_arr)\n",
    "\n",
    "for fold, (train_idx, valid_idx) in enumerate(kf):\n",
    "    \n",
    "    if fold in [1,2,3,4]:#train 1 fold for testing ideas\n",
    "        print('========training fold %d========'%fold)\n",
    "        print(train_idx)\n",
    "        print(valid_idx)\n",
    "        \n",
    "        checkpoint_path = '../checkpoint/v3-fold'+str(fold)\n",
    "        print('checkpoint_path: ', checkpoint_path)\n",
    "        \n",
    "        #1.1 data\n",
    "        train_inputs, valid_inputs = train_images_arr[train_idx], train_images_arr[valid_idx]\n",
    "        train_outputs, valid_outputs = train_label_arr[train_idx], train_label_arr[valid_idx]\n",
    "        #1.2 Dataset, DataLoader\n",
    "        train_dl = prepare_dataset(train_inputs, train_outputs, mode='train', debug=debug)\n",
    "        val_dl = prepare_dataset(valid_inputs, valid_outputs, mode='valid', debug=debug)\n",
    "        \n",
    "        #2. model\n",
    "        #net = se_resnext50_32x4d(num_classes=num_classes, pretrained=None).cuda(device=device)\n",
    "        #net = se_resnext50_32x4d(num_classes=num_classes, pretrained='imagenet').cuda(device=device)\n",
    "        net = EffiNet(model='b3').cuda(device=device)\n",
    "\n",
    "        #3. train session\n",
    "        train_and_valid(net, train_dl, val_dl)\n"
   ]
  },
  {
   "cell_type": "code",
   "execution_count": 20,
   "metadata": {},
   "outputs": [],
   "source": [
    "#fold0 - val_loss: 0.0621; CV: 0.9874, LB=0.9801\n",
    "#fold1 - val_loss: 0.0627; CV: 0.9861, LB=0.9796\n",
    "#fold2 - val_loss: 0.0674; CV: 0.9875, LB=0.9789\n",
    "#fold3 - val_loss: 0.0664; CV: 0.9853, LB=0.9787\n",
    "#fold4 - val_loss: 0.0670; CV: 0.9854, LB="
   ]
  },
  {
   "cell_type": "code",
   "execution_count": 21,
   "metadata": {},
   "outputs": [],
   "source": [
    "# fold 0\n",
    "# [     0      1      2 ... 200835 200837 200839]\n",
    "# [     4      6     12 ... 200832 200836 200838]"
   ]
  },
  {
   "cell_type": "markdown",
   "metadata": {},
   "source": [
    "### check dataset/network/etc."
   ]
  },
  {
   "cell_type": "code",
   "execution_count": 22,
   "metadata": {
    "scrolled": true
   },
   "outputs": [],
   "source": [
    "# kf = KFold(n_splits=5, shuffle=True, random_state=SEED).split(X=train_images_arr, y=train_label_arr)\n",
    "\n",
    "# for fold, (train_idx, valid_idx) in enumerate(kf):\n",
    "    \n",
    "#     if fold in [0]:#train 1 fold for testing ideas\n",
    "#         print('========training fold %d========'%fold)\n",
    "#         print(train_idx)\n",
    "#         print(valid_idx)\n",
    "        \n",
    "#         #1.1 data\n",
    "#         train_inputs, valid_inputs = train_images_arr[train_idx], train_images_arr[valid_idx]\n",
    "#         train_outputs, valid_outputs = train_label_arr[train_idx], train_label_arr[valid_idx]\n",
    "#         #1.2 Dataset, DataLoader\n",
    "#         train_dl = prepare_dataset(train_inputs, train_outputs, mode='train', debug=debug)\n",
    "#         val_dl = prepare_dataset(valid_inputs, valid_outputs, mode='valid', debug=debug)\n",
    "\n",
    "# ####\n",
    "# for batch_id, (images, labels) in enumerate(train_dl):\n",
    "#     inputs = images.to(device=device, dtype=torch.float)\n",
    "#     truth = labels.to(device=device, dtype=torch.float)\n",
    "#     if np.random.rand()<1.0:\n",
    "#         print('cutmix')\n",
    "#         inputs, truth = cutmix(inputs, truth, alpha=None)\n",
    "#     else:\n",
    "#         print('mixup')\n",
    "#         inputs, truth = mixup(inputs, truth, alpha=0.4)\n",
    "#     if batch_id==1:\n",
    "#         break\n",
    "\n",
    "# #print(inputs.shape, truth.shape)"
   ]
  },
  {
   "cell_type": "code",
   "execution_count": 23,
   "metadata": {},
   "outputs": [],
   "source": [
    "# show_inputs = inputs.cpu().numpy()[np.random.choice(BATCH_SIZE, 20), :, :, :]\n",
    "# fig,axes = plt.subplots(5,4, figsize=(10,8))\n",
    "# for i in range(20):\n",
    "#     axes[i//4, i%4].imshow(show_inputs[i, 0], cmap='binary')"
   ]
  },
  {
   "cell_type": "code",
   "execution_count": null,
   "metadata": {},
   "outputs": [],
   "source": []
  },
  {
   "cell_type": "code",
   "execution_count": 24,
   "metadata": {
    "scrolled": true
   },
   "outputs": [],
   "source": [
    "# import importlib\n",
    "# import efficientnet\n",
    "# importlib.reload(efficientnet)\n",
    "\n",
    "# import torch\n",
    "\n",
    "# #from senet_v2 import se_resnext50_32x4d\n",
    "# from efficientnet import EffiNet\n",
    "\n",
    "# #net = se_resnext50_32x4d(num_classes=186, pretrained='imagenet', debug=True).cuda(device='cuda:2')\n",
    "# net = EffiNet(model='b3', debug=True).cuda(device='cuda:3')\n",
    "\n",
    "# inputs = torch.rand((128, 1, 137, 236), dtype=torch.float).cuda(device='cuda:3')\n",
    "# print(inputs.size())\n",
    "\n",
    "# logit = net(inputs)\n",
    "# print(logit.shape)"
   ]
  },
  {
   "cell_type": "code",
   "execution_count": null,
   "metadata": {
    "scrolled": true
   },
   "outputs": [],
   "source": []
  },
  {
   "cell_type": "code",
   "execution_count": null,
   "metadata": {},
   "outputs": [],
   "source": []
  },
  {
   "cell_type": "code",
   "execution_count": null,
   "metadata": {},
   "outputs": [],
   "source": []
  },
  {
   "cell_type": "code",
   "execution_count": null,
   "metadata": {},
   "outputs": [],
   "source": []
  },
  {
   "cell_type": "code",
   "execution_count": null,
   "metadata": {},
   "outputs": [],
   "source": []
  },
  {
   "cell_type": "code",
   "execution_count": null,
   "metadata": {},
   "outputs": [],
   "source": []
  },
  {
   "cell_type": "code",
   "execution_count": null,
   "metadata": {},
   "outputs": [],
   "source": []
  }
 ],
 "metadata": {
  "kernelspec": {
   "display_name": "Python 3",
   "language": "python",
   "name": "python3"
  },
  "language_info": {
   "codemirror_mode": {
    "name": "ipython",
    "version": 3
   },
   "file_extension": ".py",
   "mimetype": "text/x-python",
   "name": "python",
   "nbconvert_exporter": "python",
   "pygments_lexer": "ipython3",
   "version": "3.7.3"
  }
 },
 "nbformat": 4,
 "nbformat_minor": 2
}
